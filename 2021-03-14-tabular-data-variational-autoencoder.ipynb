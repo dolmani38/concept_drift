{
  "metadata": {
    "language_info": {
      "codemirror_mode": {
        "name": "ipython",
        "version": 3
      },
      "file_extension": ".py",
      "mimetype": "text/x-python",
      "name": "python",
      "nbconvert_exporter": "python",
      "pygments_lexer": "ipython3",
      "version": "3.9.2-final"
    },
    "orig_nbformat": 2,
    "kernelspec": {
      "name": "python3",
      "display_name": "Python 3.9.2 64-bit ('deeplearning_venv': venv)",
      "metadata": {
        "interpreter": {
          "hash": "9139ca13fc640d8623238ac4ed44beace8a76f86a07bab6efe75c2506e18783d"
        }
      }
    },
    "colab": {
      "provenance": [],
      "gpuType": "T4",
      "include_colab_link": true
    },
    "accelerator": "GPU",
    "gpuClass": "standard"
  },
  "nbformat": 4,
  "nbformat_minor": 0,
  "cells": [
    {
      "cell_type": "markdown",
      "metadata": {
        "id": "view-in-github",
        "colab_type": "text"
      },
      "source": [
        "<a href=\"https://colab.research.google.com/github/dolmani38/concept_drift/blob/main/2021-03-14-tabular-data-variational-autoencoder.ipynb\" target=\"_parent\"><img src=\"https://colab.research.google.com/assets/colab-badge.svg\" alt=\"Open In Colab\"/></a>"
      ]
    },
    {
      "source": [
        "# Data Augmentation for tabular data"
      ],
      "cell_type": "markdown",
      "metadata": {
        "id": "cC08kd_89SAI"
      }
    },
    {
      "source": [
        "## How to create fake tabular data with a variational autoencoder to improve deep learning algorithms"
      ],
      "cell_type": "markdown",
      "metadata": {
        "id": "az9ckBin9SAN"
      }
    },
    {
      "source": [
        "To train deeplearning models the more data the better. When we're thinking of image data, the deeplearnig community thought about a lot of tricks how to enhance the model given a dataset of images. Meaning that by rotating, flipping, blurring etc. the image we can create more input data and also improve our model. \n",
        "\n",
        "However, when thinking about tabular data, only few of these techniques exist. In this blogpost I want to show you how to create a variational autoencoder and make use of data augmentation. I will create fake data, which is sampled from the learned distribution of the underlying data. "
      ],
      "cell_type": "markdown",
      "metadata": {
        "id": "Ue6wh5re9SAO"
      }
    },
    {
      "cell_type": "code",
      "execution_count": 71,
      "metadata": {
        "id": "motAEvps9SAP"
      },
      "outputs": [],
      "source": [
        "import torch\n",
        "import torch.nn as nn\n",
        "import torch.nn.functional as F\n",
        "from torch import nn, optim\n",
        "from torch.autograd import Variable\n",
        "\n",
        "import pandas as pd\n",
        "import numpy as np\n",
        "from sklearn import preprocessing\n",
        "from sklearn.model_selection import train_test_split"
      ]
    },
    {
      "cell_type": "code",
      "execution_count": 72,
      "metadata": {
        "colab": {
          "base_uri": "https://localhost:8080/"
        },
        "id": "jTPBKuCG9SAQ",
        "outputId": "5f9b1b98-83ce-4c81-9e7a-b009889cfb0a"
      },
      "outputs": [
        {
          "output_type": "execute_result",
          "data": {
            "text/plain": [
              "device(type='cuda')"
            ]
          },
          "metadata": {},
          "execution_count": 72
        }
      ],
      "source": [
        "device = torch.device('cuda' if torch.cuda.is_available() else 'cpu')\n",
        "device"
      ]
    },
    {
      "source": [
        "## Dataset Overview"
      ],
      "cell_type": "markdown",
      "metadata": {
        "id": "MEA2yf4d9SAT"
      }
    },
    {
      "cell_type": "code",
      "source": [
        "\n",
        "data_size = 40000\n",
        "cor = [1.5, 1.2, 0.9 , 0.7, 0.5]"
      ],
      "metadata": {
        "id": "dhbplyQI-bTB"
      },
      "execution_count": 73,
      "outputs": []
    },
    {
      "cell_type": "code",
      "source": [
        "y= (np.random.normal(0.5,0.5,100) > 0.5).astype(int)\n",
        "sum(y)"
      ],
      "metadata": {
        "colab": {
          "base_uri": "https://localhost:8080/"
        },
        "id": "B9nMeZ_q-cAc",
        "outputId": "7e55c2e5-b260-4031-fc3b-daaf0d0226fb"
      },
      "execution_count": 74,
      "outputs": [
        {
          "output_type": "execute_result",
          "data": {
            "text/plain": [
              "53"
            ]
          },
          "metadata": {},
          "execution_count": 74
        }
      ]
    },
    {
      "cell_type": "code",
      "source": [
        "import seaborn as sns\n",
        "sns.set()\n",
        "     \n",
        "#y= np.random.normal(1,2,data_size)\n",
        "y= (np.random.normal(0.5,0.5,data_size) > 0.5).astype(int)\n",
        "x = np.zeros((data_size,5))\n",
        "for ix,cor_ in enumerate(cor):\n",
        "    x[:,ix] = y + np.random.normal(1,cor_,data_size)\n",
        "    sns.scatterplot(x=x[:,ix],y=y)"
      ],
      "metadata": {
        "colab": {
          "base_uri": "https://localhost:8080/",
          "height": 434
        },
        "id": "HHhlF6My-fXl",
        "outputId": "c42349d7-dbf5-4e67-be7d-e4d71fae7a41"
      },
      "execution_count": 75,
      "outputs": [
        {
          "output_type": "display_data",
          "data": {
            "text/plain": [
              "<Figure size 640x480 with 1 Axes>"
            ],
            "image/png": "[encoded data removed]"
          },
          "metadata": {}
        }
      ]
    },
    {
      "cell_type": "code",
      "source": [
        "for i in range(400):\n",
        "    s = i*100\n",
        "    #x[s:s+100,3] = y[s:s+100] + np.random.normal(1,5-(i/100),100)    \n",
        "    x[s:s+100,4] = y[s:s+100] + np.random.normal(1,0.5+(i/100),100)\n",
        "    #x[s:s+100,5] = i\n",
        "sns.scatterplot(x=x[0:200,4],y=y[0:200])\n",
        "sns.scatterplot(x=x[39800:40000,4],y=y[39800:40000])"
      ],
      "metadata": {
        "colab": {
          "base_uri": "https://localhost:8080/",
          "height": 452
        },
        "id": "55NaleDo-ucz",
        "outputId": "468a133e-5dc1-4777-804b-2eb08a8776ab"
      },
      "execution_count": 76,
      "outputs": [
        {
          "output_type": "execute_result",
          "data": {
            "text/plain": [
              "<Axes: >"
            ]
          },
          "metadata": {},
          "execution_count": 76
        },
        {
          "output_type": "display_data",
          "data": {
            "text/plain": [
              "<Figure size 640x480 with 1 Axes>"
            ],
            "image/png": "[encoded data removed]"
          },
          "metadata": {}
        }
      ]
    },
    {
      "cell_type": "code",
      "source": [
        "\n",
        "columns=['x0','x1','x2','x3','z0']\n",
        "df_base = pd.DataFrame(x,columns=columns)"
      ],
      "metadata": {
        "id": "d8yG94Ak-y3m"
      },
      "execution_count": 77,
      "outputs": []
    },
    {
      "cell_type": "code",
      "source": [
        "df_base"
      ],
      "metadata": {
        "colab": {
          "base_uri": "https://localhost:8080/",
          "height": 423
        },
        "id": "63leEuT1-6ye",
        "outputId": "9415755a-0777-480f-b6ad-e7b3500b3939"
      },
      "execution_count": 78,
      "outputs": [
        {
          "output_type": "execute_result",
          "data": {
            "text/plain": [
              "             x0        x1        x2        x3        z0\n",
              "0      2.028988 -0.048529  1.060283  1.317148  0.508818\n",
              "1     -0.989069  3.229662  2.892655  0.163086  0.171929\n",
              "2      1.522932 -0.294477 -0.336134  0.828293  1.808522\n",
              "3     -0.248260  0.394284  1.202506  0.433187 -0.045825\n",
              "4      3.562836  3.871988  2.865908  1.559318  1.542322\n",
              "...         ...       ...       ...       ...       ...\n",
              "39995  2.349811  1.786477  1.381077  3.242956 -1.313246\n",
              "39996 -0.534637  0.183689  1.568710  0.956535 -7.073550\n",
              "39997  2.576047  0.277477  2.633787  1.786321  2.717463\n",
              "39998  0.729177  2.750249  1.901398  2.265256  7.045637\n",
              "39999  1.525307 -0.624438  2.055745  2.968758 -3.305110\n",
              "\n",
              "[40000 rows x 5 columns]"
            ],
            "text/html": [
              "\n",
              "  <div id=\"df-0ad87171-fc86-4eb3-b3bc-ce114b4e3ae7\">\n",
              "    <div class=\"colab-df-container\">\n",
              "      <div>\n",
              "<style scoped>\n",
              "    .dataframe tbody tr th:only-of-type {\n",
              "        vertical-align: middle;\n",
              "    }\n",
              "\n",
              "    .dataframe tbody tr th {\n",
              "        vertical-align: top;\n",
              "    }\n",
              "\n",
              "    .dataframe thead th {\n",
              "        text-align: right;\n",
              "    }\n",
              "</style>\n",
              "<table border=\"1\" class=\"dataframe\">\n",
              "  <thead>\n",
              "    <tr style=\"text-align: right;\">\n",
              "      <th></th>\n",
              "      <th>x0</th>\n",
              "      <th>x1</th>\n",
              "      <th>x2</th>\n",
              "      <th>x3</th>\n",
              "      <th>z0</th>\n",
              "    </tr>\n",
              "  </thead>\n",
              "  <tbody>\n",
              "    <tr>\n",
              "      <th>0</th>\n",
              "      <td>2.028988</td>\n",
              "      <td>-0.048529</td>\n",
              "      <td>1.060283</td>\n",
              "      <td>1.317148</td>\n",
              "      <td>0.508818</td>\n",
              "    </tr>\n",
              "    <tr>\n",
              "      <th>1</th>\n",
              "      <td>-0.989069</td>\n",
              "      <td>3.229662</td>\n",
              "      <td>2.892655</td>\n",
              "      <td>0.163086</td>\n",
              "      <td>0.171929</td>\n",
              "    </tr>\n",
              "    <tr>\n",
              "      <th>2</th>\n",
              "      <td>1.522932</td>\n",
              "      <td>-0.294477</td>\n",
              "      <td>-0.336134</td>\n",
              "      <td>0.828293</td>\n",
              "      <td>1.808522</td>\n",
              "    </tr>\n",
              "    <tr>\n",
              "      <th>3</th>\n",
              "      <td>-0.248260</td>\n",
              "      <td>0.394284</td>\n",
              "      <td>1.202506</td>\n",
              "      <td>0.433187</td>\n",
              "      <td>-0.045825</td>\n",
              "    </tr>\n",
              "    <tr>\n",
              "      <th>4</th>\n",
              "      <td>3.562836</td>\n",
              "      <td>3.871988</td>\n",
              "      <td>2.865908</td>\n",
              "      <td>1.559318</td>\n",
              "      <td>1.542322</td>\n",
              "    </tr>\n",
              "    <tr>\n",
              "      <th>...</th>\n",
              "      <td>...</td>\n",
              "      <td>...</td>\n",
              "      <td>...</td>\n",
              "      <td>...</td>\n",
              "      <td>...</td>\n",
              "    </tr>\n",
              "    <tr>\n",
              "      <th>39995</th>\n",
              "      <td>2.349811</td>\n",
              "      <td>1.786477</td>\n",
              "      <td>1.381077</td>\n",
              "      <td>3.242956</td>\n",
              "      <td>-1.313246</td>\n",
              "    </tr>\n",
              "    <tr>\n",
              "      <th>39996</th>\n",
              "      <td>-0.534637</td>\n",
              "      <td>0.183689</td>\n",
              "      <td>1.568710</td>\n",
              "      <td>0.956535</td>\n",
              "      <td>-7.073550</td>\n",
              "    </tr>\n",
              "    <tr>\n",
              "      <th>39997</th>\n",
              "      <td>2.576047</td>\n",
              "      <td>0.277477</td>\n",
              "      <td>2.633787</td>\n",
              "      <td>1.786321</td>\n",
              "      <td>2.717463</td>\n",
              "    </tr>\n",
              "    <tr>\n",
              "      <th>39998</th>\n",
              "      <td>0.729177</td>\n",
              "      <td>2.750249</td>\n",
              "      <td>1.901398</td>\n",
              "      <td>2.265256</td>\n",
              "      <td>7.045637</td>\n",
              "    </tr>\n",
              "    <tr>\n",
              "      <th>39999</th>\n",
              "      <td>1.525307</td>\n",
              "      <td>-0.624438</td>\n",
              "      <td>2.055745</td>\n",
              "      <td>2.968758</td>\n",
              "      <td>-3.305110</td>\n",
              "    </tr>\n",
              "  </tbody>\n",
              "</table>\n",
              "<p>40000 rows × 5 columns</p>\n",
              "</div>\n",
              "      <button class=\"colab-df-convert\" onclick=\"convertToInteractive('df-0ad87171-fc86-4eb3-b3bc-ce114b4e3ae7')\"\n",
              "              title=\"Convert this dataframe to an interactive table.\"\n",
              "              style=\"display:none;\">\n",
              "        \n",
              "  <svg xmlns=\"http://www.w3.org/2000/svg\" height=\"24px\"viewBox=\"0 0 24 24\"\n",
              "       width=\"24px\">\n",
              "    <path d=\"M0 0h24v24H0V0z\" fill=\"none\"/>\n",
              "    <path d=\"M18.56 5.44l.94 2.06.94-2.06 2.06-.94-2.06-.94-.94-2.06-.94 2.06-2.06.94zm-11 1L8.5 8.5l.94-2.06 2.06-.94-2.06-.94L8.5 2.5l-.94 2.06-2.06.94zm10 10l.94 2.06.94-2.06 2.06-.94-2.06-.94-.94-2.06-.94 2.06-2.06.94z\"/><path d=\"M17.41 7.96l-1.37-1.37c-.4-.4-.92-.59-1.43-.59-.52 0-1.04.2-1.43.59L10.3 9.45l-7.72 7.72c-.78.78-.78 2.05 0 2.83L4 21.41c.39.39.9.59 1.41.59.51 0 1.02-.2 1.41-.59l7.78-7.78 2.81-2.81c.8-.78.8-2.07 0-2.86zM5.41 20L4 18.59l7.72-7.72 1.47 1.35L5.41 20z\"/>\n",
              "  </svg>\n",
              "      </button>\n",
              "      \n",
              "  <style>\n",
              "    .colab-df-container {\n",
              "      display:flex;\n",
              "      flex-wrap:wrap;\n",
              "      gap: 12px;\n",
              "    }\n",
              "\n",
              "    .colab-df-convert {\n",
              "      background-color: #E8F0FE;\n",
              "      border: none;\n",
              "      border-radius: 50%;\n",
              "      cursor: pointer;\n",
              "      display: none;\n",
              "      fill: #1967D2;\n",
              "      height: 32px;\n",
              "      padding: 0 0 0 0;\n",
              "      width: 32px;\n",
              "    }\n",
              "\n",
              "    .colab-df-convert:hover {\n",
              "      background-color: #E2EBFA;\n",
              "      box-shadow: 0px 1px 2px rgba(60, 64, 67, 0.3), 0px 1px 3px 1px rgba(60, 64, 67, 0.15);\n",
              "      fill: #174EA6;\n",
              "    }\n",
              "\n",
              "    [theme=dark] .colab-df-convert {\n",
              "      background-color: #3B4455;\n",
              "      fill: #D2E3FC;\n",
              "    }\n",
              "\n",
              "    [theme=dark] .colab-df-convert:hover {\n",
              "      background-color: #434B5C;\n",
              "      box-shadow: 0px 1px 3px 1px rgba(0, 0, 0, 0.15);\n",
              "      filter: drop-shadow(0px 1px 2px rgba(0, 0, 0, 0.3));\n",
              "      fill: #FFFFFF;\n",
              "    }\n",
              "  </style>\n",
              "\n",
              "      <script>\n",
              "        const buttonEl =\n",
              "          document.querySelector('#df-0ad87171-fc86-4eb3-b3bc-ce114b4e3ae7 button.colab-df-convert');\n",
              "        buttonEl.style.display =\n",
              "          google.colab.kernel.accessAllowed ? 'block' : 'none';\n",
              "\n",
              "        async function convertToInteractive(key) {\n",
              "          const element = document.querySelector('#df-0ad87171-fc86-4eb3-b3bc-ce114b4e3ae7');\n",
              "          const dataTable =\n",
              "            await google.colab.kernel.invokeFunction('convertToInteractive',\n",
              "                                                     [key], {});\n",
              "          if (!dataTable) return;\n",
              "\n",
              "          const docLinkHtml = 'Like what you see? Visit the ' +\n",
              "            '<a target=\"_blank\" href=https://colab.research.google.com/notebooks/data_table.ipynb>data table notebook</a>'\n",
              "            + ' to learn more about interactive tables.';\n",
              "          element.innerHTML = '';\n",
              "          dataTable['output_type'] = 'display_data';\n",
              "          await google.colab.output.renderOutput(dataTable, element);\n",
              "          const docLink = document.createElement('div');\n",
              "          docLink.innerHTML = docLinkHtml;\n",
              "          element.appendChild(docLink);\n",
              "        }\n",
              "      </script>\n",
              "    </div>\n",
              "  </div>\n",
              "  "
            ]
          },
          "metadata": {},
          "execution_count": 78
        }
      ]
    },
    {
      "cell_type": "code",
      "execution_count": 79,
      "metadata": {
        "id": "6uKjCWm69SAU"
      },
      "outputs": [],
      "source": [
        "cols = df_base.columns"
      ]
    },
    {
      "source": [
        "## Build Data Loader"
      ],
      "cell_type": "markdown",
      "metadata": {
        "id": "32aYiNIT9SAV"
      }
    },
    {
      "cell_type": "code",
      "execution_count": 80,
      "metadata": {
        "id": "yABwtalt9SAW"
      },
      "outputs": [],
      "source": [
        "def load_and_standardize_data(data):\n",
        "    # read in from csv\n",
        "    df = data #pd.read_csv(path, sep=',')\n",
        "    # replace nan with -99\n",
        "    df = df.fillna(-99)\n",
        "    df = df.values.reshape(-1, df.shape[1]).astype('float32')\n",
        "    # randomly split\n",
        "    X_train, X_test = train_test_split(df, test_size=0.3, random_state=42)\n",
        "    # standardize values\n",
        "    scaler = preprocessing.StandardScaler()\n",
        "    X_train = scaler.fit_transform(X_train)\n",
        "    X_test = scaler.transform(X_test)   \n",
        "    return X_train, X_test, scaler"
      ]
    },
    {
      "cell_type": "code",
      "execution_count": 81,
      "metadata": {
        "id": "cLYngyW-9SAY"
      },
      "outputs": [],
      "source": [
        "from torch.utils.data import Dataset, DataLoader\n",
        "class DataBuilder(Dataset):\n",
        "    def __init__(self, path, train=True):\n",
        "        self.X_train, self.X_test, self.standardizer = load_and_standardize_data(df_base)\n",
        "        if train:\n",
        "            self.x = torch.from_numpy(self.X_train)\n",
        "            self.len=self.x.shape[0]\n",
        "        else:\n",
        "            self.x = torch.from_numpy(self.X_test)\n",
        "            self.len=self.x.shape[0]\n",
        "        del self.X_train\n",
        "        del self.X_test \n",
        "    def __getitem__(self,index):      \n",
        "        return self.x[index]\n",
        "    def __len__(self):\n",
        "        return self.len"
      ]
    },
    {
      "cell_type": "code",
      "execution_count": 82,
      "metadata": {
        "id": "iI8HhO6t9SAY"
      },
      "outputs": [],
      "source": [
        "traindata_set=DataBuilder(df_base, train=True)\n",
        "testdata_set=DataBuilder(df_base, train=False)\n",
        "\n",
        "trainloader=DataLoader(dataset=traindata_set,batch_size=1024)\n",
        "testloader=DataLoader(dataset=testdata_set,batch_size=1024)"
      ]
    },
    {
      "cell_type": "code",
      "execution_count": 83,
      "metadata": {
        "colab": {
          "base_uri": "https://localhost:8080/"
        },
        "id": "FTA700gk9SAZ",
        "outputId": "32f297d4-f655-45ff-c040-9a4e497b6acd"
      },
      "outputs": [
        {
          "output_type": "execute_result",
          "data": {
            "text/plain": [
              "(torch.Tensor, torch.Tensor)"
            ]
          },
          "metadata": {},
          "execution_count": 83
        }
      ],
      "source": [
        "type(trainloader.dataset.x), type(testloader.dataset.x)"
      ]
    },
    {
      "cell_type": "code",
      "execution_count": 84,
      "metadata": {
        "colab": {
          "base_uri": "https://localhost:8080/"
        },
        "id": "dkG2kODT9SAZ",
        "outputId": "1ad7cb7b-44e0-4280-a0a8-8ece9134452f"
      },
      "outputs": [
        {
          "output_type": "execute_result",
          "data": {
            "text/plain": [
              "(torch.Size([28000, 5]), torch.Size([12000, 5]))"
            ]
          },
          "metadata": {},
          "execution_count": 84
        }
      ],
      "source": [
        "trainloader.dataset.x.shape, testloader.dataset.x.shape"
      ]
    },
    {
      "cell_type": "code",
      "execution_count": 85,
      "metadata": {
        "colab": {
          "base_uri": "https://localhost:8080/"
        },
        "id": "SFqp7Vjk9SAa",
        "outputId": "b0fc2494-b4a6-4af0-ecc8-c65faac0545b"
      },
      "outputs": [
        {
          "output_type": "execute_result",
          "data": {
            "text/plain": [
              "tensor([[ 0.3106, -0.6103,  0.5718, -0.7003, -0.8455],\n",
              "        [-1.0435,  0.7789, -0.0207, -0.2478,  0.2794],\n",
              "        [-0.5850, -0.3558, -0.4077, -0.7826, -0.3841],\n",
              "        ...,\n",
              "        [-1.1889,  1.3903,  0.2056,  0.6676, -1.4365],\n",
              "        [ 0.1233, -1.8809,  0.6089, -0.9004, -0.1250],\n",
              "        [-1.0763,  0.0504,  0.1588, -1.8029, -0.0219]])"
            ]
          },
          "metadata": {},
          "execution_count": 85
        }
      ],
      "source": [
        "trainloader.dataset.x"
      ]
    },
    {
      "source": [
        "## Build model"
      ],
      "cell_type": "markdown",
      "metadata": {
        "id": "2-vutGg_9SAa"
      }
    },
    {
      "cell_type": "code",
      "execution_count": 86,
      "metadata": {
        "id": "bU2fP0b59SAa"
      },
      "outputs": [],
      "source": [
        "class Autoencoder(nn.Module):\n",
        "    def __init__(self,D_in,H=50,H2=12,latent_dim=3):\n",
        "        \n",
        "        #Encoder\n",
        "        super(Autoencoder,self).__init__()\n",
        "        self.linear1=nn.Linear(D_in,H)\n",
        "        self.lin_bn1 = nn.BatchNorm1d(num_features=H)\n",
        "        self.linear2=nn.Linear(H,H2)\n",
        "        self.lin_bn2 = nn.BatchNorm1d(num_features=H2)\n",
        "        self.linear3=nn.Linear(H2,H2)\n",
        "        self.lin_bn3 = nn.BatchNorm1d(num_features=H2)\n",
        "        \n",
        "        # Latent vectors mu and sigma\n",
        "        self.fc1 = nn.Linear(H2, latent_dim)\n",
        "        self.bn1 = nn.BatchNorm1d(num_features=latent_dim)\n",
        "        self.fc21 = nn.Linear(latent_dim, latent_dim)\n",
        "        self.fc22 = nn.Linear(latent_dim, latent_dim)\n",
        "\n",
        "        # Sampling vector\n",
        "        self.fc3 = nn.Linear(latent_dim, latent_dim)\n",
        "        self.fc_bn3 = nn.BatchNorm1d(latent_dim)\n",
        "        self.fc4 = nn.Linear(latent_dim, H2)\n",
        "        self.fc_bn4 = nn.BatchNorm1d(H2)\n",
        "        \n",
        "        # Decoder\n",
        "        self.linear4=nn.Linear(H2,H2)\n",
        "        self.lin_bn4 = nn.BatchNorm1d(num_features=H2)\n",
        "        self.linear5=nn.Linear(H2,H)\n",
        "        self.lin_bn5 = nn.BatchNorm1d(num_features=H)\n",
        "        self.linear6=nn.Linear(H,D_in)\n",
        "        self.lin_bn6 = nn.BatchNorm1d(num_features=D_in)\n",
        "        \n",
        "        self.relu = nn.ReLU()\n",
        "        \n",
        "    def encode(self, x):\n",
        "        lin1 = self.relu(self.lin_bn1(self.linear1(x)))\n",
        "        lin2 = self.relu(self.lin_bn2(self.linear2(lin1)))\n",
        "        lin3 = self.relu(self.lin_bn3(self.linear3(lin2)))\n",
        "\n",
        "        fc1 = F.relu(self.bn1(self.fc1(lin3)))\n",
        "\n",
        "        r1 = self.fc21(fc1)\n",
        "        r2 = self.fc22(fc1)\n",
        "        \n",
        "        return r1, r2\n",
        "    \n",
        "    def reparameterize(self, mu, logvar):\n",
        "        if self.training:\n",
        "            std = logvar.mul(0.5).exp_()\n",
        "            eps = Variable(std.data.new(std.size()).normal_())\n",
        "            return eps.mul(std).add_(mu)\n",
        "        else:\n",
        "            return mu\n",
        "        \n",
        "    def decode(self, z):\n",
        "        fc3 = self.relu(self.fc_bn3(self.fc3(z)))\n",
        "        fc4 = self.relu(self.fc_bn4(self.fc4(fc3)))\n",
        "\n",
        "        lin4 = self.relu(self.lin_bn4(self.linear4(fc4)))\n",
        "        lin5 = self.relu(self.lin_bn5(self.linear5(lin4)))\n",
        "        return self.lin_bn6(self.linear6(lin5))\n",
        "\n",
        "\n",
        "        \n",
        "    def forward(self, x):\n",
        "        mu, logvar = self.encode(x)\n",
        "        z = self.reparameterize(mu, logvar)\n",
        "        return self.decode(z), mu, logvar"
      ]
    },
    {
      "cell_type": "code",
      "execution_count": 87,
      "metadata": {
        "id": "XhExhANE9SAb"
      },
      "outputs": [],
      "source": [
        "class customLoss(nn.Module):\n",
        "    def __init__(self):\n",
        "        super(customLoss, self).__init__()\n",
        "        self.mse_loss = nn.MSELoss(reduction=\"sum\")\n",
        "    \n",
        "    def forward(self, x_recon, x, mu, logvar):\n",
        "        loss_MSE = self.mse_loss(x_recon, x)\n",
        "        loss_KLD = -0.5 * torch.sum(1 + logvar - mu.pow(2) - logvar.exp())\n",
        "\n",
        "        return loss_MSE + loss_KLD"
      ]
    },
    {
      "source": [
        "If you want to better understand the variational autoencoder technique, look [here](https://towardsdatascience.com/understanding-variational-autoencoders-vaes-f70510919f73).\n",
        "\n",
        "For better understanding this AutoencoderClass, let me go briefly through it. This is a variational autoencoder (VAE) with two hidden layers, which (by default, but you can change this) 50 and then 12 activations. The latent factors are set to 3 (you can change that, too). So we're first exploding our initially 14 variables to 50 activations, then condensing it to 12, then to 3. From these 3 latent factors we then sample to recreate the original 14 values. We do that by inflating the 3 latent factors back to 12, then 50 and finally 14 activations (we decode the latent factors so to speak). With this reconstructed batch (recon_batch) we compare it with the original batch, computate our loss and adjust the weights and biases via our gradient (our optimizer here will be Adam). "
      ],
      "cell_type": "markdown",
      "metadata": {
        "id": "CCAQyyp89SAb"
      }
    },
    {
      "cell_type": "code",
      "execution_count": 88,
      "metadata": {
        "id": "Gdl38w2i9SAb"
      },
      "outputs": [],
      "source": [
        "D_in = trainloader.dataset.x.shape[1]\n",
        "H = 50\n",
        "H2 = 12\n",
        "model = Autoencoder(D_in, H, H2).to(device)\n",
        "optimizer = optim.Adam(model.parameters(), lr=1e-3)"
      ]
    },
    {
      "cell_type": "code",
      "execution_count": 89,
      "metadata": {
        "id": "d96ThQ7J9SAb"
      },
      "outputs": [],
      "source": [
        "loss_mse = customLoss()"
      ]
    },
    {
      "source": [
        "## Train Model"
      ],
      "cell_type": "markdown",
      "metadata": {
        "id": "xQwlLmY39SAc"
      }
    },
    {
      "cell_type": "code",
      "execution_count": 90,
      "metadata": {
        "id": "jiUSamsS9SAc"
      },
      "outputs": [],
      "source": [
        "epochs = 1500\n",
        "log_interval = 50\n",
        "val_losses = []\n",
        "train_losses = []\n",
        "test_losses = []"
      ]
    },
    {
      "cell_type": "code",
      "execution_count": 91,
      "metadata": {
        "id": "-MKqifS89SAc"
      },
      "outputs": [],
      "source": [
        "def train(epoch):\n",
        "    model.train()\n",
        "    train_loss = 0\n",
        "    for batch_idx, data in enumerate(trainloader):\n",
        "        data = data.to(device)\n",
        "        optimizer.zero_grad()\n",
        "        recon_batch, mu, logvar = model(data)\n",
        "        loss = loss_mse(recon_batch, data, mu, logvar)\n",
        "        loss.backward()\n",
        "        train_loss += loss.item()\n",
        "        optimizer.step()\n",
        "    if epoch % 200 == 0:        \n",
        "        print('====> Epoch: {} Average training loss: {:.4f}'.format(\n",
        "            epoch, train_loss / len(trainloader.dataset)))\n",
        "        train_losses.append(train_loss / len(trainloader.dataset))"
      ]
    },
    {
      "cell_type": "code",
      "execution_count": 92,
      "metadata": {
        "id": "oMBQ4_q99SAd"
      },
      "outputs": [],
      "source": [
        "def test(epoch):\n",
        "    with torch.no_grad():\n",
        "        test_loss = 0\n",
        "        for batch_idx, data in enumerate(testloader):\n",
        "            data = data.to(device)\n",
        "            optimizer.zero_grad()\n",
        "            recon_batch, mu, logvar = model(data)\n",
        "            loss = loss_mse(recon_batch, data, mu, logvar)\n",
        "            test_loss += loss.item()\n",
        "            if epoch % 200 == 0:        \n",
        "                print('====> Epoch: {} Average test loss: {:.4f}'.format(\n",
        "                    epoch, test_loss / len(testloader.dataset)))\n",
        "            test_losses.append(test_loss / len(testloader.dataset))"
      ]
    },
    {
      "cell_type": "code",
      "execution_count": 93,
      "metadata": {
        "colab": {
          "base_uri": "https://localhost:8080/"
        },
        "id": "sNJeQdHb9SAd",
        "outputId": "3eb6d4dd-c9b6-4841-b4de-551c5fe01567"
      },
      "outputs": [
        {
          "output_type": "stream",
          "name": "stdout",
          "text": [
            "====> Epoch: 200 Average training loss: 4.2352\n",
            "====> Epoch: 200 Average test loss: 0.3530\n",
            "====> Epoch: 200 Average test loss: 0.7059\n",
            "====> Epoch: 200 Average test loss: 1.0630\n",
            "====> Epoch: 200 Average test loss: 1.4212\n",
            "====> Epoch: 200 Average test loss: 1.7678\n",
            "====> Epoch: 200 Average test loss: 2.1297\n",
            "====> Epoch: 200 Average test loss: 2.4930\n",
            "====> Epoch: 200 Average test loss: 2.8441\n",
            "====> Epoch: 200 Average test loss: 3.2111\n",
            "====> Epoch: 200 Average test loss: 3.5747\n",
            "====> Epoch: 200 Average test loss: 3.9375\n",
            "====> Epoch: 200 Average test loss: 4.1896\n",
            "====> Epoch: 400 Average training loss: 4.2179\n",
            "====> Epoch: 400 Average test loss: 0.3532\n",
            "====> Epoch: 400 Average test loss: 0.7028\n",
            "====> Epoch: 400 Average test loss: 1.0573\n",
            "====> Epoch: 400 Average test loss: 1.4123\n",
            "====> Epoch: 400 Average test loss: 1.7924\n",
            "====> Epoch: 400 Average test loss: 2.1549\n",
            "====> Epoch: 400 Average test loss: 2.5150\n",
            "====> Epoch: 400 Average test loss: 2.8746\n",
            "====> Epoch: 400 Average test loss: 3.2400\n",
            "====> Epoch: 400 Average test loss: 3.5981\n",
            "====> Epoch: 400 Average test loss: 3.9618\n",
            "====> Epoch: 400 Average test loss: 4.2199\n",
            "====> Epoch: 600 Average training loss: 4.2152\n",
            "====> Epoch: 600 Average test loss: 0.3532\n",
            "====> Epoch: 600 Average test loss: 0.7006\n",
            "====> Epoch: 600 Average test loss: 1.0521\n",
            "====> Epoch: 600 Average test loss: 1.4075\n",
            "====> Epoch: 600 Average test loss: 1.7689\n",
            "====> Epoch: 600 Average test loss: 2.1342\n",
            "====> Epoch: 600 Average test loss: 2.4899\n",
            "====> Epoch: 600 Average test loss: 2.8516\n",
            "====> Epoch: 600 Average test loss: 3.2179\n",
            "====> Epoch: 600 Average test loss: 3.5752\n",
            "====> Epoch: 600 Average test loss: 3.9390\n",
            "====> Epoch: 600 Average test loss: 4.1902\n",
            "====> Epoch: 800 Average training loss: 4.2130\n",
            "====> Epoch: 800 Average test loss: 0.3499\n",
            "====> Epoch: 800 Average test loss: 0.7049\n",
            "====> Epoch: 800 Average test loss: 1.0542\n",
            "====> Epoch: 800 Average test loss: 1.4181\n",
            "====> Epoch: 800 Average test loss: 1.7738\n",
            "====> Epoch: 800 Average test loss: 2.1360\n",
            "====> Epoch: 800 Average test loss: 2.5020\n",
            "====> Epoch: 800 Average test loss: 2.8598\n",
            "====> Epoch: 800 Average test loss: 3.2344\n",
            "====> Epoch: 800 Average test loss: 3.5942\n",
            "====> Epoch: 800 Average test loss: 3.9561\n",
            "====> Epoch: 800 Average test loss: 4.2134\n",
            "====> Epoch: 1000 Average training loss: 4.2094\n",
            "====> Epoch: 1000 Average test loss: 0.3535\n",
            "====> Epoch: 1000 Average test loss: 0.7075\n",
            "====> Epoch: 1000 Average test loss: 1.0663\n",
            "====> Epoch: 1000 Average test loss: 1.4254\n",
            "====> Epoch: 1000 Average test loss: 1.7742\n",
            "====> Epoch: 1000 Average test loss: 2.1354\n",
            "====> Epoch: 1000 Average test loss: 2.5001\n",
            "====> Epoch: 1000 Average test loss: 2.8553\n",
            "====> Epoch: 1000 Average test loss: 3.2177\n",
            "====> Epoch: 1000 Average test loss: 3.5725\n",
            "====> Epoch: 1000 Average test loss: 3.9355\n",
            "====> Epoch: 1000 Average test loss: 4.1896\n",
            "====> Epoch: 1200 Average training loss: 4.2147\n",
            "====> Epoch: 1200 Average test loss: 0.3565\n",
            "====> Epoch: 1200 Average test loss: 0.7087\n",
            "====> Epoch: 1200 Average test loss: 1.0664\n",
            "====> Epoch: 1200 Average test loss: 1.4184\n",
            "====> Epoch: 1200 Average test loss: 1.7666\n",
            "====> Epoch: 1200 Average test loss: 2.1302\n",
            "====> Epoch: 1200 Average test loss: 2.4900\n",
            "====> Epoch: 1200 Average test loss: 2.8488\n",
            "====> Epoch: 1200 Average test loss: 3.2102\n",
            "====> Epoch: 1200 Average test loss: 3.5683\n",
            "====> Epoch: 1200 Average test loss: 3.9302\n",
            "====> Epoch: 1200 Average test loss: 4.1836\n",
            "====> Epoch: 1400 Average training loss: 4.2037\n",
            "====> Epoch: 1400 Average test loss: 0.3541\n",
            "====> Epoch: 1400 Average test loss: 0.7024\n",
            "====> Epoch: 1400 Average test loss: 1.0560\n",
            "====> Epoch: 1400 Average test loss: 1.4168\n",
            "====> Epoch: 1400 Average test loss: 1.7610\n",
            "====> Epoch: 1400 Average test loss: 2.1258\n",
            "====> Epoch: 1400 Average test loss: 2.4846\n",
            "====> Epoch: 1400 Average test loss: 2.8385\n",
            "====> Epoch: 1400 Average test loss: 3.2033\n",
            "====> Epoch: 1400 Average test loss: 3.5628\n",
            "====> Epoch: 1400 Average test loss: 3.9193\n",
            "====> Epoch: 1400 Average test loss: 4.1705\n"
          ]
        }
      ],
      "source": [
        "for epoch in range(1, epochs + 1):\n",
        "    train(epoch)\n",
        "    test(epoch)"
      ]
    },
    {
      "source": [
        "We we're able to reduce the training and test loss but quite a bit, let's have a look at how the fake results actually look like vs the real results:"
      ],
      "cell_type": "markdown",
      "metadata": {
        "id": "ei1XnA_o9SAd"
      }
    },
    {
      "cell_type": "code",
      "execution_count": 94,
      "metadata": {
        "colab": {
          "base_uri": "https://localhost:8080/"
        },
        "id": "C-i3Y1Ir9SAd",
        "outputId": "a1d720a2-d1d8-41f7-a4f6-a49726ed2492"
      },
      "outputs": [
        {
          "output_type": "stream",
          "name": "stdout",
          "text": [
            "0 torch.Size([1024, 5])   /   torch.Size([1024, 5])\n",
            "1 torch.Size([1024, 5])   /   torch.Size([1024, 5])\n",
            "2 torch.Size([1024, 5])   /   torch.Size([1024, 5])\n",
            "3 torch.Size([1024, 5])   /   torch.Size([1024, 5])\n",
            "4 torch.Size([1024, 5])   /   torch.Size([1024, 5])\n",
            "5 torch.Size([1024, 5])   /   torch.Size([1024, 5])\n",
            "6 torch.Size([1024, 5])   /   torch.Size([1024, 5])\n",
            "7 torch.Size([1024, 5])   /   torch.Size([1024, 5])\n",
            "8 torch.Size([1024, 5])   /   torch.Size([1024, 5])\n",
            "9 torch.Size([1024, 5])   /   torch.Size([1024, 5])\n",
            "10 torch.Size([1024, 5])   /   torch.Size([1024, 5])\n",
            "11 torch.Size([736, 5])   /   torch.Size([736, 5])\n"
          ]
        }
      ],
      "source": [
        "\n",
        "with torch.no_grad():\n",
        "    for batch_idx, data in enumerate(testloader):\n",
        "        data = data.to(device)\n",
        "        optimizer.zero_grad()\n",
        "        recon_batch, mu, logvar = model(data)\n",
        "        print(batch_idx,data.shape,'  /  ',recon_batch.shape)"
      ]
    },
    {
      "cell_type": "code",
      "source": [
        "recon_batch.cpu().numpy().shape"
      ],
      "metadata": {
        "colab": {
          "base_uri": "https://localhost:8080/"
        },
        "id": "HMYCYOQuFfjz",
        "outputId": "74300b0d-a77a-4e48-c87e-a5bc9b66af00"
      },
      "execution_count": 95,
      "outputs": [
        {
          "output_type": "execute_result",
          "data": {
            "text/plain": [
              "(736, 5)"
            ]
          },
          "metadata": {},
          "execution_count": 95
        }
      ]
    },
    {
      "source": [
        "Not to bad right (the first row is the reconstructed row, the second one the real row from the data)? However, what we want is to built this row not with the real input so to speak, since right now we were giving the model the complete rows with their 14 columns, condensed it to 3 input parameters, just to blow it up again to the corresponding 14 columns. What I want to do is to create these 14 rows by giving the model 3 latent factors as input. Let's have a look at these latent variables. "
      ],
      "cell_type": "markdown",
      "metadata": {
        "id": "UB3VAAcL9SAe"
      }
    },
    {
      "cell_type": "code",
      "execution_count": 97,
      "metadata": {
        "id": "7OKO8g1_9SAe"
      },
      "outputs": [],
      "source": [
        "sigma = torch.exp(logvar/2)"
      ]
    },
    {
      "cell_type": "code",
      "execution_count": 98,
      "metadata": {
        "colab": {
          "base_uri": "https://localhost:8080/"
        },
        "id": "bGsmlUWA9SAe",
        "outputId": "1fb7e5bf-d3bb-49bc-e6ea-3f5e82a3bea2"
      },
      "outputs": [
        {
          "output_type": "execute_result",
          "data": {
            "text/plain": [
              "(tensor([ 0.1745, -0.0697, -0.2571], device='cuda:0'),\n",
              " tensor([0.5530, 0.7592, 0.7187], device='cuda:0'))"
            ]
          },
          "metadata": {},
          "execution_count": 98
        }
      ],
      "source": [
        "mu[1], sigma[1]"
      ]
    },
    {
      "source": [
        "Mu represents the mean for each of our latent factor values, logvar the log of the standard deviation. Each of these have a distribution by itself. We have 54 cases in our test data, so we have 3x54 different mu and logvar. We can have a look at the distribution of each of the 3 latent variables: "
      ],
      "cell_type": "markdown",
      "metadata": {
        "id": "sF0dHT409SAf"
      }
    },
    {
      "cell_type": "code",
      "execution_count": 99,
      "metadata": {
        "colab": {
          "base_uri": "https://localhost:8080/"
        },
        "id": "XOiHs3VY9SAf",
        "outputId": "d2a2a01d-1d64-49d1-9b4a-ec3fa58a55b4"
      },
      "outputs": [
        {
          "output_type": "execute_result",
          "data": {
            "text/plain": [
              "(tensor([-0.0035, -0.0015,  0.0070], device='cuda:0'),\n",
              " tensor([0.5528, 0.7583, 0.7180], device='cuda:0'))"
            ]
          },
          "metadata": {},
          "execution_count": 99
        }
      ],
      "source": [
        "mu.mean(axis=0), sigma.mean(axis=0)"
      ]
    },
    {
      "source": [
        "All of the latent variables have a mean around zero, but the last latent factor has a wider standard deviation. So when we sample values from each of these latent variables, the last value will vary much more then the other two. I assume a normal distribution for all the latent factors."
      ],
      "cell_type": "markdown",
      "metadata": {
        "id": "OxQXuQP69SAf"
      }
    },
    {
      "cell_type": "code",
      "execution_count": 100,
      "metadata": {
        "id": "J_GHUpKV9SAf"
      },
      "outputs": [],
      "source": [
        "# sample z from q\n",
        "no_samples = 20\n",
        "q = torch.distributions.Normal(mu.mean(axis=0), sigma.mean(axis=0))\n",
        "z = q.rsample(sample_shape=torch.Size([no_samples]))"
      ]
    },
    {
      "cell_type": "code",
      "execution_count": 101,
      "metadata": {
        "colab": {
          "base_uri": "https://localhost:8080/"
        },
        "id": "-dVzBNeY9SAp",
        "outputId": "f8035fe0-7e99-40ab-d86b-7aa80253d58e"
      },
      "outputs": [
        {
          "output_type": "execute_result",
          "data": {
            "text/plain": [
              "torch.Size([20, 3])"
            ]
          },
          "metadata": {},
          "execution_count": 101
        }
      ],
      "source": [
        "z.shape"
      ]
    },
    {
      "cell_type": "code",
      "execution_count": 102,
      "metadata": {
        "colab": {
          "base_uri": "https://localhost:8080/"
        },
        "id": "Twm0NEcS9SAq",
        "outputId": "e8169b98-9d07-4627-e9d8-d18c74cfa036"
      },
      "outputs": [
        {
          "output_type": "execute_result",
          "data": {
            "text/plain": [
              "tensor([[ 0.1441,  0.1432, -0.5546],\n",
              "        [-1.0537,  0.0911, -0.1910],\n",
              "        [-0.0708, -0.2458,  0.2643],\n",
              "        [-0.2024, -0.3014, -1.0102],\n",
              "        [ 0.1365, -1.0148, -0.3887]], device='cuda:0')"
            ]
          },
          "metadata": {},
          "execution_count": 102
        }
      ],
      "source": [
        "z[:5]"
      ]
    },
    {
      "source": [
        "With these three latent factors we can now start and create fake data for our dataset and see how it looks like:"
      ],
      "cell_type": "markdown",
      "metadata": {
        "id": "nXRlb2cG9SAq"
      }
    },
    {
      "cell_type": "code",
      "execution_count": 103,
      "metadata": {
        "id": "4jd7jn7T9SAq"
      },
      "outputs": [],
      "source": [
        "with torch.no_grad():\n",
        "    pred = model.decode(z).cpu().numpy()"
      ]
    },
    {
      "cell_type": "code",
      "execution_count": 104,
      "metadata": {
        "colab": {
          "base_uri": "https://localhost:8080/"
        },
        "id": "GdCokoDM9SAq",
        "outputId": "3a1ade6b-5274-4895-b041-44c8f9a66d90"
      },
      "outputs": [
        {
          "output_type": "execute_result",
          "data": {
            "text/plain": [
              "array([-0.7419578 , -0.978031  , -1.001321  , -1.0093516 , -0.01113456],\n",
              "      dtype=float32)"
            ]
          },
          "metadata": {},
          "execution_count": 104
        }
      ],
      "source": [
        "pred[1]"
      ]
    },
    {
      "source": [
        "## Create fake data from Autoencoder"
      ],
      "cell_type": "markdown",
      "metadata": {
        "id": "LaoRlefR9SAr"
      }
    },
    {
      "cell_type": "code",
      "execution_count": null,
      "metadata": {
        "id": "Ambm76Gi9SAr"
      },
      "outputs": [],
      "source": [
        "fake_data = scaler.inverse_transform(pred)\n",
        "fake_data.shape"
      ]
    },
    {
      "cell_type": "code",
      "source": [
        "fake_data"
      ],
      "metadata": {
        "colab": {
          "base_uri": "https://localhost:8080/"
        },
        "id": "v8p0Ym4KFyQu",
        "outputId": "d8b78a44-8b1b-4359-c93c-976715a04cae"
      },
      "execution_count": 105,
      "outputs": [
        {
          "output_type": "execute_result",
          "data": {
            "text/plain": [
              "array([[ 0.5643727 ,  0.06915203,  0.9769583 ,  0.8729925 ,  2.4251282 ],\n",
              "       [ 0.10963502,  2.3064384 ,  2.0610428 ,  1.9049317 ,  2.9288285 ],\n",
              "       [ 2.062392  ,  2.1900907 ,  2.236256  ,  2.1413147 ,  2.3994179 ],\n",
              "       [ 1.4389079 ,  2.1087017 ,  1.9519644 ,  1.887697  ,  1.713243  ],\n",
              "       [ 1.1664559 ,  1.8968394 ,  1.5384579 ,  1.5552095 ,  1.1907102 ],\n",
              "       [ 2.1357193 ,  2.1453054 ,  2.0597582 ,  2.0172613 ,  1.2731706 ],\n",
              "       [ 1.4771672 ,  0.9167933 ,  0.8110738 ,  0.9529538 ,  0.15696757],\n",
              "       [ 4.8579144 ,  1.252751  ,  1.4174538 ,  1.7233986 ,  3.9294248 ],\n",
              "       [ 2.8427982 ,  2.1318133 ,  2.162959  ,  2.1490705 ,  1.6969155 ],\n",
              "       [ 1.6708935 ,  0.9233353 ,  0.7731264 ,  0.936947  , -2.0292494 ],\n",
              "       [ 1.3649414 ,  1.3772943 ,  0.9709462 ,  1.1052529 ,  0.22819154],\n",
              "       [ 1.4451836 ,  2.2486722 ,  2.5149484 ,  2.2573254 ,  5.8303175 ],\n",
              "       [ 1.0668815 ,  2.1904984 ,  2.0363777 ,  1.9308894 ,  2.3352838 ],\n",
              "       [ 0.71730614,  1.517478  ,  1.0642503 ,  1.1322736 ,  1.3324476 ],\n",
              "       [ 0.29593602, -0.15388939,  1.0945338 ,  0.88088214,  3.0121899 ],\n",
              "       [ 1.2519772 ,  1.2567348 ,  0.91062844,  1.0416511 ,  0.46126026],\n",
              "       [ 1.7991519 ,  0.30914608,  0.6948665 ,  0.81116164, -2.8051274 ],\n",
              "       [ 1.349127  ,  1.3231716 ,  0.940935  ,  1.0766956 ,  0.26491636],\n",
              "       [ 0.1573322 ,  2.0771012 ,  1.7192703 ,  1.6404344 ,  2.4060512 ],\n",
              "       [ 2.1366103 ,  2.1121004 ,  1.9816847 ,  1.9598514 ,  0.9315312 ]],\n",
              "      dtype=float32)"
            ]
          },
          "metadata": {},
          "execution_count": 105
        }
      ]
    },
    {
      "cell_type": "code",
      "execution_count": 106,
      "metadata": {
        "colab": {
          "base_uri": "https://localhost:8080/",
          "height": 363
        },
        "id": "0zLx6LGs9SAr",
        "outputId": "5c061529-414a-436c-d386-b0b891018a6c"
      },
      "outputs": [
        {
          "output_type": "execute_result",
          "data": {
            "text/plain": [
              "         x0        x1        x2        x3        z0\n",
              "0  0.564373  0.069152  0.976958  0.872993  2.425128\n",
              "1  0.109635  2.306438  2.061043  1.904932  2.928828\n",
              "2  2.062392  2.190091  2.236256  2.141315  2.399418\n",
              "3  1.438908  2.108702  1.951964  1.887697  1.713243\n",
              "4  1.166456  1.896839  1.538458  1.555210  1.190710\n",
              "5  2.135719  2.145305  2.059758  2.017261  1.273171\n",
              "6  1.477167  0.916793  0.811074  0.952954  0.156968\n",
              "7  4.857914  1.252751  1.417454  1.723399  3.929425\n",
              "8  2.842798  2.131813  2.162959  2.149071  1.696916\n",
              "9  1.670894  0.923335  0.773126  0.936947 -2.029249"
            ],
            "text/html": [
              "\n",
              "  <div id=\"df-dd6ab6a3-77c5-4d16-b1ce-2a10d254dd19\">\n",
              "    <div class=\"colab-df-container\">\n",
              "      <div>\n",
              "<style scoped>\n",
              "    .dataframe tbody tr th:only-of-type {\n",
              "        vertical-align: middle;\n",
              "    }\n",
              "\n",
              "    .dataframe tbody tr th {\n",
              "        vertical-align: top;\n",
              "    }\n",
              "\n",
              "    .dataframe thead th {\n",
              "        text-align: right;\n",
              "    }\n",
              "</style>\n",
              "<table border=\"1\" class=\"dataframe\">\n",
              "  <thead>\n",
              "    <tr style=\"text-align: right;\">\n",
              "      <th></th>\n",
              "      <th>x0</th>\n",
              "      <th>x1</th>\n",
              "      <th>x2</th>\n",
              "      <th>x3</th>\n",
              "      <th>z0</th>\n",
              "    </tr>\n",
              "  </thead>\n",
              "  <tbody>\n",
              "    <tr>\n",
              "      <th>0</th>\n",
              "      <td>0.564373</td>\n",
              "      <td>0.069152</td>\n",
              "      <td>0.976958</td>\n",
              "      <td>0.872993</td>\n",
              "      <td>2.425128</td>\n",
              "    </tr>\n",
              "    <tr>\n",
              "      <th>1</th>\n",
              "      <td>0.109635</td>\n",
              "      <td>2.306438</td>\n",
              "      <td>2.061043</td>\n",
              "      <td>1.904932</td>\n",
              "      <td>2.928828</td>\n",
              "    </tr>\n",
              "    <tr>\n",
              "      <th>2</th>\n",
              "      <td>2.062392</td>\n",
              "      <td>2.190091</td>\n",
              "      <td>2.236256</td>\n",
              "      <td>2.141315</td>\n",
              "      <td>2.399418</td>\n",
              "    </tr>\n",
              "    <tr>\n",
              "      <th>3</th>\n",
              "      <td>1.438908</td>\n",
              "      <td>2.108702</td>\n",
              "      <td>1.951964</td>\n",
              "      <td>1.887697</td>\n",
              "      <td>1.713243</td>\n",
              "    </tr>\n",
              "    <tr>\n",
              "      <th>4</th>\n",
              "      <td>1.166456</td>\n",
              "      <td>1.896839</td>\n",
              "      <td>1.538458</td>\n",
              "      <td>1.555210</td>\n",
              "      <td>1.190710</td>\n",
              "    </tr>\n",
              "    <tr>\n",
              "      <th>5</th>\n",
              "      <td>2.135719</td>\n",
              "      <td>2.145305</td>\n",
              "      <td>2.059758</td>\n",
              "      <td>2.017261</td>\n",
              "      <td>1.273171</td>\n",
              "    </tr>\n",
              "    <tr>\n",
              "      <th>6</th>\n",
              "      <td>1.477167</td>\n",
              "      <td>0.916793</td>\n",
              "      <td>0.811074</td>\n",
              "      <td>0.952954</td>\n",
              "      <td>0.156968</td>\n",
              "    </tr>\n",
              "    <tr>\n",
              "      <th>7</th>\n",
              "      <td>4.857914</td>\n",
              "      <td>1.252751</td>\n",
              "      <td>1.417454</td>\n",
              "      <td>1.723399</td>\n",
              "      <td>3.929425</td>\n",
              "    </tr>\n",
              "    <tr>\n",
              "      <th>8</th>\n",
              "      <td>2.842798</td>\n",
              "      <td>2.131813</td>\n",
              "      <td>2.162959</td>\n",
              "      <td>2.149071</td>\n",
              "      <td>1.696916</td>\n",
              "    </tr>\n",
              "    <tr>\n",
              "      <th>9</th>\n",
              "      <td>1.670894</td>\n",
              "      <td>0.923335</td>\n",
              "      <td>0.773126</td>\n",
              "      <td>0.936947</td>\n",
              "      <td>-2.029249</td>\n",
              "    </tr>\n",
              "  </tbody>\n",
              "</table>\n",
              "</div>\n",
              "      <button class=\"colab-df-convert\" onclick=\"convertToInteractive('df-dd6ab6a3-77c5-4d16-b1ce-2a10d254dd19')\"\n",
              "              title=\"Convert this dataframe to an interactive table.\"\n",
              "              style=\"display:none;\">\n",
              "        \n",
              "  <svg xmlns=\"http://www.w3.org/2000/svg\" height=\"24px\"viewBox=\"0 0 24 24\"\n",
              "       width=\"24px\">\n",
              "    <path d=\"M0 0h24v24H0V0z\" fill=\"none\"/>\n",
              "    <path d=\"M18.56 5.44l.94 2.06.94-2.06 2.06-.94-2.06-.94-.94-2.06-.94 2.06-2.06.94zm-11 1L8.5 8.5l.94-2.06 2.06-.94-2.06-.94L8.5 2.5l-.94 2.06-2.06.94zm10 10l.94 2.06.94-2.06 2.06-.94-2.06-.94-.94-2.06-.94 2.06-2.06.94z\"/><path d=\"M17.41 7.96l-1.37-1.37c-.4-.4-.92-.59-1.43-.59-.52 0-1.04.2-1.43.59L10.3 9.45l-7.72 7.72c-.78.78-.78 2.05 0 2.83L4 21.41c.39.39.9.59 1.41.59.51 0 1.02-.2 1.41-.59l7.78-7.78 2.81-2.81c.8-.78.8-2.07 0-2.86zM5.41 20L4 18.59l7.72-7.72 1.47 1.35L5.41 20z\"/>\n",
              "  </svg>\n",
              "      </button>\n",
              "      \n",
              "  <style>\n",
              "    .colab-df-container {\n",
              "      display:flex;\n",
              "      flex-wrap:wrap;\n",
              "      gap: 12px;\n",
              "    }\n",
              "\n",
              "    .colab-df-convert {\n",
              "      background-color: #E8F0FE;\n",
              "      border: none;\n",
              "      border-radius: 50%;\n",
              "      cursor: pointer;\n",
              "      display: none;\n",
              "      fill: #1967D2;\n",
              "      height: 32px;\n",
              "      padding: 0 0 0 0;\n",
              "      width: 32px;\n",
              "    }\n",
              "\n",
              "    .colab-df-convert:hover {\n",
              "      background-color: #E2EBFA;\n",
              "      box-shadow: 0px 1px 2px rgba(60, 64, 67, 0.3), 0px 1px 3px 1px rgba(60, 64, 67, 0.15);\n",
              "      fill: #174EA6;\n",
              "    }\n",
              "\n",
              "    [theme=dark] .colab-df-convert {\n",
              "      background-color: #3B4455;\n",
              "      fill: #D2E3FC;\n",
              "    }\n",
              "\n",
              "    [theme=dark] .colab-df-convert:hover {\n",
              "      background-color: #434B5C;\n",
              "      box-shadow: 0px 1px 3px 1px rgba(0, 0, 0, 0.15);\n",
              "      filter: drop-shadow(0px 1px 2px rgba(0, 0, 0, 0.3));\n",
              "      fill: #FFFFFF;\n",
              "    }\n",
              "  </style>\n",
              "\n",
              "      <script>\n",
              "        const buttonEl =\n",
              "          document.querySelector('#df-dd6ab6a3-77c5-4d16-b1ce-2a10d254dd19 button.colab-df-convert');\n",
              "        buttonEl.style.display =\n",
              "          google.colab.kernel.accessAllowed ? 'block' : 'none';\n",
              "\n",
              "        async function convertToInteractive(key) {\n",
              "          const element = document.querySelector('#df-dd6ab6a3-77c5-4d16-b1ce-2a10d254dd19');\n",
              "          const dataTable =\n",
              "            await google.colab.kernel.invokeFunction('convertToInteractive',\n",
              "                                                     [key], {});\n",
              "          if (!dataTable) return;\n",
              "\n",
              "          const docLinkHtml = 'Like what you see? Visit the ' +\n",
              "            '<a target=\"_blank\" href=https://colab.research.google.com/notebooks/data_table.ipynb>data table notebook</a>'\n",
              "            + ' to learn more about interactive tables.';\n",
              "          element.innerHTML = '';\n",
              "          dataTable['output_type'] = 'display_data';\n",
              "          await google.colab.output.renderOutput(dataTable, element);\n",
              "          const docLink = document.createElement('div');\n",
              "          docLink.innerHTML = docLinkHtml;\n",
              "          element.appendChild(docLink);\n",
              "        }\n",
              "      </script>\n",
              "    </div>\n",
              "  </div>\n",
              "  "
            ]
          },
          "metadata": {},
          "execution_count": 106
        }
      ],
      "source": [
        "df_fake = pd.DataFrame(fake_data, columns = cols)\n",
        "#df_fake['Wine'] = np.round(df_fake['Wine']).astype(int)\n",
        "#df_fake['Wine'] = np.where(df_fake['Wine']<1, 1, df_fake['Wine'])\n",
        "df_fake.head(10)"
      ]
    },
    {
      "source": [
        "For comparison the real data:"
      ],
      "cell_type": "markdown",
      "metadata": {
        "id": "uXoIMJG79SAs"
      }
    },
    {
      "cell_type": "code",
      "execution_count": 107,
      "metadata": {
        "colab": {
          "base_uri": "https://localhost:8080/",
          "height": 363
        },
        "id": "VJQP2PTy9SAs",
        "outputId": "aa0e1e8b-381b-4884-a80b-108411e3a540"
      },
      "outputs": [
        {
          "output_type": "execute_result",
          "data": {
            "text/plain": [
              "             x0        x1        x2        x3        z0\n",
              "15302  1.319841  0.145959  0.933957  0.783087  0.648941\n",
              "7809   0.849020  1.992381  1.835549  1.966314  0.872998\n",
              "22960  1.218462  0.776110  0.567790  2.102428  0.384899\n",
              "30016  0.937725  0.653446  2.691416  1.122492  5.435868\n",
              "29900  2.003520  3.429965  3.701827  2.822453  8.782194\n",
              "35424  4.533648  0.856169  1.385596 -0.037266  1.070931\n",
              "30513  1.271450  0.505148  1.374515  1.322227  3.633503\n",
              "30184  3.530616  0.588811  1.707941  1.866397 -7.508734\n",
              "13363  2.408618  2.862995  2.265363  2.930660  3.565054\n",
              "24960  0.236060  0.993851  1.144422  0.807561 -0.413427"
            ],
            "text/html": [
              "\n",
              "  <div id=\"df-e72335cf-a49b-4ad8-add6-f91cc82561b3\">\n",
              "    <div class=\"colab-df-container\">\n",
              "      <div>\n",
              "<style scoped>\n",
              "    .dataframe tbody tr th:only-of-type {\n",
              "        vertical-align: middle;\n",
              "    }\n",
              "\n",
              "    .dataframe tbody tr th {\n",
              "        vertical-align: top;\n",
              "    }\n",
              "\n",
              "    .dataframe thead th {\n",
              "        text-align: right;\n",
              "    }\n",
              "</style>\n",
              "<table border=\"1\" class=\"dataframe\">\n",
              "  <thead>\n",
              "    <tr style=\"text-align: right;\">\n",
              "      <th></th>\n",
              "      <th>x0</th>\n",
              "      <th>x1</th>\n",
              "      <th>x2</th>\n",
              "      <th>x3</th>\n",
              "      <th>z0</th>\n",
              "    </tr>\n",
              "  </thead>\n",
              "  <tbody>\n",
              "    <tr>\n",
              "      <th>15302</th>\n",
              "      <td>1.319841</td>\n",
              "      <td>0.145959</td>\n",
              "      <td>0.933957</td>\n",
              "      <td>0.783087</td>\n",
              "      <td>0.648941</td>\n",
              "    </tr>\n",
              "    <tr>\n",
              "      <th>7809</th>\n",
              "      <td>0.849020</td>\n",
              "      <td>1.992381</td>\n",
              "      <td>1.835549</td>\n",
              "      <td>1.966314</td>\n",
              "      <td>0.872998</td>\n",
              "    </tr>\n",
              "    <tr>\n",
              "      <th>22960</th>\n",
              "      <td>1.218462</td>\n",
              "      <td>0.776110</td>\n",
              "      <td>0.567790</td>\n",
              "      <td>2.102428</td>\n",
              "      <td>0.384899</td>\n",
              "    </tr>\n",
              "    <tr>\n",
              "      <th>30016</th>\n",
              "      <td>0.937725</td>\n",
              "      <td>0.653446</td>\n",
              "      <td>2.691416</td>\n",
              "      <td>1.122492</td>\n",
              "      <td>5.435868</td>\n",
              "    </tr>\n",
              "    <tr>\n",
              "      <th>29900</th>\n",
              "      <td>2.003520</td>\n",
              "      <td>3.429965</td>\n",
              "      <td>3.701827</td>\n",
              "      <td>2.822453</td>\n",
              "      <td>8.782194</td>\n",
              "    </tr>\n",
              "    <tr>\n",
              "      <th>35424</th>\n",
              "      <td>4.533648</td>\n",
              "      <td>0.856169</td>\n",
              "      <td>1.385596</td>\n",
              "      <td>-0.037266</td>\n",
              "      <td>1.070931</td>\n",
              "    </tr>\n",
              "    <tr>\n",
              "      <th>30513</th>\n",
              "      <td>1.271450</td>\n",
              "      <td>0.505148</td>\n",
              "      <td>1.374515</td>\n",
              "      <td>1.322227</td>\n",
              "      <td>3.633503</td>\n",
              "    </tr>\n",
              "    <tr>\n",
              "      <th>30184</th>\n",
              "      <td>3.530616</td>\n",
              "      <td>0.588811</td>\n",
              "      <td>1.707941</td>\n",
              "      <td>1.866397</td>\n",
              "      <td>-7.508734</td>\n",
              "    </tr>\n",
              "    <tr>\n",
              "      <th>13363</th>\n",
              "      <td>2.408618</td>\n",
              "      <td>2.862995</td>\n",
              "      <td>2.265363</td>\n",
              "      <td>2.930660</td>\n",
              "      <td>3.565054</td>\n",
              "    </tr>\n",
              "    <tr>\n",
              "      <th>24960</th>\n",
              "      <td>0.236060</td>\n",
              "      <td>0.993851</td>\n",
              "      <td>1.144422</td>\n",
              "      <td>0.807561</td>\n",
              "      <td>-0.413427</td>\n",
              "    </tr>\n",
              "  </tbody>\n",
              "</table>\n",
              "</div>\n",
              "      <button class=\"colab-df-convert\" onclick=\"convertToInteractive('df-e72335cf-a49b-4ad8-add6-f91cc82561b3')\"\n",
              "              title=\"Convert this dataframe to an interactive table.\"\n",
              "              style=\"display:none;\">\n",
              "        \n",
              "  <svg xmlns=\"http://www.w3.org/2000/svg\" height=\"24px\"viewBox=\"0 0 24 24\"\n",
              "       width=\"24px\">\n",
              "    <path d=\"M0 0h24v24H0V0z\" fill=\"none\"/>\n",
              "    <path d=\"M18.56 5.44l.94 2.06.94-2.06 2.06-.94-2.06-.94-.94-2.06-.94 2.06-2.06.94zm-11 1L8.5 8.5l.94-2.06 2.06-.94-2.06-.94L8.5 2.5l-.94 2.06-2.06.94zm10 10l.94 2.06.94-2.06 2.06-.94-2.06-.94-.94-2.06-.94 2.06-2.06.94z\"/><path d=\"M17.41 7.96l-1.37-1.37c-.4-.4-.92-.59-1.43-.59-.52 0-1.04.2-1.43.59L10.3 9.45l-7.72 7.72c-.78.78-.78 2.05 0 2.83L4 21.41c.39.39.9.59 1.41.59.51 0 1.02-.2 1.41-.59l7.78-7.78 2.81-2.81c.8-.78.8-2.07 0-2.86zM5.41 20L4 18.59l7.72-7.72 1.47 1.35L5.41 20z\"/>\n",
              "  </svg>\n",
              "      </button>\n",
              "      \n",
              "  <style>\n",
              "    .colab-df-container {\n",
              "      display:flex;\n",
              "      flex-wrap:wrap;\n",
              "      gap: 12px;\n",
              "    }\n",
              "\n",
              "    .colab-df-convert {\n",
              "      background-color: #E8F0FE;\n",
              "      border: none;\n",
              "      border-radius: 50%;\n",
              "      cursor: pointer;\n",
              "      display: none;\n",
              "      fill: #1967D2;\n",
              "      height: 32px;\n",
              "      padding: 0 0 0 0;\n",
              "      width: 32px;\n",
              "    }\n",
              "\n",
              "    .colab-df-convert:hover {\n",
              "      background-color: #E2EBFA;\n",
              "      box-shadow: 0px 1px 2px rgba(60, 64, 67, 0.3), 0px 1px 3px 1px rgba(60, 64, 67, 0.15);\n",
              "      fill: #174EA6;\n",
              "    }\n",
              "\n",
              "    [theme=dark] .colab-df-convert {\n",
              "      background-color: #3B4455;\n",
              "      fill: #D2E3FC;\n",
              "    }\n",
              "\n",
              "    [theme=dark] .colab-df-convert:hover {\n",
              "      background-color: #434B5C;\n",
              "      box-shadow: 0px 1px 3px 1px rgba(0, 0, 0, 0.15);\n",
              "      filter: drop-shadow(0px 1px 2px rgba(0, 0, 0, 0.3));\n",
              "      fill: #FFFFFF;\n",
              "    }\n",
              "  </style>\n",
              "\n",
              "      <script>\n",
              "        const buttonEl =\n",
              "          document.querySelector('#df-e72335cf-a49b-4ad8-add6-f91cc82561b3 button.colab-df-convert');\n",
              "        buttonEl.style.display =\n",
              "          google.colab.kernel.accessAllowed ? 'block' : 'none';\n",
              "\n",
              "        async function convertToInteractive(key) {\n",
              "          const element = document.querySelector('#df-e72335cf-a49b-4ad8-add6-f91cc82561b3');\n",
              "          const dataTable =\n",
              "            await google.colab.kernel.invokeFunction('convertToInteractive',\n",
              "                                                     [key], {});\n",
              "          if (!dataTable) return;\n",
              "\n",
              "          const docLinkHtml = 'Like what you see? Visit the ' +\n",
              "            '<a target=\"_blank\" href=https://colab.research.google.com/notebooks/data_table.ipynb>data table notebook</a>'\n",
              "            + ' to learn more about interactive tables.';\n",
              "          element.innerHTML = '';\n",
              "          dataTable['output_type'] = 'display_data';\n",
              "          await google.colab.output.renderOutput(dataTable, element);\n",
              "          const docLink = document.createElement('div');\n",
              "          docLink.innerHTML = docLinkHtml;\n",
              "          element.appendChild(docLink);\n",
              "        }\n",
              "      </script>\n",
              "    </div>\n",
              "  </div>\n",
              "  "
            ]
          },
          "metadata": {},
          "execution_count": 107
        }
      ],
      "source": [
        "df_base.sample(10)"
      ]
    }
  ]
}