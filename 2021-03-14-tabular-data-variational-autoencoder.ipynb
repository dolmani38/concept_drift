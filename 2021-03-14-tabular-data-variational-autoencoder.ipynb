{
  "metadata": {
    "language_info": {
      "codemirror_mode": {
        "name": "ipython",
        "version": 3
      },
      "file_extension": ".py",
      "mimetype": "text/x-python",
      "name": "python",
      "nbconvert_exporter": "python",
      "pygments_lexer": "ipython3",
      "version": "3.9.2-final"
    },
    "orig_nbformat": 2,
    "kernelspec": {
      "name": "python3",
      "display_name": "Python 3.9.2 64-bit ('deeplearning_venv': venv)",
      "metadata": {
        "interpreter": {
          "hash": "9139ca13fc640d8623238ac4ed44beace8a76f86a07bab6efe75c2506e18783d"
        }
      }
    },
    "colab": {
      "provenance": [],
      "gpuType": "T4",
      "include_colab_link": true
    },
    "accelerator": "GPU",
    "gpuClass": "standard"
  },
  "nbformat": 4,
  "nbformat_minor": 0,
  "cells": [
    {
      "cell_type": "markdown",
      "metadata": {
        "id": "view-in-github",
        "colab_type": "text"
      },
      "source": [
        "<a href=\"https://colab.research.google.com/github/dolmani38/concept_drift/blob/main/2021-03-14-tabular-data-variational-autoencoder.ipynb\" target=\"_parent\"><img src=\"https://colab.research.google.com/assets/colab-badge.svg\" alt=\"Open In Colab\"/></a>"
      ]
    },
    {
      "source": [
        "# Data Augmentation for tabular data"
      ],
      "cell_type": "markdown",
      "metadata": {
        "id": "cC08kd_89SAI"
      }
    },
    {
      "source": [
        "## How to create fake tabular data with a variational autoencoder to improve deep learning algorithms"
      ],
      "cell_type": "markdown",
      "metadata": {
        "id": "az9ckBin9SAN"
      }
    },
    {
      "source": [
        "To train deeplearning models the more data the better. When we're thinking of image data, the deeplearnig community thought about a lot of tricks how to enhance the model given a dataset of images. Meaning that by rotating, flipping, blurring etc. the image we can create more input data and also improve our model. \n",
        "\n",
        "However, when thinking about tabular data, only few of these techniques exist. In this blogpost I want to show you how to create a variational autoencoder and make use of data augmentation. I will create fake data, which is sampled from the learned distribution of the underlying data. "
      ],
      "cell_type": "markdown",
      "metadata": {
        "id": "Ue6wh5re9SAO"
      }
    },
    {
      "cell_type": "code",
      "execution_count": 1,
      "metadata": {
        "id": "motAEvps9SAP"
      },
      "outputs": [],
      "source": [
        "import torch\n",
        "import torch.nn as nn\n",
        "import torch.nn.functional as F\n",
        "from torch import nn, optim\n",
        "from torch.autograd import Variable\n",
        "\n",
        "import pandas as pd\n",
        "import numpy as np\n",
        "from sklearn import preprocessing\n",
        "from sklearn.model_selection import train_test_split"
      ]
    },
    {
      "cell_type": "code",
      "execution_count": 2,
      "metadata": {
        "id": "jTPBKuCG9SAQ",
        "outputId": "41aa149f-77fb-4baf-c3cb-c647479ee143",
        "colab": {
          "base_uri": "https://localhost:8080/"
        }
      },
      "outputs": [
        {
          "output_type": "execute_result",
          "data": {
            "text/plain": [
              "device(type='cuda')"
            ]
          },
          "metadata": {},
          "execution_count": 2
        }
      ],
      "source": [
        "device = torch.device('cuda' if torch.cuda.is_available() else 'cpu')\n",
        "device"
      ]
    },
    {
      "source": [
        "## Dataset Overview"
      ],
      "cell_type": "markdown",
      "metadata": {
        "id": "MEA2yf4d9SAT"
      }
    },
    {
      "cell_type": "code",
      "source": [
        "\n",
        "data_size = 40000\n",
        "cor = [1.5, 1.2, 0.9 , 0.7, 0.5]"
      ],
      "metadata": {
        "id": "dhbplyQI-bTB"
      },
      "execution_count": 3,
      "outputs": []
    },
    {
      "cell_type": "code",
      "source": [
        "y= (np.random.normal(0.5,0.5,100) > 0.5).astype(int)\n",
        "sum(y)"
      ],
      "metadata": {
        "id": "B9nMeZ_q-cAc",
        "outputId": "c1cd7eef-60da-489c-d32a-bed34b6bda82",
        "colab": {
          "base_uri": "https://localhost:8080/"
        }
      },
      "execution_count": 4,
      "outputs": [
        {
          "output_type": "execute_result",
          "data": {
            "text/plain": [
              "43"
            ]
          },
          "metadata": {},
          "execution_count": 4
        }
      ]
    },
    {
      "cell_type": "code",
      "source": [
        "import seaborn as sns\n",
        "sns.set()\n",
        "     \n",
        "#y= np.random.normal(1,2,data_size)\n",
        "y= (np.random.normal(0.5,0.5,data_size) > 0.5).astype(int)\n",
        "x = np.zeros((data_size,5))\n",
        "for ix,cor_ in enumerate(cor):\n",
        "    x[:,ix] = y + np.random.normal(1,cor_,data_size)\n",
        "    sns.scatterplot(x=x[:,ix],y=y)"
      ],
      "metadata": {
        "id": "HHhlF6My-fXl",
        "outputId": "1097b834-09b3-4792-a945-6545831a71f5",
        "colab": {
          "base_uri": "https://localhost:8080/",
          "height": 434
        }
      },
      "execution_count": 5,
      "outputs": [
        {
          "output_type": "display_data",
          "data": {
            "text/plain": [
              "<Figure size 640x480 with 1 Axes>"
            ],
            "image/png": "[encoded data removed]"
          },
          "metadata": {}
        }
      ]
    },
    {
      "cell_type": "code",
      "source": [
        "for i in range(400):\n",
        "    s = i*100\n",
        "    #x[s:s+100,3] = y[s:s+100] + np.random.normal(1,5-(i/100),100)    \n",
        "    x[s:s+100,4] = y[s:s+100] + np.random.normal(1,0.5+(i/100),100)\n",
        "    #x[s:s+100,5] = i\n",
        "sns.scatterplot(x=x[0:200,4],y=y[0:200])\n",
        "sns.scatterplot(x=x[39800:40000,4],y=y[39800:40000])"
      ],
      "metadata": {
        "id": "55NaleDo-ucz",
        "outputId": "b8d59866-f994-4536-d511-42945dd9c778",
        "colab": {
          "base_uri": "https://localhost:8080/",
          "height": 452
        }
      },
      "execution_count": 6,
      "outputs": [
        {
          "output_type": "execute_result",
          "data": {
            "text/plain": [
              "<Axes: >"
            ]
          },
          "metadata": {},
          "execution_count": 6
        },
        {
          "output_type": "display_data",
          "data": {
            "text/plain": [
              "<Figure size 640x480 with 1 Axes>"
            ],
            "image/png": "[encoded data removed]"
          },
          "metadata": {}
        }
      ]
    },
    {
      "cell_type": "code",
      "source": [
        "\n",
        "columns=['x0','x1','x2','x3','z0']\n",
        "df_base = pd.DataFrame(x,columns=columns)"
      ],
      "metadata": {
        "id": "d8yG94Ak-y3m"
      },
      "execution_count": 7,
      "outputs": []
    },
    {
      "cell_type": "code",
      "source": [
        "df_base"
      ],
      "metadata": {
        "id": "63leEuT1-6ye",
        "outputId": "883457a9-6de8-442c-eb19-054bf3badc47",
        "colab": {
          "base_uri": "https://localhost:8080/",
          "height": 423
        }
      },
      "execution_count": 8,
      "outputs": [
        {
          "output_type": "execute_result",
          "data": {
            "text/plain": [
              "             x0        x1        x2        x3        z0\n",
              "0      0.719310  2.860236  1.799608  2.045636  1.583382\n",
              "1     -1.165433  4.037065  2.792890  1.763522  1.277861\n",
              "2      1.891618  1.548392 -0.006569  1.024710  0.322010\n",
              "3      0.221565  1.218263  1.084272  0.670920  0.894882\n",
              "4     -0.552163  0.372689  1.090111 -0.240047  0.696330\n",
              "...         ...       ...       ...       ...       ...\n",
              "39995  4.562870  2.898997  2.509578  1.837898  2.520072\n",
              "39996  1.061400 -0.398102  1.026086  2.443793 -6.339871\n",
              "39997  3.350382  2.304473  1.505832  3.043521 -0.353732\n",
              "39998  0.999688  1.661763 -0.501777  1.547128 -4.759444\n",
              "39999  3.932340  1.355613  1.625796  1.718456  6.058215\n",
              "\n",
              "[40000 rows x 5 columns]"
            ],
            "text/html": [
              "\n",
              "  <div id=\"df-a6a2e52e-60b2-410d-baa5-79e8073ccd4b\">\n",
              "    <div class=\"colab-df-container\">\n",
              "      <div>\n",
              "<style scoped>\n",
              "    .dataframe tbody tr th:only-of-type {\n",
              "        vertical-align: middle;\n",
              "    }\n",
              "\n",
              "    .dataframe tbody tr th {\n",
              "        vertical-align: top;\n",
              "    }\n",
              "\n",
              "    .dataframe thead th {\n",
              "        text-align: right;\n",
              "    }\n",
              "</style>\n",
              "<table border=\"1\" class=\"dataframe\">\n",
              "  <thead>\n",
              "    <tr style=\"text-align: right;\">\n",
              "      <th></th>\n",
              "      <th>x0</th>\n",
              "      <th>x1</th>\n",
              "      <th>x2</th>\n",
              "      <th>x3</th>\n",
              "      <th>z0</th>\n",
              "    </tr>\n",
              "  </thead>\n",
              "  <tbody>\n",
              "    <tr>\n",
              "      <th>0</th>\n",
              "      <td>0.719310</td>\n",
              "      <td>2.860236</td>\n",
              "      <td>1.799608</td>\n",
              "      <td>2.045636</td>\n",
              "      <td>1.583382</td>\n",
              "    </tr>\n",
              "    <tr>\n",
              "      <th>1</th>\n",
              "      <td>-1.165433</td>\n",
              "      <td>4.037065</td>\n",
              "      <td>2.792890</td>\n",
              "      <td>1.763522</td>\n",
              "      <td>1.277861</td>\n",
              "    </tr>\n",
              "    <tr>\n",
              "      <th>2</th>\n",
              "      <td>1.891618</td>\n",
              "      <td>1.548392</td>\n",
              "      <td>-0.006569</td>\n",
              "      <td>1.024710</td>\n",
              "      <td>0.322010</td>\n",
              "    </tr>\n",
              "    <tr>\n",
              "      <th>3</th>\n",
              "      <td>0.221565</td>\n",
              "      <td>1.218263</td>\n",
              "      <td>1.084272</td>\n",
              "      <td>0.670920</td>\n",
              "      <td>0.894882</td>\n",
              "    </tr>\n",
              "    <tr>\n",
              "      <th>4</th>\n",
              "      <td>-0.552163</td>\n",
              "      <td>0.372689</td>\n",
              "      <td>1.090111</td>\n",
              "      <td>-0.240047</td>\n",
              "      <td>0.696330</td>\n",
              "    </tr>\n",
              "    <tr>\n",
              "      <th>...</th>\n",
              "      <td>...</td>\n",
              "      <td>...</td>\n",
              "      <td>...</td>\n",
              "      <td>...</td>\n",
              "      <td>...</td>\n",
              "    </tr>\n",
              "    <tr>\n",
              "      <th>39995</th>\n",
              "      <td>4.562870</td>\n",
              "      <td>2.898997</td>\n",
              "      <td>2.509578</td>\n",
              "      <td>1.837898</td>\n",
              "      <td>2.520072</td>\n",
              "    </tr>\n",
              "    <tr>\n",
              "      <th>39996</th>\n",
              "      <td>1.061400</td>\n",
              "      <td>-0.398102</td>\n",
              "      <td>1.026086</td>\n",
              "      <td>2.443793</td>\n",
              "      <td>-6.339871</td>\n",
              "    </tr>\n",
              "    <tr>\n",
              "      <th>39997</th>\n",
              "      <td>3.350382</td>\n",
              "      <td>2.304473</td>\n",
              "      <td>1.505832</td>\n",
              "      <td>3.043521</td>\n",
              "      <td>-0.353732</td>\n",
              "    </tr>\n",
              "    <tr>\n",
              "      <th>39998</th>\n",
              "      <td>0.999688</td>\n",
              "      <td>1.661763</td>\n",
              "      <td>-0.501777</td>\n",
              "      <td>1.547128</td>\n",
              "      <td>-4.759444</td>\n",
              "    </tr>\n",
              "    <tr>\n",
              "      <th>39999</th>\n",
              "      <td>3.932340</td>\n",
              "      <td>1.355613</td>\n",
              "      <td>1.625796</td>\n",
              "      <td>1.718456</td>\n",
              "      <td>6.058215</td>\n",
              "    </tr>\n",
              "  </tbody>\n",
              "</table>\n",
              "<p>40000 rows × 5 columns</p>\n",
              "</div>\n",
              "      <button class=\"colab-df-convert\" onclick=\"convertToInteractive('df-a6a2e52e-60b2-410d-baa5-79e8073ccd4b')\"\n",
              "              title=\"Convert this dataframe to an interactive table.\"\n",
              "              style=\"display:none;\">\n",
              "        \n",
              "  <svg xmlns=\"http://www.w3.org/2000/svg\" height=\"24px\"viewBox=\"0 0 24 24\"\n",
              "       width=\"24px\">\n",
              "    <path d=\"M0 0h24v24H0V0z\" fill=\"none\"/>\n",
              "    <path d=\"M18.56 5.44l.94 2.06.94-2.06 2.06-.94-2.06-.94-.94-2.06-.94 2.06-2.06.94zm-11 1L8.5 8.5l.94-2.06 2.06-.94-2.06-.94L8.5 2.5l-.94 2.06-2.06.94zm10 10l.94 2.06.94-2.06 2.06-.94-2.06-.94-.94-2.06-.94 2.06-2.06.94z\"/><path d=\"M17.41 7.96l-1.37-1.37c-.4-.4-.92-.59-1.43-.59-.52 0-1.04.2-1.43.59L10.3 9.45l-7.72 7.72c-.78.78-.78 2.05 0 2.83L4 21.41c.39.39.9.59 1.41.59.51 0 1.02-.2 1.41-.59l7.78-7.78 2.81-2.81c.8-.78.8-2.07 0-2.86zM5.41 20L4 18.59l7.72-7.72 1.47 1.35L5.41 20z\"/>\n",
              "  </svg>\n",
              "      </button>\n",
              "      \n",
              "  <style>\n",
              "    .colab-df-container {\n",
              "      display:flex;\n",
              "      flex-wrap:wrap;\n",
              "      gap: 12px;\n",
              "    }\n",
              "\n",
              "    .colab-df-convert {\n",
              "      background-color: #E8F0FE;\n",
              "      border: none;\n",
              "      border-radius: 50%;\n",
              "      cursor: pointer;\n",
              "      display: none;\n",
              "      fill: #1967D2;\n",
              "      height: 32px;\n",
              "      padding: 0 0 0 0;\n",
              "      width: 32px;\n",
              "    }\n",
              "\n",
              "    .colab-df-convert:hover {\n",
              "      background-color: #E2EBFA;\n",
              "      box-shadow: 0px 1px 2px rgba(60, 64, 67, 0.3), 0px 1px 3px 1px rgba(60, 64, 67, 0.15);\n",
              "      fill: #174EA6;\n",
              "    }\n",
              "\n",
              "    [theme=dark] .colab-df-convert {\n",
              "      background-color: #3B4455;\n",
              "      fill: #D2E3FC;\n",
              "    }\n",
              "\n",
              "    [theme=dark] .colab-df-convert:hover {\n",
              "      background-color: #434B5C;\n",
              "      box-shadow: 0px 1px 3px 1px rgba(0, 0, 0, 0.15);\n",
              "      filter: drop-shadow(0px 1px 2px rgba(0, 0, 0, 0.3));\n",
              "      fill: #FFFFFF;\n",
              "    }\n",
              "  </style>\n",
              "\n",
              "      <script>\n",
              "        const buttonEl =\n",
              "          document.querySelector('#df-a6a2e52e-60b2-410d-baa5-79e8073ccd4b button.colab-df-convert');\n",
              "        buttonEl.style.display =\n",
              "          google.colab.kernel.accessAllowed ? 'block' : 'none';\n",
              "\n",
              "        async function convertToInteractive(key) {\n",
              "          const element = document.querySelector('#df-a6a2e52e-60b2-410d-baa5-79e8073ccd4b');\n",
              "          const dataTable =\n",
              "            await google.colab.kernel.invokeFunction('convertToInteractive',\n",
              "                                                     [key], {});\n",
              "          if (!dataTable) return;\n",
              "\n",
              "          const docLinkHtml = 'Like what you see? Visit the ' +\n",
              "            '<a target=\"_blank\" href=https://colab.research.google.com/notebooks/data_table.ipynb>data table notebook</a>'\n",
              "            + ' to learn more about interactive tables.';\n",
              "          element.innerHTML = '';\n",
              "          dataTable['output_type'] = 'display_data';\n",
              "          await google.colab.output.renderOutput(dataTable, element);\n",
              "          const docLink = document.createElement('div');\n",
              "          docLink.innerHTML = docLinkHtml;\n",
              "          element.appendChild(docLink);\n",
              "        }\n",
              "      </script>\n",
              "    </div>\n",
              "  </div>\n",
              "  "
            ]
          },
          "metadata": {},
          "execution_count": 8
        }
      ]
    },
    {
      "cell_type": "code",
      "execution_count": 9,
      "metadata": {
        "id": "6uKjCWm69SAU"
      },
      "outputs": [],
      "source": [
        "cols = df_base.columns"
      ]
    },
    {
      "source": [
        "## Build Data Loader"
      ],
      "cell_type": "markdown",
      "metadata": {
        "id": "32aYiNIT9SAV"
      }
    },
    {
      "cell_type": "code",
      "execution_count": 10,
      "metadata": {
        "id": "yABwtalt9SAW"
      },
      "outputs": [],
      "source": [
        "def load_and_standardize_data(data):\n",
        "    # read in from csv\n",
        "    df = data #pd.read_csv(path, sep=',')\n",
        "    # replace nan with -99\n",
        "    df = df.fillna(-99)\n",
        "    df = df.values.reshape(-1, df.shape[1]).astype('float32')\n",
        "    # randomly split\n",
        "    X_train, X_test = train_test_split(df, test_size=0.3, random_state=42)\n",
        "    # standardize values\n",
        "    scaler = preprocessing.StandardScaler()\n",
        "    X_train = scaler.fit_transform(X_train)\n",
        "    X_test = scaler.transform(X_test)   \n",
        "    return X_train, X_test, scaler"
      ]
    },
    {
      "cell_type": "code",
      "execution_count": 11,
      "metadata": {
        "id": "cLYngyW-9SAY"
      },
      "outputs": [],
      "source": [
        "from torch.utils.data import Dataset, DataLoader\n",
        "class DataBuilder(Dataset):\n",
        "    def __init__(self, path, train=True):\n",
        "        self.X_train, self.X_test, self.standardizer = load_and_standardize_data(df_base)\n",
        "        if train:\n",
        "            self.x = torch.from_numpy(self.X_train)\n",
        "            self.len=self.x.shape[0]\n",
        "        else:\n",
        "            self.x = torch.from_numpy(self.X_test)\n",
        "            self.len=self.x.shape[0]\n",
        "        del self.X_train\n",
        "        del self.X_test \n",
        "    def __getitem__(self,index):      \n",
        "        return self.x[index]\n",
        "    def __len__(self):\n",
        "        return self.len"
      ]
    },
    {
      "cell_type": "code",
      "execution_count": 12,
      "metadata": {
        "id": "iI8HhO6t9SAY"
      },
      "outputs": [],
      "source": [
        "traindata_set=DataBuilder(df_base, train=True)\n",
        "testdata_set=DataBuilder(df_base, train=False)\n",
        "\n",
        "trainloader=DataLoader(dataset=traindata_set,batch_size=1024)\n",
        "testloader=DataLoader(dataset=testdata_set,batch_size=1024)"
      ]
    },
    {
      "cell_type": "code",
      "execution_count": 13,
      "metadata": {
        "id": "FTA700gk9SAZ",
        "outputId": "ff87eaa2-66b1-4c72-f4fc-4e6fd1686b4d",
        "colab": {
          "base_uri": "https://localhost:8080/"
        }
      },
      "outputs": [
        {
          "output_type": "execute_result",
          "data": {
            "text/plain": [
              "(torch.Tensor, torch.Tensor)"
            ]
          },
          "metadata": {},
          "execution_count": 13
        }
      ],
      "source": [
        "type(trainloader.dataset.x), type(testloader.dataset.x)"
      ]
    },
    {
      "cell_type": "code",
      "execution_count": 14,
      "metadata": {
        "id": "dkG2kODT9SAZ",
        "outputId": "3e8865ee-37a5-4b04-c54e-a4286ffbf6f7",
        "colab": {
          "base_uri": "https://localhost:8080/"
        }
      },
      "outputs": [
        {
          "output_type": "execute_result",
          "data": {
            "text/plain": [
              "(torch.Size([28000, 5]), torch.Size([12000, 5]))"
            ]
          },
          "metadata": {},
          "execution_count": 14
        }
      ],
      "source": [
        "trainloader.dataset.x.shape, testloader.dataset.x.shape"
      ]
    },
    {
      "cell_type": "code",
      "execution_count": 15,
      "metadata": {
        "id": "SFqp7Vjk9SAa",
        "outputId": "2d82b78b-e374-4f3b-e47f-71dce0cc97cf",
        "colab": {
          "base_uri": "https://localhost:8080/"
        }
      },
      "outputs": [
        {
          "output_type": "execute_result",
          "data": {
            "text/plain": [
              "tensor([[ 0.9800,  0.6530, -0.7547,  1.0818,  1.1437],\n",
              "        [-0.2112,  0.3558,  0.0738, -0.3819, -0.1064],\n",
              "        [ 1.2033,  1.9699,  0.5207,  0.7620, -0.1077],\n",
              "        ...,\n",
              "        [-0.1609, -1.3908, -0.2485, -1.5751, -0.7159],\n",
              "        [ 0.4435, -1.2266, -0.2502,  0.4881,  0.0702],\n",
              "        [ 0.0446,  0.1743, -0.7792,  0.0949,  0.9700]])"
            ]
          },
          "metadata": {},
          "execution_count": 15
        }
      ],
      "source": [
        "trainloader.dataset.x"
      ]
    },
    {
      "source": [
        "## Build model"
      ],
      "cell_type": "markdown",
      "metadata": {
        "id": "2-vutGg_9SAa"
      }
    },
    {
      "cell_type": "code",
      "execution_count": 16,
      "metadata": {
        "id": "bU2fP0b59SAa"
      },
      "outputs": [],
      "source": [
        "class Autoencoder(nn.Module):\n",
        "    def __init__(self,D_in,H=50,H2=12,latent_dim=3):\n",
        "        \n",
        "        #Encoder\n",
        "        super(Autoencoder,self).__init__()\n",
        "        self.linear1=nn.Linear(D_in,H)\n",
        "        self.lin_bn1 = nn.BatchNorm1d(num_features=H)\n",
        "        self.linear2=nn.Linear(H,H2)\n",
        "        self.lin_bn2 = nn.BatchNorm1d(num_features=H2)\n",
        "        self.linear3=nn.Linear(H2,H2)\n",
        "        self.lin_bn3 = nn.BatchNorm1d(num_features=H2)\n",
        "        \n",
        "        # Latent vectors mu and sigma\n",
        "        self.fc1 = nn.Linear(H2, latent_dim)\n",
        "        self.bn1 = nn.BatchNorm1d(num_features=latent_dim)\n",
        "        self.fc21 = nn.Linear(latent_dim, latent_dim)\n",
        "        self.fc22 = nn.Linear(latent_dim, latent_dim)\n",
        "\n",
        "        # Sampling vector\n",
        "        self.fc3 = nn.Linear(latent_dim, latent_dim)\n",
        "        self.fc_bn3 = nn.BatchNorm1d(latent_dim)\n",
        "        self.fc4 = nn.Linear(latent_dim, H2)\n",
        "        self.fc_bn4 = nn.BatchNorm1d(H2)\n",
        "        \n",
        "        # Decoder\n",
        "        self.linear4=nn.Linear(H2,H2)\n",
        "        self.lin_bn4 = nn.BatchNorm1d(num_features=H2)\n",
        "        self.linear5=nn.Linear(H2,H)\n",
        "        self.lin_bn5 = nn.BatchNorm1d(num_features=H)\n",
        "        self.linear6=nn.Linear(H,D_in)\n",
        "        self.lin_bn6 = nn.BatchNorm1d(num_features=D_in)\n",
        "        \n",
        "        self.relu = nn.ReLU()\n",
        "        \n",
        "    def encode(self, x):\n",
        "        lin1 = self.relu(self.lin_bn1(self.linear1(x)))\n",
        "        lin2 = self.relu(self.lin_bn2(self.linear2(lin1)))\n",
        "        lin3 = self.relu(self.lin_bn3(self.linear3(lin2)))\n",
        "\n",
        "        fc1 = F.relu(self.bn1(self.fc1(lin3)))\n",
        "\n",
        "        r1 = self.fc21(fc1)\n",
        "        r2 = self.fc22(fc1)\n",
        "        \n",
        "        return r1, r2\n",
        "    \n",
        "    def reparameterize(self, mu, logvar):\n",
        "        if self.training:\n",
        "            std = logvar.mul(0.5).exp_()\n",
        "            eps = Variable(std.data.new(std.size()).normal_())\n",
        "            return eps.mul(std).add_(mu)\n",
        "        else:\n",
        "            return mu\n",
        "        \n",
        "    def decode(self, z):\n",
        "        fc3 = self.relu(self.fc_bn3(self.fc3(z)))\n",
        "        fc4 = self.relu(self.fc_bn4(self.fc4(fc3)))\n",
        "\n",
        "        lin4 = self.relu(self.lin_bn4(self.linear4(fc4)))\n",
        "        lin5 = self.relu(self.lin_bn5(self.linear5(lin4)))\n",
        "        return self.lin_bn6(self.linear6(lin5))\n",
        "\n",
        "\n",
        "        \n",
        "    def forward(self, x):\n",
        "        mu, logvar = self.encode(x)\n",
        "        z = self.reparameterize(mu, logvar)\n",
        "        return self.decode(z), mu, logvar"
      ]
    },
    {
      "cell_type": "code",
      "execution_count": 17,
      "metadata": {
        "id": "XhExhANE9SAb"
      },
      "outputs": [],
      "source": [
        "class customLoss(nn.Module):\n",
        "    def __init__(self):\n",
        "        super(customLoss, self).__init__()\n",
        "        self.mse_loss = nn.MSELoss(reduction=\"sum\")\n",
        "    \n",
        "    def forward(self, x_recon, x, mu, logvar):\n",
        "        loss_MSE = self.mse_loss(x_recon, x)\n",
        "        loss_KLD = -0.5 * torch.sum(1 + logvar - mu.pow(2) - logvar.exp())\n",
        "\n",
        "        return loss_MSE + loss_KLD"
      ]
    },
    {
      "source": [
        "If you want to better understand the variational autoencoder technique, look [here](https://towardsdatascience.com/understanding-variational-autoencoders-vaes-f70510919f73).\n",
        "\n",
        "For better understanding this AutoencoderClass, let me go briefly through it. This is a variational autoencoder (VAE) with two hidden layers, which (by default, but you can change this) 50 and then 12 activations. The latent factors are set to 3 (you can change that, too). So we're first exploding our initially 14 variables to 50 activations, then condensing it to 12, then to 3. From these 3 latent factors we then sample to recreate the original 14 values. We do that by inflating the 3 latent factors back to 12, then 50 and finally 14 activations (we decode the latent factors so to speak). With this reconstructed batch (recon_batch) we compare it with the original batch, computate our loss and adjust the weights and biases via our gradient (our optimizer here will be Adam). "
      ],
      "cell_type": "markdown",
      "metadata": {
        "id": "CCAQyyp89SAb"
      }
    },
    {
      "cell_type": "code",
      "execution_count": 18,
      "metadata": {
        "id": "Gdl38w2i9SAb"
      },
      "outputs": [],
      "source": [
        "D_in = trainloader.dataset.x.shape[1]\n",
        "H = 50\n",
        "H2 = 12\n",
        "model = Autoencoder(D_in, H, H2).to(device)\n",
        "optimizer = optim.Adam(model.parameters(), lr=1e-3)"
      ]
    },
    {
      "cell_type": "code",
      "execution_count": 19,
      "metadata": {
        "id": "d96ThQ7J9SAb"
      },
      "outputs": [],
      "source": [
        "loss_mse = customLoss()"
      ]
    },
    {
      "source": [
        "## Train Model"
      ],
      "cell_type": "markdown",
      "metadata": {
        "id": "xQwlLmY39SAc"
      }
    },
    {
      "cell_type": "code",
      "execution_count": 20,
      "metadata": {
        "id": "jiUSamsS9SAc"
      },
      "outputs": [],
      "source": [
        "epochs = 1500\n",
        "log_interval = 50\n",
        "val_losses = []\n",
        "train_losses = []\n",
        "test_losses = []"
      ]
    },
    {
      "cell_type": "code",
      "execution_count": 21,
      "metadata": {
        "id": "-MKqifS89SAc"
      },
      "outputs": [],
      "source": [
        "def train(epoch):\n",
        "    model.train()\n",
        "    train_loss = 0\n",
        "    for batch_idx, data in enumerate(trainloader):\n",
        "        data = data.to(device)\n",
        "        optimizer.zero_grad()\n",
        "        recon_batch, mu, logvar = model(data)\n",
        "        loss = loss_mse(recon_batch, data, mu, logvar)\n",
        "        loss.backward()\n",
        "        train_loss += loss.item()\n",
        "        optimizer.step()\n",
        "    if epoch % 200 == 0:        \n",
        "        print('====> Epoch: {} Average training loss: {:.4f}'.format(\n",
        "            epoch, train_loss / len(trainloader.dataset)))\n",
        "        train_losses.append(train_loss / len(trainloader.dataset))"
      ]
    },
    {
      "cell_type": "code",
      "execution_count": 22,
      "metadata": {
        "id": "oMBQ4_q99SAd"
      },
      "outputs": [],
      "source": [
        "def test(epoch):\n",
        "    with torch.no_grad():\n",
        "        test_loss = 0\n",
        "        for batch_idx, data in enumerate(testloader):\n",
        "            data = data.to(device)\n",
        "            optimizer.zero_grad()\n",
        "            recon_batch, mu, logvar = model(data)\n",
        "            loss = loss_mse(recon_batch, data, mu, logvar)\n",
        "            test_loss += loss.item()\n",
        "            if epoch % 200 == 0:        \n",
        "                print('====> Epoch: {} Average test loss: {:.4f}'.format(\n",
        "                    epoch, test_loss / len(testloader.dataset)))\n",
        "            test_losses.append(test_loss / len(testloader.dataset))"
      ]
    },
    {
      "cell_type": "code",
      "execution_count": 23,
      "metadata": {
        "id": "sNJeQdHb9SAd",
        "outputId": "4687f564-a280-48e5-86ad-f50c9fbce1f3",
        "colab": {
          "base_uri": "https://localhost:8080/"
        }
      },
      "outputs": [
        {
          "output_type": "stream",
          "name": "stdout",
          "text": [
            "====> Epoch: 200 Average training loss: 4.3265\n",
            "====> Epoch: 200 Average test loss: 0.3759\n",
            "====> Epoch: 200 Average test loss: 0.7417\n",
            "====> Epoch: 200 Average test loss: 1.1059\n",
            "====> Epoch: 200 Average test loss: 1.4860\n",
            "====> Epoch: 200 Average test loss: 1.8414\n",
            "====> Epoch: 200 Average test loss: 2.1986\n",
            "====> Epoch: 200 Average test loss: 2.5687\n",
            "====> Epoch: 200 Average test loss: 2.9340\n",
            "====> Epoch: 200 Average test loss: 3.3155\n",
            "====> Epoch: 200 Average test loss: 3.6869\n",
            "====> Epoch: 200 Average test loss: 4.0640\n",
            "====> Epoch: 200 Average test loss: 4.3332\n",
            "====> Epoch: 400 Average training loss: 4.3033\n",
            "====> Epoch: 400 Average test loss: 0.3717\n",
            "====> Epoch: 400 Average test loss: 0.7370\n",
            "====> Epoch: 400 Average test loss: 1.1024\n",
            "====> Epoch: 400 Average test loss: 1.4762\n",
            "====> Epoch: 400 Average test loss: 1.8280\n",
            "====> Epoch: 400 Average test loss: 2.1740\n",
            "====> Epoch: 400 Average test loss: 2.5385\n",
            "====> Epoch: 400 Average test loss: 2.8992\n",
            "====> Epoch: 400 Average test loss: 3.2825\n",
            "====> Epoch: 400 Average test loss: 3.6567\n",
            "====> Epoch: 400 Average test loss: 4.0336\n",
            "====> Epoch: 400 Average test loss: 4.2967\n",
            "====> Epoch: 600 Average training loss: 4.2960\n",
            "====> Epoch: 600 Average test loss: 0.3746\n",
            "====> Epoch: 600 Average test loss: 0.7377\n",
            "====> Epoch: 600 Average test loss: 1.1052\n",
            "====> Epoch: 600 Average test loss: 1.4798\n",
            "====> Epoch: 600 Average test loss: 1.8282\n",
            "====> Epoch: 600 Average test loss: 2.1771\n",
            "====> Epoch: 600 Average test loss: 2.5388\n",
            "====> Epoch: 600 Average test loss: 2.8969\n",
            "====> Epoch: 600 Average test loss: 3.2807\n",
            "====> Epoch: 600 Average test loss: 3.6439\n",
            "====> Epoch: 600 Average test loss: 4.0162\n",
            "====> Epoch: 600 Average test loss: 4.2839\n",
            "====> Epoch: 800 Average training loss: 4.2688\n",
            "====> Epoch: 800 Average test loss: 0.3732\n",
            "====> Epoch: 800 Average test loss: 0.7358\n",
            "====> Epoch: 800 Average test loss: 1.1034\n",
            "====> Epoch: 800 Average test loss: 1.4760\n",
            "====> Epoch: 800 Average test loss: 1.8320\n",
            "====> Epoch: 800 Average test loss: 2.1740\n",
            "====> Epoch: 800 Average test loss: 2.5294\n",
            "====> Epoch: 800 Average test loss: 2.8933\n",
            "====> Epoch: 800 Average test loss: 3.2698\n",
            "====> Epoch: 800 Average test loss: 3.6366\n",
            "====> Epoch: 800 Average test loss: 4.0071\n",
            "====> Epoch: 800 Average test loss: 4.2727\n",
            "====> Epoch: 1000 Average training loss: 4.2702\n",
            "====> Epoch: 1000 Average test loss: 0.3710\n",
            "====> Epoch: 1000 Average test loss: 0.7305\n",
            "====> Epoch: 1000 Average test loss: 1.0903\n",
            "====> Epoch: 1000 Average test loss: 1.4580\n",
            "====> Epoch: 1000 Average test loss: 1.8104\n",
            "====> Epoch: 1000 Average test loss: 2.1568\n",
            "====> Epoch: 1000 Average test loss: 2.5209\n",
            "====> Epoch: 1000 Average test loss: 2.8844\n",
            "====> Epoch: 1000 Average test loss: 3.2600\n",
            "====> Epoch: 1000 Average test loss: 3.6200\n",
            "====> Epoch: 1000 Average test loss: 3.9933\n",
            "====> Epoch: 1000 Average test loss: 4.2586\n",
            "====> Epoch: 1200 Average training loss: 4.2651\n",
            "====> Epoch: 1200 Average test loss: 0.3703\n",
            "====> Epoch: 1200 Average test loss: 0.7338\n",
            "====> Epoch: 1200 Average test loss: 1.0955\n",
            "====> Epoch: 1200 Average test loss: 1.4670\n",
            "====> Epoch: 1200 Average test loss: 1.8209\n",
            "====> Epoch: 1200 Average test loss: 2.1638\n",
            "====> Epoch: 1200 Average test loss: 2.5249\n",
            "====> Epoch: 1200 Average test loss: 2.8878\n",
            "====> Epoch: 1200 Average test loss: 3.2643\n",
            "====> Epoch: 1200 Average test loss: 3.6281\n",
            "====> Epoch: 1200 Average test loss: 3.9992\n",
            "====> Epoch: 1200 Average test loss: 4.2616\n",
            "====> Epoch: 1400 Average training loss: 4.2593\n",
            "====> Epoch: 1400 Average test loss: 0.3747\n",
            "====> Epoch: 1400 Average test loss: 0.7372\n",
            "====> Epoch: 1400 Average test loss: 1.0996\n",
            "====> Epoch: 1400 Average test loss: 1.4691\n",
            "====> Epoch: 1400 Average test loss: 1.8231\n",
            "====> Epoch: 1400 Average test loss: 2.1686\n",
            "====> Epoch: 1400 Average test loss: 2.5279\n",
            "====> Epoch: 1400 Average test loss: 2.8870\n",
            "====> Epoch: 1400 Average test loss: 3.2615\n",
            "====> Epoch: 1400 Average test loss: 3.6254\n",
            "====> Epoch: 1400 Average test loss: 3.9988\n",
            "====> Epoch: 1400 Average test loss: 4.2604\n"
          ]
        }
      ],
      "source": [
        "for epoch in range(1, epochs + 1):\n",
        "    train(epoch)\n",
        "    test(epoch)"
      ]
    },
    {
      "source": [
        "We we're able to reduce the training and test loss but quite a bit, let's have a look at how the fake results actually look like vs the real results:"
      ],
      "cell_type": "markdown",
      "metadata": {
        "id": "ei1XnA_o9SAd"
      }
    },
    {
      "cell_type": "code",
      "execution_count": 24,
      "metadata": {
        "id": "C-i3Y1Ir9SAd"
      },
      "outputs": [],
      "source": [
        "with torch.no_grad():\n",
        "    for batch_idx, data in enumerate(testloader):\n",
        "        data = data.to(device)\n",
        "        optimizer.zero_grad()\n",
        "        recon_batch, mu, logvar = model(data)"
      ]
    },
    {
      "cell_type": "code",
      "execution_count": 26,
      "metadata": {
        "id": "fhz7twZt9SAe",
        "outputId": "7791c486-f30b-4367-aa11-ddcfb8fbd414",
        "colab": {
          "base_uri": "https://localhost:8080/",
          "height": 340
        }
      },
      "outputs": [
        {
          "output_type": "error",
          "ename": "ValueError",
          "evalue": "ignored",
          "traceback": [
            "\u001b[0;31m---------------------------------------------------------------------------\u001b[0m",
            "\u001b[0;31mValueError\u001b[0m                                Traceback (most recent call last)",
            "\u001b[0;32m<ipython-input-26-ef41627d7c48>\u001b[0m in \u001b[0;36m<cell line: 2>\u001b[0;34m()\u001b[0m\n\u001b[1;32m      1\u001b[0m \u001b[0mscaler\u001b[0m \u001b[0;34m=\u001b[0m \u001b[0mtrainloader\u001b[0m\u001b[0;34m.\u001b[0m\u001b[0mdataset\u001b[0m\u001b[0;34m.\u001b[0m\u001b[0mstandardizer\u001b[0m\u001b[0;34m\u001b[0m\u001b[0;34m\u001b[0m\u001b[0m\n\u001b[0;32m----> 2\u001b[0;31m \u001b[0mrecon_row\u001b[0m \u001b[0;34m=\u001b[0m \u001b[0mscaler\u001b[0m\u001b[0;34m.\u001b[0m\u001b[0minverse_transform\u001b[0m\u001b[0;34m(\u001b[0m\u001b[0mrecon_batch\u001b[0m\u001b[0;34m[\u001b[0m\u001b[0;36m0\u001b[0m\u001b[0;34m]\u001b[0m\u001b[0;34m.\u001b[0m\u001b[0mcpu\u001b[0m\u001b[0;34m(\u001b[0m\u001b[0;34m)\u001b[0m\u001b[0;34m.\u001b[0m\u001b[0mnumpy\u001b[0m\u001b[0;34m(\u001b[0m\u001b[0;34m)\u001b[0m\u001b[0;34m.\u001b[0m\u001b[0mreshape\u001b[0m\u001b[0;34m(\u001b[0m\u001b[0;34m-\u001b[0m\u001b[0;36m1\u001b[0m\u001b[0;34m,\u001b[0m\u001b[0;36m1\u001b[0m\u001b[0;34m)\u001b[0m\u001b[0;34m)\u001b[0m\u001b[0;34m\u001b[0m\u001b[0;34m\u001b[0m\u001b[0m\n\u001b[0m\u001b[1;32m      3\u001b[0m \u001b[0mreal_row\u001b[0m \u001b[0;34m=\u001b[0m \u001b[0mscaler\u001b[0m\u001b[0;34m.\u001b[0m\u001b[0minverse_transform\u001b[0m\u001b[0;34m(\u001b[0m\u001b[0mtestloader\u001b[0m\u001b[0;34m.\u001b[0m\u001b[0mdataset\u001b[0m\u001b[0;34m.\u001b[0m\u001b[0mx\u001b[0m\u001b[0;34m[\u001b[0m\u001b[0;36m0\u001b[0m\u001b[0;34m]\u001b[0m\u001b[0;34m.\u001b[0m\u001b[0mcpu\u001b[0m\u001b[0;34m(\u001b[0m\u001b[0;34m)\u001b[0m\u001b[0;34m.\u001b[0m\u001b[0mnumpy\u001b[0m\u001b[0;34m(\u001b[0m\u001b[0;34m)\u001b[0m\u001b[0;34m.\u001b[0m\u001b[0mreshape\u001b[0m\u001b[0;34m(\u001b[0m\u001b[0;34m-\u001b[0m\u001b[0;36m1\u001b[0m\u001b[0;34m,\u001b[0m\u001b[0;36m1\u001b[0m\u001b[0;34m)\u001b[0m\u001b[0;34m)\u001b[0m\u001b[0;34m\u001b[0m\u001b[0;34m\u001b[0m\u001b[0m\n",
            "\u001b[0;32m/usr/local/lib/python3.10/dist-packages/sklearn/preprocessing/_data.py\u001b[0m in \u001b[0;36minverse_transform\u001b[0;34m(self, X, copy)\u001b[0m\n\u001b[1;32m   1050\u001b[0m         \u001b[0;32melse\u001b[0m\u001b[0;34m:\u001b[0m\u001b[0;34m\u001b[0m\u001b[0;34m\u001b[0m\u001b[0m\n\u001b[1;32m   1051\u001b[0m             \u001b[0;32mif\u001b[0m \u001b[0mself\u001b[0m\u001b[0;34m.\u001b[0m\u001b[0mwith_std\u001b[0m\u001b[0;34m:\u001b[0m\u001b[0;34m\u001b[0m\u001b[0;34m\u001b[0m\u001b[0m\n\u001b[0;32m-> 1052\u001b[0;31m                 \u001b[0mX\u001b[0m \u001b[0;34m*=\u001b[0m \u001b[0mself\u001b[0m\u001b[0;34m.\u001b[0m\u001b[0mscale_\u001b[0m\u001b[0;34m\u001b[0m\u001b[0;34m\u001b[0m\u001b[0m\n\u001b[0m\u001b[1;32m   1053\u001b[0m             \u001b[0;32mif\u001b[0m \u001b[0mself\u001b[0m\u001b[0;34m.\u001b[0m\u001b[0mwith_mean\u001b[0m\u001b[0;34m:\u001b[0m\u001b[0;34m\u001b[0m\u001b[0;34m\u001b[0m\u001b[0m\n\u001b[1;32m   1054\u001b[0m                 \u001b[0mX\u001b[0m \u001b[0;34m+=\u001b[0m \u001b[0mself\u001b[0m\u001b[0;34m.\u001b[0m\u001b[0mmean_\u001b[0m\u001b[0;34m\u001b[0m\u001b[0;34m\u001b[0m\u001b[0m\n",
            "\u001b[0;31mValueError\u001b[0m: non-broadcastable output operand with shape (5,1) doesn't match the broadcast shape (5,5)"
          ]
        }
      ],
      "source": [
        "scaler = trainloader.dataset.standardizer\n",
        "recon_row = scaler.inverse_transform(recon_batch[0].cpu().numpy().reshape(-1,1))\n",
        "real_row = scaler.inverse_transform(testloader.dataset.x[0].cpu().numpy().reshape(-1,1))"
      ]
    },
    {
      "cell_type": "code",
      "source": [
        "recon_batch.cpu().numpy().shape"
      ],
      "metadata": {
        "id": "HMYCYOQuFfjz",
        "outputId": "a06e2094-2d6f-4d14-c624-6f090eb01c61",
        "colab": {
          "base_uri": "https://localhost:8080/"
        }
      },
      "execution_count": 29,
      "outputs": [
        {
          "output_type": "execute_result",
          "data": {
            "text/plain": [
              "(736, 5)"
            ]
          },
          "metadata": {},
          "execution_count": 29
        }
      ]
    },
    {
      "cell_type": "code",
      "execution_count": 27,
      "metadata": {
        "id": "6d5TGIKX9SAe",
        "outputId": "197952e9-4af9-46c6-b00d-3c825b9442b5",
        "colab": {
          "base_uri": "https://localhost:8080/",
          "height": 193
        }
      },
      "outputs": [
        {
          "output_type": "error",
          "ename": "NameError",
          "evalue": "ignored",
          "traceback": [
            "\u001b[0;31m---------------------------------------------------------------------------\u001b[0m",
            "\u001b[0;31mNameError\u001b[0m                                 Traceback (most recent call last)",
            "\u001b[0;32m<ipython-input-27-5b6aaa43eadd>\u001b[0m in \u001b[0;36m<cell line: 1>\u001b[0;34m()\u001b[0m\n\u001b[0;32m----> 1\u001b[0;31m \u001b[0mdf\u001b[0m \u001b[0;34m=\u001b[0m \u001b[0mpd\u001b[0m\u001b[0;34m.\u001b[0m\u001b[0mDataFrame\u001b[0m\u001b[0;34m(\u001b[0m\u001b[0mnp\u001b[0m\u001b[0;34m.\u001b[0m\u001b[0mstack\u001b[0m\u001b[0;34m(\u001b[0m\u001b[0;34m(\u001b[0m\u001b[0mrecon_row\u001b[0m\u001b[0;34m,\u001b[0m \u001b[0mreal_row\u001b[0m\u001b[0;34m)\u001b[0m\u001b[0;34m)\u001b[0m\u001b[0;34m,\u001b[0m \u001b[0mcolumns\u001b[0m \u001b[0;34m=\u001b[0m \u001b[0mcols\u001b[0m\u001b[0;34m)\u001b[0m\u001b[0;34m\u001b[0m\u001b[0;34m\u001b[0m\u001b[0m\n\u001b[0m\u001b[1;32m      2\u001b[0m \u001b[0mdf\u001b[0m\u001b[0;34m\u001b[0m\u001b[0;34m\u001b[0m\u001b[0m\n",
            "\u001b[0;31mNameError\u001b[0m: name 'recon_row' is not defined"
          ]
        }
      ],
      "source": [
        "df = pd.DataFrame(np.stack((recon_row, real_row)), columns = cols)\n",
        "df"
      ]
    },
    {
      "source": [
        "Not to bad right (the first row is the reconstructed row, the second one the real row from the data)? However, what we want is to built this row not with the real input so to speak, since right now we were giving the model the complete rows with their 14 columns, condensed it to 3 input parameters, just to blow it up again to the corresponding 14 columns. What I want to do is to create these 14 rows by giving the model 3 latent factors as input. Let's have a look at these latent variables. "
      ],
      "cell_type": "markdown",
      "metadata": {
        "id": "UB3VAAcL9SAe"
      }
    },
    {
      "cell_type": "code",
      "execution_count": 30,
      "metadata": {
        "id": "7OKO8g1_9SAe"
      },
      "outputs": [],
      "source": [
        "sigma = torch.exp(logvar/2)"
      ]
    },
    {
      "cell_type": "code",
      "execution_count": 31,
      "metadata": {
        "id": "bGsmlUWA9SAe",
        "outputId": "d4140252-5868-41a4-a029-d422d1e13cce",
        "colab": {
          "base_uri": "https://localhost:8080/"
        }
      },
      "outputs": [
        {
          "output_type": "execute_result",
          "data": {
            "text/plain": [
              "(tensor([ 0.1132,  0.0028, -1.0532], device='cuda:0'),\n",
              " tensor([0.7076, 0.9989, 0.3893], device='cuda:0'))"
            ]
          },
          "metadata": {},
          "execution_count": 31
        }
      ],
      "source": [
        "mu[1], sigma[1]"
      ]
    },
    {
      "source": [
        "Mu represents the mean for each of our latent factor values, logvar the log of the standard deviation. Each of these have a distribution by itself. We have 54 cases in our test data, so we have 3x54 different mu and logvar. We can have a look at the distribution of each of the 3 latent variables: "
      ],
      "cell_type": "markdown",
      "metadata": {
        "id": "sF0dHT409SAf"
      }
    },
    {
      "cell_type": "code",
      "execution_count": 32,
      "metadata": {
        "id": "XOiHs3VY9SAf",
        "outputId": "de140d0e-df0c-4fb3-a26e-dce09ba03d15",
        "colab": {
          "base_uri": "https://localhost:8080/"
        }
      },
      "outputs": [
        {
          "output_type": "execute_result",
          "data": {
            "text/plain": [
              "(tensor([ 0.0023, -0.0001,  0.0045], device='cuda:0'),\n",
              " tensor([0.7085, 0.9991, 0.4831], device='cuda:0'))"
            ]
          },
          "metadata": {},
          "execution_count": 32
        }
      ],
      "source": [
        "mu.mean(axis=0), sigma.mean(axis=0)"
      ]
    },
    {
      "source": [
        "All of the latent variables have a mean around zero, but the last latent factor has a wider standard deviation. So when we sample values from each of these latent variables, the last value will vary much more then the other two. I assume a normal distribution for all the latent factors."
      ],
      "cell_type": "markdown",
      "metadata": {
        "id": "OxQXuQP69SAf"
      }
    },
    {
      "cell_type": "code",
      "execution_count": 33,
      "metadata": {
        "id": "J_GHUpKV9SAf"
      },
      "outputs": [],
      "source": [
        "# sample z from q\n",
        "no_samples = 20\n",
        "q = torch.distributions.Normal(mu.mean(axis=0), sigma.mean(axis=0))\n",
        "z = q.rsample(sample_shape=torch.Size([no_samples]))"
      ]
    },
    {
      "cell_type": "code",
      "execution_count": 34,
      "metadata": {
        "id": "-dVzBNeY9SAp",
        "outputId": "f8db2ac5-3e28-451d-d28f-9ad18654a667",
        "colab": {
          "base_uri": "https://localhost:8080/"
        }
      },
      "outputs": [
        {
          "output_type": "execute_result",
          "data": {
            "text/plain": [
              "torch.Size([20, 3])"
            ]
          },
          "metadata": {},
          "execution_count": 34
        }
      ],
      "source": [
        "z.shape"
      ]
    },
    {
      "cell_type": "code",
      "execution_count": 35,
      "metadata": {
        "id": "Twm0NEcS9SAq",
        "outputId": "06e279c5-fabe-4b30-ee60-59b36c9ce818",
        "colab": {
          "base_uri": "https://localhost:8080/"
        }
      },
      "outputs": [
        {
          "output_type": "execute_result",
          "data": {
            "text/plain": [
              "tensor([[-0.5541,  1.4630,  0.7221],\n",
              "        [-1.6399,  0.0061,  0.0258],\n",
              "        [-0.0911,  0.7751, -0.3078],\n",
              "        [-0.2759, -0.4239, -0.0732],\n",
              "        [-0.2365, -1.1481,  0.1015]], device='cuda:0')"
            ]
          },
          "metadata": {},
          "execution_count": 35
        }
      ],
      "source": [
        "z[:5]"
      ]
    },
    {
      "source": [
        "With these three latent factors we can now start and create fake data for our dataset and see how it looks like:"
      ],
      "cell_type": "markdown",
      "metadata": {
        "id": "nXRlb2cG9SAq"
      }
    },
    {
      "cell_type": "code",
      "execution_count": 36,
      "metadata": {
        "id": "4jd7jn7T9SAq"
      },
      "outputs": [],
      "source": [
        "with torch.no_grad():\n",
        "    pred = model.decode(z).cpu().numpy()"
      ]
    },
    {
      "cell_type": "code",
      "execution_count": 37,
      "metadata": {
        "id": "GdCokoDM9SAq",
        "outputId": "0d6fe0b0-c6e7-4460-d5eb-746e5274b8a3",
        "colab": {
          "base_uri": "https://localhost:8080/"
        }
      },
      "outputs": [
        {
          "output_type": "execute_result",
          "data": {
            "text/plain": [
              "array([-0.886597 ,  0.6120701,  0.5488543,  0.472581 ,  0.5187014],\n",
              "      dtype=float32)"
            ]
          },
          "metadata": {},
          "execution_count": 37
        }
      ],
      "source": [
        "pred[1]"
      ]
    },
    {
      "source": [
        "## Create fake data from Autoencoder"
      ],
      "cell_type": "markdown",
      "metadata": {
        "id": "LaoRlefR9SAr"
      }
    },
    {
      "cell_type": "code",
      "execution_count": 38,
      "metadata": {
        "id": "Ambm76Gi9SAr",
        "outputId": "9ec63f4f-0636-412d-9e6b-889c3c5344f3",
        "colab": {
          "base_uri": "https://localhost:8080/"
        }
      },
      "outputs": [
        {
          "output_type": "execute_result",
          "data": {
            "text/plain": [
              "(20, 5)"
            ]
          },
          "metadata": {},
          "execution_count": 38
        }
      ],
      "source": [
        "fake_data = scaler.inverse_transform(pred)\n",
        "fake_data.shape"
      ]
    },
    {
      "cell_type": "code",
      "source": [
        "fake_data"
      ],
      "metadata": {
        "id": "v8p0Ym4KFyQu",
        "outputId": "9cb125e6-5b67-4616-86cd-b274e9f7dac4",
        "colab": {
          "base_uri": "https://localhost:8080/"
        }
      },
      "execution_count": 39,
      "outputs": [
        {
          "output_type": "execute_result",
          "data": {
            "text/plain": [
              "array([[ 0.5643727 ,  0.06915203,  0.9769583 ,  0.8729925 ,  2.4251282 ],\n",
              "       [ 0.10963502,  2.3064384 ,  2.0610428 ,  1.9049317 ,  2.9288285 ],\n",
              "       [ 2.062392  ,  2.1900907 ,  2.236256  ,  2.1413147 ,  2.3994179 ],\n",
              "       [ 1.4389079 ,  2.1087017 ,  1.9519644 ,  1.887697  ,  1.713243  ],\n",
              "       [ 1.1664559 ,  1.8968394 ,  1.5384579 ,  1.5552095 ,  1.1907102 ],\n",
              "       [ 2.1357193 ,  2.1453054 ,  2.0597582 ,  2.0172613 ,  1.2731706 ],\n",
              "       [ 1.4771672 ,  0.9167933 ,  0.8110738 ,  0.9529538 ,  0.15696757],\n",
              "       [ 4.8579144 ,  1.252751  ,  1.4174538 ,  1.7233986 ,  3.9294248 ],\n",
              "       [ 2.8427982 ,  2.1318133 ,  2.162959  ,  2.1490705 ,  1.6969155 ],\n",
              "       [ 1.6708935 ,  0.9233353 ,  0.7731264 ,  0.936947  , -2.0292494 ],\n",
              "       [ 1.3649414 ,  1.3772943 ,  0.9709462 ,  1.1052529 ,  0.22819154],\n",
              "       [ 1.4451836 ,  2.2486722 ,  2.5149484 ,  2.2573254 ,  5.8303175 ],\n",
              "       [ 1.0668815 ,  2.1904984 ,  2.0363777 ,  1.9308894 ,  2.3352838 ],\n",
              "       [ 0.71730614,  1.517478  ,  1.0642503 ,  1.1322736 ,  1.3324476 ],\n",
              "       [ 0.29593602, -0.15388939,  1.0945338 ,  0.88088214,  3.0121899 ],\n",
              "       [ 1.2519772 ,  1.2567348 ,  0.91062844,  1.0416511 ,  0.46126026],\n",
              "       [ 1.7991519 ,  0.30914608,  0.6948665 ,  0.81116164, -2.8051274 ],\n",
              "       [ 1.349127  ,  1.3231716 ,  0.940935  ,  1.0766956 ,  0.26491636],\n",
              "       [ 0.1573322 ,  2.0771012 ,  1.7192703 ,  1.6404344 ,  2.4060512 ],\n",
              "       [ 2.1366103 ,  2.1121004 ,  1.9816847 ,  1.9598514 ,  0.9315312 ]],\n",
              "      dtype=float32)"
            ]
          },
          "metadata": {},
          "execution_count": 39
        }
      ]
    },
    {
      "cell_type": "code",
      "execution_count": 41,
      "metadata": {
        "id": "0zLx6LGs9SAr",
        "outputId": "1425da9f-7768-484c-f45e-0a251d67bae9",
        "colab": {
          "base_uri": "https://localhost:8080/",
          "height": 363
        }
      },
      "outputs": [
        {
          "output_type": "execute_result",
          "data": {
            "text/plain": [
              "         x0        x1        x2        x3        z0\n",
              "0  0.564373  0.069152  0.976958  0.872993  2.425128\n",
              "1  0.109635  2.306438  2.061043  1.904932  2.928828\n",
              "2  2.062392  2.190091  2.236256  2.141315  2.399418\n",
              "3  1.438908  2.108702  1.951964  1.887697  1.713243\n",
              "4  1.166456  1.896839  1.538458  1.555210  1.190710\n",
              "5  2.135719  2.145305  2.059758  2.017261  1.273171\n",
              "6  1.477167  0.916793  0.811074  0.952954  0.156968\n",
              "7  4.857914  1.252751  1.417454  1.723399  3.929425\n",
              "8  2.842798  2.131813  2.162959  2.149071  1.696916\n",
              "9  1.670894  0.923335  0.773126  0.936947 -2.029249"
            ],
            "text/html": [
              "\n",
              "  <div id=\"df-dc1376fe-21a0-45ff-8705-20ea00798e2f\">\n",
              "    <div class=\"colab-df-container\">\n",
              "      <div>\n",
              "<style scoped>\n",
              "    .dataframe tbody tr th:only-of-type {\n",
              "        vertical-align: middle;\n",
              "    }\n",
              "\n",
              "    .dataframe tbody tr th {\n",
              "        vertical-align: top;\n",
              "    }\n",
              "\n",
              "    .dataframe thead th {\n",
              "        text-align: right;\n",
              "    }\n",
              "</style>\n",
              "<table border=\"1\" class=\"dataframe\">\n",
              "  <thead>\n",
              "    <tr style=\"text-align: right;\">\n",
              "      <th></th>\n",
              "      <th>x0</th>\n",
              "      <th>x1</th>\n",
              "      <th>x2</th>\n",
              "      <th>x3</th>\n",
              "      <th>z0</th>\n",
              "    </tr>\n",
              "  </thead>\n",
              "  <tbody>\n",
              "    <tr>\n",
              "      <th>0</th>\n",
              "      <td>0.564373</td>\n",
              "      <td>0.069152</td>\n",
              "      <td>0.976958</td>\n",
              "      <td>0.872993</td>\n",
              "      <td>2.425128</td>\n",
              "    </tr>\n",
              "    <tr>\n",
              "      <th>1</th>\n",
              "      <td>0.109635</td>\n",
              "      <td>2.306438</td>\n",
              "      <td>2.061043</td>\n",
              "      <td>1.904932</td>\n",
              "      <td>2.928828</td>\n",
              "    </tr>\n",
              "    <tr>\n",
              "      <th>2</th>\n",
              "      <td>2.062392</td>\n",
              "      <td>2.190091</td>\n",
              "      <td>2.236256</td>\n",
              "      <td>2.141315</td>\n",
              "      <td>2.399418</td>\n",
              "    </tr>\n",
              "    <tr>\n",
              "      <th>3</th>\n",
              "      <td>1.438908</td>\n",
              "      <td>2.108702</td>\n",
              "      <td>1.951964</td>\n",
              "      <td>1.887697</td>\n",
              "      <td>1.713243</td>\n",
              "    </tr>\n",
              "    <tr>\n",
              "      <th>4</th>\n",
              "      <td>1.166456</td>\n",
              "      <td>1.896839</td>\n",
              "      <td>1.538458</td>\n",
              "      <td>1.555210</td>\n",
              "      <td>1.190710</td>\n",
              "    </tr>\n",
              "    <tr>\n",
              "      <th>5</th>\n",
              "      <td>2.135719</td>\n",
              "      <td>2.145305</td>\n",
              "      <td>2.059758</td>\n",
              "      <td>2.017261</td>\n",
              "      <td>1.273171</td>\n",
              "    </tr>\n",
              "    <tr>\n",
              "      <th>6</th>\n",
              "      <td>1.477167</td>\n",
              "      <td>0.916793</td>\n",
              "      <td>0.811074</td>\n",
              "      <td>0.952954</td>\n",
              "      <td>0.156968</td>\n",
              "    </tr>\n",
              "    <tr>\n",
              "      <th>7</th>\n",
              "      <td>4.857914</td>\n",
              "      <td>1.252751</td>\n",
              "      <td>1.417454</td>\n",
              "      <td>1.723399</td>\n",
              "      <td>3.929425</td>\n",
              "    </tr>\n",
              "    <tr>\n",
              "      <th>8</th>\n",
              "      <td>2.842798</td>\n",
              "      <td>2.131813</td>\n",
              "      <td>2.162959</td>\n",
              "      <td>2.149071</td>\n",
              "      <td>1.696916</td>\n",
              "    </tr>\n",
              "    <tr>\n",
              "      <th>9</th>\n",
              "      <td>1.670894</td>\n",
              "      <td>0.923335</td>\n",
              "      <td>0.773126</td>\n",
              "      <td>0.936947</td>\n",
              "      <td>-2.029249</td>\n",
              "    </tr>\n",
              "  </tbody>\n",
              "</table>\n",
              "</div>\n",
              "      <button class=\"colab-df-convert\" onclick=\"convertToInteractive('df-dc1376fe-21a0-45ff-8705-20ea00798e2f')\"\n",
              "              title=\"Convert this dataframe to an interactive table.\"\n",
              "              style=\"display:none;\">\n",
              "        \n",
              "  <svg xmlns=\"http://www.w3.org/2000/svg\" height=\"24px\"viewBox=\"0 0 24 24\"\n",
              "       width=\"24px\">\n",
              "    <path d=\"M0 0h24v24H0V0z\" fill=\"none\"/>\n",
              "    <path d=\"M18.56 5.44l.94 2.06.94-2.06 2.06-.94-2.06-.94-.94-2.06-.94 2.06-2.06.94zm-11 1L8.5 8.5l.94-2.06 2.06-.94-2.06-.94L8.5 2.5l-.94 2.06-2.06.94zm10 10l.94 2.06.94-2.06 2.06-.94-2.06-.94-.94-2.06-.94 2.06-2.06.94z\"/><path d=\"M17.41 7.96l-1.37-1.37c-.4-.4-.92-.59-1.43-.59-.52 0-1.04.2-1.43.59L10.3 9.45l-7.72 7.72c-.78.78-.78 2.05 0 2.83L4 21.41c.39.39.9.59 1.41.59.51 0 1.02-.2 1.41-.59l7.78-7.78 2.81-2.81c.8-.78.8-2.07 0-2.86zM5.41 20L4 18.59l7.72-7.72 1.47 1.35L5.41 20z\"/>\n",
              "  </svg>\n",
              "      </button>\n",
              "      \n",
              "  <style>\n",
              "    .colab-df-container {\n",
              "      display:flex;\n",
              "      flex-wrap:wrap;\n",
              "      gap: 12px;\n",
              "    }\n",
              "\n",
              "    .colab-df-convert {\n",
              "      background-color: #E8F0FE;\n",
              "      border: none;\n",
              "      border-radius: 50%;\n",
              "      cursor: pointer;\n",
              "      display: none;\n",
              "      fill: #1967D2;\n",
              "      height: 32px;\n",
              "      padding: 0 0 0 0;\n",
              "      width: 32px;\n",
              "    }\n",
              "\n",
              "    .colab-df-convert:hover {\n",
              "      background-color: #E2EBFA;\n",
              "      box-shadow: 0px 1px 2px rgba(60, 64, 67, 0.3), 0px 1px 3px 1px rgba(60, 64, 67, 0.15);\n",
              "      fill: #174EA6;\n",
              "    }\n",
              "\n",
              "    [theme=dark] .colab-df-convert {\n",
              "      background-color: #3B4455;\n",
              "      fill: #D2E3FC;\n",
              "    }\n",
              "\n",
              "    [theme=dark] .colab-df-convert:hover {\n",
              "      background-color: #434B5C;\n",
              "      box-shadow: 0px 1px 3px 1px rgba(0, 0, 0, 0.15);\n",
              "      filter: drop-shadow(0px 1px 2px rgba(0, 0, 0, 0.3));\n",
              "      fill: #FFFFFF;\n",
              "    }\n",
              "  </style>\n",
              "\n",
              "      <script>\n",
              "        const buttonEl =\n",
              "          document.querySelector('#df-dc1376fe-21a0-45ff-8705-20ea00798e2f button.colab-df-convert');\n",
              "        buttonEl.style.display =\n",
              "          google.colab.kernel.accessAllowed ? 'block' : 'none';\n",
              "\n",
              "        async function convertToInteractive(key) {\n",
              "          const element = document.querySelector('#df-dc1376fe-21a0-45ff-8705-20ea00798e2f');\n",
              "          const dataTable =\n",
              "            await google.colab.kernel.invokeFunction('convertToInteractive',\n",
              "                                                     [key], {});\n",
              "          if (!dataTable) return;\n",
              "\n",
              "          const docLinkHtml = 'Like what you see? Visit the ' +\n",
              "            '<a target=\"_blank\" href=https://colab.research.google.com/notebooks/data_table.ipynb>data table notebook</a>'\n",
              "            + ' to learn more about interactive tables.';\n",
              "          element.innerHTML = '';\n",
              "          dataTable['output_type'] = 'display_data';\n",
              "          await google.colab.output.renderOutput(dataTable, element);\n",
              "          const docLink = document.createElement('div');\n",
              "          docLink.innerHTML = docLinkHtml;\n",
              "          element.appendChild(docLink);\n",
              "        }\n",
              "      </script>\n",
              "    </div>\n",
              "  </div>\n",
              "  "
            ]
          },
          "metadata": {},
          "execution_count": 41
        }
      ],
      "source": [
        "df_fake = pd.DataFrame(fake_data, columns = cols)\n",
        "#df_fake['Wine'] = np.round(df_fake['Wine']).astype(int)\n",
        "#df_fake['Wine'] = np.where(df_fake['Wine']<1, 1, df_fake['Wine'])\n",
        "df_fake.head(10)"
      ]
    },
    {
      "source": [
        "For comparison the real data:"
      ],
      "cell_type": "markdown",
      "metadata": {
        "id": "uXoIMJG79SAs"
      }
    },
    {
      "cell_type": "code",
      "execution_count": 42,
      "metadata": {
        "id": "VJQP2PTy9SAs",
        "outputId": "241d5a8f-5d95-4db4-f35a-191b0c3fffb9",
        "colab": {
          "base_uri": "https://localhost:8080/",
          "height": 363
        }
      },
      "outputs": [
        {
          "output_type": "execute_result",
          "data": {
            "text/plain": [
              "             x0        x1        x2        x3        z0\n",
              "6669   3.891044 -1.259070  1.972639  2.361438  4.143576\n",
              "6850   0.215696  1.723339  1.719764  0.881931  0.176142\n",
              "1619   2.122611  3.586145  1.914136  1.291366  2.277642\n",
              "36583  2.964243  3.141048  1.436922  2.544189 -2.341566\n",
              "28138  1.820332  0.290076  0.873029  1.798497  5.289183\n",
              "7187  -0.700981  0.539157  0.453247  0.893113  0.598477\n",
              "19491  2.408445  1.924172  3.444357  2.518169  0.210121\n",
              "14961  2.490460  3.557156  2.855833  2.175238  1.669200\n",
              "28343  4.427120  1.257998  0.709267  1.404986  4.891127\n",
              "5150   0.066273  2.460945  1.273214  0.756654  1.603505"
            ],
            "text/html": [
              "\n",
              "  <div id=\"df-2bb2327c-b1be-47f4-81ae-d3472e6f7874\">\n",
              "    <div class=\"colab-df-container\">\n",
              "      <div>\n",
              "<style scoped>\n",
              "    .dataframe tbody tr th:only-of-type {\n",
              "        vertical-align: middle;\n",
              "    }\n",
              "\n",
              "    .dataframe tbody tr th {\n",
              "        vertical-align: top;\n",
              "    }\n",
              "\n",
              "    .dataframe thead th {\n",
              "        text-align: right;\n",
              "    }\n",
              "</style>\n",
              "<table border=\"1\" class=\"dataframe\">\n",
              "  <thead>\n",
              "    <tr style=\"text-align: right;\">\n",
              "      <th></th>\n",
              "      <th>x0</th>\n",
              "      <th>x1</th>\n",
              "      <th>x2</th>\n",
              "      <th>x3</th>\n",
              "      <th>z0</th>\n",
              "    </tr>\n",
              "  </thead>\n",
              "  <tbody>\n",
              "    <tr>\n",
              "      <th>6669</th>\n",
              "      <td>3.891044</td>\n",
              "      <td>-1.259070</td>\n",
              "      <td>1.972639</td>\n",
              "      <td>2.361438</td>\n",
              "      <td>4.143576</td>\n",
              "    </tr>\n",
              "    <tr>\n",
              "      <th>6850</th>\n",
              "      <td>0.215696</td>\n",
              "      <td>1.723339</td>\n",
              "      <td>1.719764</td>\n",
              "      <td>0.881931</td>\n",
              "      <td>0.176142</td>\n",
              "    </tr>\n",
              "    <tr>\n",
              "      <th>1619</th>\n",
              "      <td>2.122611</td>\n",
              "      <td>3.586145</td>\n",
              "      <td>1.914136</td>\n",
              "      <td>1.291366</td>\n",
              "      <td>2.277642</td>\n",
              "    </tr>\n",
              "    <tr>\n",
              "      <th>36583</th>\n",
              "      <td>2.964243</td>\n",
              "      <td>3.141048</td>\n",
              "      <td>1.436922</td>\n",
              "      <td>2.544189</td>\n",
              "      <td>-2.341566</td>\n",
              "    </tr>\n",
              "    <tr>\n",
              "      <th>28138</th>\n",
              "      <td>1.820332</td>\n",
              "      <td>0.290076</td>\n",
              "      <td>0.873029</td>\n",
              "      <td>1.798497</td>\n",
              "      <td>5.289183</td>\n",
              "    </tr>\n",
              "    <tr>\n",
              "      <th>7187</th>\n",
              "      <td>-0.700981</td>\n",
              "      <td>0.539157</td>\n",
              "      <td>0.453247</td>\n",
              "      <td>0.893113</td>\n",
              "      <td>0.598477</td>\n",
              "    </tr>\n",
              "    <tr>\n",
              "      <th>19491</th>\n",
              "      <td>2.408445</td>\n",
              "      <td>1.924172</td>\n",
              "      <td>3.444357</td>\n",
              "      <td>2.518169</td>\n",
              "      <td>0.210121</td>\n",
              "    </tr>\n",
              "    <tr>\n",
              "      <th>14961</th>\n",
              "      <td>2.490460</td>\n",
              "      <td>3.557156</td>\n",
              "      <td>2.855833</td>\n",
              "      <td>2.175238</td>\n",
              "      <td>1.669200</td>\n",
              "    </tr>\n",
              "    <tr>\n",
              "      <th>28343</th>\n",
              "      <td>4.427120</td>\n",
              "      <td>1.257998</td>\n",
              "      <td>0.709267</td>\n",
              "      <td>1.404986</td>\n",
              "      <td>4.891127</td>\n",
              "    </tr>\n",
              "    <tr>\n",
              "      <th>5150</th>\n",
              "      <td>0.066273</td>\n",
              "      <td>2.460945</td>\n",
              "      <td>1.273214</td>\n",
              "      <td>0.756654</td>\n",
              "      <td>1.603505</td>\n",
              "    </tr>\n",
              "  </tbody>\n",
              "</table>\n",
              "</div>\n",
              "      <button class=\"colab-df-convert\" onclick=\"convertToInteractive('df-2bb2327c-b1be-47f4-81ae-d3472e6f7874')\"\n",
              "              title=\"Convert this dataframe to an interactive table.\"\n",
              "              style=\"display:none;\">\n",
              "        \n",
              "  <svg xmlns=\"http://www.w3.org/2000/svg\" height=\"24px\"viewBox=\"0 0 24 24\"\n",
              "       width=\"24px\">\n",
              "    <path d=\"M0 0h24v24H0V0z\" fill=\"none\"/>\n",
              "    <path d=\"M18.56 5.44l.94 2.06.94-2.06 2.06-.94-2.06-.94-.94-2.06-.94 2.06-2.06.94zm-11 1L8.5 8.5l.94-2.06 2.06-.94-2.06-.94L8.5 2.5l-.94 2.06-2.06.94zm10 10l.94 2.06.94-2.06 2.06-.94-2.06-.94-.94-2.06-.94 2.06-2.06.94z\"/><path d=\"M17.41 7.96l-1.37-1.37c-.4-.4-.92-.59-1.43-.59-.52 0-1.04.2-1.43.59L10.3 9.45l-7.72 7.72c-.78.78-.78 2.05 0 2.83L4 21.41c.39.39.9.59 1.41.59.51 0 1.02-.2 1.41-.59l7.78-7.78 2.81-2.81c.8-.78.8-2.07 0-2.86zM5.41 20L4 18.59l7.72-7.72 1.47 1.35L5.41 20z\"/>\n",
              "  </svg>\n",
              "      </button>\n",
              "      \n",
              "  <style>\n",
              "    .colab-df-container {\n",
              "      display:flex;\n",
              "      flex-wrap:wrap;\n",
              "      gap: 12px;\n",
              "    }\n",
              "\n",
              "    .colab-df-convert {\n",
              "      background-color: #E8F0FE;\n",
              "      border: none;\n",
              "      border-radius: 50%;\n",
              "      cursor: pointer;\n",
              "      display: none;\n",
              "      fill: #1967D2;\n",
              "      height: 32px;\n",
              "      padding: 0 0 0 0;\n",
              "      width: 32px;\n",
              "    }\n",
              "\n",
              "    .colab-df-convert:hover {\n",
              "      background-color: #E2EBFA;\n",
              "      box-shadow: 0px 1px 2px rgba(60, 64, 67, 0.3), 0px 1px 3px 1px rgba(60, 64, 67, 0.15);\n",
              "      fill: #174EA6;\n",
              "    }\n",
              "\n",
              "    [theme=dark] .colab-df-convert {\n",
              "      background-color: #3B4455;\n",
              "      fill: #D2E3FC;\n",
              "    }\n",
              "\n",
              "    [theme=dark] .colab-df-convert:hover {\n",
              "      background-color: #434B5C;\n",
              "      box-shadow: 0px 1px 3px 1px rgba(0, 0, 0, 0.15);\n",
              "      filter: drop-shadow(0px 1px 2px rgba(0, 0, 0, 0.3));\n",
              "      fill: #FFFFFF;\n",
              "    }\n",
              "  </style>\n",
              "\n",
              "      <script>\n",
              "        const buttonEl =\n",
              "          document.querySelector('#df-2bb2327c-b1be-47f4-81ae-d3472e6f7874 button.colab-df-convert');\n",
              "        buttonEl.style.display =\n",
              "          google.colab.kernel.accessAllowed ? 'block' : 'none';\n",
              "\n",
              "        async function convertToInteractive(key) {\n",
              "          const element = document.querySelector('#df-2bb2327c-b1be-47f4-81ae-d3472e6f7874');\n",
              "          const dataTable =\n",
              "            await google.colab.kernel.invokeFunction('convertToInteractive',\n",
              "                                                     [key], {});\n",
              "          if (!dataTable) return;\n",
              "\n",
              "          const docLinkHtml = 'Like what you see? Visit the ' +\n",
              "            '<a target=\"_blank\" href=https://colab.research.google.com/notebooks/data_table.ipynb>data table notebook</a>'\n",
              "            + ' to learn more about interactive tables.';\n",
              "          element.innerHTML = '';\n",
              "          dataTable['output_type'] = 'display_data';\n",
              "          await google.colab.output.renderOutput(dataTable, element);\n",
              "          const docLink = document.createElement('div');\n",
              "          docLink.innerHTML = docLinkHtml;\n",
              "          element.appendChild(docLink);\n",
              "        }\n",
              "      </script>\n",
              "    </div>\n",
              "  </div>\n",
              "  "
            ]
          },
          "metadata": {},
          "execution_count": 42
        }
      ],
      "source": [
        "df_base.sample(10)"
      ]
    },
    {
      "source": [
        "## Compare variables grouped by Wine"
      ],
      "cell_type": "markdown",
      "metadata": {
        "id": "Fsd08L9S9SAs"
      }
    },
    {
      "cell_type": "code",
      "execution_count": null,
      "metadata": {
        "id": "O-OrmDgB9SAs"
      },
      "outputs": [],
      "source": [
        "df_base.groupby('Wine').mean()"
      ]
    },
    {
      "cell_type": "code",
      "execution_count": null,
      "metadata": {
        "id": "Fk_0lFw-9SAs"
      },
      "outputs": [],
      "source": [
        "df_fake.groupby('Wine').mean()"
      ]
    },
    {
      "source": [
        "That looks pretty convincing if you ask me. \n",
        "\n",
        "To sum up, we've built a variational autoencoder, which we trained on our trainingset. We checked whether our loss kept on improving based on the testset, which the autoencoder never saw for generating fake data. We then calculated the mean and standard deviation from our latent factors given the test data. We've then sampled from this distribution to feed it back into our decoder to create some fake data. With this approach I am now able to create as much fake data derived from the underlying distribution as a want. And I think the results look promising. \n",
        "\n",
        "You can take this approach to for example create data from under-represented in highly skewed datasets instead of just weighting them higher. The re-weighting approach might cause the algorithm to find relations where there are none, only because a few then overrepresented data points share this relation by random. With the shown approach, the learned distribution would take into account the high variance these features have and therefore will hopefully help the algorithm to not draw these false conclusions.\n",
        "\n",
        "Stay tuned for the next blogpost, where I will show the shown approach in exactly this use case."
      ],
      "cell_type": "markdown",
      "metadata": {
        "id": "MuFu7O4J9SAs"
      }
    },
    {
      "cell_type": "code",
      "execution_count": null,
      "metadata": {
        "id": "kwecDVpS9SAt"
      },
      "outputs": [],
      "source": []
    }
  ]
}