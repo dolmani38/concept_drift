{
  "metadata": {
    "language_info": {
      "codemirror_mode": {
        "name": "ipython",
        "version": 3
      },
      "file_extension": ".py",
      "mimetype": "text/x-python",
      "name": "python",
      "nbconvert_exporter": "python",
      "pygments_lexer": "ipython3",
      "version": "3.9.2-final"
    },
    "orig_nbformat": 2,
    "kernelspec": {
      "name": "python3",
      "display_name": "Python 3.9.2 64-bit ('deeplearning_venv': venv)",
      "metadata": {
        "interpreter": {
          "hash": "9139ca13fc640d8623238ac4ed44beace8a76f86a07bab6efe75c2506e18783d"
        }
      }
    },
    "colab": {
      "provenance": [],
      "gpuType": "T4",
      "include_colab_link": true
    },
    "accelerator": "GPU",
    "gpuClass": "standard"
  },
  "nbformat": 4,
  "nbformat_minor": 0,
  "cells": [
    {
      "cell_type": "markdown",
      "metadata": {
        "id": "view-in-github",
        "colab_type": "text"
      },
      "source": [
        "<a href=\"https://colab.research.google.com/github/dolmani38/concept_drift/blob/main/2021-03-14-tabular-data-variational-autoencoder.ipynb\" target=\"_parent\"><img src=\"https://colab.research.google.com/assets/colab-badge.svg\" alt=\"Open In Colab\"/></a>"
      ]
    },
    {
      "source": [
        "# Data Augmentation for tabular data"
      ],
      "cell_type": "markdown",
      "metadata": {
        "id": "cC08kd_89SAI"
      }
    },
    {
      "source": [
        "## How to create fake tabular data with a variational autoencoder to improve deep learning algorithms"
      ],
      "cell_type": "markdown",
      "metadata": {
        "id": "az9ckBin9SAN"
      }
    },
    {
      "cell_type": "markdown",
      "source": [
        "+ 참조 : https://process-mining.tistory.com/161"
      ],
      "metadata": {
        "id": "U8Bn0EYCAhw3"
      }
    },
    {
      "cell_type": "markdown",
      "source": [
        "+ bucket 별로, mu & sigma를 산출하고, 별도의 예측 모델을 통해, bucket에 따른 mu & sigma를 추정할 수 있도록 한다.\n",
        "+ mu,sigma = f(b)\n",
        "+ 따라서, 향후의 bucket 를 입력하여 미래의 mu, sigma를 추정하도록 한다.\n",
        "+ 추정된 mu, sigma를 통해, decoder에서 가상 data를 생성한다."
      ],
      "metadata": {
        "id": "Tz8hQDsSML0-"
      }
    },
    {
      "source": [
        "To train deeplearning models the more data the better. When we're thinking of image data, the deeplearnig community thought about a lot of tricks how to enhance the model given a dataset of images. Meaning that by rotating, flipping, blurring etc. the image we can create more input data and also improve our model. \n",
        "\n",
        "However, when thinking about tabular data, only few of these techniques exist. In this blogpost I want to show you how to create a variational autoencoder and make use of data augmentation. I will create fake data, which is sampled from the learned distribution of the underlying data. "
      ],
      "cell_type": "markdown",
      "metadata": {
        "id": "Ue6wh5re9SAO"
      }
    },
    {
      "cell_type": "code",
      "execution_count": 1,
      "metadata": {
        "id": "motAEvps9SAP"
      },
      "outputs": [],
      "source": [
        "import torch\n",
        "import torch.nn as nn\n",
        "import torch.nn.functional as F\n",
        "from torch import nn, optim\n",
        "from torch.autograd import Variable\n",
        "\n",
        "import pandas as pd\n",
        "import numpy as np\n",
        "from sklearn import preprocessing\n",
        "from sklearn.model_selection import train_test_split"
      ]
    },
    {
      "cell_type": "code",
      "source": [
        "import random\n",
        "import os\n",
        "def seed_everything(seed: int = 46):\n",
        "    random.seed(seed)\n",
        "    np.random.seed(seed)\n",
        "    os.environ[\"PYTHONHASHSEED\"] = str(seed)\n",
        "    #tf.random.set_seed(seed)\n",
        "    torch.manual_seed(seed)\n",
        "    torch.cuda.manual_seed(seed)"
      ],
      "metadata": {
        "id": "5Ng-Gb_00oBj"
      },
      "execution_count": 2,
      "outputs": []
    },
    {
      "cell_type": "code",
      "execution_count": 3,
      "metadata": {
        "colab": {
          "base_uri": "https://localhost:8080/"
        },
        "id": "jTPBKuCG9SAQ",
        "outputId": "e87c1ad8-f0f4-4542-9e15-00f9e6c335ce"
      },
      "outputs": [
        {
          "output_type": "execute_result",
          "data": {
            "text/plain": [
              "device(type='cuda')"
            ]
          },
          "metadata": {},
          "execution_count": 3
        }
      ],
      "source": [
        "device = torch.device('cuda' if torch.cuda.is_available() else 'cpu')\n",
        "device"
      ]
    },
    {
      "source": [
        "## Dataset Overview"
      ],
      "cell_type": "markdown",
      "metadata": {
        "id": "MEA2yf4d9SAT"
      }
    },
    {
      "cell_type": "code",
      "source": [
        "data_size = 40000\n",
        "cor = [1.5, 1.2, 0.9 , 0.7, 0.5]"
      ],
      "metadata": {
        "id": "dhbplyQI-bTB"
      },
      "execution_count": 4,
      "outputs": []
    },
    {
      "cell_type": "code",
      "source": [
        "y= (np.random.normal(0.5,0.5,100) > 0.5).astype(int)\n",
        "sum(y)"
      ],
      "metadata": {
        "colab": {
          "base_uri": "https://localhost:8080/"
        },
        "id": "B9nMeZ_q-cAc",
        "outputId": "62792b9e-b570-441f-a2a2-14c28a27116a"
      },
      "execution_count": 5,
      "outputs": [
        {
          "output_type": "execute_result",
          "data": {
            "text/plain": [
              "53"
            ]
          },
          "metadata": {},
          "execution_count": 5
        }
      ]
    },
    {
      "cell_type": "code",
      "source": [
        "import seaborn as sns\n",
        "sns.set()\n",
        "seed_everything()     \n",
        "#y= np.random.normal(1,2,data_size)\n",
        "y= (np.random.normal(0.5,0.5,data_size) > 0.5).astype(int)\n",
        "x = np.zeros((data_size,5))\n",
        "for ix,cor_ in enumerate(cor):\n",
        "    x[:,ix] = y + np.random.normal(1,cor_,data_size)\n",
        "    sns.scatterplot(x=x[:,ix],y=y)"
      ],
      "metadata": {
        "colab": {
          "base_uri": "https://localhost:8080/",
          "height": 434
        },
        "id": "HHhlF6My-fXl",
        "outputId": "de7bfce4-ee8b-4ff1-b56c-4e258d3f47f7"
      },
      "execution_count": 6,
      "outputs": [
        {
          "output_type": "display_data",
          "data": {
            "text/plain": [
              "<Figure size 640x480 with 1 Axes>"
            ],
            "image/png": "[encoded data removed]"
          },
          "metadata": {}
        }
      ]
    },
    {
      "cell_type": "code",
      "source": [
        "seed_everything(1)\n",
        "for i in range(400):\n",
        "    s = i*100\n",
        "    #x[s:s+100,3] = y[s:s+100] + np.random.normal(1,5-(i/100),100)    \n",
        "    x[s:s+100,4] = y[s:s+100] + np.random.normal(1,0.5+(i/100),100)\n",
        "    #x[s:s+100,5] = i\n",
        "sns.scatterplot(x=x[0:200,4],y=y[0:200])\n",
        "sns.scatterplot(x=x[39800:40000,4],y=y[39800:40000])"
      ],
      "metadata": {
        "colab": {
          "base_uri": "https://localhost:8080/",
          "height": 452
        },
        "id": "55NaleDo-ucz",
        "outputId": "c43e33f2-858c-4c8f-e812-4a57fd752ac5"
      },
      "execution_count": 7,
      "outputs": [
        {
          "output_type": "execute_result",
          "data": {
            "text/plain": [
              "<Axes: >"
            ]
          },
          "metadata": {},
          "execution_count": 7
        },
        {
          "output_type": "display_data",
          "data": {
            "text/plain": [
              "<Figure size 640x480 with 1 Axes>"
            ],
            "image/png": "[encoded data removed]"
          },
          "metadata": {}
        }
      ]
    },
    {
      "cell_type": "code",
      "source": [
        "\n",
        "columns=['x0','x1','x2','x3','z0']\n",
        "df_base = pd.DataFrame(x,columns=columns)"
      ],
      "metadata": {
        "id": "d8yG94Ak-y3m"
      },
      "execution_count": 8,
      "outputs": []
    },
    {
      "cell_type": "code",
      "source": [
        "df_base"
      ],
      "metadata": {
        "colab": {
          "base_uri": "https://localhost:8080/",
          "height": 423
        },
        "id": "63leEuT1-6ye",
        "outputId": "0f3be4c4-5b03-4a44-e1de-ab393266e71a"
      },
      "execution_count": 9,
      "outputs": [
        {
          "output_type": "execute_result",
          "data": {
            "text/plain": [
              "             x0        x1        x2        x3        z0\n",
              "0      2.231833  0.663053  2.160447  1.180836  2.812173\n",
              "1      1.326272  2.285045  2.362769  2.638806  1.694122\n",
              "2      1.845348  3.743190  3.310210  1.772473  1.735914\n",
              "3      2.974414 -0.229197  1.024580  1.387895  0.463516\n",
              "4      2.854022  3.102544  1.610779  1.774781  2.432704\n",
              "...         ...       ...       ...       ...       ...\n",
              "39995  0.085122 -0.571732  1.527233  1.867146  2.463354\n",
              "39996  1.069521 -0.221247  1.324087  1.798258  7.559640\n",
              "39997  0.429295  2.593988  2.329410  1.859496  7.527774\n",
              "39998  1.611266 -0.588687 -0.591898  2.126287  3.978295\n",
              "39999  3.872531  0.931353  3.595759  1.948642  2.192033\n",
              "\n",
              "[40000 rows x 5 columns]"
            ],
            "text/html": [
              "\n",
              "  <div id=\"df-56c59f36-f209-4a48-942c-1d37924207de\">\n",
              "    <div class=\"colab-df-container\">\n",
              "      <div>\n",
              "<style scoped>\n",
              "    .dataframe tbody tr th:only-of-type {\n",
              "        vertical-align: middle;\n",
              "    }\n",
              "\n",
              "    .dataframe tbody tr th {\n",
              "        vertical-align: top;\n",
              "    }\n",
              "\n",
              "    .dataframe thead th {\n",
              "        text-align: right;\n",
              "    }\n",
              "</style>\n",
              "<table border=\"1\" class=\"dataframe\">\n",
              "  <thead>\n",
              "    <tr style=\"text-align: right;\">\n",
              "      <th></th>\n",
              "      <th>x0</th>\n",
              "      <th>x1</th>\n",
              "      <th>x2</th>\n",
              "      <th>x3</th>\n",
              "      <th>z0</th>\n",
              "    </tr>\n",
              "  </thead>\n",
              "  <tbody>\n",
              "    <tr>\n",
              "      <th>0</th>\n",
              "      <td>2.231833</td>\n",
              "      <td>0.663053</td>\n",
              "      <td>2.160447</td>\n",
              "      <td>1.180836</td>\n",
              "      <td>2.812173</td>\n",
              "    </tr>\n",
              "    <tr>\n",
              "      <th>1</th>\n",
              "      <td>1.326272</td>\n",
              "      <td>2.285045</td>\n",
              "      <td>2.362769</td>\n",
              "      <td>2.638806</td>\n",
              "      <td>1.694122</td>\n",
              "    </tr>\n",
              "    <tr>\n",
              "      <th>2</th>\n",
              "      <td>1.845348</td>\n",
              "      <td>3.743190</td>\n",
              "      <td>3.310210</td>\n",
              "      <td>1.772473</td>\n",
              "      <td>1.735914</td>\n",
              "    </tr>\n",
              "    <tr>\n",
              "      <th>3</th>\n",
              "      <td>2.974414</td>\n",
              "      <td>-0.229197</td>\n",
              "      <td>1.024580</td>\n",
              "      <td>1.387895</td>\n",
              "      <td>0.463516</td>\n",
              "    </tr>\n",
              "    <tr>\n",
              "      <th>4</th>\n",
              "      <td>2.854022</td>\n",
              "      <td>3.102544</td>\n",
              "      <td>1.610779</td>\n",
              "      <td>1.774781</td>\n",
              "      <td>2.432704</td>\n",
              "    </tr>\n",
              "    <tr>\n",
              "      <th>...</th>\n",
              "      <td>...</td>\n",
              "      <td>...</td>\n",
              "      <td>...</td>\n",
              "      <td>...</td>\n",
              "      <td>...</td>\n",
              "    </tr>\n",
              "    <tr>\n",
              "      <th>39995</th>\n",
              "      <td>0.085122</td>\n",
              "      <td>-0.571732</td>\n",
              "      <td>1.527233</td>\n",
              "      <td>1.867146</td>\n",
              "      <td>2.463354</td>\n",
              "    </tr>\n",
              "    <tr>\n",
              "      <th>39996</th>\n",
              "      <td>1.069521</td>\n",
              "      <td>-0.221247</td>\n",
              "      <td>1.324087</td>\n",
              "      <td>1.798258</td>\n",
              "      <td>7.559640</td>\n",
              "    </tr>\n",
              "    <tr>\n",
              "      <th>39997</th>\n",
              "      <td>0.429295</td>\n",
              "      <td>2.593988</td>\n",
              "      <td>2.329410</td>\n",
              "      <td>1.859496</td>\n",
              "      <td>7.527774</td>\n",
              "    </tr>\n",
              "    <tr>\n",
              "      <th>39998</th>\n",
              "      <td>1.611266</td>\n",
              "      <td>-0.588687</td>\n",
              "      <td>-0.591898</td>\n",
              "      <td>2.126287</td>\n",
              "      <td>3.978295</td>\n",
              "    </tr>\n",
              "    <tr>\n",
              "      <th>39999</th>\n",
              "      <td>3.872531</td>\n",
              "      <td>0.931353</td>\n",
              "      <td>3.595759</td>\n",
              "      <td>1.948642</td>\n",
              "      <td>2.192033</td>\n",
              "    </tr>\n",
              "  </tbody>\n",
              "</table>\n",
              "<p>40000 rows × 5 columns</p>\n",
              "</div>\n",
              "      <button class=\"colab-df-convert\" onclick=\"convertToInteractive('df-56c59f36-f209-4a48-942c-1d37924207de')\"\n",
              "              title=\"Convert this dataframe to an interactive table.\"\n",
              "              style=\"display:none;\">\n",
              "        \n",
              "  <svg xmlns=\"http://www.w3.org/2000/svg\" height=\"24px\"viewBox=\"0 0 24 24\"\n",
              "       width=\"24px\">\n",
              "    <path d=\"M0 0h24v24H0V0z\" fill=\"none\"/>\n",
              "    <path d=\"M18.56 5.44l.94 2.06.94-2.06 2.06-.94-2.06-.94-.94-2.06-.94 2.06-2.06.94zm-11 1L8.5 8.5l.94-2.06 2.06-.94-2.06-.94L8.5 2.5l-.94 2.06-2.06.94zm10 10l.94 2.06.94-2.06 2.06-.94-2.06-.94-.94-2.06-.94 2.06-2.06.94z\"/><path d=\"M17.41 7.96l-1.37-1.37c-.4-.4-.92-.59-1.43-.59-.52 0-1.04.2-1.43.59L10.3 9.45l-7.72 7.72c-.78.78-.78 2.05 0 2.83L4 21.41c.39.39.9.59 1.41.59.51 0 1.02-.2 1.41-.59l7.78-7.78 2.81-2.81c.8-.78.8-2.07 0-2.86zM5.41 20L4 18.59l7.72-7.72 1.47 1.35L5.41 20z\"/>\n",
              "  </svg>\n",
              "      </button>\n",
              "      \n",
              "  <style>\n",
              "    .colab-df-container {\n",
              "      display:flex;\n",
              "      flex-wrap:wrap;\n",
              "      gap: 12px;\n",
              "    }\n",
              "\n",
              "    .colab-df-convert {\n",
              "      background-color: #E8F0FE;\n",
              "      border: none;\n",
              "      border-radius: 50%;\n",
              "      cursor: pointer;\n",
              "      display: none;\n",
              "      fill: #1967D2;\n",
              "      height: 32px;\n",
              "      padding: 0 0 0 0;\n",
              "      width: 32px;\n",
              "    }\n",
              "\n",
              "    .colab-df-convert:hover {\n",
              "      background-color: #E2EBFA;\n",
              "      box-shadow: 0px 1px 2px rgba(60, 64, 67, 0.3), 0px 1px 3px 1px rgba(60, 64, 67, 0.15);\n",
              "      fill: #174EA6;\n",
              "    }\n",
              "\n",
              "    [theme=dark] .colab-df-convert {\n",
              "      background-color: #3B4455;\n",
              "      fill: #D2E3FC;\n",
              "    }\n",
              "\n",
              "    [theme=dark] .colab-df-convert:hover {\n",
              "      background-color: #434B5C;\n",
              "      box-shadow: 0px 1px 3px 1px rgba(0, 0, 0, 0.15);\n",
              "      filter: drop-shadow(0px 1px 2px rgba(0, 0, 0, 0.3));\n",
              "      fill: #FFFFFF;\n",
              "    }\n",
              "  </style>\n",
              "\n",
              "      <script>\n",
              "        const buttonEl =\n",
              "          document.querySelector('#df-56c59f36-f209-4a48-942c-1d37924207de button.colab-df-convert');\n",
              "        buttonEl.style.display =\n",
              "          google.colab.kernel.accessAllowed ? 'block' : 'none';\n",
              "\n",
              "        async function convertToInteractive(key) {\n",
              "          const element = document.querySelector('#df-56c59f36-f209-4a48-942c-1d37924207de');\n",
              "          const dataTable =\n",
              "            await google.colab.kernel.invokeFunction('convertToInteractive',\n",
              "                                                     [key], {});\n",
              "          if (!dataTable) return;\n",
              "\n",
              "          const docLinkHtml = 'Like what you see? Visit the ' +\n",
              "            '<a target=\"_blank\" href=https://colab.research.google.com/notebooks/data_table.ipynb>data table notebook</a>'\n",
              "            + ' to learn more about interactive tables.';\n",
              "          element.innerHTML = '';\n",
              "          dataTable['output_type'] = 'display_data';\n",
              "          await google.colab.output.renderOutput(dataTable, element);\n",
              "          const docLink = document.createElement('div');\n",
              "          docLink.innerHTML = docLinkHtml;\n",
              "          element.appendChild(docLink);\n",
              "        }\n",
              "      </script>\n",
              "    </div>\n",
              "  </div>\n",
              "  "
            ]
          },
          "metadata": {},
          "execution_count": 9
        }
      ]
    },
    {
      "cell_type": "code",
      "source": [
        "# bucket 하나의 크기는 100\n",
        "# 2000개의 학습데이터에는 20개의 bucket이 있음.\n",
        "# 학습데이터 100개당 +1의 bucket count를 증가 시킴\n",
        "#df_base['b'] = [int(b)/400 for b in df_base.index.values/100]"
      ],
      "metadata": {
        "id": "TuBofC65v5c6"
      },
      "execution_count": 10,
      "outputs": []
    },
    {
      "cell_type": "code",
      "source": [
        "df_base['y'] = y"
      ],
      "metadata": {
        "id": "6JU68E0saLju"
      },
      "execution_count": 11,
      "outputs": []
    },
    {
      "cell_type": "code",
      "execution_count": 12,
      "metadata": {
        "id": "6uKjCWm69SAU"
      },
      "outputs": [],
      "source": [
        "cols = df_base.columns"
      ]
    },
    {
      "cell_type": "code",
      "source": [
        "df_base"
      ],
      "metadata": {
        "id": "bmWtg-VNaRj6",
        "outputId": "893384a0-c174-4189-c650-20a52cdbb50d",
        "colab": {
          "base_uri": "https://localhost:8080/",
          "height": 423
        }
      },
      "execution_count": 13,
      "outputs": [
        {
          "output_type": "execute_result",
          "data": {
            "text/plain": [
              "             x0        x1        x2        x3        z0  y\n",
              "0      2.231833  0.663053  2.160447  1.180836  2.812173  1\n",
              "1      1.326272  2.285045  2.362769  2.638806  1.694122  1\n",
              "2      1.845348  3.743190  3.310210  1.772473  1.735914  1\n",
              "3      2.974414 -0.229197  1.024580  1.387895  0.463516  0\n",
              "4      2.854022  3.102544  1.610779  1.774781  2.432704  1\n",
              "...         ...       ...       ...       ...       ... ..\n",
              "39995  0.085122 -0.571732  1.527233  1.867146  2.463354  0\n",
              "39996  1.069521 -0.221247  1.324087  1.798258  7.559640  0\n",
              "39997  0.429295  2.593988  2.329410  1.859496  7.527774  1\n",
              "39998  1.611266 -0.588687 -0.591898  2.126287  3.978295  0\n",
              "39999  3.872531  0.931353  3.595759  1.948642  2.192033  1\n",
              "\n",
              "[40000 rows x 6 columns]"
            ],
            "text/html": [
              "\n",
              "  <div id=\"df-f783a43a-ef7c-4aa2-b7ce-4b617d74e285\">\n",
              "    <div class=\"colab-df-container\">\n",
              "      <div>\n",
              "<style scoped>\n",
              "    .dataframe tbody tr th:only-of-type {\n",
              "        vertical-align: middle;\n",
              "    }\n",
              "\n",
              "    .dataframe tbody tr th {\n",
              "        vertical-align: top;\n",
              "    }\n",
              "\n",
              "    .dataframe thead th {\n",
              "        text-align: right;\n",
              "    }\n",
              "</style>\n",
              "<table border=\"1\" class=\"dataframe\">\n",
              "  <thead>\n",
              "    <tr style=\"text-align: right;\">\n",
              "      <th></th>\n",
              "      <th>x0</th>\n",
              "      <th>x1</th>\n",
              "      <th>x2</th>\n",
              "      <th>x3</th>\n",
              "      <th>z0</th>\n",
              "      <th>y</th>\n",
              "    </tr>\n",
              "  </thead>\n",
              "  <tbody>\n",
              "    <tr>\n",
              "      <th>0</th>\n",
              "      <td>2.231833</td>\n",
              "      <td>0.663053</td>\n",
              "      <td>2.160447</td>\n",
              "      <td>1.180836</td>\n",
              "      <td>2.812173</td>\n",
              "      <td>1</td>\n",
              "    </tr>\n",
              "    <tr>\n",
              "      <th>1</th>\n",
              "      <td>1.326272</td>\n",
              "      <td>2.285045</td>\n",
              "      <td>2.362769</td>\n",
              "      <td>2.638806</td>\n",
              "      <td>1.694122</td>\n",
              "      <td>1</td>\n",
              "    </tr>\n",
              "    <tr>\n",
              "      <th>2</th>\n",
              "      <td>1.845348</td>\n",
              "      <td>3.743190</td>\n",
              "      <td>3.310210</td>\n",
              "      <td>1.772473</td>\n",
              "      <td>1.735914</td>\n",
              "      <td>1</td>\n",
              "    </tr>\n",
              "    <tr>\n",
              "      <th>3</th>\n",
              "      <td>2.974414</td>\n",
              "      <td>-0.229197</td>\n",
              "      <td>1.024580</td>\n",
              "      <td>1.387895</td>\n",
              "      <td>0.463516</td>\n",
              "      <td>0</td>\n",
              "    </tr>\n",
              "    <tr>\n",
              "      <th>4</th>\n",
              "      <td>2.854022</td>\n",
              "      <td>3.102544</td>\n",
              "      <td>1.610779</td>\n",
              "      <td>1.774781</td>\n",
              "      <td>2.432704</td>\n",
              "      <td>1</td>\n",
              "    </tr>\n",
              "    <tr>\n",
              "      <th>...</th>\n",
              "      <td>...</td>\n",
              "      <td>...</td>\n",
              "      <td>...</td>\n",
              "      <td>...</td>\n",
              "      <td>...</td>\n",
              "      <td>...</td>\n",
              "    </tr>\n",
              "    <tr>\n",
              "      <th>39995</th>\n",
              "      <td>0.085122</td>\n",
              "      <td>-0.571732</td>\n",
              "      <td>1.527233</td>\n",
              "      <td>1.867146</td>\n",
              "      <td>2.463354</td>\n",
              "      <td>0</td>\n",
              "    </tr>\n",
              "    <tr>\n",
              "      <th>39996</th>\n",
              "      <td>1.069521</td>\n",
              "      <td>-0.221247</td>\n",
              "      <td>1.324087</td>\n",
              "      <td>1.798258</td>\n",
              "      <td>7.559640</td>\n",
              "      <td>0</td>\n",
              "    </tr>\n",
              "    <tr>\n",
              "      <th>39997</th>\n",
              "      <td>0.429295</td>\n",
              "      <td>2.593988</td>\n",
              "      <td>2.329410</td>\n",
              "      <td>1.859496</td>\n",
              "      <td>7.527774</td>\n",
              "      <td>1</td>\n",
              "    </tr>\n",
              "    <tr>\n",
              "      <th>39998</th>\n",
              "      <td>1.611266</td>\n",
              "      <td>-0.588687</td>\n",
              "      <td>-0.591898</td>\n",
              "      <td>2.126287</td>\n",
              "      <td>3.978295</td>\n",
              "      <td>0</td>\n",
              "    </tr>\n",
              "    <tr>\n",
              "      <th>39999</th>\n",
              "      <td>3.872531</td>\n",
              "      <td>0.931353</td>\n",
              "      <td>3.595759</td>\n",
              "      <td>1.948642</td>\n",
              "      <td>2.192033</td>\n",
              "      <td>1</td>\n",
              "    </tr>\n",
              "  </tbody>\n",
              "</table>\n",
              "<p>40000 rows × 6 columns</p>\n",
              "</div>\n",
              "      <button class=\"colab-df-convert\" onclick=\"convertToInteractive('df-f783a43a-ef7c-4aa2-b7ce-4b617d74e285')\"\n",
              "              title=\"Convert this dataframe to an interactive table.\"\n",
              "              style=\"display:none;\">\n",
              "        \n",
              "  <svg xmlns=\"http://www.w3.org/2000/svg\" height=\"24px\"viewBox=\"0 0 24 24\"\n",
              "       width=\"24px\">\n",
              "    <path d=\"M0 0h24v24H0V0z\" fill=\"none\"/>\n",
              "    <path d=\"M18.56 5.44l.94 2.06.94-2.06 2.06-.94-2.06-.94-.94-2.06-.94 2.06-2.06.94zm-11 1L8.5 8.5l.94-2.06 2.06-.94-2.06-.94L8.5 2.5l-.94 2.06-2.06.94zm10 10l.94 2.06.94-2.06 2.06-.94-2.06-.94-.94-2.06-.94 2.06-2.06.94z\"/><path d=\"M17.41 7.96l-1.37-1.37c-.4-.4-.92-.59-1.43-.59-.52 0-1.04.2-1.43.59L10.3 9.45l-7.72 7.72c-.78.78-.78 2.05 0 2.83L4 21.41c.39.39.9.59 1.41.59.51 0 1.02-.2 1.41-.59l7.78-7.78 2.81-2.81c.8-.78.8-2.07 0-2.86zM5.41 20L4 18.59l7.72-7.72 1.47 1.35L5.41 20z\"/>\n",
              "  </svg>\n",
              "      </button>\n",
              "      \n",
              "  <style>\n",
              "    .colab-df-container {\n",
              "      display:flex;\n",
              "      flex-wrap:wrap;\n",
              "      gap: 12px;\n",
              "    }\n",
              "\n",
              "    .colab-df-convert {\n",
              "      background-color: #E8F0FE;\n",
              "      border: none;\n",
              "      border-radius: 50%;\n",
              "      cursor: pointer;\n",
              "      display: none;\n",
              "      fill: #1967D2;\n",
              "      height: 32px;\n",
              "      padding: 0 0 0 0;\n",
              "      width: 32px;\n",
              "    }\n",
              "\n",
              "    .colab-df-convert:hover {\n",
              "      background-color: #E2EBFA;\n",
              "      box-shadow: 0px 1px 2px rgba(60, 64, 67, 0.3), 0px 1px 3px 1px rgba(60, 64, 67, 0.15);\n",
              "      fill: #174EA6;\n",
              "    }\n",
              "\n",
              "    [theme=dark] .colab-df-convert {\n",
              "      background-color: #3B4455;\n",
              "      fill: #D2E3FC;\n",
              "    }\n",
              "\n",
              "    [theme=dark] .colab-df-convert:hover {\n",
              "      background-color: #434B5C;\n",
              "      box-shadow: 0px 1px 3px 1px rgba(0, 0, 0, 0.15);\n",
              "      filter: drop-shadow(0px 1px 2px rgba(0, 0, 0, 0.3));\n",
              "      fill: #FFFFFF;\n",
              "    }\n",
              "  </style>\n",
              "\n",
              "      <script>\n",
              "        const buttonEl =\n",
              "          document.querySelector('#df-f783a43a-ef7c-4aa2-b7ce-4b617d74e285 button.colab-df-convert');\n",
              "        buttonEl.style.display =\n",
              "          google.colab.kernel.accessAllowed ? 'block' : 'none';\n",
              "\n",
              "        async function convertToInteractive(key) {\n",
              "          const element = document.querySelector('#df-f783a43a-ef7c-4aa2-b7ce-4b617d74e285');\n",
              "          const dataTable =\n",
              "            await google.colab.kernel.invokeFunction('convertToInteractive',\n",
              "                                                     [key], {});\n",
              "          if (!dataTable) return;\n",
              "\n",
              "          const docLinkHtml = 'Like what you see? Visit the ' +\n",
              "            '<a target=\"_blank\" href=https://colab.research.google.com/notebooks/data_table.ipynb>data table notebook</a>'\n",
              "            + ' to learn more about interactive tables.';\n",
              "          element.innerHTML = '';\n",
              "          dataTable['output_type'] = 'display_data';\n",
              "          await google.colab.output.renderOutput(dataTable, element);\n",
              "          const docLink = document.createElement('div');\n",
              "          docLink.innerHTML = docLinkHtml;\n",
              "          element.appendChild(docLink);\n",
              "        }\n",
              "      </script>\n",
              "    </div>\n",
              "  </div>\n",
              "  "
            ]
          },
          "metadata": {},
          "execution_count": 13
        }
      ]
    },
    {
      "source": [
        "## Build Data Loader"
      ],
      "cell_type": "markdown",
      "metadata": {
        "id": "32aYiNIT9SAV"
      }
    },
    {
      "cell_type": "code",
      "execution_count": 14,
      "metadata": {
        "id": "yABwtalt9SAW"
      },
      "outputs": [],
      "source": [
        "def load_and_standardize_data(data):\n",
        "    # read in from csv\n",
        "    df = data #pd.read_csv(path, sep=',')\n",
        "    # replace nan with -99\n",
        "    df = df.fillna(-99)\n",
        "    df = df.values.reshape(-1, df.shape[1]).astype('float32')\n",
        "    # randomly split\n",
        "    X_train, X_test = train_test_split(df, test_size=0.1, random_state=42)\n",
        "    # standardize values\n",
        "    #scaler = preprocessing.MinMaxScaler()\n",
        "    #X_train = scaler.fit_transform(X_train)\n",
        "    #X_test = scaler.transform(X_test)   \n",
        "    return X_train, X_test #, scaler"
      ]
    },
    {
      "cell_type": "code",
      "execution_count": 15,
      "metadata": {
        "id": "cLYngyW-9SAY"
      },
      "outputs": [],
      "source": [
        "from torch.utils.data import Dataset, DataLoader\n",
        "class DataBuilder(Dataset):\n",
        "    def __init__(self, df, train=True):\n",
        "        self.X_train, self.X_test = load_and_standardize_data(df) #, self.standardizer = load_and_standardize_data(df)\n",
        "        if train:\n",
        "            self.x = torch.from_numpy(self.X_train)\n",
        "            self.len=self.x.shape[0]\n",
        "        else:\n",
        "            self.x = torch.from_numpy(self.X_test)\n",
        "            self.len=self.x.shape[0]\n",
        "        del self.X_train\n",
        "        del self.X_test \n",
        "    def __getitem__(self,index):      \n",
        "        return self.x[index]\n",
        "    def __len__(self):\n",
        "        return self.len"
      ]
    },
    {
      "cell_type": "code",
      "execution_count": 16,
      "metadata": {
        "id": "iI8HhO6t9SAY"
      },
      "outputs": [],
      "source": [
        "traindata_set=DataBuilder(df_base[0:1800][['x0','x1','x2','x3','z0','y']], train=True)\n",
        "testdata_set=DataBuilder(df_base[1800:2000][['x0','x1','x2','x3','z0','y']], train=True)\n",
        "\n",
        "trainloader=DataLoader(dataset=traindata_set,batch_size=1024*2)\n",
        "testloader=DataLoader(dataset=testdata_set,batch_size=1024*2)"
      ]
    },
    {
      "cell_type": "code",
      "execution_count": 17,
      "metadata": {
        "colab": {
          "base_uri": "https://localhost:8080/"
        },
        "id": "FTA700gk9SAZ",
        "outputId": "c3474677-f91b-4df7-cd4d-d3e54b6b0783"
      },
      "outputs": [
        {
          "output_type": "execute_result",
          "data": {
            "text/plain": [
              "(torch.Tensor, torch.Tensor)"
            ]
          },
          "metadata": {},
          "execution_count": 17
        }
      ],
      "source": [
        "type(trainloader.dataset.x), type(testloader.dataset.x)"
      ]
    },
    {
      "cell_type": "code",
      "execution_count": 18,
      "metadata": {
        "colab": {
          "base_uri": "https://localhost:8080/"
        },
        "id": "dkG2kODT9SAZ",
        "outputId": "14703068-ed89-4a51-edcc-654409feed1f"
      },
      "outputs": [
        {
          "output_type": "execute_result",
          "data": {
            "text/plain": [
              "(torch.Size([1620, 6]), torch.Size([180, 6]))"
            ]
          },
          "metadata": {},
          "execution_count": 18
        }
      ],
      "source": [
        "trainloader.dataset.x.shape, testloader.dataset.x.shape"
      ]
    },
    {
      "cell_type": "code",
      "execution_count": 19,
      "metadata": {
        "colab": {
          "base_uri": "https://localhost:8080/"
        },
        "id": "SFqp7Vjk9SAa",
        "outputId": "e7a67b94-8b7d-4173-c639-2ae9fdd776bf"
      },
      "outputs": [
        {
          "output_type": "execute_result",
          "data": {
            "text/plain": [
              "tensor([[ 1.3046,  2.0812,  2.8318,  2.0563,  1.1173,  0.0000],\n",
              "        [-1.1824,  2.6373,  4.7046,  2.9467,  2.6975,  1.0000],\n",
              "        [ 2.1301,  1.4634,  1.3557,  1.0256,  0.0321,  0.0000],\n",
              "        ...,\n",
              "        [ 0.1523, -0.5893,  1.5579,  0.7891,  0.4329,  0.0000],\n",
              "        [ 1.3583,  1.0012,  1.0651,  0.3627,  0.2294,  0.0000],\n",
              "        [ 1.6808,  1.3451,  0.4266,  1.1316,  0.9263,  0.0000]])"
            ]
          },
          "metadata": {},
          "execution_count": 19
        }
      ],
      "source": [
        "trainloader.dataset.x"
      ]
    },
    {
      "source": [
        "## Build model"
      ],
      "cell_type": "markdown",
      "metadata": {
        "id": "2-vutGg_9SAa"
      }
    },
    {
      "cell_type": "code",
      "execution_count": 20,
      "metadata": {
        "id": "bU2fP0b59SAa"
      },
      "outputs": [],
      "source": [
        "class Autoencoder(nn.Module):\n",
        "    def __init__(self,D_in,H=50,H2=12,latent_dim=3):\n",
        "        \n",
        "        #Encoder\n",
        "        super(Autoencoder,self).__init__()\n",
        "        #self.linear1=nn.Linear(D_in+1,H)\n",
        "        self.linear1=nn.Linear(D_in,H)\n",
        "        self.lin_bn1 = nn.BatchNorm1d(num_features=H)\n",
        "        self.linear2=nn.Linear(H,H2)\n",
        "        self.lin_bn2 = nn.BatchNorm1d(num_features=H2)\n",
        "        self.linear3=nn.Linear(H2,H2)\n",
        "        self.lin_bn3 = nn.BatchNorm1d(num_features=H2)\n",
        "        \n",
        "        # Latent vectors mu and sigma\n",
        "        self.fc1 = nn.Linear(H2, latent_dim)\n",
        "        self.bn1 = nn.BatchNorm1d(num_features=latent_dim)\n",
        "        self.fc21 = nn.Linear(latent_dim, latent_dim)\n",
        "        self.fc22 = nn.Linear(latent_dim, latent_dim)\n",
        "\n",
        "        # Sampling vector\n",
        "        #self.fc3 = nn.Linear(latent_dim+1, latent_dim)\n",
        "        self.fc3 = nn.Linear(latent_dim, latent_dim)\n",
        "        self.fc_bn3 = nn.BatchNorm1d(latent_dim)\n",
        "        self.fc4 = nn.Linear(latent_dim, H2)\n",
        "        self.fc_bn4 = nn.BatchNorm1d(H2)\n",
        "        \n",
        "        # Decoder\n",
        "        self.linear4=nn.Linear(H2,H2)\n",
        "        self.lin_bn4 = nn.BatchNorm1d(num_features=H2)\n",
        "        self.linear5=nn.Linear(H2,H)\n",
        "        self.lin_bn5 = nn.BatchNorm1d(num_features=H)\n",
        "        self.linear6=nn.Linear(H,D_in)\n",
        "        self.lin_bn6 = nn.BatchNorm1d(num_features=D_in)\n",
        "        \n",
        "        self.relu = nn.ReLU()\n",
        "        \n",
        "    def encode(self, x):    \n",
        "    #def encode(self, x,b):\n",
        "        #x_m = torch.cat((x,torch.zeros(x.shape[0],1).to(device) + b),1)   \n",
        "        #lin1 = self.relu(self.lin_bn1(self.linear1(x_m)))\n",
        "        lin1 = self.relu(self.lin_bn1(self.linear1(x)))\n",
        "        lin2 = self.relu(self.lin_bn2(self.linear2(lin1)))\n",
        "        lin3 = self.relu(self.lin_bn3(self.linear3(lin2)))\n",
        "\n",
        "        fc1 = F.relu(self.bn1(self.fc1(lin3)))\n",
        "\n",
        "        r1 = self.fc21(fc1)\n",
        "        r2 = self.fc22(fc1)\n",
        "        \n",
        "        return r1, r2\n",
        "    \n",
        "    def reparameterize(self, mu, logvar):\n",
        "        if self.training:\n",
        "            std = logvar.mul(0.5).exp_()\n",
        "            eps = Variable(std.data.new(std.size()).normal_())\n",
        "            return eps.mul(std).add_(mu)\n",
        "        else:\n",
        "            return mu\n",
        "        \n",
        "    def decode(self, z):\n",
        "    #def decode(self, z,b):\n",
        "        #z_m = torch.cat((z,torch.zeros(z.shape[0],1).to(device) + b),1) \n",
        "        #fc3 = self.relu(self.fc_bn3(self.fc3(z_m)))\n",
        "        fc3 = self.relu(self.fc_bn3(self.fc3(z)))\n",
        "        fc4 = self.relu(self.fc_bn4(self.fc4(fc3)))\n",
        "\n",
        "        lin4 = self.relu(self.lin_bn4(self.linear4(fc4)))\n",
        "        lin5 = self.relu(self.lin_bn5(self.linear5(lin4)))\n",
        "        #return self.lin_bn6(self.linear6(lin5))\n",
        "        return self.linear6(lin5)\n",
        "\n",
        "\n",
        "    def forward(self, x):\n",
        "    #def forward(self, x,b):\n",
        "        #mu, logvar = self.encode(x,b)\n",
        "        mu, logvar = self.encode(x)\n",
        "        z = self.reparameterize(mu, logvar)\n",
        "        #return self.decode(z,b), mu, logvar\n",
        "        return self.decode(z), mu, logvar"
      ]
    },
    {
      "cell_type": "code",
      "execution_count": 21,
      "metadata": {
        "id": "XhExhANE9SAb"
      },
      "outputs": [],
      "source": [
        "class customLoss(nn.Module):\n",
        "    def __init__(self):\n",
        "        super(customLoss, self).__init__()\n",
        "        self.mse_loss = nn.MSELoss(reduction=\"sum\")\n",
        "    \n",
        "    def forward(self, x_recon, x, mu, logvar):\n",
        "        loss_MSE = self.mse_loss(x_recon, x)\n",
        "        loss_KLD = -0.5 * torch.sum(1 + logvar - mu.pow(2) - logvar.exp())\n",
        "\n",
        "        return loss_MSE + loss_KLD"
      ]
    },
    {
      "source": [
        "If you want to better understand the variational autoencoder technique, look [here](https://towardsdatascience.com/understanding-variational-autoencoders-vaes-f70510919f73).\n",
        "\n",
        "For better understanding this AutoencoderClass, let me go briefly through it. This is a variational autoencoder (VAE) with two hidden layers, which (by default, but you can change this) 50 and then 12 activations. The latent factors are set to 3 (you can change that, too). So we're first exploding our initially 14 variables to 50 activations, then condensing it to 12, then to 3. From these 3 latent factors we then sample to recreate the original 14 values. We do that by inflating the 3 latent factors back to 12, then 50 and finally 14 activations (we decode the latent factors so to speak). With this reconstructed batch (recon_batch) we compare it with the original batch, computate our loss and adjust the weights and biases via our gradient (our optimizer here will be Adam). "
      ],
      "cell_type": "markdown",
      "metadata": {
        "id": "CCAQyyp89SAb"
      }
    },
    {
      "cell_type": "code",
      "execution_count": 22,
      "metadata": {
        "id": "Gdl38w2i9SAb"
      },
      "outputs": [],
      "source": [
        "D_in = trainloader.dataset.x.shape[1]\n",
        "H = D_in*30\n",
        "H2 = int(H/2)\n",
        "latent_dim = 3\n",
        "gen_model = Autoencoder(D_in, H, H2,latent_dim).to(device)\n",
        "optimizer = optim.Adam(gen_model.parameters(), lr=1e-3)"
      ]
    },
    {
      "cell_type": "code",
      "execution_count": 23,
      "metadata": {
        "id": "d96ThQ7J9SAb"
      },
      "outputs": [],
      "source": [
        "loss_mse = customLoss()"
      ]
    },
    {
      "source": [
        "## Train Model"
      ],
      "cell_type": "markdown",
      "metadata": {
        "id": "xQwlLmY39SAc"
      }
    },
    {
      "cell_type": "code",
      "execution_count": 24,
      "metadata": {
        "id": "jiUSamsS9SAc"
      },
      "outputs": [],
      "source": [
        "epochs = 5000\n",
        "log_interval = 50\n",
        "val_losses = []\n",
        "train_losses = []\n",
        "test_losses = []"
      ]
    },
    {
      "cell_type": "code",
      "execution_count": 25,
      "metadata": {
        "id": "-MKqifS89SAc"
      },
      "outputs": [],
      "source": [
        "def train(epoch):\n",
        "    gen_model.train()\n",
        "    train_loss = 0\n",
        "    for batch_idx, data in enumerate(trainloader):\n",
        "        data = data.to(device)\n",
        "        optimizer.zero_grad()\n",
        "        #b = torch.tensor(int(batch_idx/100)/400,dtype=torch.float32).to(device)\n",
        "        recon_batch, mu, logvar = gen_model(data)\n",
        "        loss = loss_mse(recon_batch, data, mu, logvar)\n",
        "        loss.backward()\n",
        "        train_loss += loss.item()\n",
        "        optimizer.step()\n",
        "    if epoch % 200 == 0:        \n",
        "        print('====> Epoch: {} Average training loss: {:.4f}'.format(\n",
        "            epoch, train_loss / len(trainloader.dataset)))\n",
        "        train_losses.append(train_loss / len(trainloader.dataset))"
      ]
    },
    {
      "cell_type": "code",
      "execution_count": 26,
      "metadata": {
        "id": "oMBQ4_q99SAd"
      },
      "outputs": [],
      "source": [
        "def test(epoch):\n",
        "    with torch.no_grad():\n",
        "        test_loss = 0\n",
        "        for batch_idx, data in enumerate(testloader):\n",
        "            data = data.to(device)\n",
        "            optimizer.zero_grad()\n",
        "            #b = torch.tensor((int(batch_idx+1800)/100)/400,dtype=torch.float32).to(device)\n",
        "            recon_batch, mu, logvar = gen_model(data)\n",
        "            loss = loss_mse(recon_batch, data, mu, logvar)\n",
        "            test_loss += loss.item()\n",
        "            if epoch % 200 == 0:        \n",
        "                print('====> Epoch: {} Average test loss: {:.4f}'.format(\n",
        "                    epoch, test_loss / len(testloader.dataset)))\n",
        "            test_losses.append(test_loss / len(testloader.dataset))"
      ]
    },
    {
      "cell_type": "code",
      "execution_count": 27,
      "metadata": {
        "colab": {
          "base_uri": "https://localhost:8080/"
        },
        "id": "sNJeQdHb9SAd",
        "outputId": "f25af5d6-d2c4-43a5-f8ca-34c7af5280fe"
      },
      "outputs": [
        {
          "output_type": "stream",
          "name": "stdout",
          "text": [
            "====> Epoch: 200 Average training loss: 5.9326\n",
            "====> Epoch: 200 Average test loss: 5.9929\n",
            "====> Epoch: 400 Average training loss: 5.6774\n",
            "====> Epoch: 400 Average test loss: 5.7501\n",
            "====> Epoch: 600 Average training loss: 5.2976\n",
            "====> Epoch: 600 Average test loss: 5.2959\n",
            "====> Epoch: 800 Average training loss: 5.1087\n",
            "====> Epoch: 800 Average test loss: 4.9952\n",
            "====> Epoch: 1000 Average training loss: 4.9880\n",
            "====> Epoch: 1000 Average test loss: 5.0207\n",
            "====> Epoch: 1200 Average training loss: 4.9012\n",
            "====> Epoch: 1200 Average test loss: 5.0838\n",
            "====> Epoch: 1400 Average training loss: 4.8210\n",
            "====> Epoch: 1400 Average test loss: 5.1249\n",
            "====> Epoch: 1600 Average training loss: 4.7870\n",
            "====> Epoch: 1600 Average test loss: 5.1546\n",
            "====> Epoch: 1800 Average training loss: 4.7767\n",
            "====> Epoch: 1800 Average test loss: 5.2970\n",
            "====> Epoch: 2000 Average training loss: 4.8010\n",
            "====> Epoch: 2000 Average test loss: 5.2742\n",
            "====> Epoch: 2200 Average training loss: 4.7704\n",
            "====> Epoch: 2200 Average test loss: 5.2805\n",
            "====> Epoch: 2400 Average training loss: 4.7527\n",
            "====> Epoch: 2400 Average test loss: 5.2125\n",
            "====> Epoch: 2600 Average training loss: 4.7847\n",
            "====> Epoch: 2600 Average test loss: 5.1594\n",
            "====> Epoch: 2800 Average training loss: 4.7533\n",
            "====> Epoch: 2800 Average test loss: 5.1938\n",
            "====> Epoch: 3000 Average training loss: 4.7508\n",
            "====> Epoch: 3000 Average test loss: 5.4207\n",
            "====> Epoch: 3200 Average training loss: 4.7773\n",
            "====> Epoch: 3200 Average test loss: 5.1790\n",
            "====> Epoch: 3400 Average training loss: 4.7457\n",
            "====> Epoch: 3400 Average test loss: 5.3541\n",
            "====> Epoch: 3600 Average training loss: 4.7492\n",
            "====> Epoch: 3600 Average test loss: 5.3042\n",
            "====> Epoch: 3800 Average training loss: 4.7530\n",
            "====> Epoch: 3800 Average test loss: 5.3911\n",
            "====> Epoch: 4000 Average training loss: 4.7569\n",
            "====> Epoch: 4000 Average test loss: 5.4043\n",
            "====> Epoch: 4200 Average training loss: 4.7438\n",
            "====> Epoch: 4200 Average test loss: 5.4181\n",
            "====> Epoch: 4400 Average training loss: 4.7572\n",
            "====> Epoch: 4400 Average test loss: 5.4564\n",
            "====> Epoch: 4600 Average training loss: 4.6969\n",
            "====> Epoch: 4600 Average test loss: 5.5285\n",
            "====> Epoch: 4800 Average training loss: 4.7411\n",
            "====> Epoch: 4800 Average test loss: 5.2906\n",
            "====> Epoch: 5000 Average training loss: 4.7477\n",
            "====> Epoch: 5000 Average test loss: 5.3844\n"
          ]
        }
      ],
      "source": [
        "for epoch in range(1, epochs + 1):\n",
        "    train(epoch)\n",
        "    test(epoch)"
      ]
    },
    {
      "cell_type": "code",
      "source": [
        "with torch.no_grad():\n",
        "    for batch_idx, data in enumerate(testloader):\n",
        "        data = data.to(device)\n",
        "        optimizer.zero_grad()\n",
        "        recon_batch, mu, logvar = gen_model(data)"
      ],
      "metadata": {
        "id": "4WjuckQSGu1J"
      },
      "execution_count": 28,
      "outputs": []
    },
    {
      "cell_type": "code",
      "source": [
        "sigma = torch.exp(logvar/2)"
      ],
      "metadata": {
        "id": "shqwMPVKG5BP"
      },
      "execution_count": 29,
      "outputs": []
    },
    {
      "cell_type": "code",
      "source": [
        "# sample z from q\n",
        "no_samples = 20\n",
        "q = torch.distributions.Normal(mu.mean(axis=0), sigma.mean(axis=0))\n",
        "z = q.rsample(sample_shape=torch.Size([no_samples]))"
      ],
      "metadata": {
        "id": "mqicpyh7G-S2"
      },
      "execution_count": 30,
      "outputs": []
    },
    {
      "cell_type": "code",
      "source": [
        "with torch.no_grad():\n",
        "    fake_data = gen_model.decode(z).cpu().numpy()"
      ],
      "metadata": {
        "id": "ENplsaaqHDmv"
      },
      "execution_count": 31,
      "outputs": []
    },
    {
      "cell_type": "code",
      "execution_count": 32,
      "metadata": {
        "colab": {
          "base_uri": "https://localhost:8080/",
          "height": 676
        },
        "id": "0zLx6LGs9SAr",
        "outputId": "19bcbcdc-dc8d-4a26-9b6c-ff995e89c78b"
      },
      "outputs": [
        {
          "output_type": "execute_result",
          "data": {
            "text/plain": [
              "          x0        x1        x2        x3        z0         y\n",
              "0   1.183618  1.819824  1.798464  1.705423  1.675081  0.720476\n",
              "1   2.293690  0.968809  0.491218  0.838723  0.931012 -0.003740\n",
              "2   3.598750  2.223493  1.630190  1.788957  1.877103  0.833697\n",
              "3   1.206093  1.835171  0.902189  1.047980  1.139378  0.231359\n",
              "4   1.179745  2.160658  1.950702  1.846617  1.811635  0.801842\n",
              "5   1.804424  1.420014  0.443166  0.823729  0.932019  0.023439\n",
              "6   1.214790  1.829645  0.919177  1.058901  1.151451  0.242767\n",
              "7   1.183684  1.818932  1.797109  1.704245  1.674166  0.719715\n",
              "8   0.437416 -0.256701  1.239395  1.277857  1.265676  0.219344\n",
              "9   1.710498 -0.329435  1.347283  1.352215  1.336947  0.282310\n",
              "10  1.171841  1.913568  1.889711  1.781305  1.733472  0.763536\n",
              "11  3.730499  1.799522  1.825920  1.803053  1.871417  0.867827\n",
              "12  2.291513  3.178242  1.695912  1.917142  1.903561  0.847216\n",
              "13 -0.248396  0.221593  1.301070  1.071743  1.148145  0.147218\n",
              "14  0.482335 -0.278506  1.235745  1.291789  1.269185  0.222382\n",
              "15  1.202554  1.762207  1.197856  1.250273  1.325460  0.408866\n",
              "16 -0.585431  1.406385  1.139672  0.932853  0.980997  0.062453\n",
              "17  2.129250  3.189061  1.718269  1.914005  1.902931  0.847615\n",
              "18  3.765590  1.178985  2.290710  1.922752  1.892524  0.932981\n",
              "19 -1.316059  2.110932  1.760442  1.857390  1.860074  0.749157"
            ],
            "text/html": [
              "\n",
              "  <div id=\"df-ff675a73-3fd3-46ee-8ec0-d37909269951\">\n",
              "    <div class=\"colab-df-container\">\n",
              "      <div>\n",
              "<style scoped>\n",
              "    .dataframe tbody tr th:only-of-type {\n",
              "        vertical-align: middle;\n",
              "    }\n",
              "\n",
              "    .dataframe tbody tr th {\n",
              "        vertical-align: top;\n",
              "    }\n",
              "\n",
              "    .dataframe thead th {\n",
              "        text-align: right;\n",
              "    }\n",
              "</style>\n",
              "<table border=\"1\" class=\"dataframe\">\n",
              "  <thead>\n",
              "    <tr style=\"text-align: right;\">\n",
              "      <th></th>\n",
              "      <th>x0</th>\n",
              "      <th>x1</th>\n",
              "      <th>x2</th>\n",
              "      <th>x3</th>\n",
              "      <th>z0</th>\n",
              "      <th>y</th>\n",
              "    </tr>\n",
              "  </thead>\n",
              "  <tbody>\n",
              "    <tr>\n",
              "      <th>0</th>\n",
              "      <td>1.183618</td>\n",
              "      <td>1.819824</td>\n",
              "      <td>1.798464</td>\n",
              "      <td>1.705423</td>\n",
              "      <td>1.675081</td>\n",
              "      <td>0.720476</td>\n",
              "    </tr>\n",
              "    <tr>\n",
              "      <th>1</th>\n",
              "      <td>2.293690</td>\n",
              "      <td>0.968809</td>\n",
              "      <td>0.491218</td>\n",
              "      <td>0.838723</td>\n",
              "      <td>0.931012</td>\n",
              "      <td>-0.003740</td>\n",
              "    </tr>\n",
              "    <tr>\n",
              "      <th>2</th>\n",
              "      <td>3.598750</td>\n",
              "      <td>2.223493</td>\n",
              "      <td>1.630190</td>\n",
              "      <td>1.788957</td>\n",
              "      <td>1.877103</td>\n",
              "      <td>0.833697</td>\n",
              "    </tr>\n",
              "    <tr>\n",
              "      <th>3</th>\n",
              "      <td>1.206093</td>\n",
              "      <td>1.835171</td>\n",
              "      <td>0.902189</td>\n",
              "      <td>1.047980</td>\n",
              "      <td>1.139378</td>\n",
              "      <td>0.231359</td>\n",
              "    </tr>\n",
              "    <tr>\n",
              "      <th>4</th>\n",
              "      <td>1.179745</td>\n",
              "      <td>2.160658</td>\n",
              "      <td>1.950702</td>\n",
              "      <td>1.846617</td>\n",
              "      <td>1.811635</td>\n",
              "      <td>0.801842</td>\n",
              "    </tr>\n",
              "    <tr>\n",
              "      <th>5</th>\n",
              "      <td>1.804424</td>\n",
              "      <td>1.420014</td>\n",
              "      <td>0.443166</td>\n",
              "      <td>0.823729</td>\n",
              "      <td>0.932019</td>\n",
              "      <td>0.023439</td>\n",
              "    </tr>\n",
              "    <tr>\n",
              "      <th>6</th>\n",
              "      <td>1.214790</td>\n",
              "      <td>1.829645</td>\n",
              "      <td>0.919177</td>\n",
              "      <td>1.058901</td>\n",
              "      <td>1.151451</td>\n",
              "      <td>0.242767</td>\n",
              "    </tr>\n",
              "    <tr>\n",
              "      <th>7</th>\n",
              "      <td>1.183684</td>\n",
              "      <td>1.818932</td>\n",
              "      <td>1.797109</td>\n",
              "      <td>1.704245</td>\n",
              "      <td>1.674166</td>\n",
              "      <td>0.719715</td>\n",
              "    </tr>\n",
              "    <tr>\n",
              "      <th>8</th>\n",
              "      <td>0.437416</td>\n",
              "      <td>-0.256701</td>\n",
              "      <td>1.239395</td>\n",
              "      <td>1.277857</td>\n",
              "      <td>1.265676</td>\n",
              "      <td>0.219344</td>\n",
              "    </tr>\n",
              "    <tr>\n",
              "      <th>9</th>\n",
              "      <td>1.710498</td>\n",
              "      <td>-0.329435</td>\n",
              "      <td>1.347283</td>\n",
              "      <td>1.352215</td>\n",
              "      <td>1.336947</td>\n",
              "      <td>0.282310</td>\n",
              "    </tr>\n",
              "    <tr>\n",
              "      <th>10</th>\n",
              "      <td>1.171841</td>\n",
              "      <td>1.913568</td>\n",
              "      <td>1.889711</td>\n",
              "      <td>1.781305</td>\n",
              "      <td>1.733472</td>\n",
              "      <td>0.763536</td>\n",
              "    </tr>\n",
              "    <tr>\n",
              "      <th>11</th>\n",
              "      <td>3.730499</td>\n",
              "      <td>1.799522</td>\n",
              "      <td>1.825920</td>\n",
              "      <td>1.803053</td>\n",
              "      <td>1.871417</td>\n",
              "      <td>0.867827</td>\n",
              "    </tr>\n",
              "    <tr>\n",
              "      <th>12</th>\n",
              "      <td>2.291513</td>\n",
              "      <td>3.178242</td>\n",
              "      <td>1.695912</td>\n",
              "      <td>1.917142</td>\n",
              "      <td>1.903561</td>\n",
              "      <td>0.847216</td>\n",
              "    </tr>\n",
              "    <tr>\n",
              "      <th>13</th>\n",
              "      <td>-0.248396</td>\n",
              "      <td>0.221593</td>\n",
              "      <td>1.301070</td>\n",
              "      <td>1.071743</td>\n",
              "      <td>1.148145</td>\n",
              "      <td>0.147218</td>\n",
              "    </tr>\n",
              "    <tr>\n",
              "      <th>14</th>\n",
              "      <td>0.482335</td>\n",
              "      <td>-0.278506</td>\n",
              "      <td>1.235745</td>\n",
              "      <td>1.291789</td>\n",
              "      <td>1.269185</td>\n",
              "      <td>0.222382</td>\n",
              "    </tr>\n",
              "    <tr>\n",
              "      <th>15</th>\n",
              "      <td>1.202554</td>\n",
              "      <td>1.762207</td>\n",
              "      <td>1.197856</td>\n",
              "      <td>1.250273</td>\n",
              "      <td>1.325460</td>\n",
              "      <td>0.408866</td>\n",
              "    </tr>\n",
              "    <tr>\n",
              "      <th>16</th>\n",
              "      <td>-0.585431</td>\n",
              "      <td>1.406385</td>\n",
              "      <td>1.139672</td>\n",
              "      <td>0.932853</td>\n",
              "      <td>0.980997</td>\n",
              "      <td>0.062453</td>\n",
              "    </tr>\n",
              "    <tr>\n",
              "      <th>17</th>\n",
              "      <td>2.129250</td>\n",
              "      <td>3.189061</td>\n",
              "      <td>1.718269</td>\n",
              "      <td>1.914005</td>\n",
              "      <td>1.902931</td>\n",
              "      <td>0.847615</td>\n",
              "    </tr>\n",
              "    <tr>\n",
              "      <th>18</th>\n",
              "      <td>3.765590</td>\n",
              "      <td>1.178985</td>\n",
              "      <td>2.290710</td>\n",
              "      <td>1.922752</td>\n",
              "      <td>1.892524</td>\n",
              "      <td>0.932981</td>\n",
              "    </tr>\n",
              "    <tr>\n",
              "      <th>19</th>\n",
              "      <td>-1.316059</td>\n",
              "      <td>2.110932</td>\n",
              "      <td>1.760442</td>\n",
              "      <td>1.857390</td>\n",
              "      <td>1.860074</td>\n",
              "      <td>0.749157</td>\n",
              "    </tr>\n",
              "  </tbody>\n",
              "</table>\n",
              "</div>\n",
              "      <button class=\"colab-df-convert\" onclick=\"convertToInteractive('df-ff675a73-3fd3-46ee-8ec0-d37909269951')\"\n",
              "              title=\"Convert this dataframe to an interactive table.\"\n",
              "              style=\"display:none;\">\n",
              "        \n",
              "  <svg xmlns=\"http://www.w3.org/2000/svg\" height=\"24px\"viewBox=\"0 0 24 24\"\n",
              "       width=\"24px\">\n",
              "    <path d=\"M0 0h24v24H0V0z\" fill=\"none\"/>\n",
              "    <path d=\"M18.56 5.44l.94 2.06.94-2.06 2.06-.94-2.06-.94-.94-2.06-.94 2.06-2.06.94zm-11 1L8.5 8.5l.94-2.06 2.06-.94-2.06-.94L8.5 2.5l-.94 2.06-2.06.94zm10 10l.94 2.06.94-2.06 2.06-.94-2.06-.94-.94-2.06-.94 2.06-2.06.94z\"/><path d=\"M17.41 7.96l-1.37-1.37c-.4-.4-.92-.59-1.43-.59-.52 0-1.04.2-1.43.59L10.3 9.45l-7.72 7.72c-.78.78-.78 2.05 0 2.83L4 21.41c.39.39.9.59 1.41.59.51 0 1.02-.2 1.41-.59l7.78-7.78 2.81-2.81c.8-.78.8-2.07 0-2.86zM5.41 20L4 18.59l7.72-7.72 1.47 1.35L5.41 20z\"/>\n",
              "  </svg>\n",
              "      </button>\n",
              "      \n",
              "  <style>\n",
              "    .colab-df-container {\n",
              "      display:flex;\n",
              "      flex-wrap:wrap;\n",
              "      gap: 12px;\n",
              "    }\n",
              "\n",
              "    .colab-df-convert {\n",
              "      background-color: #E8F0FE;\n",
              "      border: none;\n",
              "      border-radius: 50%;\n",
              "      cursor: pointer;\n",
              "      display: none;\n",
              "      fill: #1967D2;\n",
              "      height: 32px;\n",
              "      padding: 0 0 0 0;\n",
              "      width: 32px;\n",
              "    }\n",
              "\n",
              "    .colab-df-convert:hover {\n",
              "      background-color: #E2EBFA;\n",
              "      box-shadow: 0px 1px 2px rgba(60, 64, 67, 0.3), 0px 1px 3px 1px rgba(60, 64, 67, 0.15);\n",
              "      fill: #174EA6;\n",
              "    }\n",
              "\n",
              "    [theme=dark] .colab-df-convert {\n",
              "      background-color: #3B4455;\n",
              "      fill: #D2E3FC;\n",
              "    }\n",
              "\n",
              "    [theme=dark] .colab-df-convert:hover {\n",
              "      background-color: #434B5C;\n",
              "      box-shadow: 0px 1px 3px 1px rgba(0, 0, 0, 0.15);\n",
              "      filter: drop-shadow(0px 1px 2px rgba(0, 0, 0, 0.3));\n",
              "      fill: #FFFFFF;\n",
              "    }\n",
              "  </style>\n",
              "\n",
              "      <script>\n",
              "        const buttonEl =\n",
              "          document.querySelector('#df-ff675a73-3fd3-46ee-8ec0-d37909269951 button.colab-df-convert');\n",
              "        buttonEl.style.display =\n",
              "          google.colab.kernel.accessAllowed ? 'block' : 'none';\n",
              "\n",
              "        async function convertToInteractive(key) {\n",
              "          const element = document.querySelector('#df-ff675a73-3fd3-46ee-8ec0-d37909269951');\n",
              "          const dataTable =\n",
              "            await google.colab.kernel.invokeFunction('convertToInteractive',\n",
              "                                                     [key], {});\n",
              "          if (!dataTable) return;\n",
              "\n",
              "          const docLinkHtml = 'Like what you see? Visit the ' +\n",
              "            '<a target=\"_blank\" href=https://colab.research.google.com/notebooks/data_table.ipynb>data table notebook</a>'\n",
              "            + ' to learn more about interactive tables.';\n",
              "          element.innerHTML = '';\n",
              "          dataTable['output_type'] = 'display_data';\n",
              "          await google.colab.output.renderOutput(dataTable, element);\n",
              "          const docLink = document.createElement('div');\n",
              "          docLink.innerHTML = docLinkHtml;\n",
              "          element.appendChild(docLink);\n",
              "        }\n",
              "      </script>\n",
              "    </div>\n",
              "  </div>\n",
              "  "
            ]
          },
          "metadata": {},
          "execution_count": 32
        }
      ],
      "source": [
        "df_fake = pd.DataFrame(fake_data, columns = ['x0','x1','x2','x3','z0','y'])\n",
        "df_fake"
      ]
    },
    {
      "cell_type": "markdown",
      "source": [
        "## mu, sigma 추이 보기..."
      ],
      "metadata": {
        "id": "zqgOj8JtOoOB"
      }
    },
    {
      "cell_type": "code",
      "source": [
        "import matplotlib.pyplot as plt\n",
        "\n",
        "mus = []\n",
        "sigs = []\n",
        "X_train = torch.tensor(df_base[0:40000][['x0','x1','x2','x3','z0','y']].values, dtype=torch.float32).to(device)\n",
        "\n",
        "gen_model.eval()\n",
        "bucket_size = 100\n",
        "bucket_count = int(X_train.shape[0]/bucket_size)\n",
        "\n",
        "for batch_idx in range(bucket_count):\n",
        "    data = X_train[batch_idx*bucket_size:batch_idx*bucket_size+bucket_size]\n",
        "    data = data.to(device)\n",
        "    optimizer.zero_grad()\n",
        "    recon_batch, mu, logvar = gen_model(data)\n",
        "    sigma = torch.exp(logvar/2)\n",
        "    mus.append(mu.mean(axis=0).cpu().data.numpy())\n",
        "    sigs.append(sigma.mean(axis=0).cpu().data.numpy())\n",
        "    #print(batch_idx,mus[-1])\n",
        "mus = np.asarray(mus)\n",
        "sigs = np.asarray(sigs)\n",
        "\n",
        "plt.figure(figsize=(6,6))\n",
        "plt.subplot(211)\n",
        "plt.plot(mus)\n",
        "plt.title('mu vs buckets')\n",
        "plt.subplot(212)\n",
        "plt.plot(sigs)\n",
        "plt.title('sigma vs buckets')\n",
        "plt.tight_layout()\n",
        "plt.show()"
      ],
      "metadata": {
        "colab": {
          "base_uri": "https://localhost:8080/",
          "height": 601
        },
        "id": "KqnwszR1Oq8R",
        "outputId": "8fa22868-c8f0-4c3b-e6a1-93e949bb7223"
      },
      "execution_count": 33,
      "outputs": [
        {
          "output_type": "display_data",
          "data": {
            "text/plain": [
              "<Figure size 600x600 with 2 Axes>"
            ],
            "image/png": "[encoded data removed]"
          },
          "metadata": {}
        }
      ]
    },
    {
      "cell_type": "code",
      "source": [
        "mus.shape"
      ],
      "metadata": {
        "id": "mIjBGri5iW2o",
        "outputId": "a06d38dd-09f2-431b-e672-153cc82876f1",
        "colab": {
          "base_uri": "https://localhost:8080/"
        }
      },
      "execution_count": 34,
      "outputs": [
        {
          "output_type": "execute_result",
          "data": {
            "text/plain": [
              "(400, 3)"
            ]
          },
          "metadata": {},
          "execution_count": 34
        }
      ]
    },
    {
      "cell_type": "markdown",
      "source": [
        "+ Trainset의 mu,sigma 추이"
      ],
      "metadata": {
        "id": "Bsql9or5_rdu"
      }
    },
    {
      "cell_type": "code",
      "source": [
        "mus = []\n",
        "sigs = []\n",
        "X_train = torch.tensor(df_base[0:4000][['x0','x1','x2','x3','z0','y']].values, dtype=torch.float32).to(device)\n",
        "\n",
        "bucket_size = 100\n",
        "bucket_count = int(X_train.shape[0]/bucket_size)\n",
        "\n",
        "for batch_idx in range(bucket_count):\n",
        "    data = X_train[batch_idx*bucket_size:batch_idx*bucket_size+bucket_size]\n",
        "    data = data.to(device)\n",
        "    optimizer.zero_grad()\n",
        "    recon_batch, mu, logvar = gen_model(data)\n",
        "    sigma = torch.exp(logvar/2)\n",
        "    mus.append(mu.mean(axis=0).cpu().data.numpy())\n",
        "    sigs.append(sigma.mean(axis=0).cpu().data.numpy())\n",
        "    #print(batch_idx,mus[-1])\n",
        "mus = np.asarray(mus)\n",
        "sigs = np.asarray(sigs)\n",
        "\n",
        "plt.figure(figsize=(6,6))\n",
        "plt.subplot(211)\n",
        "plt.plot(mus)\n",
        "plt.title('mu vs buckets')\n",
        "plt.subplot(212)\n",
        "plt.plot(sigs)\n",
        "plt.title('sigma vs buckets')\n",
        "plt.tight_layout()\n",
        "plt.show()\n",
        "\n"
      ],
      "metadata": {
        "id": "5v8vqgTu_wHB",
        "outputId": "dcb96d31-1aea-4d45-da59-8c59532cc9f9",
        "colab": {
          "base_uri": "https://localhost:8080/",
          "height": 601
        }
      },
      "execution_count": 35,
      "outputs": [
        {
          "output_type": "display_data",
          "data": {
            "text/plain": [
              "<Figure size 600x600 with 2 Axes>"
            ],
            "image/png": "[encoded data removed]"
          },
          "metadata": {}
        }
      ]
    },
    {
      "cell_type": "markdown",
      "source": [
        "+ Trainset의 mu,sigma 추이\n",
        "+ bucket count가 20개로 매우 적다. 이를 극복하기 위해서, 하나의 bucket에 대해 80%를 random 복원 sampling 하여 bucket count의 증가 효과를..."
      ],
      "metadata": {
        "id": "mUs-Wh4QDU0k"
      }
    },
    {
      "cell_type": "code",
      "source": [
        "mus = []\n",
        "sigs = []\n",
        "X_train = torch.tensor(df_base[0:4000][['x0','x1','x2','x3','z0','y']].values, dtype=torch.float32).to(device)\n",
        "bucket_size = 100\n",
        "bucket_count = int(X_train.shape[0]/bucket_size)\n",
        "gen_model.eval()\n",
        "for batch_idx in range(bucket_count):\n",
        "    data = X_train[batch_idx*bucket_size:batch_idx*bucket_size+bucket_size]\n",
        "    data = data.to(device)\n",
        "    optimizer.zero_grad()\n",
        "    for i in range(20):\n",
        "        s = np.random.choice(data.shape[0],int(data.shape[0]*0.8))\n",
        "        recon_batch, mu, logvar = gen_model(data[s])\n",
        "        sigma = torch.exp(logvar/2)\n",
        "        mus.append(mu.mean(axis=0).cpu().data.numpy())\n",
        "        sigs.append(sigma.mean(axis=0).cpu().data.numpy())\n",
        "    #print(batch_idx,mus[-1])\n",
        "mus = np.asarray(mus)\n",
        "sigs = np.asarray(sigs)\n",
        "\n",
        "plt.figure(figsize=(6,6))\n",
        "plt.subplot(211)\n",
        "plt.plot(mus)\n",
        "plt.title('mu vs buckets')\n",
        "plt.subplot(212)\n",
        "plt.plot(sigs)\n",
        "plt.title('sigma vs buckets')\n",
        "plt.tight_layout()\n",
        "plt.show()"
      ],
      "metadata": {
        "id": "MY5RFT6CDpkZ",
        "outputId": "e1ca0891-bffa-48d6-9cda-8ddf91fb911d",
        "colab": {
          "base_uri": "https://localhost:8080/",
          "height": 601
        }
      },
      "execution_count": 36,
      "outputs": [
        {
          "output_type": "display_data",
          "data": {
            "text/plain": [
              "<Figure size 600x600 with 2 Axes>"
            ],
            "image/png": "[encoded data removed]"
          },
          "metadata": {}
        }
      ]
    },
    {
      "cell_type": "markdown",
      "source": [
        "## LSTM으로 학습"
      ],
      "metadata": {
        "id": "3Qe_uj788pWP"
      }
    },
    {
      "cell_type": "code",
      "source": [
        "from torch.autograd import Variable\n",
        "from sklearn.preprocessing import MinMaxScaler\n",
        "\n",
        "def sliding_windows(data, seq_length):\n",
        "    x = []\n",
        "    y = []\n",
        "\n",
        "    for i in range(len(data)-seq_length-1):\n",
        "        _x = data[i:(i+seq_length)]\n",
        "        _y = data[i+seq_length,:]\n",
        "        x.append(_x)\n",
        "        y.append(_y)\n",
        "\n",
        "    return np.array(x),np.array(y)\n",
        "\n",
        "sc = MinMaxScaler()\n",
        "training_data = sc.fit_transform(mus)\n",
        "\n",
        "seq_length = 4\n",
        "x, y = sliding_windows(training_data, seq_length)\n",
        "\n",
        "train_size = int(len(y) * 0.67)\n",
        "test_size = len(y) - train_size\n",
        "\n",
        "dataX = Variable(torch.Tensor(np.array(x)))\n",
        "dataY = Variable(torch.Tensor(np.array(y)))\n",
        "\n",
        "trainX = Variable(torch.Tensor(np.array(x[0:train_size])))\n",
        "trainY = Variable(torch.Tensor(np.array(y[0:train_size])))\n",
        "\n",
        "testX = Variable(torch.Tensor(np.array(x[train_size:len(x)])))\n",
        "testY = Variable(torch.Tensor(np.array(y[train_size:len(y)])))"
      ],
      "metadata": {
        "id": "5VhOP3vY8t-u"
      },
      "execution_count": 42,
      "outputs": []
    },
    {
      "cell_type": "code",
      "source": [
        "class LSTM(nn.Module):\n",
        "\n",
        "    def __init__(self, num_classes, input_size, hidden_size, num_layers):\n",
        "        super(LSTM, self).__init__()\n",
        "        \n",
        "        self.num_classes = num_classes\n",
        "        self.num_layers = num_layers\n",
        "        self.input_size = input_size\n",
        "        self.hidden_size = hidden_size\n",
        "        self.seq_length = seq_length\n",
        "        \n",
        "        self.lstm = nn.LSTM(input_size=input_size, hidden_size=hidden_size,\n",
        "                            num_layers=num_layers, batch_first=True)\n",
        "        \n",
        "        self.fc = nn.Linear(hidden_size, num_classes)\n",
        "\n",
        "    def forward(self, x):\n",
        "        h_0 = Variable(torch.zeros(\n",
        "            self.num_layers, x.size(0), self.hidden_size))\n",
        "        \n",
        "        c_0 = Variable(torch.zeros(\n",
        "            self.num_layers, x.size(0), self.hidden_size))\n",
        "        \n",
        "        # Propagate input through LSTM\n",
        "        ula, (h_out, _) = self.lstm(x, (h_0, c_0))\n",
        "        \n",
        "        h_out = h_out.view(-1, self.hidden_size)\n",
        "        \n",
        "        out = self.fc(h_out)\n",
        "        \n",
        "        return out"
      ],
      "metadata": {
        "id": "gBoMjnsR8-mP"
      },
      "execution_count": 43,
      "outputs": []
    },
    {
      "cell_type": "code",
      "source": [
        "num_epochs = 2000\n",
        "learning_rate = 0.001\n",
        "\n",
        "input_size = 3\n",
        "hidden_size = 30\n",
        "num_layers = 1\n",
        "\n",
        "num_classes = 3\n",
        "\n",
        "lstm = LSTM(num_classes, input_size, hidden_size, num_layers)\n",
        "\n",
        "criterion = torch.nn.MSELoss()    # mean-squared error for regression\n",
        "optimizer = torch.optim.Adam(lstm.parameters(), lr=learning_rate)\n",
        "#optimizer = torch.optim.SGD(lstm.parameters(), lr=learning_rate)\n",
        "\n",
        "# Train the model\n",
        "for epoch in range(num_epochs):\n",
        "    outputs = lstm(trainX)\n",
        "    optimizer.zero_grad()\n",
        "    \n",
        "    # obtain the loss function\n",
        "    loss = criterion(outputs, trainY)\n",
        "    \n",
        "    loss.backward()\n",
        "    \n",
        "    optimizer.step()\n",
        "    if epoch % 100 == 0:\n",
        "      print(\"Epoch: %d, loss: %1.5f\" % (epoch, loss.item()))"
      ],
      "metadata": {
        "id": "jQBv83TA9Drj",
        "outputId": "330a1b6e-0d87-4039-9aed-b1b16ebbfea3",
        "colab": {
          "base_uri": "https://localhost:8080/"
        }
      },
      "execution_count": 45,
      "outputs": [
        {
          "output_type": "stream",
          "name": "stdout",
          "text": [
            "Epoch: 0, loss: 0.25358\n",
            "Epoch: 100, loss: 0.02198\n",
            "Epoch: 200, loss: 0.02116\n",
            "Epoch: 300, loss: 0.01998\n",
            "Epoch: 400, loss: 0.01832\n",
            "Epoch: 500, loss: 0.01742\n",
            "Epoch: 600, loss: 0.01732\n",
            "Epoch: 700, loss: 0.01727\n",
            "Epoch: 800, loss: 0.01723\n",
            "Epoch: 900, loss: 0.01720\n",
            "Epoch: 1000, loss: 0.01718\n",
            "Epoch: 1100, loss: 0.01716\n",
            "Epoch: 1200, loss: 0.01714\n",
            "Epoch: 1300, loss: 0.01712\n",
            "Epoch: 1400, loss: 0.01711\n",
            "Epoch: 1500, loss: 0.01709\n",
            "Epoch: 1600, loss: 0.01708\n",
            "Epoch: 1700, loss: 0.01706\n",
            "Epoch: 1800, loss: 0.01704\n",
            "Epoch: 1900, loss: 0.01702\n"
          ]
        }
      ]
    },
    {
      "cell_type": "code",
      "source": [
        "lstm.eval()\n",
        "train_predict = lstm(dataX)\n",
        "\n",
        "data_predict = train_predict.data.numpy()\n",
        "dataY_plot = dataY.data.numpy()\n",
        "\n",
        "data_predict = sc.inverse_transform(data_predict)\n",
        "dataY_plot = sc.inverse_transform(dataY_plot)\n",
        "\n",
        "plt.axvline(x=train_size, c='r', linestyle='--')\n",
        "\n",
        "plt.plot(dataY_plot)\n",
        "plt.plot(data_predict)\n",
        "\n",
        "plt.show()"
      ],
      "metadata": {
        "id": "pFvkuBXV93zg",
        "outputId": "35ebaaa0-f829-4f05-8e95-da864cc45183",
        "colab": {
          "base_uri": "https://localhost:8080/",
          "height": 434
        }
      },
      "execution_count": 46,
      "outputs": [
        {
          "output_type": "display_data",
          "data": {
            "text/plain": [
              "<Figure size 640x480 with 1 Axes>"
            ],
            "image/png": "[encoded data removed]"
          },
          "metadata": {}
        }
      ]
    },
    {
      "cell_type": "code",
      "source": [
        "a-"
      ],
      "metadata": {
        "colab": {
          "base_uri": "https://localhost:8080/",
          "height": 137
        },
        "id": "vnQOgcJVYdRw",
        "outputId": "0aa6566e-0621-4b27-d618-da0744ea2f42"
      },
      "execution_count": 37,
      "outputs": [
        {
          "output_type": "error",
          "ename": "SyntaxError",
          "evalue": "ignored",
          "traceback": [
            "\u001b[0;36m  File \u001b[0;32m\"<ipython-input-37-8742f66f81b5>\"\u001b[0;36m, line \u001b[0;32m1\u001b[0m\n\u001b[0;31m    a-\u001b[0m\n\u001b[0m      ^\u001b[0m\n\u001b[0;31mSyntaxError\u001b[0m\u001b[0;31m:\u001b[0m invalid syntax\n"
          ]
        }
      ]
    },
    {
      "cell_type": "code",
      "source": [
        "classifier_model = nn.Sequential(\n",
        "    nn.Linear(5, 20),\n",
        "    nn.ReLU(),\n",
        "    nn.Linear(20, 5),\n",
        "    nn.ReLU(),\n",
        "    nn.Linear(5, 1),\n",
        "    nn.Sigmoid()\n",
        ")"
      ],
      "metadata": {
        "id": "kIA0Y_ZAkcDG"
      },
      "execution_count": null,
      "outputs": []
    },
    {
      "cell_type": "markdown",
      "source": [
        "# 학습 및 전체 적용"
      ],
      "metadata": {
        "id": "bHxxKPvLex2P"
      }
    },
    {
      "cell_type": "code",
      "source": [
        "import numpy as np\n",
        "import pandas as pd\n",
        "import torch\n",
        "from torch.autograd import Variable\n",
        "import torch.nn as nn\n",
        "import torch.nn.functional as F\n",
        "import matplotlib.pyplot as plt\n",
        "import sys, os\n",
        "import math\n",
        "\n",
        "from torch.autograd import Variable\n",
        "from argparse import Namespace\n",
        "#from FRTrain_arch import Generator, DiscriminatorF, DiscriminatorR, weights_init_normal, test_model\n",
        "#from FRTrain_arch import weights_init_normal, test_model\n",
        "import warnings\n",
        "warnings.filterwarnings(\"ignore\")"
      ],
      "metadata": {
        "id": "CqsaQRtle2Zv"
      },
      "execution_count": null,
      "outputs": []
    },
    {
      "cell_type": "code",
      "source": [
        "X = df_base"
      ],
      "metadata": {
        "id": "qDYCNgBffrXc"
      },
      "execution_count": null,
      "outputs": []
    },
    {
      "cell_type": "code",
      "source": [
        "import copy\n",
        "import torch.optim as optim\n",
        "from tqdm import tqdm\n",
        "\n",
        "seed_everything()\n",
        "\n",
        "device = torch.device(\"cuda:0\" if torch.cuda.is_available() else \"cpu\")\n",
        "print(device)\n",
        "# Convert to 2D PyTorch tensors\n",
        "X_train = torch.tensor(X[0:1800][['x0','x1','x2','x3','z0']].values, dtype=torch.float32).to(device)\n",
        "y_train = torch.tensor(y[0:1800], dtype=torch.float32).reshape(-1, 1).to(device)\n",
        "\n",
        "X_test = torch.tensor(X[1800:2000][['x0','x1','x2','x3','z0']].values, dtype=torch.float32).to(device)\n",
        "y_test = torch.tensor(y[1800:2000], dtype=torch.float32).reshape(-1, 1).to(device)\n",
        " \n",
        "# Define the model\n",
        "classifier_model = nn.Sequential(\n",
        "    nn.Linear(5, 20),\n",
        "    nn.ReLU(),\n",
        "    nn.Linear(20, 5),\n",
        "    nn.ReLU(),\n",
        "    nn.Linear(5, 1),\n",
        "    nn.Sigmoid()\n",
        ").to(device)\n",
        " \n",
        "# loss function and optimizer\n",
        "loss_fn = nn.BCELoss()  # mean square error\n",
        "optimizer = optim.Adam(classifier_model.parameters(), lr=0.0001)\n",
        " \n",
        "n_epochs = 600   # number of epochs to run\n",
        "batch_size = 100  # size of each batch\n",
        "batch_start = torch.arange(0, len(X_train), batch_size)\n",
        " \n",
        "# Hold the best model\n",
        "best_mse = np.inf   # init to infinity\n",
        "best_weights = None\n",
        "history = []\n",
        " \n",
        "for epoch in tqdm(range(n_epochs)):\n",
        "    classifier_model.train()\n",
        "    with tqdm(batch_start, unit=\"batch\", mininterval=0, disable=True) as bar:\n",
        "        bar.set_description(f\"Epoch {epoch}\")\n",
        "        for start in bar:\n",
        "            # take a batch\n",
        "            X_batch = X_train[start:start+batch_size]\n",
        "            y_batch = y_train[start:start+batch_size]\n",
        "            # forward pass\n",
        "            y_pred = classifier_model(X_batch)\n",
        "            loss = loss_fn(y_pred, y_batch)\n",
        "            # backward pass\n",
        "            optimizer.zero_grad()\n",
        "            loss.backward()\n",
        "            # update weights\n",
        "            optimizer.step()\n",
        "            # print progress\n",
        "            bar.set_postfix(mse=float(loss))\n",
        "    # evaluate accuracy at end of each epoch\n",
        "    classifier_model.eval()\n",
        "    y_pred = classifier_model(X_test)\n",
        "    mse = loss_fn(y_pred, y_test)\n",
        "    mse = float(mse)\n",
        "    history.append(mse)\n",
        "    if mse < best_mse:\n",
        "        best_mse = mse\n",
        "        best_weights = copy.deepcopy(classifier_model.state_dict())\n",
        " \n",
        "# restore model and return best accuracy\n",
        "classifier_model.load_state_dict(best_weights)\n",
        "print(\"MSE: %.2f\" % best_mse)\n",
        "print(\"RMSE: %.2f\" % np.sqrt(best_mse))\n",
        "plt.plot(history)\n",
        "plt.show()"
      ],
      "metadata": {
        "id": "NfPQHvr3fB21"
      },
      "execution_count": null,
      "outputs": []
    },
    {
      "cell_type": "code",
      "source": [
        "from sklearn.metrics import r2_score,precision_recall_fscore_support,f1_score\n",
        "predicted_y = classifier_model(X_test)\n",
        "f1 = f1_score(y_test.cpu().data.numpy(),(predicted_y.cpu().data.numpy()> 0.5).astype(float))\n",
        "print('feature 5, test_f1',f1)"
      ],
      "metadata": {
        "id": "NOn1zM1bf_KY"
      },
      "execution_count": null,
      "outputs": []
    },
    {
      "cell_type": "markdown",
      "source": [
        "## Ref_model 학습"
      ],
      "metadata": {
        "id": "bdzKdqu6zxyd"
      }
    },
    {
      "cell_type": "code",
      "source": [
        "import copy\n",
        "import torch.optim as optim\n",
        "from tqdm import tqdm\n",
        "\n",
        "seed_everything()\n",
        "\n",
        "device = torch.device(\"cuda:0\" if torch.cuda.is_available() else \"cpu\")\n",
        "print(device)\n",
        "# Convert to 2D PyTorch tensors\n",
        "X_train = torch.tensor(X[0:1800][['x0','x1','x2','x3','z0']].values, dtype=torch.float32).to(device)\n",
        "y_train = torch.tensor(y[0:1800], dtype=torch.float32).reshape(-1, 1).to(device)\n",
        "\n",
        "X_test = torch.tensor(X[1800:2000][['x0','x1','x2','x3','z0']].values, dtype=torch.float32).to(device)\n",
        "y_test = torch.tensor(y[1800:2000], dtype=torch.float32).reshape(-1, 1).to(device)\n",
        " \n",
        "# Define the model\n",
        "ref_model = nn.Sequential(\n",
        "    nn.Linear(5, 20),\n",
        "    nn.ReLU(),\n",
        "    nn.Linear(20, 5),\n",
        "    nn.ReLU(),\n",
        "    nn.Linear(5, 1),\n",
        "    nn.Sigmoid()\n",
        ").to(device)\n",
        " \n",
        "# loss function and optimizer\n",
        "loss_fn = nn.BCELoss()  # mean square error\n",
        "optimizer = optim.Adam(ref_model.parameters(), lr=0.0001)\n",
        " \n",
        "n_epochs = 10   # number of epochs to run\n",
        "batch_size = 100  # size of each batch\n",
        "batch_start = torch.arange(0, len(X_train), batch_size)\n",
        " \n",
        "# Hold the best model\n",
        "best_mse = np.inf   # init to infinity\n",
        "best_weights = None\n",
        "history = []\n",
        " \n",
        "for epoch in tqdm(range(n_epochs)):\n",
        "    ref_model.train()\n",
        "    with tqdm(batch_start, unit=\"batch\", mininterval=0, disable=True) as bar:\n",
        "        bar.set_description(f\"Epoch {epoch}\")\n",
        "        for start in bar:\n",
        "            # take a batch\n",
        "            X_batch = X_train[start:start+batch_size]\n",
        "            y_batch = y_train[start:start+batch_size]\n",
        "            # forward pass\n",
        "            y_pred = ref_model(X_batch)\n",
        "            loss = loss_fn(y_pred, y_batch)\n",
        "            # backward pass\n",
        "            optimizer.zero_grad()\n",
        "            loss.backward()\n",
        "            # update weights\n",
        "            optimizer.step()\n",
        "            # print progress\n",
        "            bar.set_postfix(mse=float(loss))\n",
        "    # evaluate accuracy at end of each epoch\n",
        "    ref_model.eval()\n",
        "    y_pred = ref_model(X_test)\n",
        "    mse = loss_fn(y_pred, y_test)\n",
        "    mse = float(mse)\n",
        "    history.append(mse)\n",
        "    if mse < best_mse:\n",
        "        best_mse = mse\n",
        "        best_weights = copy.deepcopy(ref_model.state_dict())\n",
        " \n",
        "# restore model and return best accuracy\n",
        "ref_model.load_state_dict(best_weights)\n",
        "print(\"MSE: %.2f\" % best_mse)\n",
        "print(\"RMSE: %.2f\" % np.sqrt(best_mse))\n",
        "plt.plot(history)\n",
        "plt.show()"
      ],
      "metadata": {
        "id": "OGQLhi_Rz2EV"
      },
      "execution_count": null,
      "outputs": []
    },
    {
      "cell_type": "code",
      "source": [
        "from sklearn.metrics import r2_score,precision_recall_fscore_support,f1_score\n",
        "predicted_y = ref_model(X_test)\n",
        "f1 = f1_score(y_test.cpu().data.numpy(),(predicted_y.cpu().data.numpy()> 0.5).astype(float))\n",
        "print('feature 5, test_f1',f1)"
      ],
      "metadata": {
        "id": "hnUiv3yt0O2_"
      },
      "execution_count": null,
      "outputs": []
    },
    {
      "cell_type": "markdown",
      "source": [
        "# ks_test"
      ],
      "metadata": {
        "id": "X-yPHn17gHNz"
      }
    },
    {
      "cell_type": "code",
      "source": [
        "plt.style.use('bmh')\n",
        "\n",
        "def __ks_2samp2(sample1, sample2):\n",
        "    # Gets all observations\n",
        "    sample1 = np.sort(sample1)\n",
        "    sample2 = np.sort(sample2)\n",
        "    n1 = sample1.shape[0]\n",
        "    n2 = sample2.shape[0]   \n",
        "    data_all = np.concatenate([sample1, sample2])\n",
        "    cdf1 = np.searchsorted(sample1, data_all, side='right') / n1\n",
        "    cdf2 = np.searchsorted(sample2, data_all, side='right') / n2\n",
        "    # Evaluates the KS statistic\n",
        "    cddiffs = cdf1 - cdf2\n",
        "    minS = -np.min(cddiffs)\n",
        "    maxS = np.max(cddiffs)\n",
        "    ks_stat =  max(minS, maxS)\n",
        "    \n",
        "    #if ks_stat == minS:\n",
        "    #    ks_stat = -ks_stat\n",
        "    \n",
        "    # Calculates the P-Value based on the two-sided test\n",
        "    # The P-Value comes from the KS Distribution Survival Function (SF = 1-CDF)\n",
        "    m, n = float(n1), float(n2)\n",
        "    en = m * n / (m + n)\n",
        "    p_value = 0.0 #stats.kstwobign.sf(math.sqrt(en) * abs(ks_stat))\n",
        "    #p_value = stats.kstwobign.sf(en * abs(ks_stat))\n",
        "    return ks_stat,p_value\n",
        "\n",
        "def __ks_drift(ref_x,inf_x):\n",
        "    x_drift = np.zeros((ref_x.shape[1],2))\n",
        "    for i in range(ref_x.shape[1]):\n",
        "        #s, p = ks_2samp(ref_x[:,i],inf_x[:,i],mode='asymp')\n",
        "        s, p = __ks_2samp2(ref_x[:,i],inf_x[:,i])\n",
        "        x_drift[i,0] = s\n",
        "        x_drift[i,1] = p\n",
        "    return x_drift"
      ],
      "metadata": {
        "id": "vqj5YOMBgJuq"
      },
      "execution_count": null,
      "outputs": []
    },
    {
      "cell_type": "code",
      "source": [
        "from sklearn.feature_selection import mutual_info_regression\n",
        "\n",
        "def make_mi_scores(X, y, discrete_features):\n",
        "    mi_scores = mutual_info_regression(X, y, discrete_features=discrete_features)\n",
        "    mi_scores = pd.Series(mi_scores, name=\"MI Scores\", index=X.columns)\n",
        "    mi_scores = mi_scores.sort_values(ascending=False)\n",
        "    return mi_scores"
      ],
      "metadata": {
        "id": "i7IBSb9LgY81"
      },
      "execution_count": null,
      "outputs": []
    },
    {
      "cell_type": "code",
      "source": [
        "columns=['x0','x1','x2','x3','z0']\n",
        "X = pd.DataFrame(x,columns=columns)\n",
        "mi_scores = make_mi_scores(X, y, discrete_features=\"auto\")\n",
        "print(mi_scores)"
      ],
      "metadata": {
        "id": "9OclgVQqglBZ"
      },
      "execution_count": null,
      "outputs": []
    },
    {
      "cell_type": "code",
      "source": [
        "result_table3 = {}\n",
        "result_table3['lambda']=[]\n",
        "result_table3['test_f1']=[]\n",
        "result_table3['init_f1']=[]\n",
        "result_table3['mean_f1']=[]\n",
        "result_table3['last_f1']=[]\n",
        "result_table3['MI(y^,z)']=[]\n",
        "\n",
        "XT = X[2000:][['x0','x1','x2','x3','z0']]\n",
        "yT = y[2000:]\n",
        "\n",
        "bucket_size_array=[100]\n",
        "\n",
        "for bucket_size in bucket_size_array:\n",
        "    bucket_count = int(XT.shape[0]/bucket_size)-1\n",
        "    f1s = {}\n",
        "    f1s['f1'] = []\n",
        "    f1s['ref_f1'] = []\n",
        "    \n",
        "    dfs = {}\n",
        "    for col in columns:\n",
        "        dfs[col] = []    \n",
        "\n",
        "    for bk in tqdm(range(bucket_count)):\n",
        "        tmp_x = torch.tensor(XT[bk*bucket_size:bk*bucket_size+bucket_size].values, dtype=torch.float32).to(device)\n",
        "        predicted_y = classifier_model(tmp_x)\n",
        "        predicted_y = (predicted_y.cpu().data.numpy()> 0.5).astype(float)\n",
        "        \n",
        "        ref_y = ref_model(tmp_x)\n",
        "        ref_y = (ref_y.cpu().data.numpy()> 0.5).astype(float)\n",
        "        \n",
        "        f1_ = f1_score(yT[bk*bucket_size:bk*bucket_size+bucket_size],predicted_y)\n",
        "        rf1 = f1_score(yT[bk*bucket_size:bk*bucket_size+bucket_size],ref_y)\n",
        "        f1s['f1'].append(f1_)\n",
        "        f1s['ref_f1'].append(rf1)        \n",
        "        ks = __ks_drift(X[0:1800].values,X[bk*bucket_size+2000:bk*bucket_size+bucket_size+2000].values)\n",
        "        for ix,col in enumerate(columns):\n",
        "            dfs[col].append(ks[:,0][ix]) \n",
        "\n",
        "    df_f1s = pd.DataFrame(f1s)\n",
        "    df_f1s.plot(figsize=(15,3))\n",
        "    plt.ylabel('F1 score')\n",
        "    plt.xlabel('bucket')\n",
        "    plt.title('Changes of F1 score according to bucket')\n",
        "    plt.show()\n",
        "\n",
        "    df_drifts = pd.DataFrame(dfs)\n",
        "    df_drifts.plot(figsize=(15,3))\n",
        "    plt.ylabel('Drift')\n",
        "    plt.xlabel('bucket')\n",
        "    plt.title('Changes of Drift according to bucket')\n",
        "    plt.show()\n",
        "\n",
        "result_table3['lambda'].append('Case #1 Feature 5')\n",
        "result_table3['test_f1'].append(f1)\n",
        "result_table3['init_f1'].append(f1s['f1'][0])\n",
        "result_table3['mean_f1'].append(np.mean(f1s['f1']))\n",
        "result_table3['last_f1'].append(f1s['f1'][-1])\n",
        "result_table3['MI(y^,z)'].append(mi_scores['z0'])\n",
        "\n",
        "pd.DataFrame(result_table3)"
      ],
      "metadata": {
        "id": "vgBYpXTwgVei"
      },
      "execution_count": null,
      "outputs": []
    },
    {
      "cell_type": "markdown",
      "source": [
        "# VAE에 의한 fake data의 적용"
      ],
      "metadata": {
        "id": "ER3JSHEWiFQi"
      }
    },
    {
      "cell_type": "code",
      "source": [
        "sigma.shape"
      ],
      "metadata": {
        "id": "ac4XdmE-sxr_"
      },
      "execution_count": null,
      "outputs": []
    },
    {
      "cell_type": "code",
      "source": [
        "seed_everything()\n",
        "\n",
        "gen_model.eval()\n",
        "data = torch.tensor(df_base[1800:2000].values,dtype=torch.float32).to(device)\n",
        "recon_batch, mu, logvar = gen_model(data)\n",
        "\n",
        "sigma = torch.exp(logvar/2)\n",
        "\n",
        "print(mu.mean(axis=0), sigma.mean(axis=0))\n",
        "\n",
        "simulation_count = 2000\n",
        "\n",
        "stress = 50\n",
        "\n",
        "f1ss = []\n",
        "dfs = {}\n",
        "for col in columns:\n",
        "    dfs[col] = []   \n",
        "\n",
        "for i in tqdm(range(simulation_count)):\n",
        "    # fake data의 생성\n",
        "    no_samples = 200\n",
        "    #b=torch.tensor(i/simulation_count,dtype=torch.float32).to(device)\n",
        "    e_mu=torch.tensor(np.random.uniform(low=0.0, high=1.0+(stress*i)/simulation_count,size=mu.shape),dtype=torch.float32).to(device)\n",
        "    e_sigma=torch.tensor(np.random.uniform(low=0.0, high=(stress*i)/simulation_count,size=sigma.shape),dtype=torch.float32).to(device)\n",
        "    q = torch.distributions.Normal((mu).mean(axis=0), (sigma+e_sigma).mean(axis=0))\n",
        "    z = q.rsample(sample_shape=torch.Size([no_samples]))\n",
        "    with torch.no_grad():\n",
        "        pred = gen_model.decode(z).cpu().numpy()\n",
        "    fake_data = scaler.inverse_transform(pred)\n",
        "    #yT = ((fake_data[:,5])> 0.5).astype(float)\n",
        "    fake_data = torch.tensor(fake_data[:,0:5],dtype=torch.float32).to(device)\n",
        "\n",
        "    ref_y =ref_model(fake_data)\n",
        "    ref_y = (ref_y.cpu().data.numpy()> 0.5).astype(float)\n",
        "\n",
        "    predicted_y = classifier_model(fake_data)\n",
        "    predicted_y = (predicted_y.cpu().data.numpy()> 0.5).astype(float)\n",
        "\n",
        "    f1_ = f1_score(ref_y,predicted_y)\n",
        "    ks = __ks_drift(X[1800:2000].values[:,0:5],fake_data[:,0:5].cpu().data.numpy())\n",
        "    f1ss.append(f1_)\n",
        "    for ix,col in enumerate(columns):\n",
        "        dfs[col].append(ks[:,0][ix]/2)\n",
        "\n",
        "plt.figure(figsize=(15,3))\n",
        "plt.plot(f1ss)\n",
        "plt.ylabel('F1 score')\n",
        "plt.xlabel('bucket')\n",
        "plt.title('Changes of F1 score according to bucket')\n",
        "plt.show()\n",
        "\n",
        "df_drifts = pd.DataFrame(dfs)\n",
        "df_drifts.plot(figsize=(15,3))\n",
        "plt.ylabel('Drift')\n",
        "plt.xlabel('bucket')\n",
        "plt.title('Changes of Drift according to bucket')\n",
        "plt.show()"
      ],
      "metadata": {
        "id": "XBdsH2dwiLNW"
      },
      "execution_count": null,
      "outputs": []
    },
    {
      "cell_type": "code",
      "source": [
        "df_drifts['f1'] = f1ss\n",
        "df_drifts"
      ],
      "metadata": {
        "id": "1Xgc5dD1laH7"
      },
      "execution_count": null,
      "outputs": []
    },
    {
      "cell_type": "markdown",
      "source": [
        "# drift vs f1 dataset의 학습"
      ],
      "metadata": {
        "id": "gPSU8fwFlogu"
      }
    },
    {
      "cell_type": "code",
      "source": [
        "\n",
        "seed_everything()\n",
        "\n",
        "device = torch.device(\"cuda:0\" if torch.cuda.is_available() else \"cpu\")\n",
        "print(device)\n",
        "\n",
        "train_rate = 0.9\n",
        "# Convert to 2D PyTorch tensors\n",
        "X_train = torch.tensor(df_drifts[0:int(simulation_count*train_rate)][['x0','x1','x2','x3','z0']].values, dtype=torch.float32).to(device)\n",
        "y_train = torch.tensor(df_drifts[0:int(simulation_count*train_rate)]['f1'].values, dtype=torch.float32).reshape(-1, 1).to(device)\n",
        "\n",
        "X_test = torch.tensor(df_drifts[int(simulation_count*train_rate):simulation_count][['x0','x1','x2','x3','z0']].values, dtype=torch.float32).to(device)\n",
        "y_test = torch.tensor(df_drifts[int(simulation_count*train_rate):simulation_count]['f1'].values, dtype=torch.float32).reshape(-1, 1).to(device)\n",
        " \n",
        "# Define the model\n",
        "perform_model = nn.Sequential(\n",
        "    nn.Linear(5, 50),\n",
        "    nn.BatchNorm1d(num_features=50),\n",
        "    nn.ReLU(),\n",
        "    nn.Linear(50, 20),\n",
        "    nn.BatchNorm1d(num_features=20),\n",
        "    nn.ReLU(),\n",
        "    nn.Linear(20, 1)    \n",
        ").to(device)\n",
        " \n",
        "# loss function and optimizer\n",
        "loss_fn = nn.MSELoss()  # mean square error\n",
        "optimizer = optim.Adam(perform_model.parameters(), lr=0.0001)\n",
        " \n",
        "n_epochs = 2000   # number of epochs to run\n",
        "batch_size = 500  # size of each batch\n",
        "batch_start = torch.arange(0, len(X_train), batch_size)\n",
        " \n",
        "# Hold the best model\n",
        "best_mse = np.inf   # init to infinity\n",
        "best_weights = None\n",
        "history = []\n",
        " \n",
        "for epoch in tqdm(range(n_epochs)):\n",
        "    perform_model.train()\n",
        "    with tqdm(batch_start, unit=\"batch\", mininterval=0, disable=True) as bar:\n",
        "        bar.set_description(f\"Epoch {epoch}\")\n",
        "        for start in bar:\n",
        "            # take a batch\n",
        "            X_batch = X_train[start:start+batch_size]\n",
        "            y_batch = y_train[start:start+batch_size]\n",
        "            # forward pass\n",
        "            y_pred = perform_model(X_batch)\n",
        "            loss = loss_fn(y_pred, y_batch)\n",
        "            # backward pass\n",
        "            optimizer.zero_grad()\n",
        "            loss.backward()\n",
        "            # update weights\n",
        "            optimizer.step()\n",
        "            # print progress\n",
        "            bar.set_postfix(mse=float(loss))\n",
        "    # evaluate accuracy at end of each epoch\n",
        "    perform_model.eval()\n",
        "    y_pred = perform_model(X_test)\n",
        "    mse = loss_fn(y_pred, y_test)\n",
        "    mse = float(mse)\n",
        "    history.append(mse)\n",
        "    if mse < best_mse:\n",
        "        best_mse = mse\n",
        "        best_weights = copy.deepcopy(perform_model.state_dict())\n",
        " \n",
        "# restore model and return best accuracy\n",
        "perform_model.load_state_dict(best_weights)\n",
        "print(\"MSE: %.2f\" % best_mse)\n",
        "print(\"RMSE: %.2f\" % np.sqrt(best_mse))\n",
        "plt.plot(history)\n",
        "plt.show()"
      ],
      "metadata": {
        "id": "NQQZivFulsjF"
      },
      "execution_count": null,
      "outputs": []
    },
    {
      "cell_type": "code",
      "source": [
        "from sklearn.metrics import r2_score,precision_recall_fscore_support,f1_score\n",
        "\n",
        "predicted_y = perform_model(X_test)\n",
        "r2 = r2_score(y_test.cpu().data.numpy(),predicted_y.cpu().data.numpy())\n",
        "print('r2',r2)"
      ],
      "metadata": {
        "id": "it921Najm-SG"
      },
      "execution_count": null,
      "outputs": []
    },
    {
      "cell_type": "markdown",
      "source": [
        "## 성능 예측 모델 적용"
      ],
      "metadata": {
        "id": "IHBCzSMp32-j"
      }
    },
    {
      "cell_type": "code",
      "source": [
        "\n",
        "XT = X[2000:][['x0','x1','x2','x3','z0']]\n",
        "yT = y[2000:]\n",
        "\n",
        "bucket_size_array=[200]\n",
        "\n",
        "for bucket_size in bucket_size_array:\n",
        "    bucket_count = int(XT.shape[0]/bucket_size)-1\n",
        "    f1s = {}\n",
        "    f1s['f1'] = []\n",
        "    f1s['pred'] = []\n",
        "    \n",
        "\n",
        "    for bk in tqdm(range(bucket_count)):\n",
        "        tmp_x = torch.tensor(XT[bk*bucket_size:bk*bucket_size+bucket_size].values, dtype=torch.float32).to(device)\n",
        "        #print(tmp_x.shape)\n",
        "        predicted_y = classifier_model(tmp_x)\n",
        "        predicted_y = (predicted_y.cpu().data.numpy()> 0.5).astype(float)\n",
        "        f1_ = f1_score(yT[bk*bucket_size:bk*bucket_size+bucket_size],predicted_y)\n",
        "        ks = __ks_drift(X[1800:2000].values,X[bk*bucket_size+2000:bk*bucket_size+bucket_size+2000].values)\n",
        "        \n",
        "        f1s['f1'].append(f1_)\n",
        "        tks = torch.tensor(ks[:,0],dtype=torch.float32).reshape(1,5).to(device)\n",
        "        #print(tks.shape)\n",
        "        predicted_perform = perform_model(tks)\n",
        "        #print(predicted_perform.shape)\n",
        "        \n",
        "        f1s['pred'].append(predicted_perform.cpu().data.numpy()[0,0])\n",
        "\n",
        "    df_f1s = pd.DataFrame(f1s)\n",
        "    df_f1s.plot(figsize=(15,3))\n",
        "    plt.ylabel('F1')\n",
        "    plt.xlabel('bucket')\n",
        "    plt.title('Changes of F1 according to bucket')\n",
        "    plt.show()\n"
      ],
      "metadata": {
        "id": "j6CokZhq35Of"
      },
      "execution_count": null,
      "outputs": []
    }
  ]
}