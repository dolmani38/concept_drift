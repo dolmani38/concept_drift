{
  "metadata": {
    "language_info": {
      "codemirror_mode": {
        "name": "ipython",
        "version": 3
      },
      "file_extension": ".py",
      "mimetype": "text/x-python",
      "name": "python",
      "nbconvert_exporter": "python",
      "pygments_lexer": "ipython3",
      "version": "3.9.2-final"
    },
    "orig_nbformat": 2,
    "kernelspec": {
      "name": "python3",
      "display_name": "Python 3.9.2 64-bit ('deeplearning_venv': venv)",
      "metadata": {
        "interpreter": {
          "hash": "9139ca13fc640d8623238ac4ed44beace8a76f86a07bab6efe75c2506e18783d"
        }
      }
    },
    "colab": {
      "provenance": [],
      "gpuType": "T4",
      "include_colab_link": true
    },
    "accelerator": "GPU",
    "gpuClass": "standard"
  },
  "nbformat": 4,
  "nbformat_minor": 0,
  "cells": [
    {
      "cell_type": "markdown",
      "metadata": {
        "id": "view-in-github",
        "colab_type": "text"
      },
      "source": [
        "<a href=\"https://colab.research.google.com/github/dolmani38/concept_drift/blob/main/2021-03-14-tabular-data-variational-autoencoder.ipynb\" target=\"_parent\"><img src=\"https://colab.research.google.com/assets/colab-badge.svg\" alt=\"Open In Colab\"/></a>"
      ]
    },
    {
      "source": [
        "# Data Augmentation for tabular data"
      ],
      "cell_type": "markdown",
      "metadata": {
        "id": "cC08kd_89SAI"
      }
    },
    {
      "source": [
        "## How to create fake tabular data with a variational autoencoder to improve deep learning algorithms"
      ],
      "cell_type": "markdown",
      "metadata": {
        "id": "az9ckBin9SAN"
      }
    },
    {
      "cell_type": "markdown",
      "source": [
        "+ 참조 : https://process-mining.tistory.com/161"
      ],
      "metadata": {
        "id": "U8Bn0EYCAhw3"
      }
    },
    {
      "cell_type": "markdown",
      "source": [
        "+ bucket 별로, mu & sigma를 산출하고, 별도의 예측 모델을 통해, bucket에 따른 mu & sigma를 추정할 수 있도록 한다.\n",
        "+ mu,sigma = f(b)\n",
        "+ 따라서, 향후의 bucket 를 입력하여 미래의 mu, sigma를 추정하도록 한다.\n",
        "+ 추정된 mu, sigma를 통해, decoder에서 가상 data를 생성한다."
      ],
      "metadata": {
        "id": "Tz8hQDsSML0-"
      }
    },
    {
      "source": [
        "To train deeplearning models the more data the better. When we're thinking of image data, the deeplearnig community thought about a lot of tricks how to enhance the model given a dataset of images. Meaning that by rotating, flipping, blurring etc. the image we can create more input data and also improve our model. \n",
        "\n",
        "However, when thinking about tabular data, only few of these techniques exist. In this blogpost I want to show you how to create a variational autoencoder and make use of data augmentation. I will create fake data, which is sampled from the learned distribution of the underlying data. "
      ],
      "cell_type": "markdown",
      "metadata": {
        "id": "Ue6wh5re9SAO"
      }
    },
    {
      "cell_type": "code",
      "execution_count": 1,
      "metadata": {
        "id": "motAEvps9SAP"
      },
      "outputs": [],
      "source": [
        "import torch\n",
        "import torch.nn as nn\n",
        "import torch.nn.functional as F\n",
        "from torch import nn, optim\n",
        "from torch.autograd import Variable\n",
        "\n",
        "import pandas as pd\n",
        "import numpy as np\n",
        "from sklearn import preprocessing\n",
        "from sklearn.model_selection import train_test_split"
      ]
    },
    {
      "cell_type": "code",
      "source": [
        "import random\n",
        "import os\n",
        "def seed_everything(seed: int = 46):\n",
        "    random.seed(seed)\n",
        "    np.random.seed(seed)\n",
        "    os.environ[\"PYTHONHASHSEED\"] = str(seed)\n",
        "    #tf.random.set_seed(seed)\n",
        "    torch.manual_seed(seed)\n",
        "    torch.cuda.manual_seed(seed)"
      ],
      "metadata": {
        "id": "5Ng-Gb_00oBj"
      },
      "execution_count": 2,
      "outputs": []
    },
    {
      "cell_type": "code",
      "execution_count": 3,
      "metadata": {
        "colab": {
          "base_uri": "https://localhost:8080/"
        },
        "id": "jTPBKuCG9SAQ",
        "outputId": "f47667d5-7784-4011-e03a-2fad7614329b"
      },
      "outputs": [
        {
          "output_type": "execute_result",
          "data": {
            "text/plain": [
              "device(type='cuda')"
            ]
          },
          "metadata": {},
          "execution_count": 3
        }
      ],
      "source": [
        "device = torch.device('cuda' if torch.cuda.is_available() else 'cpu')\n",
        "device"
      ]
    },
    {
      "source": [
        "## Dataset Overview"
      ],
      "cell_type": "markdown",
      "metadata": {
        "id": "MEA2yf4d9SAT"
      }
    },
    {
      "cell_type": "code",
      "source": [
        "data_size = 40000\n",
        "cor = [1.5, 1.2, 0.9 , 0.7, 0.5]"
      ],
      "metadata": {
        "id": "dhbplyQI-bTB"
      },
      "execution_count": 4,
      "outputs": []
    },
    {
      "cell_type": "code",
      "source": [
        "y= (np.random.normal(0.5,0.5,100) > 0.5).astype(int)\n",
        "sum(y)"
      ],
      "metadata": {
        "colab": {
          "base_uri": "https://localhost:8080/"
        },
        "id": "B9nMeZ_q-cAc",
        "outputId": "b6d3efd7-4e59-455e-9906-124fe3294355"
      },
      "execution_count": 5,
      "outputs": [
        {
          "output_type": "execute_result",
          "data": {
            "text/plain": [
              "51"
            ]
          },
          "metadata": {},
          "execution_count": 5
        }
      ]
    },
    {
      "cell_type": "code",
      "source": [
        "import seaborn as sns\n",
        "sns.set()\n",
        "#seed_everything()     \n",
        "#y= np.random.normal(1,2,data_size)\n",
        "y= (np.random.normal(0.5,0.5,data_size) > 0.5).astype(int)\n",
        "x = np.zeros((data_size,5))\n",
        "for ix,cor_ in enumerate(cor):\n",
        "    x[:,ix] = y + np.random.normal(1,cor_,data_size)\n",
        "    sns.scatterplot(x=x[:,ix],y=y)"
      ],
      "metadata": {
        "colab": {
          "base_uri": "https://localhost:8080/",
          "height": 434
        },
        "id": "HHhlF6My-fXl",
        "outputId": "1508af45-8ea6-4288-b4c0-fc9690802159"
      },
      "execution_count": 6,
      "outputs": [
        {
          "output_type": "display_data",
          "data": {
            "text/plain": [
              "<Figure size 640x480 with 1 Axes>"
            ],
            "image/png": "[encoded data removed]"
          },
          "metadata": {}
        }
      ]
    },
    {
      "cell_type": "code",
      "source": [
        "#seed_everything()\n",
        "for i in range(400):\n",
        "    s = i*100\n",
        "    #x[s:s+100,3] = y[s:s+100] + np.random.normal(1,5-(i/100),100)    \n",
        "    x[s:s+100,4] = y[s:s+100] + np.random.normal(1,0.5+(i/100),100)\n",
        "    #x[s:s+100,5] = i\n",
        "sns.scatterplot(x=x[0:200,4],y=y[0:200])\n",
        "sns.scatterplot(x=x[39800:40000,4],y=y[39800:40000])"
      ],
      "metadata": {
        "colab": {
          "base_uri": "https://localhost:8080/",
          "height": 452
        },
        "id": "55NaleDo-ucz",
        "outputId": "50033517-be75-4ff3-9110-fb02074a5284"
      },
      "execution_count": 7,
      "outputs": [
        {
          "output_type": "execute_result",
          "data": {
            "text/plain": [
              "<Axes: >"
            ]
          },
          "metadata": {},
          "execution_count": 7
        },
        {
          "output_type": "display_data",
          "data": {
            "text/plain": [
              "<Figure size 640x480 with 1 Axes>"
            ],
            "image/png": "[encoded data removed]"
          },
          "metadata": {}
        }
      ]
    },
    {
      "cell_type": "code",
      "source": [
        "\n",
        "columns=['x0','x1','x2','x3','z0']\n",
        "df_base = pd.DataFrame(x,columns=columns)"
      ],
      "metadata": {
        "id": "d8yG94Ak-y3m"
      },
      "execution_count": 8,
      "outputs": []
    },
    {
      "cell_type": "code",
      "source": [
        "df_base"
      ],
      "metadata": {
        "colab": {
          "base_uri": "https://localhost:8080/",
          "height": 423
        },
        "id": "63leEuT1-6ye",
        "outputId": "ab84a1f2-cc0c-4a17-bd98-741494f6ca3c"
      },
      "execution_count": 9,
      "outputs": [
        {
          "output_type": "execute_result",
          "data": {
            "text/plain": [
              "             x0        x1        x2        x3        z0\n",
              "0      0.085295  0.587752  3.380345  1.733962  0.168489\n",
              "1      1.303819  3.245973  2.362827  2.582593  2.280969\n",
              "2      3.031215  2.608972  0.267896  2.539527  0.800358\n",
              "3      3.813991  4.387619  2.154458  1.668082  1.401159\n",
              "4     -0.523052  2.102529  1.008716  0.097324  2.507689\n",
              "...         ...       ...       ...       ...       ...\n",
              "39995  0.971060  3.488069  1.479307  1.090043 -2.718350\n",
              "39996  1.118586  0.534192  1.755539  0.362987  0.547893\n",
              "39997  1.768591  2.138692  1.023701  2.459358  4.144106\n",
              "39998  1.337598  2.839795  3.223184  1.624677  8.467447\n",
              "39999  5.350430  0.314114  0.968216  2.534820  4.045540\n",
              "\n",
              "[40000 rows x 5 columns]"
            ],
            "text/html": [
              "\n",
              "  <div id=\"df-ce52b7c7-bd68-45e5-b155-3796fee79d36\">\n",
              "    <div class=\"colab-df-container\">\n",
              "      <div>\n",
              "<style scoped>\n",
              "    .dataframe tbody tr th:only-of-type {\n",
              "        vertical-align: middle;\n",
              "    }\n",
              "\n",
              "    .dataframe tbody tr th {\n",
              "        vertical-align: top;\n",
              "    }\n",
              "\n",
              "    .dataframe thead th {\n",
              "        text-align: right;\n",
              "    }\n",
              "</style>\n",
              "<table border=\"1\" class=\"dataframe\">\n",
              "  <thead>\n",
              "    <tr style=\"text-align: right;\">\n",
              "      <th></th>\n",
              "      <th>x0</th>\n",
              "      <th>x1</th>\n",
              "      <th>x2</th>\n",
              "      <th>x3</th>\n",
              "      <th>z0</th>\n",
              "    </tr>\n",
              "  </thead>\n",
              "  <tbody>\n",
              "    <tr>\n",
              "      <th>0</th>\n",
              "      <td>0.085295</td>\n",
              "      <td>0.587752</td>\n",
              "      <td>3.380345</td>\n",
              "      <td>1.733962</td>\n",
              "      <td>0.168489</td>\n",
              "    </tr>\n",
              "    <tr>\n",
              "      <th>1</th>\n",
              "      <td>1.303819</td>\n",
              "      <td>3.245973</td>\n",
              "      <td>2.362827</td>\n",
              "      <td>2.582593</td>\n",
              "      <td>2.280969</td>\n",
              "    </tr>\n",
              "    <tr>\n",
              "      <th>2</th>\n",
              "      <td>3.031215</td>\n",
              "      <td>2.608972</td>\n",
              "      <td>0.267896</td>\n",
              "      <td>2.539527</td>\n",
              "      <td>0.800358</td>\n",
              "    </tr>\n",
              "    <tr>\n",
              "      <th>3</th>\n",
              "      <td>3.813991</td>\n",
              "      <td>4.387619</td>\n",
              "      <td>2.154458</td>\n",
              "      <td>1.668082</td>\n",
              "      <td>1.401159</td>\n",
              "    </tr>\n",
              "    <tr>\n",
              "      <th>4</th>\n",
              "      <td>-0.523052</td>\n",
              "      <td>2.102529</td>\n",
              "      <td>1.008716</td>\n",
              "      <td>0.097324</td>\n",
              "      <td>2.507689</td>\n",
              "    </tr>\n",
              "    <tr>\n",
              "      <th>...</th>\n",
              "      <td>...</td>\n",
              "      <td>...</td>\n",
              "      <td>...</td>\n",
              "      <td>...</td>\n",
              "      <td>...</td>\n",
              "    </tr>\n",
              "    <tr>\n",
              "      <th>39995</th>\n",
              "      <td>0.971060</td>\n",
              "      <td>3.488069</td>\n",
              "      <td>1.479307</td>\n",
              "      <td>1.090043</td>\n",
              "      <td>-2.718350</td>\n",
              "    </tr>\n",
              "    <tr>\n",
              "      <th>39996</th>\n",
              "      <td>1.118586</td>\n",
              "      <td>0.534192</td>\n",
              "      <td>1.755539</td>\n",
              "      <td>0.362987</td>\n",
              "      <td>0.547893</td>\n",
              "    </tr>\n",
              "    <tr>\n",
              "      <th>39997</th>\n",
              "      <td>1.768591</td>\n",
              "      <td>2.138692</td>\n",
              "      <td>1.023701</td>\n",
              "      <td>2.459358</td>\n",
              "      <td>4.144106</td>\n",
              "    </tr>\n",
              "    <tr>\n",
              "      <th>39998</th>\n",
              "      <td>1.337598</td>\n",
              "      <td>2.839795</td>\n",
              "      <td>3.223184</td>\n",
              "      <td>1.624677</td>\n",
              "      <td>8.467447</td>\n",
              "    </tr>\n",
              "    <tr>\n",
              "      <th>39999</th>\n",
              "      <td>5.350430</td>\n",
              "      <td>0.314114</td>\n",
              "      <td>0.968216</td>\n",
              "      <td>2.534820</td>\n",
              "      <td>4.045540</td>\n",
              "    </tr>\n",
              "  </tbody>\n",
              "</table>\n",
              "<p>40000 rows × 5 columns</p>\n",
              "</div>\n",
              "      <button class=\"colab-df-convert\" onclick=\"convertToInteractive('df-ce52b7c7-bd68-45e5-b155-3796fee79d36')\"\n",
              "              title=\"Convert this dataframe to an interactive table.\"\n",
              "              style=\"display:none;\">\n",
              "        \n",
              "  <svg xmlns=\"http://www.w3.org/2000/svg\" height=\"24px\"viewBox=\"0 0 24 24\"\n",
              "       width=\"24px\">\n",
              "    <path d=\"M0 0h24v24H0V0z\" fill=\"none\"/>\n",
              "    <path d=\"M18.56 5.44l.94 2.06.94-2.06 2.06-.94-2.06-.94-.94-2.06-.94 2.06-2.06.94zm-11 1L8.5 8.5l.94-2.06 2.06-.94-2.06-.94L8.5 2.5l-.94 2.06-2.06.94zm10 10l.94 2.06.94-2.06 2.06-.94-2.06-.94-.94-2.06-.94 2.06-2.06.94z\"/><path d=\"M17.41 7.96l-1.37-1.37c-.4-.4-.92-.59-1.43-.59-.52 0-1.04.2-1.43.59L10.3 9.45l-7.72 7.72c-.78.78-.78 2.05 0 2.83L4 21.41c.39.39.9.59 1.41.59.51 0 1.02-.2 1.41-.59l7.78-7.78 2.81-2.81c.8-.78.8-2.07 0-2.86zM5.41 20L4 18.59l7.72-7.72 1.47 1.35L5.41 20z\"/>\n",
              "  </svg>\n",
              "      </button>\n",
              "      \n",
              "  <style>\n",
              "    .colab-df-container {\n",
              "      display:flex;\n",
              "      flex-wrap:wrap;\n",
              "      gap: 12px;\n",
              "    }\n",
              "\n",
              "    .colab-df-convert {\n",
              "      background-color: #E8F0FE;\n",
              "      border: none;\n",
              "      border-radius: 50%;\n",
              "      cursor: pointer;\n",
              "      display: none;\n",
              "      fill: #1967D2;\n",
              "      height: 32px;\n",
              "      padding: 0 0 0 0;\n",
              "      width: 32px;\n",
              "    }\n",
              "\n",
              "    .colab-df-convert:hover {\n",
              "      background-color: #E2EBFA;\n",
              "      box-shadow: 0px 1px 2px rgba(60, 64, 67, 0.3), 0px 1px 3px 1px rgba(60, 64, 67, 0.15);\n",
              "      fill: #174EA6;\n",
              "    }\n",
              "\n",
              "    [theme=dark] .colab-df-convert {\n",
              "      background-color: #3B4455;\n",
              "      fill: #D2E3FC;\n",
              "    }\n",
              "\n",
              "    [theme=dark] .colab-df-convert:hover {\n",
              "      background-color: #434B5C;\n",
              "      box-shadow: 0px 1px 3px 1px rgba(0, 0, 0, 0.15);\n",
              "      filter: drop-shadow(0px 1px 2px rgba(0, 0, 0, 0.3));\n",
              "      fill: #FFFFFF;\n",
              "    }\n",
              "  </style>\n",
              "\n",
              "      <script>\n",
              "        const buttonEl =\n",
              "          document.querySelector('#df-ce52b7c7-bd68-45e5-b155-3796fee79d36 button.colab-df-convert');\n",
              "        buttonEl.style.display =\n",
              "          google.colab.kernel.accessAllowed ? 'block' : 'none';\n",
              "\n",
              "        async function convertToInteractive(key) {\n",
              "          const element = document.querySelector('#df-ce52b7c7-bd68-45e5-b155-3796fee79d36');\n",
              "          const dataTable =\n",
              "            await google.colab.kernel.invokeFunction('convertToInteractive',\n",
              "                                                     [key], {});\n",
              "          if (!dataTable) return;\n",
              "\n",
              "          const docLinkHtml = 'Like what you see? Visit the ' +\n",
              "            '<a target=\"_blank\" href=https://colab.research.google.com/notebooks/data_table.ipynb>data table notebook</a>'\n",
              "            + ' to learn more about interactive tables.';\n",
              "          element.innerHTML = '';\n",
              "          dataTable['output_type'] = 'display_data';\n",
              "          await google.colab.output.renderOutput(dataTable, element);\n",
              "          const docLink = document.createElement('div');\n",
              "          docLink.innerHTML = docLinkHtml;\n",
              "          element.appendChild(docLink);\n",
              "        }\n",
              "      </script>\n",
              "    </div>\n",
              "  </div>\n",
              "  "
            ]
          },
          "metadata": {},
          "execution_count": 9
        }
      ]
    },
    {
      "cell_type": "code",
      "source": [
        "# bucket 하나의 크기는 100\n",
        "# 2000개의 학습데이터에는 20개의 bucket이 있음.\n",
        "# 학습데이터 100개당 +1의 bucket count를 증가 시킴\n",
        "#df_base['b'] = [int(b)/400 for b in df_base.index.values/100]"
      ],
      "metadata": {
        "id": "TuBofC65v5c6"
      },
      "execution_count": 10,
      "outputs": []
    },
    {
      "cell_type": "code",
      "source": [
        "df_base['y'] = y"
      ],
      "metadata": {
        "id": "6JU68E0saLju"
      },
      "execution_count": 11,
      "outputs": []
    },
    {
      "cell_type": "code",
      "execution_count": 12,
      "metadata": {
        "id": "6uKjCWm69SAU"
      },
      "outputs": [],
      "source": [
        "cols = df_base.columns"
      ]
    },
    {
      "cell_type": "code",
      "source": [
        "df_base"
      ],
      "metadata": {
        "id": "bmWtg-VNaRj6",
        "outputId": "6d01a6c1-b4ef-4080-b668-6b79288035ce",
        "colab": {
          "base_uri": "https://localhost:8080/",
          "height": 423
        }
      },
      "execution_count": 13,
      "outputs": [
        {
          "output_type": "execute_result",
          "data": {
            "text/plain": [
              "             x0        x1        x2        x3        z0  y\n",
              "0      0.085295  0.587752  3.380345  1.733962  0.168489  0\n",
              "1      1.303819  3.245973  2.362827  2.582593  2.280969  1\n",
              "2      3.031215  2.608972  0.267896  2.539527  0.800358  0\n",
              "3      3.813991  4.387619  2.154458  1.668082  1.401159  1\n",
              "4     -0.523052  2.102529  1.008716  0.097324  2.507689  1\n",
              "...         ...       ...       ...       ...       ... ..\n",
              "39995  0.971060  3.488069  1.479307  1.090043 -2.718350  0\n",
              "39996  1.118586  0.534192  1.755539  0.362987  0.547893  0\n",
              "39997  1.768591  2.138692  1.023701  2.459358  4.144106  1\n",
              "39998  1.337598  2.839795  3.223184  1.624677  8.467447  1\n",
              "39999  5.350430  0.314114  0.968216  2.534820  4.045540  1\n",
              "\n",
              "[40000 rows x 6 columns]"
            ],
            "text/html": [
              "\n",
              "  <div id=\"df-13b34749-0f81-4589-a7be-8def224eff80\">\n",
              "    <div class=\"colab-df-container\">\n",
              "      <div>\n",
              "<style scoped>\n",
              "    .dataframe tbody tr th:only-of-type {\n",
              "        vertical-align: middle;\n",
              "    }\n",
              "\n",
              "    .dataframe tbody tr th {\n",
              "        vertical-align: top;\n",
              "    }\n",
              "\n",
              "    .dataframe thead th {\n",
              "        text-align: right;\n",
              "    }\n",
              "</style>\n",
              "<table border=\"1\" class=\"dataframe\">\n",
              "  <thead>\n",
              "    <tr style=\"text-align: right;\">\n",
              "      <th></th>\n",
              "      <th>x0</th>\n",
              "      <th>x1</th>\n",
              "      <th>x2</th>\n",
              "      <th>x3</th>\n",
              "      <th>z0</th>\n",
              "      <th>y</th>\n",
              "    </tr>\n",
              "  </thead>\n",
              "  <tbody>\n",
              "    <tr>\n",
              "      <th>0</th>\n",
              "      <td>0.085295</td>\n",
              "      <td>0.587752</td>\n",
              "      <td>3.380345</td>\n",
              "      <td>1.733962</td>\n",
              "      <td>0.168489</td>\n",
              "      <td>0</td>\n",
              "    </tr>\n",
              "    <tr>\n",
              "      <th>1</th>\n",
              "      <td>1.303819</td>\n",
              "      <td>3.245973</td>\n",
              "      <td>2.362827</td>\n",
              "      <td>2.582593</td>\n",
              "      <td>2.280969</td>\n",
              "      <td>1</td>\n",
              "    </tr>\n",
              "    <tr>\n",
              "      <th>2</th>\n",
              "      <td>3.031215</td>\n",
              "      <td>2.608972</td>\n",
              "      <td>0.267896</td>\n",
              "      <td>2.539527</td>\n",
              "      <td>0.800358</td>\n",
              "      <td>0</td>\n",
              "    </tr>\n",
              "    <tr>\n",
              "      <th>3</th>\n",
              "      <td>3.813991</td>\n",
              "      <td>4.387619</td>\n",
              "      <td>2.154458</td>\n",
              "      <td>1.668082</td>\n",
              "      <td>1.401159</td>\n",
              "      <td>1</td>\n",
              "    </tr>\n",
              "    <tr>\n",
              "      <th>4</th>\n",
              "      <td>-0.523052</td>\n",
              "      <td>2.102529</td>\n",
              "      <td>1.008716</td>\n",
              "      <td>0.097324</td>\n",
              "      <td>2.507689</td>\n",
              "      <td>1</td>\n",
              "    </tr>\n",
              "    <tr>\n",
              "      <th>...</th>\n",
              "      <td>...</td>\n",
              "      <td>...</td>\n",
              "      <td>...</td>\n",
              "      <td>...</td>\n",
              "      <td>...</td>\n",
              "      <td>...</td>\n",
              "    </tr>\n",
              "    <tr>\n",
              "      <th>39995</th>\n",
              "      <td>0.971060</td>\n",
              "      <td>3.488069</td>\n",
              "      <td>1.479307</td>\n",
              "      <td>1.090043</td>\n",
              "      <td>-2.718350</td>\n",
              "      <td>0</td>\n",
              "    </tr>\n",
              "    <tr>\n",
              "      <th>39996</th>\n",
              "      <td>1.118586</td>\n",
              "      <td>0.534192</td>\n",
              "      <td>1.755539</td>\n",
              "      <td>0.362987</td>\n",
              "      <td>0.547893</td>\n",
              "      <td>0</td>\n",
              "    </tr>\n",
              "    <tr>\n",
              "      <th>39997</th>\n",
              "      <td>1.768591</td>\n",
              "      <td>2.138692</td>\n",
              "      <td>1.023701</td>\n",
              "      <td>2.459358</td>\n",
              "      <td>4.144106</td>\n",
              "      <td>1</td>\n",
              "    </tr>\n",
              "    <tr>\n",
              "      <th>39998</th>\n",
              "      <td>1.337598</td>\n",
              "      <td>2.839795</td>\n",
              "      <td>3.223184</td>\n",
              "      <td>1.624677</td>\n",
              "      <td>8.467447</td>\n",
              "      <td>1</td>\n",
              "    </tr>\n",
              "    <tr>\n",
              "      <th>39999</th>\n",
              "      <td>5.350430</td>\n",
              "      <td>0.314114</td>\n",
              "      <td>0.968216</td>\n",
              "      <td>2.534820</td>\n",
              "      <td>4.045540</td>\n",
              "      <td>1</td>\n",
              "    </tr>\n",
              "  </tbody>\n",
              "</table>\n",
              "<p>40000 rows × 6 columns</p>\n",
              "</div>\n",
              "      <button class=\"colab-df-convert\" onclick=\"convertToInteractive('df-13b34749-0f81-4589-a7be-8def224eff80')\"\n",
              "              title=\"Convert this dataframe to an interactive table.\"\n",
              "              style=\"display:none;\">\n",
              "        \n",
              "  <svg xmlns=\"http://www.w3.org/2000/svg\" height=\"24px\"viewBox=\"0 0 24 24\"\n",
              "       width=\"24px\">\n",
              "    <path d=\"M0 0h24v24H0V0z\" fill=\"none\"/>\n",
              "    <path d=\"M18.56 5.44l.94 2.06.94-2.06 2.06-.94-2.06-.94-.94-2.06-.94 2.06-2.06.94zm-11 1L8.5 8.5l.94-2.06 2.06-.94-2.06-.94L8.5 2.5l-.94 2.06-2.06.94zm10 10l.94 2.06.94-2.06 2.06-.94-2.06-.94-.94-2.06-.94 2.06-2.06.94z\"/><path d=\"M17.41 7.96l-1.37-1.37c-.4-.4-.92-.59-1.43-.59-.52 0-1.04.2-1.43.59L10.3 9.45l-7.72 7.72c-.78.78-.78 2.05 0 2.83L4 21.41c.39.39.9.59 1.41.59.51 0 1.02-.2 1.41-.59l7.78-7.78 2.81-2.81c.8-.78.8-2.07 0-2.86zM5.41 20L4 18.59l7.72-7.72 1.47 1.35L5.41 20z\"/>\n",
              "  </svg>\n",
              "      </button>\n",
              "      \n",
              "  <style>\n",
              "    .colab-df-container {\n",
              "      display:flex;\n",
              "      flex-wrap:wrap;\n",
              "      gap: 12px;\n",
              "    }\n",
              "\n",
              "    .colab-df-convert {\n",
              "      background-color: #E8F0FE;\n",
              "      border: none;\n",
              "      border-radius: 50%;\n",
              "      cursor: pointer;\n",
              "      display: none;\n",
              "      fill: #1967D2;\n",
              "      height: 32px;\n",
              "      padding: 0 0 0 0;\n",
              "      width: 32px;\n",
              "    }\n",
              "\n",
              "    .colab-df-convert:hover {\n",
              "      background-color: #E2EBFA;\n",
              "      box-shadow: 0px 1px 2px rgba(60, 64, 67, 0.3), 0px 1px 3px 1px rgba(60, 64, 67, 0.15);\n",
              "      fill: #174EA6;\n",
              "    }\n",
              "\n",
              "    [theme=dark] .colab-df-convert {\n",
              "      background-color: #3B4455;\n",
              "      fill: #D2E3FC;\n",
              "    }\n",
              "\n",
              "    [theme=dark] .colab-df-convert:hover {\n",
              "      background-color: #434B5C;\n",
              "      box-shadow: 0px 1px 3px 1px rgba(0, 0, 0, 0.15);\n",
              "      filter: drop-shadow(0px 1px 2px rgba(0, 0, 0, 0.3));\n",
              "      fill: #FFFFFF;\n",
              "    }\n",
              "  </style>\n",
              "\n",
              "      <script>\n",
              "        const buttonEl =\n",
              "          document.querySelector('#df-13b34749-0f81-4589-a7be-8def224eff80 button.colab-df-convert');\n",
              "        buttonEl.style.display =\n",
              "          google.colab.kernel.accessAllowed ? 'block' : 'none';\n",
              "\n",
              "        async function convertToInteractive(key) {\n",
              "          const element = document.querySelector('#df-13b34749-0f81-4589-a7be-8def224eff80');\n",
              "          const dataTable =\n",
              "            await google.colab.kernel.invokeFunction('convertToInteractive',\n",
              "                                                     [key], {});\n",
              "          if (!dataTable) return;\n",
              "\n",
              "          const docLinkHtml = 'Like what you see? Visit the ' +\n",
              "            '<a target=\"_blank\" href=https://colab.research.google.com/notebooks/data_table.ipynb>data table notebook</a>'\n",
              "            + ' to learn more about interactive tables.';\n",
              "          element.innerHTML = '';\n",
              "          dataTable['output_type'] = 'display_data';\n",
              "          await google.colab.output.renderOutput(dataTable, element);\n",
              "          const docLink = document.createElement('div');\n",
              "          docLink.innerHTML = docLinkHtml;\n",
              "          element.appendChild(docLink);\n",
              "        }\n",
              "      </script>\n",
              "    </div>\n",
              "  </div>\n",
              "  "
            ]
          },
          "metadata": {},
          "execution_count": 13
        }
      ]
    },
    {
      "source": [
        "## Build Data Loader"
      ],
      "cell_type": "markdown",
      "metadata": {
        "id": "32aYiNIT9SAV"
      }
    },
    {
      "cell_type": "code",
      "execution_count": 14,
      "metadata": {
        "id": "yABwtalt9SAW"
      },
      "outputs": [],
      "source": [
        "def load_and_standardize_data(data):\n",
        "    # read in from csv\n",
        "    df = data #pd.read_csv(path, sep=',')\n",
        "    # replace nan with -99\n",
        "    df = df.fillna(-99)\n",
        "    df = df.values.reshape(-1, df.shape[1]).astype('float32')\n",
        "    # randomly split\n",
        "    X_train, X_test = train_test_split(df, test_size=0.1, random_state=42)\n",
        "    # standardize values\n",
        "    #scaler = preprocessing.MinMaxScaler()\n",
        "    #X_train = scaler.fit_transform(X_train)\n",
        "    #X_test = scaler.transform(X_test)   \n",
        "    return X_train, X_test #, scaler"
      ]
    },
    {
      "cell_type": "code",
      "execution_count": 15,
      "metadata": {
        "id": "cLYngyW-9SAY"
      },
      "outputs": [],
      "source": [
        "from torch.utils.data import Dataset, DataLoader\n",
        "class DataBuilder(Dataset):\n",
        "    def __init__(self, df, train=True):\n",
        "        self.X_train, self.X_test = load_and_standardize_data(df) #, self.standardizer = load_and_standardize_data(df)\n",
        "        if train:\n",
        "            self.x = torch.from_numpy(self.X_train)\n",
        "            self.len=self.x.shape[0]\n",
        "        else:\n",
        "            self.x = torch.from_numpy(self.X_test)\n",
        "            self.len=self.x.shape[0]\n",
        "        del self.X_train\n",
        "        del self.X_test \n",
        "    def __getitem__(self,index):      \n",
        "        return self.x[index]\n",
        "    def __len__(self):\n",
        "        return self.len"
      ]
    },
    {
      "cell_type": "code",
      "execution_count": 16,
      "metadata": {
        "id": "iI8HhO6t9SAY"
      },
      "outputs": [],
      "source": [
        "traindata_set=DataBuilder(df_base[0:1800][['x0','x1','x2','x3','z0','y']], train=True)\n",
        "testdata_set=DataBuilder(df_base[1800:2000][['x0','x1','x2','x3','z0','y']], train=True)\n",
        "\n",
        "trainloader=DataLoader(dataset=traindata_set,batch_size=1024*2)\n",
        "testloader=DataLoader(dataset=testdata_set,batch_size=1024*2)"
      ]
    },
    {
      "cell_type": "code",
      "execution_count": 17,
      "metadata": {
        "colab": {
          "base_uri": "https://localhost:8080/"
        },
        "id": "FTA700gk9SAZ",
        "outputId": "7093966e-a11b-4a09-d9e9-8297f99e06ac"
      },
      "outputs": [
        {
          "output_type": "execute_result",
          "data": {
            "text/plain": [
              "(torch.Tensor, torch.Tensor)"
            ]
          },
          "metadata": {},
          "execution_count": 17
        }
      ],
      "source": [
        "type(trainloader.dataset.x), type(testloader.dataset.x)"
      ]
    },
    {
      "cell_type": "code",
      "execution_count": 18,
      "metadata": {
        "colab": {
          "base_uri": "https://localhost:8080/"
        },
        "id": "dkG2kODT9SAZ",
        "outputId": "0eb09b82-0abb-453c-88a2-bfa0192da1ed"
      },
      "outputs": [
        {
          "output_type": "execute_result",
          "data": {
            "text/plain": [
              "(torch.Size([1620, 6]), torch.Size([180, 6]))"
            ]
          },
          "metadata": {},
          "execution_count": 18
        }
      ],
      "source": [
        "trainloader.dataset.x.shape, testloader.dataset.x.shape"
      ]
    },
    {
      "cell_type": "code",
      "execution_count": 19,
      "metadata": {
        "colab": {
          "base_uri": "https://localhost:8080/"
        },
        "id": "SFqp7Vjk9SAa",
        "outputId": "03d8d5eb-2228-48d2-9d4d-c951add32abb"
      },
      "outputs": [
        {
          "output_type": "execute_result",
          "data": {
            "text/plain": [
              "tensor([[1.8703, 1.3244, 2.7726, 0.9771, 2.7469, 1.0000],\n",
              "        [0.5722, 1.3298, 2.9091, 1.2143, 0.6654, 0.0000],\n",
              "        [2.7779, 0.5970, 2.3401, 1.6581, 2.2280, 1.0000],\n",
              "        ...,\n",
              "        [0.6112, 2.2227, 0.6070, 2.5069, 1.0252, 0.0000],\n",
              "        [1.0702, 1.5792, 0.9817, 1.1633, 0.9844, 0.0000],\n",
              "        [2.2002, 2.8093, 0.2403, 1.4179, 2.0025, 1.0000]])"
            ]
          },
          "metadata": {},
          "execution_count": 19
        }
      ],
      "source": [
        "trainloader.dataset.x"
      ]
    },
    {
      "source": [
        "## Build model"
      ],
      "cell_type": "markdown",
      "metadata": {
        "id": "2-vutGg_9SAa"
      }
    },
    {
      "cell_type": "code",
      "execution_count": 20,
      "metadata": {
        "id": "bU2fP0b59SAa"
      },
      "outputs": [],
      "source": [
        "class Autoencoder(nn.Module):\n",
        "    def __init__(self,D_in,H=50,H2=12,latent_dim=3):\n",
        "        \n",
        "        #Encoder\n",
        "        super(Autoencoder,self).__init__()\n",
        "        #self.linear1=nn.Linear(D_in+1,H)\n",
        "        self.linear1=nn.Linear(D_in,H)\n",
        "        self.lin_bn1 = nn.BatchNorm1d(num_features=H)\n",
        "        self.linear2=nn.Linear(H,H2)\n",
        "        self.lin_bn2 = nn.BatchNorm1d(num_features=H2)\n",
        "        self.linear3=nn.Linear(H2,H2)\n",
        "        self.lin_bn3 = nn.BatchNorm1d(num_features=H2)\n",
        "        \n",
        "        # Latent vectors mu and sigma\n",
        "        self.fc1 = nn.Linear(H2, latent_dim)\n",
        "        self.bn1 = nn.BatchNorm1d(num_features=latent_dim)\n",
        "        self.fc21 = nn.Linear(latent_dim, latent_dim)\n",
        "        self.fc22 = nn.Linear(latent_dim, latent_dim)\n",
        "\n",
        "        # Sampling vector\n",
        "        #self.fc3 = nn.Linear(latent_dim+1, latent_dim)\n",
        "        self.fc3 = nn.Linear(latent_dim, latent_dim)\n",
        "        self.fc_bn3 = nn.BatchNorm1d(latent_dim)\n",
        "        self.fc4 = nn.Linear(latent_dim, H2)\n",
        "        self.fc_bn4 = nn.BatchNorm1d(H2)\n",
        "        \n",
        "        # Decoder\n",
        "        self.linear4=nn.Linear(H2,H2)\n",
        "        self.lin_bn4 = nn.BatchNorm1d(num_features=H2)\n",
        "        self.linear5=nn.Linear(H2,H)\n",
        "        self.lin_bn5 = nn.BatchNorm1d(num_features=H)\n",
        "        self.linear6=nn.Linear(H,D_in)\n",
        "        self.lin_bn6 = nn.BatchNorm1d(num_features=D_in)\n",
        "        \n",
        "        self.relu = nn.ReLU()\n",
        "        \n",
        "    def encode(self, x):    \n",
        "    #def encode(self, x,b):\n",
        "        #x_m = torch.cat((x,torch.zeros(x.shape[0],1).to(device) + b),1)   \n",
        "        #lin1 = self.relu(self.lin_bn1(self.linear1(x_m)))\n",
        "        lin1 = self.relu(self.lin_bn1(self.linear1(x)))\n",
        "        lin2 = self.relu(self.lin_bn2(self.linear2(lin1)))\n",
        "        lin3 = self.relu(self.lin_bn3(self.linear3(lin2)))\n",
        "\n",
        "        fc1 = F.relu(self.bn1(self.fc1(lin3)))\n",
        "\n",
        "        r1 = self.fc21(fc1)\n",
        "        r2 = self.fc22(fc1)\n",
        "        \n",
        "        return r1, r2\n",
        "    \n",
        "    def reparameterize(self, mu, logvar):\n",
        "        if self.training:\n",
        "            std = logvar.mul(0.5).exp_()\n",
        "            eps = Variable(std.data.new(std.size()).normal_())\n",
        "            return eps.mul(std).add_(mu)\n",
        "        else:\n",
        "            return mu\n",
        "        \n",
        "    def decode(self, z):\n",
        "    #def decode(self, z,b):\n",
        "        #z_m = torch.cat((z,torch.zeros(z.shape[0],1).to(device) + b),1) \n",
        "        #fc3 = self.relu(self.fc_bn3(self.fc3(z_m)))\n",
        "        fc3 = self.relu(self.fc_bn3(self.fc3(z)))\n",
        "        fc4 = self.relu(self.fc_bn4(self.fc4(fc3)))\n",
        "\n",
        "        lin4 = self.relu(self.lin_bn4(self.linear4(fc4)))\n",
        "        lin5 = self.relu(self.lin_bn5(self.linear5(lin4)))\n",
        "        #return self.lin_bn6(self.linear6(lin5))\n",
        "        return self.linear6(lin5)\n",
        "\n",
        "\n",
        "    def forward(self, x):\n",
        "    #def forward(self, x,b):\n",
        "        #mu, logvar = self.encode(x,b)\n",
        "        mu, logvar = self.encode(x)\n",
        "        z = self.reparameterize(mu, logvar)\n",
        "        #return self.decode(z,b), mu, logvar\n",
        "        return self.decode(z), mu, logvar"
      ]
    },
    {
      "cell_type": "code",
      "execution_count": 21,
      "metadata": {
        "id": "XhExhANE9SAb"
      },
      "outputs": [],
      "source": [
        "class customLoss(nn.Module):\n",
        "    def __init__(self):\n",
        "        super(customLoss, self).__init__()\n",
        "        self.mse_loss = nn.MSELoss(reduction=\"sum\")\n",
        "    \n",
        "    def forward(self, x_recon, x, mu, logvar):\n",
        "        loss_MSE = self.mse_loss(x_recon, x)\n",
        "        loss_KLD = -0.5 * torch.sum(1 + logvar - mu.pow(2) - logvar.exp())\n",
        "\n",
        "        return loss_MSE + loss_KLD"
      ]
    },
    {
      "source": [
        "If you want to better understand the variational autoencoder technique, look [here](https://towardsdatascience.com/understanding-variational-autoencoders-vaes-f70510919f73).\n",
        "\n",
        "For better understanding this AutoencoderClass, let me go briefly through it. This is a variational autoencoder (VAE) with two hidden layers, which (by default, but you can change this) 50 and then 12 activations. The latent factors are set to 3 (you can change that, too). So we're first exploding our initially 14 variables to 50 activations, then condensing it to 12, then to 3. From these 3 latent factors we then sample to recreate the original 14 values. We do that by inflating the 3 latent factors back to 12, then 50 and finally 14 activations (we decode the latent factors so to speak). With this reconstructed batch (recon_batch) we compare it with the original batch, computate our loss and adjust the weights and biases via our gradient (our optimizer here will be Adam). "
      ],
      "cell_type": "markdown",
      "metadata": {
        "id": "CCAQyyp89SAb"
      }
    },
    {
      "cell_type": "code",
      "execution_count": 22,
      "metadata": {
        "id": "Gdl38w2i9SAb"
      },
      "outputs": [],
      "source": [
        "D_in = trainloader.dataset.x.shape[1]\n",
        "H = 60\n",
        "H2 = 120\n",
        "latent_dim = 3\n",
        "gen_model = Autoencoder(D_in, H, H2,latent_dim).to(device)\n",
        "optimizer = optim.Adam(gen_model.parameters(), lr=1e-3)"
      ]
    },
    {
      "cell_type": "code",
      "execution_count": 23,
      "metadata": {
        "id": "d96ThQ7J9SAb"
      },
      "outputs": [],
      "source": [
        "loss_mse = customLoss()"
      ]
    },
    {
      "source": [
        "## Train Model"
      ],
      "cell_type": "markdown",
      "metadata": {
        "id": "xQwlLmY39SAc"
      }
    },
    {
      "cell_type": "code",
      "execution_count": 24,
      "metadata": {
        "id": "jiUSamsS9SAc"
      },
      "outputs": [],
      "source": [
        "epochs = 5000\n",
        "log_interval = 50\n",
        "val_losses = []\n",
        "train_losses = []\n",
        "test_losses = []"
      ]
    },
    {
      "cell_type": "code",
      "execution_count": 25,
      "metadata": {
        "id": "-MKqifS89SAc"
      },
      "outputs": [],
      "source": [
        "def train(epoch):\n",
        "    gen_model.train()\n",
        "    train_loss = 0\n",
        "    for batch_idx, data in enumerate(trainloader):\n",
        "        data = data.to(device)\n",
        "        optimizer.zero_grad()\n",
        "        #b = torch.tensor(int(batch_idx/100)/400,dtype=torch.float32).to(device)\n",
        "        recon_batch, mu, logvar = gen_model(data)\n",
        "        loss = loss_mse(recon_batch, data, mu, logvar)\n",
        "        loss.backward()\n",
        "        train_loss += loss.item()\n",
        "        optimizer.step()\n",
        "    if epoch % 200 == 0:        \n",
        "        print('====> Epoch: {} Average training loss: {:.4f}'.format(\n",
        "            epoch, train_loss / len(trainloader.dataset)))\n",
        "        train_losses.append(train_loss / len(trainloader.dataset))"
      ]
    },
    {
      "cell_type": "code",
      "execution_count": 26,
      "metadata": {
        "id": "oMBQ4_q99SAd"
      },
      "outputs": [],
      "source": [
        "def test(epoch):\n",
        "    with torch.no_grad():\n",
        "        test_loss = 0\n",
        "        for batch_idx, data in enumerate(testloader):\n",
        "            data = data.to(device)\n",
        "            optimizer.zero_grad()\n",
        "            #b = torch.tensor((int(batch_idx+1800)/100)/400,dtype=torch.float32).to(device)\n",
        "            recon_batch, mu, logvar = gen_model(data)\n",
        "            loss = loss_mse(recon_batch, data, mu, logvar)\n",
        "            test_loss += loss.item()\n",
        "            if epoch % 200 == 0:        \n",
        "                print('====> Epoch: {} Average test loss: {:.4f}'.format(\n",
        "                    epoch, test_loss / len(testloader.dataset)))\n",
        "            test_losses.append(test_loss / len(testloader.dataset))"
      ]
    },
    {
      "cell_type": "code",
      "execution_count": 27,
      "metadata": {
        "colab": {
          "base_uri": "https://localhost:8080/"
        },
        "id": "sNJeQdHb9SAd",
        "outputId": "3e6757ca-6a3a-4362-b4c2-0ba1155c18d6"
      },
      "outputs": [
        {
          "output_type": "stream",
          "name": "stdout",
          "text": [
            "====> Epoch: 200 Average training loss: 5.9326\n",
            "====> Epoch: 200 Average test loss: 6.1123\n",
            "====> Epoch: 400 Average training loss: 5.7478\n",
            "====> Epoch: 400 Average test loss: 6.0652\n",
            "====> Epoch: 600 Average training loss: 5.5374\n",
            "====> Epoch: 600 Average test loss: 5.8052\n",
            "====> Epoch: 800 Average training loss: 5.1281\n",
            "====> Epoch: 800 Average test loss: 5.4867\n",
            "====> Epoch: 1000 Average training loss: 4.9583\n",
            "====> Epoch: 1000 Average test loss: 5.3884\n",
            "====> Epoch: 1200 Average training loss: 4.7943\n",
            "====> Epoch: 1200 Average test loss: 5.3872\n",
            "====> Epoch: 1400 Average training loss: 4.7536\n",
            "====> Epoch: 1400 Average test loss: 5.1127\n",
            "====> Epoch: 1600 Average training loss: 4.6800\n",
            "====> Epoch: 1600 Average test loss: 5.0750\n",
            "====> Epoch: 1800 Average training loss: 4.6255\n",
            "====> Epoch: 1800 Average test loss: 5.1863\n",
            "====> Epoch: 2000 Average training loss: 4.6793\n",
            "====> Epoch: 2000 Average test loss: 5.0343\n",
            "====> Epoch: 2200 Average training loss: 4.6594\n",
            "====> Epoch: 2200 Average test loss: 5.1806\n",
            "====> Epoch: 2400 Average training loss: 4.6045\n",
            "====> Epoch: 2400 Average test loss: 4.9767\n",
            "====> Epoch: 2600 Average training loss: 4.6278\n",
            "====> Epoch: 2600 Average test loss: 5.0038\n",
            "====> Epoch: 2800 Average training loss: 4.5583\n",
            "====> Epoch: 2800 Average test loss: 4.9583\n",
            "====> Epoch: 3000 Average training loss: 4.6045\n",
            "====> Epoch: 3000 Average test loss: 5.1957\n",
            "====> Epoch: 3200 Average training loss: 4.5542\n",
            "====> Epoch: 3200 Average test loss: 5.0565\n",
            "====> Epoch: 3400 Average training loss: 4.5904\n",
            "====> Epoch: 3400 Average test loss: 5.0329\n",
            "====> Epoch: 3600 Average training loss: 4.6189\n",
            "====> Epoch: 3600 Average test loss: 4.9867\n",
            "====> Epoch: 3800 Average training loss: 4.5856\n",
            "====> Epoch: 3800 Average test loss: 5.0033\n",
            "====> Epoch: 4000 Average training loss: 4.6369\n",
            "====> Epoch: 4000 Average test loss: 5.1175\n",
            "====> Epoch: 4200 Average training loss: 4.5913\n",
            "====> Epoch: 4200 Average test loss: 5.1106\n",
            "====> Epoch: 4400 Average training loss: 4.6122\n",
            "====> Epoch: 4400 Average test loss: 5.0802\n",
            "====> Epoch: 4600 Average training loss: 4.5789\n",
            "====> Epoch: 4600 Average test loss: 4.9675\n",
            "====> Epoch: 4800 Average training loss: 4.6064\n",
            "====> Epoch: 4800 Average test loss: 5.1508\n",
            "====> Epoch: 5000 Average training loss: 4.5724\n",
            "====> Epoch: 5000 Average test loss: 5.1119\n"
          ]
        }
      ],
      "source": [
        "for epoch in range(1, epochs + 1):\n",
        "    train(epoch)\n",
        "    test(epoch)"
      ]
    },
    {
      "cell_type": "code",
      "source": [
        "with torch.no_grad():\n",
        "    for batch_idx, data in enumerate(testloader):\n",
        "        data = data.to(device)\n",
        "        optimizer.zero_grad()\n",
        "        recon_batch, mu, logvar = gen_model(data)"
      ],
      "metadata": {
        "id": "4WjuckQSGu1J"
      },
      "execution_count": 28,
      "outputs": []
    },
    {
      "cell_type": "code",
      "source": [
        "sigma = torch.exp(logvar/2)"
      ],
      "metadata": {
        "id": "shqwMPVKG5BP"
      },
      "execution_count": 29,
      "outputs": []
    },
    {
      "cell_type": "code",
      "source": [
        "# sample z from q\n",
        "no_samples = 20\n",
        "q = torch.distributions.Normal(mu.mean(axis=0), sigma.mean(axis=0))\n",
        "z = q.rsample(sample_shape=torch.Size([no_samples]))"
      ],
      "metadata": {
        "id": "mqicpyh7G-S2"
      },
      "execution_count": 30,
      "outputs": []
    },
    {
      "cell_type": "code",
      "source": [
        "with torch.no_grad():\n",
        "    fake_data = gen_model.decode(z).cpu().numpy()"
      ],
      "metadata": {
        "id": "ENplsaaqHDmv"
      },
      "execution_count": 31,
      "outputs": []
    },
    {
      "cell_type": "code",
      "execution_count": 32,
      "metadata": {
        "colab": {
          "base_uri": "https://localhost:8080/",
          "height": 676
        },
        "id": "0zLx6LGs9SAr",
        "outputId": "0abfbe49-b90f-421e-f84d-92ec0fd98ff9"
      },
      "outputs": [
        {
          "output_type": "execute_result",
          "data": {
            "text/plain": [
              "          x0        x1        x2        x3        z0         y\n",
              "0   2.718315  1.826046  1.977618  1.795556  1.734874  0.828832\n",
              "1   0.113456  1.526411  0.663829  0.792483  1.142719  0.058019\n",
              "2   2.479589  1.372926  1.957655  1.838633  1.767679  0.845197\n",
              "3   3.374058  4.401526  1.404747  1.889289  2.159038  0.876339\n",
              "4   1.222015  0.599339  0.677965  0.828720  0.945233 -0.068633\n",
              "5   0.762457  0.535685  2.092813  1.722761  1.506509  0.543492\n",
              "6   1.491595  2.221483  1.943569  1.775983  1.803786  0.859370\n",
              "7   1.318246  2.218935  1.974665  1.771976  1.808799  0.860305\n",
              "8   1.776658  0.898489  0.678730  0.816380  0.942983 -0.047732\n",
              "9   3.549549  1.788502  0.390373  0.731772  0.844951 -0.043767\n",
              "10  1.539063  2.011565  1.970967  1.783291  1.826078  0.866985\n",
              "11  0.719477  1.731571  2.198014  1.773163  1.867688  0.817701\n",
              "12  2.238098  0.817491  1.715348  1.776594  1.616025  0.705037\n",
              "13 -1.566527  1.387522  1.852574  1.893206  1.894384  0.690276\n",
              "14  1.002199  0.525689  0.622084  0.872671  0.986626 -0.051562\n",
              "15  1.658064  0.626225  0.806655  0.832209  0.963332 -0.040560\n",
              "16  2.992321  2.816910  1.564163  1.801624  1.870016  0.831738\n",
              "17  1.957865  1.146839  1.867328  1.806730  1.775938  0.824093\n",
              "18  1.143161  0.129164  0.873853  0.950023  1.000646 -0.051142\n",
              "19 -1.173772  0.483704  1.893183  1.174061  1.181453  0.173589"
            ],
            "text/html": [
              "\n",
              "  <div id=\"df-c32de7eb-00bd-4ba9-aa35-20fd471dbc3a\">\n",
              "    <div class=\"colab-df-container\">\n",
              "      <div>\n",
              "<style scoped>\n",
              "    .dataframe tbody tr th:only-of-type {\n",
              "        vertical-align: middle;\n",
              "    }\n",
              "\n",
              "    .dataframe tbody tr th {\n",
              "        vertical-align: top;\n",
              "    }\n",
              "\n",
              "    .dataframe thead th {\n",
              "        text-align: right;\n",
              "    }\n",
              "</style>\n",
              "<table border=\"1\" class=\"dataframe\">\n",
              "  <thead>\n",
              "    <tr style=\"text-align: right;\">\n",
              "      <th></th>\n",
              "      <th>x0</th>\n",
              "      <th>x1</th>\n",
              "      <th>x2</th>\n",
              "      <th>x3</th>\n",
              "      <th>z0</th>\n",
              "      <th>y</th>\n",
              "    </tr>\n",
              "  </thead>\n",
              "  <tbody>\n",
              "    <tr>\n",
              "      <th>0</th>\n",
              "      <td>2.718315</td>\n",
              "      <td>1.826046</td>\n",
              "      <td>1.977618</td>\n",
              "      <td>1.795556</td>\n",
              "      <td>1.734874</td>\n",
              "      <td>0.828832</td>\n",
              "    </tr>\n",
              "    <tr>\n",
              "      <th>1</th>\n",
              "      <td>0.113456</td>\n",
              "      <td>1.526411</td>\n",
              "      <td>0.663829</td>\n",
              "      <td>0.792483</td>\n",
              "      <td>1.142719</td>\n",
              "      <td>0.058019</td>\n",
              "    </tr>\n",
              "    <tr>\n",
              "      <th>2</th>\n",
              "      <td>2.479589</td>\n",
              "      <td>1.372926</td>\n",
              "      <td>1.957655</td>\n",
              "      <td>1.838633</td>\n",
              "      <td>1.767679</td>\n",
              "      <td>0.845197</td>\n",
              "    </tr>\n",
              "    <tr>\n",
              "      <th>3</th>\n",
              "      <td>3.374058</td>\n",
              "      <td>4.401526</td>\n",
              "      <td>1.404747</td>\n",
              "      <td>1.889289</td>\n",
              "      <td>2.159038</td>\n",
              "      <td>0.876339</td>\n",
              "    </tr>\n",
              "    <tr>\n",
              "      <th>4</th>\n",
              "      <td>1.222015</td>\n",
              "      <td>0.599339</td>\n",
              "      <td>0.677965</td>\n",
              "      <td>0.828720</td>\n",
              "      <td>0.945233</td>\n",
              "      <td>-0.068633</td>\n",
              "    </tr>\n",
              "    <tr>\n",
              "      <th>5</th>\n",
              "      <td>0.762457</td>\n",
              "      <td>0.535685</td>\n",
              "      <td>2.092813</td>\n",
              "      <td>1.722761</td>\n",
              "      <td>1.506509</td>\n",
              "      <td>0.543492</td>\n",
              "    </tr>\n",
              "    <tr>\n",
              "      <th>6</th>\n",
              "      <td>1.491595</td>\n",
              "      <td>2.221483</td>\n",
              "      <td>1.943569</td>\n",
              "      <td>1.775983</td>\n",
              "      <td>1.803786</td>\n",
              "      <td>0.859370</td>\n",
              "    </tr>\n",
              "    <tr>\n",
              "      <th>7</th>\n",
              "      <td>1.318246</td>\n",
              "      <td>2.218935</td>\n",
              "      <td>1.974665</td>\n",
              "      <td>1.771976</td>\n",
              "      <td>1.808799</td>\n",
              "      <td>0.860305</td>\n",
              "    </tr>\n",
              "    <tr>\n",
              "      <th>8</th>\n",
              "      <td>1.776658</td>\n",
              "      <td>0.898489</td>\n",
              "      <td>0.678730</td>\n",
              "      <td>0.816380</td>\n",
              "      <td>0.942983</td>\n",
              "      <td>-0.047732</td>\n",
              "    </tr>\n",
              "    <tr>\n",
              "      <th>9</th>\n",
              "      <td>3.549549</td>\n",
              "      <td>1.788502</td>\n",
              "      <td>0.390373</td>\n",
              "      <td>0.731772</td>\n",
              "      <td>0.844951</td>\n",
              "      <td>-0.043767</td>\n",
              "    </tr>\n",
              "    <tr>\n",
              "      <th>10</th>\n",
              "      <td>1.539063</td>\n",
              "      <td>2.011565</td>\n",
              "      <td>1.970967</td>\n",
              "      <td>1.783291</td>\n",
              "      <td>1.826078</td>\n",
              "      <td>0.866985</td>\n",
              "    </tr>\n",
              "    <tr>\n",
              "      <th>11</th>\n",
              "      <td>0.719477</td>\n",
              "      <td>1.731571</td>\n",
              "      <td>2.198014</td>\n",
              "      <td>1.773163</td>\n",
              "      <td>1.867688</td>\n",
              "      <td>0.817701</td>\n",
              "    </tr>\n",
              "    <tr>\n",
              "      <th>12</th>\n",
              "      <td>2.238098</td>\n",
              "      <td>0.817491</td>\n",
              "      <td>1.715348</td>\n",
              "      <td>1.776594</td>\n",
              "      <td>1.616025</td>\n",
              "      <td>0.705037</td>\n",
              "    </tr>\n",
              "    <tr>\n",
              "      <th>13</th>\n",
              "      <td>-1.566527</td>\n",
              "      <td>1.387522</td>\n",
              "      <td>1.852574</td>\n",
              "      <td>1.893206</td>\n",
              "      <td>1.894384</td>\n",
              "      <td>0.690276</td>\n",
              "    </tr>\n",
              "    <tr>\n",
              "      <th>14</th>\n",
              "      <td>1.002199</td>\n",
              "      <td>0.525689</td>\n",
              "      <td>0.622084</td>\n",
              "      <td>0.872671</td>\n",
              "      <td>0.986626</td>\n",
              "      <td>-0.051562</td>\n",
              "    </tr>\n",
              "    <tr>\n",
              "      <th>15</th>\n",
              "      <td>1.658064</td>\n",
              "      <td>0.626225</td>\n",
              "      <td>0.806655</td>\n",
              "      <td>0.832209</td>\n",
              "      <td>0.963332</td>\n",
              "      <td>-0.040560</td>\n",
              "    </tr>\n",
              "    <tr>\n",
              "      <th>16</th>\n",
              "      <td>2.992321</td>\n",
              "      <td>2.816910</td>\n",
              "      <td>1.564163</td>\n",
              "      <td>1.801624</td>\n",
              "      <td>1.870016</td>\n",
              "      <td>0.831738</td>\n",
              "    </tr>\n",
              "    <tr>\n",
              "      <th>17</th>\n",
              "      <td>1.957865</td>\n",
              "      <td>1.146839</td>\n",
              "      <td>1.867328</td>\n",
              "      <td>1.806730</td>\n",
              "      <td>1.775938</td>\n",
              "      <td>0.824093</td>\n",
              "    </tr>\n",
              "    <tr>\n",
              "      <th>18</th>\n",
              "      <td>1.143161</td>\n",
              "      <td>0.129164</td>\n",
              "      <td>0.873853</td>\n",
              "      <td>0.950023</td>\n",
              "      <td>1.000646</td>\n",
              "      <td>-0.051142</td>\n",
              "    </tr>\n",
              "    <tr>\n",
              "      <th>19</th>\n",
              "      <td>-1.173772</td>\n",
              "      <td>0.483704</td>\n",
              "      <td>1.893183</td>\n",
              "      <td>1.174061</td>\n",
              "      <td>1.181453</td>\n",
              "      <td>0.173589</td>\n",
              "    </tr>\n",
              "  </tbody>\n",
              "</table>\n",
              "</div>\n",
              "      <button class=\"colab-df-convert\" onclick=\"convertToInteractive('df-c32de7eb-00bd-4ba9-aa35-20fd471dbc3a')\"\n",
              "              title=\"Convert this dataframe to an interactive table.\"\n",
              "              style=\"display:none;\">\n",
              "        \n",
              "  <svg xmlns=\"http://www.w3.org/2000/svg\" height=\"24px\"viewBox=\"0 0 24 24\"\n",
              "       width=\"24px\">\n",
              "    <path d=\"M0 0h24v24H0V0z\" fill=\"none\"/>\n",
              "    <path d=\"M18.56 5.44l.94 2.06.94-2.06 2.06-.94-2.06-.94-.94-2.06-.94 2.06-2.06.94zm-11 1L8.5 8.5l.94-2.06 2.06-.94-2.06-.94L8.5 2.5l-.94 2.06-2.06.94zm10 10l.94 2.06.94-2.06 2.06-.94-2.06-.94-.94-2.06-.94 2.06-2.06.94z\"/><path d=\"M17.41 7.96l-1.37-1.37c-.4-.4-.92-.59-1.43-.59-.52 0-1.04.2-1.43.59L10.3 9.45l-7.72 7.72c-.78.78-.78 2.05 0 2.83L4 21.41c.39.39.9.59 1.41.59.51 0 1.02-.2 1.41-.59l7.78-7.78 2.81-2.81c.8-.78.8-2.07 0-2.86zM5.41 20L4 18.59l7.72-7.72 1.47 1.35L5.41 20z\"/>\n",
              "  </svg>\n",
              "      </button>\n",
              "      \n",
              "  <style>\n",
              "    .colab-df-container {\n",
              "      display:flex;\n",
              "      flex-wrap:wrap;\n",
              "      gap: 12px;\n",
              "    }\n",
              "\n",
              "    .colab-df-convert {\n",
              "      background-color: #E8F0FE;\n",
              "      border: none;\n",
              "      border-radius: 50%;\n",
              "      cursor: pointer;\n",
              "      display: none;\n",
              "      fill: #1967D2;\n",
              "      height: 32px;\n",
              "      padding: 0 0 0 0;\n",
              "      width: 32px;\n",
              "    }\n",
              "\n",
              "    .colab-df-convert:hover {\n",
              "      background-color: #E2EBFA;\n",
              "      box-shadow: 0px 1px 2px rgba(60, 64, 67, 0.3), 0px 1px 3px 1px rgba(60, 64, 67, 0.15);\n",
              "      fill: #174EA6;\n",
              "    }\n",
              "\n",
              "    [theme=dark] .colab-df-convert {\n",
              "      background-color: #3B4455;\n",
              "      fill: #D2E3FC;\n",
              "    }\n",
              "\n",
              "    [theme=dark] .colab-df-convert:hover {\n",
              "      background-color: #434B5C;\n",
              "      box-shadow: 0px 1px 3px 1px rgba(0, 0, 0, 0.15);\n",
              "      filter: drop-shadow(0px 1px 2px rgba(0, 0, 0, 0.3));\n",
              "      fill: #FFFFFF;\n",
              "    }\n",
              "  </style>\n",
              "\n",
              "      <script>\n",
              "        const buttonEl =\n",
              "          document.querySelector('#df-c32de7eb-00bd-4ba9-aa35-20fd471dbc3a button.colab-df-convert');\n",
              "        buttonEl.style.display =\n",
              "          google.colab.kernel.accessAllowed ? 'block' : 'none';\n",
              "\n",
              "        async function convertToInteractive(key) {\n",
              "          const element = document.querySelector('#df-c32de7eb-00bd-4ba9-aa35-20fd471dbc3a');\n",
              "          const dataTable =\n",
              "            await google.colab.kernel.invokeFunction('convertToInteractive',\n",
              "                                                     [key], {});\n",
              "          if (!dataTable) return;\n",
              "\n",
              "          const docLinkHtml = 'Like what you see? Visit the ' +\n",
              "            '<a target=\"_blank\" href=https://colab.research.google.com/notebooks/data_table.ipynb>data table notebook</a>'\n",
              "            + ' to learn more about interactive tables.';\n",
              "          element.innerHTML = '';\n",
              "          dataTable['output_type'] = 'display_data';\n",
              "          await google.colab.output.renderOutput(dataTable, element);\n",
              "          const docLink = document.createElement('div');\n",
              "          docLink.innerHTML = docLinkHtml;\n",
              "          element.appendChild(docLink);\n",
              "        }\n",
              "      </script>\n",
              "    </div>\n",
              "  </div>\n",
              "  "
            ]
          },
          "metadata": {},
          "execution_count": 32
        }
      ],
      "source": [
        "df_fake = pd.DataFrame(fake_data, columns = ['x0','x1','x2','x3','z0','y'])\n",
        "df_fake"
      ]
    },
    {
      "cell_type": "markdown",
      "source": [
        "## mu, sigma 추이 보기..."
      ],
      "metadata": {
        "id": "zqgOj8JtOoOB"
      }
    },
    {
      "cell_type": "code",
      "source": [
        "import matplotlib.pyplot as plt\n",
        "\n",
        "mus = []\n",
        "sigs = []\n",
        "X_train = torch.tensor(df_base[0:40000][['x0','x1','x2','x3','z0','y']].values, dtype=torch.float32).to(device)\n",
        "\n",
        "gen_model.eval()\n",
        "bucket_size = 100\n",
        "bucket_count = int(X_train.shape[0]/bucket_size)\n",
        "\n",
        "for batch_idx in range(bucket_count):\n",
        "    data = X_train[batch_idx*bucket_size:batch_idx*bucket_size+bucket_size]\n",
        "    data = data.to(device)\n",
        "    optimizer.zero_grad()\n",
        "    recon_batch, mu, logvar = gen_model(data)\n",
        "    sigma = torch.exp(logvar/2)\n",
        "    mus.append(mu.mean(axis=0).cpu().data.numpy())\n",
        "    sigs.append(sigma.mean(axis=0).cpu().data.numpy())\n",
        "    #print(batch_idx,mus[-1])\n",
        "mus = np.asarray(mus)\n",
        "sigs = np.asarray(sigs)\n",
        "\n",
        "plt.figure(figsize=(6,6))\n",
        "plt.subplot(211)\n",
        "plt.plot(mus)\n",
        "plt.title('mu vs buckets')\n",
        "plt.subplot(212)\n",
        "plt.plot(sigs)\n",
        "plt.title('sigma vs buckets')\n",
        "plt.tight_layout()\n",
        "plt.show()"
      ],
      "metadata": {
        "colab": {
          "base_uri": "https://localhost:8080/",
          "height": 601
        },
        "id": "KqnwszR1Oq8R",
        "outputId": "56437221-e810-40aa-e3aa-fa826b868ec9"
      },
      "execution_count": 33,
      "outputs": [
        {
          "output_type": "display_data",
          "data": {
            "text/plain": [
              "<Figure size 600x600 with 2 Axes>"
            ],
            "image/png": "[encoded data removed]"
          },
          "metadata": {}
        }
      ]
    },
    {
      "cell_type": "code",
      "source": [
        "mus.shape"
      ],
      "metadata": {
        "id": "mIjBGri5iW2o",
        "outputId": "e00eab3d-1223-436b-c44d-b5a0d1126c8f",
        "colab": {
          "base_uri": "https://localhost:8080/"
        }
      },
      "execution_count": 34,
      "outputs": [
        {
          "output_type": "execute_result",
          "data": {
            "text/plain": [
              "(400, 3)"
            ]
          },
          "metadata": {},
          "execution_count": 34
        }
      ]
    },
    {
      "cell_type": "markdown",
      "source": [
        "+ Trainset의 mu,sigma 추이"
      ],
      "metadata": {
        "id": "Bsql9or5_rdu"
      }
    },
    {
      "cell_type": "code",
      "source": [
        "mus = []\n",
        "sigs = []\n",
        "X_train = torch.tensor(df_base[0:2000][['x0','x1','x2','x3','z0','y']].values, dtype=torch.float32).to(device)\n",
        "\n",
        "gen_model.eval()\n",
        "for batch_idx in range(20):\n",
        "    data = X_train[batch_idx*100:batch_idx*100+100]\n",
        "    data = data.to(device)\n",
        "    optimizer.zero_grad()\n",
        "    recon_batch, mu, logvar = gen_model(data)\n",
        "    sigma = torch.exp(logvar/2)\n",
        "    mus.append(mu.mean(axis=0).cpu().data.numpy())\n",
        "    sigs.append(sigma.mean(axis=0).cpu().data.numpy())\n",
        "    #print(batch_idx,mus[-1])\n",
        "mus = np.asarray(mus)\n",
        "sigs = np.asarray(sigs)\n",
        "\n",
        "plt.figure(figsize=(6,6))\n",
        "plt.subplot(211)\n",
        "plt.plot(mus)\n",
        "plt.title('mu vs buckets')\n",
        "plt.subplot(212)\n",
        "plt.plot(sigs)\n",
        "plt.title('sigma vs buckets')\n",
        "plt.tight_layout()\n",
        "plt.show()\n",
        "\n"
      ],
      "metadata": {
        "id": "5v8vqgTu_wHB",
        "outputId": "1760ef29-ca49-4afe-9759-3d3b47fdd7fb",
        "colab": {
          "base_uri": "https://localhost:8080/",
          "height": 601
        }
      },
      "execution_count": 35,
      "outputs": [
        {
          "output_type": "display_data",
          "data": {
            "text/plain": [
              "<Figure size 600x600 with 2 Axes>"
            ],
            "image/png": "[encoded data removed]"
          },
          "metadata": {}
        }
      ]
    },
    {
      "cell_type": "markdown",
      "source": [
        "+ Trainset의 mu,sigma 추이\n",
        "+ bucket count가 20개로 매우 적다. 이를 극복하기 위해서, 하나의 bucket에 대해 80%를 random 복원 sampling 하여 bucket count의 증가 효과를..."
      ],
      "metadata": {
        "id": "mUs-Wh4QDU0k"
      }
    },
    {
      "cell_type": "code",
      "source": [
        "mus = []\n",
        "sigs = []\n",
        "X_train = torch.tensor(df_base[0:2000][['x0','x1','x2','x3','z0','y']].values, dtype=torch.float32).to(device)\n",
        "bucket_size = 100\n",
        "bucket_count = int(X_train.shape[0]/bucket_size)\n",
        "gen_model.eval()\n",
        "for batch_idx in range(bucket_count):\n",
        "    data = X_train[batch_idx*bucket_size:batch_idx*bucket_size+bucket_size]\n",
        "    data = data.to(device)\n",
        "    optimizer.zero_grad()\n",
        "    for i in range(20):\n",
        "        s = np.random.choice(data.shape[0],int(data.shape[0]*0.8))\n",
        "        recon_batch, mu, logvar = gen_model(data[s])\n",
        "        sigma = torch.exp(logvar/2)\n",
        "        mus.append(mu.mean(axis=0).cpu().data.numpy())\n",
        "        sigs.append(sigma.mean(axis=0).cpu().data.numpy())\n",
        "    #print(batch_idx,mus[-1])\n",
        "mus = np.asarray(mus)\n",
        "sigs = np.asarray(sigs)\n",
        "\n",
        "plt.figure(figsize=(6,6))\n",
        "plt.subplot(211)\n",
        "plt.plot(mus)\n",
        "plt.title('mu vs buckets')\n",
        "plt.subplot(212)\n",
        "plt.plot(sigs)\n",
        "plt.title('sigma vs buckets')\n",
        "plt.tight_layout()\n",
        "plt.show()"
      ],
      "metadata": {
        "id": "MY5RFT6CDpkZ",
        "outputId": "3bb4411c-da06-42f0-955d-afd54f64ec7d",
        "colab": {
          "base_uri": "https://localhost:8080/",
          "height": 601
        }
      },
      "execution_count": 36,
      "outputs": [
        {
          "output_type": "display_data",
          "data": {
            "text/plain": [
              "<Figure size 600x600 with 2 Axes>"
            ],
            "image/png": "[encoded data removed]"
          },
          "metadata": {}
        }
      ]
    },
    {
      "cell_type": "code",
      "source": [
        "a-"
      ],
      "metadata": {
        "colab": {
          "base_uri": "https://localhost:8080/",
          "height": 137
        },
        "id": "vnQOgcJVYdRw",
        "outputId": "9124051e-e6b0-491d-b468-88d7ae9fa938"
      },
      "execution_count": 37,
      "outputs": [
        {
          "output_type": "error",
          "ename": "SyntaxError",
          "evalue": "ignored",
          "traceback": [
            "\u001b[0;36m  File \u001b[0;32m\"<ipython-input-37-8742f66f81b5>\"\u001b[0;36m, line \u001b[0;32m1\u001b[0m\n\u001b[0;31m    a-\u001b[0m\n\u001b[0m      ^\u001b[0m\n\u001b[0;31mSyntaxError\u001b[0m\u001b[0;31m:\u001b[0m invalid syntax\n"
          ]
        }
      ]
    },
    {
      "cell_type": "code",
      "source": [
        "classifier_model = nn.Sequential(\n",
        "    nn.Linear(5, 20),\n",
        "    nn.ReLU(),\n",
        "    nn.Linear(20, 5),\n",
        "    nn.ReLU(),\n",
        "    nn.Linear(5, 1),\n",
        "    nn.Sigmoid()\n",
        ")"
      ],
      "metadata": {
        "id": "kIA0Y_ZAkcDG"
      },
      "execution_count": null,
      "outputs": []
    },
    {
      "cell_type": "markdown",
      "source": [
        "# 학습 및 전체 적용"
      ],
      "metadata": {
        "id": "bHxxKPvLex2P"
      }
    },
    {
      "cell_type": "code",
      "source": [
        "import numpy as np\n",
        "import pandas as pd\n",
        "import torch\n",
        "from torch.autograd import Variable\n",
        "import torch.nn as nn\n",
        "import torch.nn.functional as F\n",
        "import matplotlib.pyplot as plt\n",
        "import sys, os\n",
        "import math\n",
        "\n",
        "from torch.autograd import Variable\n",
        "from argparse import Namespace\n",
        "#from FRTrain_arch import Generator, DiscriminatorF, DiscriminatorR, weights_init_normal, test_model\n",
        "#from FRTrain_arch import weights_init_normal, test_model\n",
        "import warnings\n",
        "warnings.filterwarnings(\"ignore\")"
      ],
      "metadata": {
        "id": "CqsaQRtle2Zv"
      },
      "execution_count": null,
      "outputs": []
    },
    {
      "cell_type": "code",
      "source": [
        "X = df_base"
      ],
      "metadata": {
        "id": "qDYCNgBffrXc"
      },
      "execution_count": null,
      "outputs": []
    },
    {
      "cell_type": "code",
      "source": [
        "import copy\n",
        "import torch.optim as optim\n",
        "from tqdm import tqdm\n",
        "\n",
        "seed_everything()\n",
        "\n",
        "device = torch.device(\"cuda:0\" if torch.cuda.is_available() else \"cpu\")\n",
        "print(device)\n",
        "# Convert to 2D PyTorch tensors\n",
        "X_train = torch.tensor(X[0:1800][['x0','x1','x2','x3','z0']].values, dtype=torch.float32).to(device)\n",
        "y_train = torch.tensor(y[0:1800], dtype=torch.float32).reshape(-1, 1).to(device)\n",
        "\n",
        "X_test = torch.tensor(X[1800:2000][['x0','x1','x2','x3','z0']].values, dtype=torch.float32).to(device)\n",
        "y_test = torch.tensor(y[1800:2000], dtype=torch.float32).reshape(-1, 1).to(device)\n",
        " \n",
        "# Define the model\n",
        "classifier_model = nn.Sequential(\n",
        "    nn.Linear(5, 20),\n",
        "    nn.ReLU(),\n",
        "    nn.Linear(20, 5),\n",
        "    nn.ReLU(),\n",
        "    nn.Linear(5, 1),\n",
        "    nn.Sigmoid()\n",
        ").to(device)\n",
        " \n",
        "# loss function and optimizer\n",
        "loss_fn = nn.BCELoss()  # mean square error\n",
        "optimizer = optim.Adam(classifier_model.parameters(), lr=0.0001)\n",
        " \n",
        "n_epochs = 600   # number of epochs to run\n",
        "batch_size = 100  # size of each batch\n",
        "batch_start = torch.arange(0, len(X_train), batch_size)\n",
        " \n",
        "# Hold the best model\n",
        "best_mse = np.inf   # init to infinity\n",
        "best_weights = None\n",
        "history = []\n",
        " \n",
        "for epoch in tqdm(range(n_epochs)):\n",
        "    classifier_model.train()\n",
        "    with tqdm(batch_start, unit=\"batch\", mininterval=0, disable=True) as bar:\n",
        "        bar.set_description(f\"Epoch {epoch}\")\n",
        "        for start in bar:\n",
        "            # take a batch\n",
        "            X_batch = X_train[start:start+batch_size]\n",
        "            y_batch = y_train[start:start+batch_size]\n",
        "            # forward pass\n",
        "            y_pred = classifier_model(X_batch)\n",
        "            loss = loss_fn(y_pred, y_batch)\n",
        "            # backward pass\n",
        "            optimizer.zero_grad()\n",
        "            loss.backward()\n",
        "            # update weights\n",
        "            optimizer.step()\n",
        "            # print progress\n",
        "            bar.set_postfix(mse=float(loss))\n",
        "    # evaluate accuracy at end of each epoch\n",
        "    classifier_model.eval()\n",
        "    y_pred = classifier_model(X_test)\n",
        "    mse = loss_fn(y_pred, y_test)\n",
        "    mse = float(mse)\n",
        "    history.append(mse)\n",
        "    if mse < best_mse:\n",
        "        best_mse = mse\n",
        "        best_weights = copy.deepcopy(classifier_model.state_dict())\n",
        " \n",
        "# restore model and return best accuracy\n",
        "classifier_model.load_state_dict(best_weights)\n",
        "print(\"MSE: %.2f\" % best_mse)\n",
        "print(\"RMSE: %.2f\" % np.sqrt(best_mse))\n",
        "plt.plot(history)\n",
        "plt.show()"
      ],
      "metadata": {
        "id": "NfPQHvr3fB21"
      },
      "execution_count": null,
      "outputs": []
    },
    {
      "cell_type": "code",
      "source": [
        "from sklearn.metrics import r2_score,precision_recall_fscore_support,f1_score\n",
        "predicted_y = classifier_model(X_test)\n",
        "f1 = f1_score(y_test.cpu().data.numpy(),(predicted_y.cpu().data.numpy()> 0.5).astype(float))\n",
        "print('feature 5, test_f1',f1)"
      ],
      "metadata": {
        "id": "NOn1zM1bf_KY"
      },
      "execution_count": null,
      "outputs": []
    },
    {
      "cell_type": "markdown",
      "source": [
        "## Ref_model 학습"
      ],
      "metadata": {
        "id": "bdzKdqu6zxyd"
      }
    },
    {
      "cell_type": "code",
      "source": [
        "import copy\n",
        "import torch.optim as optim\n",
        "from tqdm import tqdm\n",
        "\n",
        "seed_everything()\n",
        "\n",
        "device = torch.device(\"cuda:0\" if torch.cuda.is_available() else \"cpu\")\n",
        "print(device)\n",
        "# Convert to 2D PyTorch tensors\n",
        "X_train = torch.tensor(X[0:1800][['x0','x1','x2','x3','z0']].values, dtype=torch.float32).to(device)\n",
        "y_train = torch.tensor(y[0:1800], dtype=torch.float32).reshape(-1, 1).to(device)\n",
        "\n",
        "X_test = torch.tensor(X[1800:2000][['x0','x1','x2','x3','z0']].values, dtype=torch.float32).to(device)\n",
        "y_test = torch.tensor(y[1800:2000], dtype=torch.float32).reshape(-1, 1).to(device)\n",
        " \n",
        "# Define the model\n",
        "ref_model = nn.Sequential(\n",
        "    nn.Linear(5, 20),\n",
        "    nn.ReLU(),\n",
        "    nn.Linear(20, 5),\n",
        "    nn.ReLU(),\n",
        "    nn.Linear(5, 1),\n",
        "    nn.Sigmoid()\n",
        ").to(device)\n",
        " \n",
        "# loss function and optimizer\n",
        "loss_fn = nn.BCELoss()  # mean square error\n",
        "optimizer = optim.Adam(ref_model.parameters(), lr=0.0001)\n",
        " \n",
        "n_epochs = 10   # number of epochs to run\n",
        "batch_size = 100  # size of each batch\n",
        "batch_start = torch.arange(0, len(X_train), batch_size)\n",
        " \n",
        "# Hold the best model\n",
        "best_mse = np.inf   # init to infinity\n",
        "best_weights = None\n",
        "history = []\n",
        " \n",
        "for epoch in tqdm(range(n_epochs)):\n",
        "    ref_model.train()\n",
        "    with tqdm(batch_start, unit=\"batch\", mininterval=0, disable=True) as bar:\n",
        "        bar.set_description(f\"Epoch {epoch}\")\n",
        "        for start in bar:\n",
        "            # take a batch\n",
        "            X_batch = X_train[start:start+batch_size]\n",
        "            y_batch = y_train[start:start+batch_size]\n",
        "            # forward pass\n",
        "            y_pred = ref_model(X_batch)\n",
        "            loss = loss_fn(y_pred, y_batch)\n",
        "            # backward pass\n",
        "            optimizer.zero_grad()\n",
        "            loss.backward()\n",
        "            # update weights\n",
        "            optimizer.step()\n",
        "            # print progress\n",
        "            bar.set_postfix(mse=float(loss))\n",
        "    # evaluate accuracy at end of each epoch\n",
        "    ref_model.eval()\n",
        "    y_pred = ref_model(X_test)\n",
        "    mse = loss_fn(y_pred, y_test)\n",
        "    mse = float(mse)\n",
        "    history.append(mse)\n",
        "    if mse < best_mse:\n",
        "        best_mse = mse\n",
        "        best_weights = copy.deepcopy(ref_model.state_dict())\n",
        " \n",
        "# restore model and return best accuracy\n",
        "ref_model.load_state_dict(best_weights)\n",
        "print(\"MSE: %.2f\" % best_mse)\n",
        "print(\"RMSE: %.2f\" % np.sqrt(best_mse))\n",
        "plt.plot(history)\n",
        "plt.show()"
      ],
      "metadata": {
        "id": "OGQLhi_Rz2EV"
      },
      "execution_count": null,
      "outputs": []
    },
    {
      "cell_type": "code",
      "source": [
        "from sklearn.metrics import r2_score,precision_recall_fscore_support,f1_score\n",
        "predicted_y = ref_model(X_test)\n",
        "f1 = f1_score(y_test.cpu().data.numpy(),(predicted_y.cpu().data.numpy()> 0.5).astype(float))\n",
        "print('feature 5, test_f1',f1)"
      ],
      "metadata": {
        "id": "hnUiv3yt0O2_"
      },
      "execution_count": null,
      "outputs": []
    },
    {
      "cell_type": "markdown",
      "source": [
        "# ks_test"
      ],
      "metadata": {
        "id": "X-yPHn17gHNz"
      }
    },
    {
      "cell_type": "code",
      "source": [
        "plt.style.use('bmh')\n",
        "\n",
        "def __ks_2samp2(sample1, sample2):\n",
        "    # Gets all observations\n",
        "    sample1 = np.sort(sample1)\n",
        "    sample2 = np.sort(sample2)\n",
        "    n1 = sample1.shape[0]\n",
        "    n2 = sample2.shape[0]   \n",
        "    data_all = np.concatenate([sample1, sample2])\n",
        "    cdf1 = np.searchsorted(sample1, data_all, side='right') / n1\n",
        "    cdf2 = np.searchsorted(sample2, data_all, side='right') / n2\n",
        "    # Evaluates the KS statistic\n",
        "    cddiffs = cdf1 - cdf2\n",
        "    minS = -np.min(cddiffs)\n",
        "    maxS = np.max(cddiffs)\n",
        "    ks_stat =  max(minS, maxS)\n",
        "    \n",
        "    #if ks_stat == minS:\n",
        "    #    ks_stat = -ks_stat\n",
        "    \n",
        "    # Calculates the P-Value based on the two-sided test\n",
        "    # The P-Value comes from the KS Distribution Survival Function (SF = 1-CDF)\n",
        "    m, n = float(n1), float(n2)\n",
        "    en = m * n / (m + n)\n",
        "    p_value = 0.0 #stats.kstwobign.sf(math.sqrt(en) * abs(ks_stat))\n",
        "    #p_value = stats.kstwobign.sf(en * abs(ks_stat))\n",
        "    return ks_stat,p_value\n",
        "\n",
        "def __ks_drift(ref_x,inf_x):\n",
        "    x_drift = np.zeros((ref_x.shape[1],2))\n",
        "    for i in range(ref_x.shape[1]):\n",
        "        #s, p = ks_2samp(ref_x[:,i],inf_x[:,i],mode='asymp')\n",
        "        s, p = __ks_2samp2(ref_x[:,i],inf_x[:,i])\n",
        "        x_drift[i,0] = s\n",
        "        x_drift[i,1] = p\n",
        "    return x_drift"
      ],
      "metadata": {
        "id": "vqj5YOMBgJuq"
      },
      "execution_count": null,
      "outputs": []
    },
    {
      "cell_type": "code",
      "source": [
        "from sklearn.feature_selection import mutual_info_regression\n",
        "\n",
        "def make_mi_scores(X, y, discrete_features):\n",
        "    mi_scores = mutual_info_regression(X, y, discrete_features=discrete_features)\n",
        "    mi_scores = pd.Series(mi_scores, name=\"MI Scores\", index=X.columns)\n",
        "    mi_scores = mi_scores.sort_values(ascending=False)\n",
        "    return mi_scores"
      ],
      "metadata": {
        "id": "i7IBSb9LgY81"
      },
      "execution_count": null,
      "outputs": []
    },
    {
      "cell_type": "code",
      "source": [
        "columns=['x0','x1','x2','x3','z0']\n",
        "X = pd.DataFrame(x,columns=columns)\n",
        "mi_scores = make_mi_scores(X, y, discrete_features=\"auto\")\n",
        "print(mi_scores)"
      ],
      "metadata": {
        "id": "9OclgVQqglBZ"
      },
      "execution_count": null,
      "outputs": []
    },
    {
      "cell_type": "code",
      "source": [
        "result_table3 = {}\n",
        "result_table3['lambda']=[]\n",
        "result_table3['test_f1']=[]\n",
        "result_table3['init_f1']=[]\n",
        "result_table3['mean_f1']=[]\n",
        "result_table3['last_f1']=[]\n",
        "result_table3['MI(y^,z)']=[]\n",
        "\n",
        "XT = X[2000:][['x0','x1','x2','x3','z0']]\n",
        "yT = y[2000:]\n",
        "\n",
        "bucket_size_array=[100]\n",
        "\n",
        "for bucket_size in bucket_size_array:\n",
        "    bucket_count = int(XT.shape[0]/bucket_size)-1\n",
        "    f1s = {}\n",
        "    f1s['f1'] = []\n",
        "    f1s['ref_f1'] = []\n",
        "    \n",
        "    dfs = {}\n",
        "    for col in columns:\n",
        "        dfs[col] = []    \n",
        "\n",
        "    for bk in tqdm(range(bucket_count)):\n",
        "        tmp_x = torch.tensor(XT[bk*bucket_size:bk*bucket_size+bucket_size].values, dtype=torch.float32).to(device)\n",
        "        predicted_y = classifier_model(tmp_x)\n",
        "        predicted_y = (predicted_y.cpu().data.numpy()> 0.5).astype(float)\n",
        "        \n",
        "        ref_y = ref_model(tmp_x)\n",
        "        ref_y = (ref_y.cpu().data.numpy()> 0.5).astype(float)\n",
        "        \n",
        "        f1_ = f1_score(yT[bk*bucket_size:bk*bucket_size+bucket_size],predicted_y)\n",
        "        rf1 = f1_score(yT[bk*bucket_size:bk*bucket_size+bucket_size],ref_y)\n",
        "        f1s['f1'].append(f1_)\n",
        "        f1s['ref_f1'].append(rf1)        \n",
        "        ks = __ks_drift(X[0:1800].values,X[bk*bucket_size+2000:bk*bucket_size+bucket_size+2000].values)\n",
        "        for ix,col in enumerate(columns):\n",
        "            dfs[col].append(ks[:,0][ix]) \n",
        "\n",
        "    df_f1s = pd.DataFrame(f1s)\n",
        "    df_f1s.plot(figsize=(15,3))\n",
        "    plt.ylabel('F1 score')\n",
        "    plt.xlabel('bucket')\n",
        "    plt.title('Changes of F1 score according to bucket')\n",
        "    plt.show()\n",
        "\n",
        "    df_drifts = pd.DataFrame(dfs)\n",
        "    df_drifts.plot(figsize=(15,3))\n",
        "    plt.ylabel('Drift')\n",
        "    plt.xlabel('bucket')\n",
        "    plt.title('Changes of Drift according to bucket')\n",
        "    plt.show()\n",
        "\n",
        "result_table3['lambda'].append('Case #1 Feature 5')\n",
        "result_table3['test_f1'].append(f1)\n",
        "result_table3['init_f1'].append(f1s['f1'][0])\n",
        "result_table3['mean_f1'].append(np.mean(f1s['f1']))\n",
        "result_table3['last_f1'].append(f1s['f1'][-1])\n",
        "result_table3['MI(y^,z)'].append(mi_scores['z0'])\n",
        "\n",
        "pd.DataFrame(result_table3)"
      ],
      "metadata": {
        "id": "vgBYpXTwgVei"
      },
      "execution_count": null,
      "outputs": []
    },
    {
      "cell_type": "markdown",
      "source": [
        "# VAE에 의한 fake data의 적용"
      ],
      "metadata": {
        "id": "ER3JSHEWiFQi"
      }
    },
    {
      "cell_type": "code",
      "source": [
        "sigma.shape"
      ],
      "metadata": {
        "id": "ac4XdmE-sxr_"
      },
      "execution_count": null,
      "outputs": []
    },
    {
      "cell_type": "code",
      "source": [
        "seed_everything()\n",
        "\n",
        "gen_model.eval()\n",
        "data = torch.tensor(df_base[1800:2000].values,dtype=torch.float32).to(device)\n",
        "recon_batch, mu, logvar = gen_model(data)\n",
        "\n",
        "sigma = torch.exp(logvar/2)\n",
        "\n",
        "print(mu.mean(axis=0), sigma.mean(axis=0))\n",
        "\n",
        "simulation_count = 2000\n",
        "\n",
        "stress = 50\n",
        "\n",
        "f1ss = []\n",
        "dfs = {}\n",
        "for col in columns:\n",
        "    dfs[col] = []   \n",
        "\n",
        "for i in tqdm(range(simulation_count)):\n",
        "    # fake data의 생성\n",
        "    no_samples = 200\n",
        "    #b=torch.tensor(i/simulation_count,dtype=torch.float32).to(device)\n",
        "    e_mu=torch.tensor(np.random.uniform(low=0.0, high=1.0+(stress*i)/simulation_count,size=mu.shape),dtype=torch.float32).to(device)\n",
        "    e_sigma=torch.tensor(np.random.uniform(low=0.0, high=(stress*i)/simulation_count,size=sigma.shape),dtype=torch.float32).to(device)\n",
        "    q = torch.distributions.Normal((mu).mean(axis=0), (sigma+e_sigma).mean(axis=0))\n",
        "    z = q.rsample(sample_shape=torch.Size([no_samples]))\n",
        "    with torch.no_grad():\n",
        "        pred = gen_model.decode(z).cpu().numpy()\n",
        "    fake_data = scaler.inverse_transform(pred)\n",
        "    #yT = ((fake_data[:,5])> 0.5).astype(float)\n",
        "    fake_data = torch.tensor(fake_data[:,0:5],dtype=torch.float32).to(device)\n",
        "\n",
        "    ref_y =ref_model(fake_data)\n",
        "    ref_y = (ref_y.cpu().data.numpy()> 0.5).astype(float)\n",
        "\n",
        "    predicted_y = classifier_model(fake_data)\n",
        "    predicted_y = (predicted_y.cpu().data.numpy()> 0.5).astype(float)\n",
        "\n",
        "    f1_ = f1_score(ref_y,predicted_y)\n",
        "    ks = __ks_drift(X[1800:2000].values[:,0:5],fake_data[:,0:5].cpu().data.numpy())\n",
        "    f1ss.append(f1_)\n",
        "    for ix,col in enumerate(columns):\n",
        "        dfs[col].append(ks[:,0][ix]/2)\n",
        "\n",
        "plt.figure(figsize=(15,3))\n",
        "plt.plot(f1ss)\n",
        "plt.ylabel('F1 score')\n",
        "plt.xlabel('bucket')\n",
        "plt.title('Changes of F1 score according to bucket')\n",
        "plt.show()\n",
        "\n",
        "df_drifts = pd.DataFrame(dfs)\n",
        "df_drifts.plot(figsize=(15,3))\n",
        "plt.ylabel('Drift')\n",
        "plt.xlabel('bucket')\n",
        "plt.title('Changes of Drift according to bucket')\n",
        "plt.show()"
      ],
      "metadata": {
        "id": "XBdsH2dwiLNW"
      },
      "execution_count": null,
      "outputs": []
    },
    {
      "cell_type": "code",
      "source": [
        "df_drifts['f1'] = f1ss\n",
        "df_drifts"
      ],
      "metadata": {
        "id": "1Xgc5dD1laH7"
      },
      "execution_count": null,
      "outputs": []
    },
    {
      "cell_type": "markdown",
      "source": [
        "# drift vs f1 dataset의 학습"
      ],
      "metadata": {
        "id": "gPSU8fwFlogu"
      }
    },
    {
      "cell_type": "code",
      "source": [
        "\n",
        "seed_everything()\n",
        "\n",
        "device = torch.device(\"cuda:0\" if torch.cuda.is_available() else \"cpu\")\n",
        "print(device)\n",
        "\n",
        "train_rate = 0.9\n",
        "# Convert to 2D PyTorch tensors\n",
        "X_train = torch.tensor(df_drifts[0:int(simulation_count*train_rate)][['x0','x1','x2','x3','z0']].values, dtype=torch.float32).to(device)\n",
        "y_train = torch.tensor(df_drifts[0:int(simulation_count*train_rate)]['f1'].values, dtype=torch.float32).reshape(-1, 1).to(device)\n",
        "\n",
        "X_test = torch.tensor(df_drifts[int(simulation_count*train_rate):simulation_count][['x0','x1','x2','x3','z0']].values, dtype=torch.float32).to(device)\n",
        "y_test = torch.tensor(df_drifts[int(simulation_count*train_rate):simulation_count]['f1'].values, dtype=torch.float32).reshape(-1, 1).to(device)\n",
        " \n",
        "# Define the model\n",
        "perform_model = nn.Sequential(\n",
        "    nn.Linear(5, 50),\n",
        "    nn.BatchNorm1d(num_features=50),\n",
        "    nn.ReLU(),\n",
        "    nn.Linear(50, 20),\n",
        "    nn.BatchNorm1d(num_features=20),\n",
        "    nn.ReLU(),\n",
        "    nn.Linear(20, 1)    \n",
        ").to(device)\n",
        " \n",
        "# loss function and optimizer\n",
        "loss_fn = nn.MSELoss()  # mean square error\n",
        "optimizer = optim.Adam(perform_model.parameters(), lr=0.0001)\n",
        " \n",
        "n_epochs = 2000   # number of epochs to run\n",
        "batch_size = 500  # size of each batch\n",
        "batch_start = torch.arange(0, len(X_train), batch_size)\n",
        " \n",
        "# Hold the best model\n",
        "best_mse = np.inf   # init to infinity\n",
        "best_weights = None\n",
        "history = []\n",
        " \n",
        "for epoch in tqdm(range(n_epochs)):\n",
        "    perform_model.train()\n",
        "    with tqdm(batch_start, unit=\"batch\", mininterval=0, disable=True) as bar:\n",
        "        bar.set_description(f\"Epoch {epoch}\")\n",
        "        for start in bar:\n",
        "            # take a batch\n",
        "            X_batch = X_train[start:start+batch_size]\n",
        "            y_batch = y_train[start:start+batch_size]\n",
        "            # forward pass\n",
        "            y_pred = perform_model(X_batch)\n",
        "            loss = loss_fn(y_pred, y_batch)\n",
        "            # backward pass\n",
        "            optimizer.zero_grad()\n",
        "            loss.backward()\n",
        "            # update weights\n",
        "            optimizer.step()\n",
        "            # print progress\n",
        "            bar.set_postfix(mse=float(loss))\n",
        "    # evaluate accuracy at end of each epoch\n",
        "    perform_model.eval()\n",
        "    y_pred = perform_model(X_test)\n",
        "    mse = loss_fn(y_pred, y_test)\n",
        "    mse = float(mse)\n",
        "    history.append(mse)\n",
        "    if mse < best_mse:\n",
        "        best_mse = mse\n",
        "        best_weights = copy.deepcopy(perform_model.state_dict())\n",
        " \n",
        "# restore model and return best accuracy\n",
        "perform_model.load_state_dict(best_weights)\n",
        "print(\"MSE: %.2f\" % best_mse)\n",
        "print(\"RMSE: %.2f\" % np.sqrt(best_mse))\n",
        "plt.plot(history)\n",
        "plt.show()"
      ],
      "metadata": {
        "id": "NQQZivFulsjF"
      },
      "execution_count": null,
      "outputs": []
    },
    {
      "cell_type": "code",
      "source": [
        "from sklearn.metrics import r2_score,precision_recall_fscore_support,f1_score\n",
        "\n",
        "predicted_y = perform_model(X_test)\n",
        "r2 = r2_score(y_test.cpu().data.numpy(),predicted_y.cpu().data.numpy())\n",
        "print('r2',r2)"
      ],
      "metadata": {
        "id": "it921Najm-SG"
      },
      "execution_count": null,
      "outputs": []
    },
    {
      "cell_type": "markdown",
      "source": [
        "## 성능 예측 모델 적용"
      ],
      "metadata": {
        "id": "IHBCzSMp32-j"
      }
    },
    {
      "cell_type": "code",
      "source": [
        "\n",
        "XT = X[2000:][['x0','x1','x2','x3','z0']]\n",
        "yT = y[2000:]\n",
        "\n",
        "bucket_size_array=[200]\n",
        "\n",
        "for bucket_size in bucket_size_array:\n",
        "    bucket_count = int(XT.shape[0]/bucket_size)-1\n",
        "    f1s = {}\n",
        "    f1s['f1'] = []\n",
        "    f1s['pred'] = []\n",
        "    \n",
        "\n",
        "    for bk in tqdm(range(bucket_count)):\n",
        "        tmp_x = torch.tensor(XT[bk*bucket_size:bk*bucket_size+bucket_size].values, dtype=torch.float32).to(device)\n",
        "        #print(tmp_x.shape)\n",
        "        predicted_y = classifier_model(tmp_x)\n",
        "        predicted_y = (predicted_y.cpu().data.numpy()> 0.5).astype(float)\n",
        "        f1_ = f1_score(yT[bk*bucket_size:bk*bucket_size+bucket_size],predicted_y)\n",
        "        ks = __ks_drift(X[1800:2000].values,X[bk*bucket_size+2000:bk*bucket_size+bucket_size+2000].values)\n",
        "        \n",
        "        f1s['f1'].append(f1_)\n",
        "        tks = torch.tensor(ks[:,0],dtype=torch.float32).reshape(1,5).to(device)\n",
        "        #print(tks.shape)\n",
        "        predicted_perform = perform_model(tks)\n",
        "        #print(predicted_perform.shape)\n",
        "        \n",
        "        f1s['pred'].append(predicted_perform.cpu().data.numpy()[0,0])\n",
        "\n",
        "    df_f1s = pd.DataFrame(f1s)\n",
        "    df_f1s.plot(figsize=(15,3))\n",
        "    plt.ylabel('F1')\n",
        "    plt.xlabel('bucket')\n",
        "    plt.title('Changes of F1 according to bucket')\n",
        "    plt.show()\n"
      ],
      "metadata": {
        "id": "j6CokZhq35Of"
      },
      "execution_count": null,
      "outputs": []
    }
  ]
}