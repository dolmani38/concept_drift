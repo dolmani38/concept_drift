{
  "nbformat": 4,
  "nbformat_minor": 0,
  "metadata": {
    "colab": {
      "provenance": [],
      "collapsed_sections": [
        "T4qx9MKvhyJc"
      ],
      "machine_shape": "hm",
      "gpuType": "T4",
      "include_colab_link": true
    },
    "kernelspec": {
      "name": "python3",
      "display_name": "Python 3"
    },
    "language_info": {
      "name": "python"
    },
    "accelerator": "GPU"
  },
  "cells": [
    {
      "cell_type": "markdown",
      "metadata": {
        "id": "view-in-github",
        "colab_type": "text"
      },
      "source": [
        "<a href=\"https://colab.research.google.com/github/dolmani38/concept_drift/blob/main/Iteration4_UncertaintyRangeExp_LoanPredict.ipynb\" target=\"_parent\"><img src=\"https://colab.research.google.com/assets/colab-badge.svg\" alt=\"Open In Colab\"/></a>"
      ]
    },
    {
      "cell_type": "markdown",
      "source": [
        "# Uncertainty Range Experiment\n",
        "- Dataset : LoanPredict\n",
        "- Model : RandomForestClassifier\n",
        "- Reference Dataset : 2010년 (11497, 81)\n",
        "- Inference Dataset : 2011년 ~ 2018년 (1,323,732, 1)"
      ],
      "metadata": {
        "id": "ooheoe1SDIDM"
      }
    },
    {
      "cell_type": "markdown",
      "source": [
        "# 1 구글 드라이브 연결"
      ],
      "metadata": {
        "id": "T4qx9MKvhyJc"
      }
    },
    {
      "cell_type": "code",
      "source": [
        "#@title\n",
        "from google.colab import drive\n",
        "drive.mount('/content/drive')"
      ],
      "metadata": {
        "colab": {
          "base_uri": "https://localhost:8080/"
        },
        "id": "WdZH_SOuENvD",
        "outputId": "2e77d2de-075f-4cba-b148-55f7a8d76bb4"
      },
      "execution_count": 1,
      "outputs": [
        {
          "output_type": "stream",
          "name": "stdout",
          "text": [
            "Mounted at /content/drive\n"
          ]
        }
      ]
    },
    {
      "cell_type": "markdown",
      "source": [
        "# 2 함수 선언\n",
        "\n"
      ],
      "metadata": {
        "id": "SC3ss7SUh6LP"
      }
    },
    {
      "cell_type": "code",
      "source": [
        "#@title\n",
        "# 노이즈를 추가하는 함수 선언\n",
        "import numpy as np\n",
        "import random\n",
        "def random_sample(inp):\n",
        "    data_len = len(inp)\n",
        "    exp_data_len = int(data_len/exp_model_param[\"split_ratio\"])\n",
        "\n",
        "    if exp_model_param[\"ramdom_sample_block\"] and exp_model_param[\"split_ratio\"]!=1:\n",
        "        random_index = np.random.randint(0, data_len-exp_data_len)\n",
        "        random_index = np.arange(random_index, random_index+exp_data_len)\n",
        "    else:\n",
        "        random_index = np.random.permutation(data_len)\n",
        "        random_index = random_index[:exp_data_len]\n",
        "    return random_index\n",
        "\n",
        "\n",
        "def random_sigma_add(x_inf_d):\n",
        "    df_state = pd.DataFrame({\"mean\":np.mean(x_train,axis=0),\"std\":np.std(x_train,axis=0)})\n",
        "    permutaion_sigma = random.uniform(exp_model_param[\"sigma\"][0], exp_model_param[\"sigma\"][1])\n",
        "\n",
        "    #permutation for x_inf_d\n",
        "    p1 = random.random()\n",
        "    nums = np.random.choice([0, 1], size=x_inf_d.shape[0], p=[1-p1, p1])\n",
        "    v = random.choice(range(x_inf_d.shape[1]))\n",
        "\n",
        "    for v in range(x_inf_d.shape[1]):\n",
        "        x_inf_d[:,v] = x_inf_d[:,v] + np.random.normal(0, df_state['std'][v]*permutaion_sigma, x_inf_d.shape[0])*nums\n",
        "\n",
        "    return x_inf_d\n",
        "\n",
        "def add_drirft_data(exp_model_param,x_train,train_gt ):\n",
        "    temp_X = []\n",
        "    temp_Y = []\n",
        "    for _ in range(exp_model_param[\"exp_num\"][0]):\n",
        "        sample_idx = random_sample(x_train)\n",
        "        temp_X.append(random_sigma_add(x_train[sample_idx]))\n",
        "        temp_Y.append(train_gt[sample_idx])\n",
        "    return temp_X, temp_Y"
      ],
      "metadata": {
        "id": "w8EKMluwJmHi"
      },
      "execution_count": 18,
      "outputs": []
    },
    {
      "cell_type": "code",
      "source": [
        "#@title\n",
        "# Uncertainty 설정\n",
        "from scipy.stats import ks_2samp, entropy\n",
        "def uncertainty_drift_checker(train, live, evals=100):\n",
        "    if model_type == \"Classification\":\n",
        "        d_value, p_vale = ks_2samp(entropy(train, axis=-1), entropy(live, axis=-1))\n",
        "\n",
        "    elif model_type == \"Regression\":\n",
        "        train_copy = np.concatenate([train for _ in range(evals)], axis=-1)\n",
        "        test_copy = np.concatenate([live for _ in range(evals)], axis=-1)\n",
        "        train_std = np.std(train_copy, axis=-1)\n",
        "        live_std = np.std(test_copy, axis=-1)\n",
        "        d_value, p_vale = ks_2samp(train_std, live_std)\n",
        "\n",
        "    return d_value, p_vale"
      ],
      "metadata": {
        "id": "RvH62IE6NaFf"
      },
      "execution_count": 3,
      "outputs": []
    },
    {
      "cell_type": "markdown",
      "source": [
        "#3 데이터 전처리 및 모델학습"
      ],
      "metadata": {
        "id": "uDRXIBcWiHyB"
      }
    },
    {
      "cell_type": "markdown",
      "source": [
        "## 3-2 사용할 데이터"
      ],
      "metadata": {
        "id": "aGgDXsEKiOFa"
      }
    },
    {
      "cell_type": "code",
      "source": [
        "#@title\n",
        "from sklearn.feature_selection import mutual_info_regression, mutual_info_classif\n",
        "\n",
        "def make_mi_scores(X, y, discrete_features):\n",
        "    mi_scores = mutual_info_classif(X, y, discrete_features=discrete_features)\n",
        "    mi_scores = pd.Series(mi_scores, name=\"MI Scores\", index=X.columns)\n",
        "    mi_scores = mi_scores.sort_values(ascending=False)\n",
        "    return mi_scores\n",
        "\n",
        "#@title\n",
        "import numpy as np\n",
        "import pandas as pd\n",
        "import torch\n",
        "from torch.autograd import Variable\n",
        "import torch.nn as nn\n",
        "import torch.nn.functional as F\n",
        "\n",
        "import random\n",
        "import os\n",
        "\n",
        "import matplotlib.pyplot as plt\n",
        "import seaborn as sns\n",
        "sns.set()\n",
        "def seed_everything(seed: int = 46):\n",
        "    random.seed(seed)\n",
        "    np.random.seed(seed)\n",
        "    os.environ[\"PYTHONHASHSEED\"] = str(seed)\n",
        "    #tf.random.set_seed(seed)\n",
        "    torch.manual_seed(seed)\n",
        "    torch.cuda.manual_seed(seed)\n",
        "\n",
        "#@title\n",
        "def __ks_2samp2(sample1, sample2):\n",
        "    # Gets all observations\n",
        "    sample1 = np.sort(sample1)\n",
        "    sample2 = np.sort(sample2)\n",
        "    n1 = sample1.shape[0]\n",
        "    n2 = sample2.shape[0]\n",
        "    data_all = np.concatenate([sample1, sample2])\n",
        "    cdf1 = np.searchsorted(sample1, data_all, side='right') / n1\n",
        "    cdf2 = np.searchsorted(sample2, data_all, side='right') / n2\n",
        "    # Evaluates the KS statistic\n",
        "    cddiffs = cdf1 - cdf2\n",
        "    minS = -np.min(cddiffs)\n",
        "    maxS = np.max(cddiffs)\n",
        "    ks_stat =  max(minS, maxS)\n",
        "\n",
        "    #if ks_stat == minS:\n",
        "    #    ks_stat = -ks_stat\n",
        "\n",
        "    # Calculates the P-Value based on the two-sided test\n",
        "    # The P-Value comes from the KS Distribution Survival Function (SF = 1-CDF)\n",
        "    m, n = float(n1), float(n2)\n",
        "    en = m * n / (m + n)\n",
        "    p_value = 0.0 #stats.kstwobign.sf(math.sqrt(en) * abs(ks_stat))\n",
        "    #p_value = stats.kstwobign.sf(en * abs(ks_stat))\n",
        "    return ks_stat,p_value\n",
        "\n",
        "\n",
        "def __ks_drift(ref_x,inf_x):\n",
        "    x_drift = np.zeros((ref_x.shape[1],2))\n",
        "    for i in range(ref_x.shape[1]):\n",
        "        #s, p = ks_2samp(ref_x[:,i],inf_x[:,i],mode='asymp')\n",
        "        s, p = __ks_2samp2(ref_x[:,i],inf_x[:,i])\n",
        "        x_drift[i,0] = s\n",
        "        x_drift[i,1] = p\n",
        "    return x_drift"
      ],
      "metadata": {
        "id": "6-eWSB--nAZD"
      },
      "execution_count": 4,
      "outputs": []
    },
    {
      "cell_type": "markdown",
      "source": [
        "#4 실험"
      ],
      "metadata": {
        "id": "kVjboBaTicuO"
      }
    },
    {
      "cell_type": "code",
      "source": [
        "# 실험 모델 환경 설정\n",
        "import sklearn.metrics as metrics\n",
        "def acc_fn(y, predict):\n",
        "    return metrics.accuracy_score(y, predict)*100\n",
        "\n",
        "\n",
        "def f1_fn(y, predict):\n",
        "    return metrics.f1_score(y, predict)\n",
        "\n",
        "\n",
        "exp_model_param = {\n",
        "    \"exp_num\":[100],#,5000,10000],\n",
        "    \"split_ratio\": 10,\n",
        "    \"sigma\":[0,3],\n",
        "    \"ramdom_sample_block\":False,\n",
        "    \"metric\":[\"acc\", \"f1\"],\n",
        "    \"metric_threshold\":[[5,15], [0.05, 0.15]],\n",
        "    \"metric_fn\":[acc_fn, f1_fn]\n",
        "    }"
      ],
      "metadata": {
        "id": "5-el3YY9_3wD"
      },
      "execution_count": 20,
      "outputs": []
    },
    {
      "cell_type": "code",
      "source": [
        "from sklearn.preprocessing import MinMaxScaler, StandardScaler\n",
        "from sklearn.ensemble import RandomForestClassifier\n",
        "from sklearn.model_selection import train_test_split\n",
        "\n",
        "import warnings\n",
        "warnings.filterwarnings(\"ignore\")"
      ],
      "metadata": {
        "id": "D_fkckorqB0B"
      },
      "execution_count": 21,
      "outputs": []
    },
    {
      "cell_type": "code",
      "source": [
        "from sklearn.preprocessing import MinMaxScaler, StandardScaler\n",
        "\n",
        "def experiment(X,y,train_size,test_size,live_size):\n",
        "    # Normalize\n",
        "    scaler_c1 = StandardScaler()\n",
        "    scaler_c1.fit(X[0:train_size])\n",
        "    X = pd.DataFrame(scaler_c1.transform(X), columns=columns)\n",
        "    # Model train...\n",
        "    model = RandomForestClassifier(max_depth=6).fit(X[0:train_size], y[0:train_size])\n",
        "    # Dataset 구성\n",
        "    x_train = X.values[:train_size]\n",
        "    y_train_gt = y[:train_size].reshape(-1,1)\n",
        "\n",
        "    x_test = X[train_size:train_size+test_size].values\n",
        "    y_test_gt = y[:train_size:train_size+test_size].reshape(-1,1)\n",
        "\n",
        "    x_live = X[train_size+test_size:].values\n",
        "    y_live_gt = y[train_size+test_size:].reshape(-1,1)\n",
        "\n",
        "    print(x_train.shape, x_test.shape, x_live.shape)\n",
        "\n",
        "    # 기타 parameter 구성\n",
        "    exp_model_param = {\n",
        "        \"exp_num\":[100],#,5000,10000],\n",
        "        \"split_ratio\": 10,\n",
        "        \"sigma\":[0,3],\n",
        "        \"ramdom_sample_block\":False,\n",
        "        \"metric\":[\"acc\", \"f1\"],\n",
        "        \"metric_threshold\":[[5,15], [0.05, 0.15]],\n",
        "        \"metric_fn\":[acc_fn, f1_fn]\n",
        "        }\n",
        "\n",
        "    # 사용할 데이터 및 모델 설정\n",
        "    predict_fn = model.predict_proba\n",
        "    model_type = 'Classification'\n",
        "\n",
        "    y_train = predict_fn(x_train)\n",
        "    train_gt = y_train_gt\n",
        "\n",
        "    # Noise 주입!\n",
        "    for _ in enumerate(exp_model_param[\"exp_num\"]):\n",
        "        exp_X_list, exp_y_list = add_drirft_data(exp_model_param,x_train,train_gt)\n",
        "\n",
        "    result_d_value = []\n",
        "    result_score = []\n",
        "    for idx in range(len(exp_X_list)):\n",
        "        exp_y_train = exp_y_list[idx]\n",
        "        exp_predict = predict_fn(exp_X_list[idx])\n",
        "        exp_predict_tmp = predict_fn(exp_X_list[idx])\n",
        "\n",
        "        # 설정한 Metric을 기반으로 Score 계산\n",
        "        exp_score = []\n",
        "        for i, metric in enumerate(exp_model_param['metric']):\n",
        "            if exp_predict_tmp.shape[1] != 1:\n",
        "                exp_predict_tmp = np.argmax(exp_predict_tmp, axis=1).reshape(-1,1)\n",
        "            exp_score.append(exp_model_param['metric_fn'][i](exp_y_train, exp_predict_tmp))\n",
        "\n",
        "        result_score.append(exp_score)\n",
        "\n",
        "        # Uncertainty Value 계산\n",
        "        d_value, _ = uncertainty_drift_checker(y_train, exp_predict)\n",
        "        result_d_value.append(d_value)\n",
        "\n",
        "    result_score = np.asarray(result_score)\n",
        "\n",
        "    # real data의 score vs drift 취득\n",
        "    bucket_size=400\n",
        "    live_set = [X[i*bucket_size+2000:i*bucket_size+bucket_size+2000] for i in range(int(X[2000:].shape[0]/bucket_size))]\n",
        "    live_set_y = [y[i*bucket_size+2000:i*bucket_size+bucket_size+2000] for i in range(int(y[2000:].shape[0]/bucket_size))]\n",
        "\n",
        "    real_scores = []\n",
        "    real_d_value = []\n",
        "    for idx in range(len(live_set)):\n",
        "        predicted_y = predict_fn(live_set[idx])\n",
        "\n",
        "        # 설정한 Metric을 기반으로 Score 계산\n",
        "        real_score = []\n",
        "        for i, metric in enumerate(exp_model_param['metric']):\n",
        "            if predicted_y.shape[1] != 1:\n",
        "                predicted_y = np.argmax(predicted_y, axis=1).reshape(-1,1)\n",
        "            real_score.append(exp_model_param['metric_fn'][i](live_set_y[idx], (predicted_y > 0.5).astype(float)))\n",
        "        real_scores.append(real_score)\n",
        "\n",
        "        # Uncertainty Value 계산\n",
        "        d_value, _ = uncertainty_drift_checker(live_set_y[idx].reshape(-1,1), predicted_y)\n",
        "        real_d_value.append(d_value)\n",
        "\n",
        "    real_scores = np.asarray(real_scores)\n",
        "\n",
        "    plt.scatter(result_d_value,result_score[:,0],marker='.',linewidth=1,label='exp')\n",
        "    plt.scatter(real_d_value,real_scores[:,0],marker='.',linewidth=1,label='real')\n",
        "    plt.legend(loc=1,ncol=2)\n",
        "    plt.show()"
      ],
      "metadata": {
        "id": "618t_rjdqeEt"
      },
      "execution_count": 25,
      "outputs": []
    },
    {
      "cell_type": "markdown",
      "source": [
        "## Case #1 MI의 감소, Drift의 증가"
      ],
      "metadata": {
        "id": "FqDpwJ01g8IM"
      }
    },
    {
      "cell_type": "code",
      "source": [
        "data_size = 40000\n",
        "cor = [1.5, 1.2, 0.9 , 0.7, 0.5]\n",
        "\n",
        "seed_everything()\n",
        "\n",
        "y= (np.random.normal(0.5,0.5,data_size) > 0.5).astype(int)\n",
        "x = np.zeros((data_size,5))\n",
        "for ix,cor_ in enumerate(cor):\n",
        "    x[:,ix] = y + np.random.normal(0,cor_,data_size)\n",
        "\n",
        "seed_everything(100)\n",
        "\n",
        "for i in range(400):\n",
        "    s = i*100\n",
        "    x[s:s+100,4] = y[s:s+100] + np.random.normal(1,0.5+(i/100),100)\n",
        "\n",
        "\n",
        "columns=['x0','x1','x2','x3','z0']\n",
        "X = pd.DataFrame(x,columns=columns)\n",
        "mi_scores = make_mi_scores(X, y, discrete_features=\"auto\")\n",
        "print(mi_scores)"
      ],
      "metadata": {
        "id": "0WnkX0fQhHLY",
        "outputId": "ee604705-7ee2-482b-d6b7-8c5c0e5856d5",
        "colab": {
          "base_uri": "https://localhost:8080/"
        }
      },
      "execution_count": 6,
      "outputs": [
        {
          "output_type": "stream",
          "name": "stdout",
          "text": [
            "x3    0.202783\n",
            "x2    0.134082\n",
            "x1    0.079411\n",
            "x0    0.050887\n",
            "z0    0.027068\n",
            "Name: MI Scores, dtype: float64\n"
          ]
        }
      ]
    },
    {
      "cell_type": "code",
      "source": [
        "train_size = 1800\n",
        "test_size = 200\n",
        "live_size = 400\n",
        "\n",
        "experiment(X,y,train_size,test_size,live_size)"
      ],
      "metadata": {
        "id": "V7cIE3uviLMd",
        "outputId": "9ae8fea1-2be9-44d2-fbcb-625d588b872e",
        "colab": {
          "base_uri": "https://localhost:8080/",
          "height": 452
        }
      },
      "execution_count": 26,
      "outputs": [
        {
          "output_type": "stream",
          "name": "stdout",
          "text": [
            "(1800, 5) (200, 5) (38000, 5)\n"
          ]
        },
        {
          "output_type": "display_data",
          "data": {
            "text/plain": [
              "<Figure size 640x480 with 1 Axes>"
            ],
            "image/png": "[encoded data removed]"
          },
          "metadata": {}
        }
      ]
    },
    {
      "cell_type": "markdown",
      "source": [
        "### Case #1 결론\n",
        "+ 90%를 threshod 라고 가정하면, exp의 경우 d-value 는 약 0.1\n",
        "+ real의 경우, 0.05 정도\n",
        "+ 오차 상당함....\n",
        "+ 흠...."
      ],
      "metadata": {
        "id": "ZRJ6jc-ovPmz"
      }
    },
    {
      "cell_type": "markdown",
      "source": [
        "## Case #2 MI의 증감(상대적), Drift의 고정"
      ],
      "metadata": {
        "id": "PM_bVZajvjiR"
      }
    },
    {
      "cell_type": "code",
      "source": [
        "\n",
        "data_size = 40000\n",
        "cor = np.asarray([1.5, 1.2, 0.9 , 0.7, 2.5])\n",
        "\n",
        "seed_everything()\n",
        "\n",
        "x1 = np.zeros((data_size,5))\n",
        "for ix,cor_ in enumerate(cor):\n",
        "    x1[:,ix] = np.random.normal(1,cor_,data_size)\n",
        "\n",
        "y1_array = []\n",
        "cor_const = cor[4]\n",
        "for ii in range(x1.shape[0]):\n",
        "    cor[4] = cor[4] - cor_const / x1.shape[0]\n",
        "    e = np.random.normal(0.0, 2.0)\n",
        "    y1_array.append(np.sum(cor * x1[ii])+e)\n",
        "\n",
        "\n",
        "m = 5 #np.mean(y1_array[0:2000])\n",
        "print(m)\n",
        "y1 = [1 if y_ > m else 0 for y_ in y1_array]\n",
        "print(sum(y1))\n",
        "\n",
        "columns=['x0','x1','x2','x3','z0']\n",
        "X1 = pd.DataFrame(x1,columns=columns)\n",
        "mi_scores = make_mi_scores(X1, y1, discrete_features=\"auto\")\n",
        "print(mi_scores)"
      ],
      "metadata": {
        "id": "08Y4ZGu_vrMI",
        "outputId": "9f87bb04-fb86-4d38-a0b1-560d9bb41a50",
        "colab": {
          "base_uri": "https://localhost:8080/"
        }
      },
      "execution_count": 27,
      "outputs": [
        {
          "output_type": "stream",
          "name": "stdout",
          "text": [
            "5\n",
            "21426\n",
            "z0    0.123425\n",
            "x0    0.079212\n",
            "x1    0.032962\n",
            "x2    0.008752\n",
            "x3    0.007456\n",
            "Name: MI Scores, dtype: float64\n"
          ]
        }
      ]
    },
    {
      "cell_type": "code",
      "source": [
        "X = X1\n",
        "y = np.asarray(y1)"
      ],
      "metadata": {
        "id": "rm1l5_25v_C3"
      },
      "execution_count": 28,
      "outputs": []
    },
    {
      "cell_type": "code",
      "source": [
        "train_size = 1800\n",
        "test_size = 200\n",
        "live_size = 400\n",
        "\n",
        "experiment(X,y,train_size,test_size,live_size)"
      ],
      "metadata": {
        "id": "_yCisxYG9VuE",
        "outputId": "350a8344-88f1-42d6-e327-7687f1eae769",
        "colab": {
          "base_uri": "https://localhost:8080/",
          "height": 452
        }
      },
      "execution_count": 29,
      "outputs": [
        {
          "output_type": "stream",
          "name": "stdout",
          "text": [
            "(1800, 5) (200, 5) (38000, 5)\n"
          ]
        },
        {
          "output_type": "display_data",
          "data": {
            "text/plain": [
              "<Figure size 640x480 with 1 Axes>"
            ],
            "image/png": "[encoded data removed]"
          },
          "metadata": {}
        }
      ]
    },
    {
      "cell_type": "markdown",
      "source": [
        "### Case #2 결론\n",
        "+ 90%를 threshod 라고 가정하면, exp의 경우 d-value 는 약 0.07\n",
        "+ real의 경우, 0.02~0.03 정도로 추정\n",
        "+ 오차 상당함....\n",
        "+ 흠...."
      ],
      "metadata": {
        "id": "nGUn5vlbxrGo"
      }
    },
    {
      "cell_type": "markdown",
      "source": [
        "## Case #3 MI의 증감(상대적), Drift의 증가"
      ],
      "metadata": {
        "id": "eIXXXQvUyMWE"
      }
    },
    {
      "cell_type": "code",
      "source": [
        "\n",
        "seed_everything(2)\n",
        "\n",
        "data_size = 40000\n",
        "cor = np.asarray([1.5, 1.2, 0.9 , 0.7, 0.5])\n",
        "\n",
        "x2 = np.zeros((data_size,5))\n",
        "for ix,cor_ in enumerate(cor):\n",
        "    x2[:,ix] = np.random.normal(1,cor_,data_size)\n",
        "\n",
        "y2_array = []\n",
        "cor_const = 3/x2.shape[0]\n",
        "for ii in range(x2.shape[0]):\n",
        "    e = np.random.normal(0.0+10*ii/40000, 5*cor_const * ii)\n",
        "    e1 = 0.0 #np.random.normal(0.0, cor_const * ii)\n",
        "    x2[ii,4] = x2[ii,4] + e\n",
        "    y2_array.append(np.sum(cor * x2[ii])+e1)\n",
        "\n",
        "m = np.mean(y2_array)\n",
        "print(m)\n",
        "y2 = [1 if y_ > m else 0 for y_ in y2_array]\n",
        "sum(y2)\n",
        "\n",
        "columns=['x0','x1','x2','x3','z0']\n",
        "X2 = pd.DataFrame(x2,columns=columns)\n",
        "mi_scores = make_mi_scores(X2, y2, discrete_features=\"auto\")\n",
        "print(mi_scores)"
      ],
      "metadata": {
        "id": "-Q0UHo7ey-qY",
        "outputId": "9e12075b-cc53-4974-e554-18797119284e",
        "colab": {
          "base_uri": "https://localhost:8080/"
        }
      },
      "execution_count": 30,
      "outputs": [
        {
          "output_type": "stream",
          "name": "stdout",
          "text": [
            "7.2404412558678075\n",
            "z0    0.269203\n",
            "x0    0.077964\n",
            "x1    0.028502\n",
            "x2    0.012955\n",
            "x3    0.001920\n",
            "Name: MI Scores, dtype: float64\n"
          ]
        }
      ]
    },
    {
      "cell_type": "code",
      "source": [
        "X = X2\n",
        "y = np.asarray(y2)"
      ],
      "metadata": {
        "id": "-dIQOmR-zHux"
      },
      "execution_count": 31,
      "outputs": []
    },
    {
      "cell_type": "code",
      "source": [
        "train_size = 1800\n",
        "test_size = 200\n",
        "live_size = 400\n",
        "\n",
        "experiment(X,y,train_size,test_size,live_size)"
      ],
      "metadata": {
        "id": "d2Dp_DyZ9o_x",
        "outputId": "832d5496-d95a-4f2c-d67e-19727f636fc8",
        "colab": {
          "base_uri": "https://localhost:8080/",
          "height": 453
        }
      },
      "execution_count": 32,
      "outputs": [
        {
          "output_type": "stream",
          "name": "stdout",
          "text": [
            "(1800, 5) (200, 5) (38000, 5)\n"
          ]
        },
        {
          "output_type": "display_data",
          "data": {
            "text/plain": [
              "<Figure size 640x480 with 1 Axes>"
            ],
            "image/png": "[encoded data removed]"
          },
          "metadata": {}
        }
      ]
    },
    {
      "cell_type": "markdown",
      "source": [
        "### Case #3 결론\n",
        "+ 90%를 threshod 라고 가정하면, exp의 경우 d-value 는 약 0.12\n",
        "+ real의 경우, 0.5 정도로 추정\n",
        "+ 오차 상당함....\n",
        "+ 흠...."
      ],
      "metadata": {
        "id": "Z_YghPz4zTpU"
      }
    },
    {
      "cell_type": "markdown",
      "source": [
        "## Case #4 MI의 고정, Drift의 증가"
      ],
      "metadata": {
        "id": "fmwanQOrzdOv"
      }
    },
    {
      "cell_type": "code",
      "source": [
        "seed_everything()\n",
        "\n",
        "data_size = 40000\n",
        "cor = np.asarray([1.5, 1.2, 0.9 , 0.7, 0.5])\n",
        "\n",
        "y3= (np.random.normal(0.5,0.5,data_size) > 0.5).astype(int)\n",
        "x3 = np.zeros((data_size,5))\n",
        "for ix,cor_ in enumerate(cor):\n",
        "    '''\n",
        "    x3[:,ix] = y3 + np.random.normal(1,cor_,data_size)\n",
        "    '''\n",
        "    # z0\n",
        "    if ix == 4:\n",
        "        for ii in range(len(y3)):\n",
        "            x3[ii,ix] = y3[ii] + np.random.normal(0.0 + 4*ii/data_size,cor_)\n",
        "    else:\n",
        "        x3[:,ix] = y3 + np.random.normal(1,cor_,data_size)\n",
        "\n",
        "columns=['x0','x1','x2','x3','z0']\n",
        "X3 = pd.DataFrame(x3,columns=columns)\n",
        "mi_scores = make_mi_scores(X3, y3, discrete_features=\"auto\")\n",
        "print(mi_scores)"
      ],
      "metadata": {
        "id": "_OHomnnvzmmR",
        "outputId": "37ba1b17-51a1-4bbc-8953-2ce1ffaeaa62",
        "colab": {
          "base_uri": "https://localhost:8080/"
        }
      },
      "execution_count": 33,
      "outputs": [
        {
          "output_type": "stream",
          "name": "stdout",
          "text": [
            "x3    0.202783\n",
            "x2    0.134082\n",
            "z0    0.091439\n",
            "x1    0.079411\n",
            "x0    0.050887\n",
            "Name: MI Scores, dtype: float64\n"
          ]
        }
      ]
    },
    {
      "cell_type": "code",
      "source": [
        "X = X3\n",
        "y = np.asarray(y3)"
      ],
      "metadata": {
        "id": "Kx6ID6DjzrVr"
      },
      "execution_count": 34,
      "outputs": []
    },
    {
      "cell_type": "code",
      "source": [
        "train_size = 1800\n",
        "test_size = 200\n",
        "live_size = 400\n",
        "\n",
        "experiment(X,y,train_size,test_size,live_size)"
      ],
      "metadata": {
        "id": "drQxsHHX9waH",
        "outputId": "401405be-cfe8-43c7-aca5-35346211dac6",
        "colab": {
          "base_uri": "https://localhost:8080/",
          "height": 452
        }
      },
      "execution_count": 35,
      "outputs": [
        {
          "output_type": "stream",
          "name": "stdout",
          "text": [
            "(1800, 5) (200, 5) (38000, 5)\n"
          ]
        },
        {
          "output_type": "display_data",
          "data": {
            "text/plain": [
              "<Figure size 640x480 with 1 Axes>"
            ],
            "image/png": "[encoded data removed]"
          },
          "metadata": {}
        }
      ]
    },
    {
      "cell_type": "markdown",
      "source": [
        "### Case #4 결론\n",
        "+ 90%를 threshod 라고 가정하면, exp의 경우 d-value 는 약 0.15\n",
        "+ real의 경우, 0.5 정도로 추정\n",
        "+ 오차 상당함....\n",
        "+ 흠...."
      ],
      "metadata": {
        "id": "PY0SwV1Qz38R"
      }
    },
    {
      "cell_type": "markdown",
      "source": [
        "## Case #5 Case #1,2,3,4의 상황이 각 feature에 혼재되어 있는 경우"
      ],
      "metadata": {
        "id": "kwhjkLPZz-Le"
      }
    },
    {
      "cell_type": "code",
      "source": [
        "seed_everything()\n",
        "\n",
        "data_size = 40000\n",
        "cor = np.asarray([1.5, 1.2, 0.5 , 0.7, 2.5])\n",
        "\n",
        "x4 = np.zeros((data_size,5))\n",
        "for ix,cor_ in enumerate(cor):\n",
        "    x4[:,ix] = np.random.normal(1,cor_,data_size)\n",
        "\n",
        "y4_array = []\n",
        "cor_const = cor[4]\n",
        "cor_const2 = 3/x4.shape[0]\n",
        "for ii in range(x4.shape[0]):\n",
        "    # Case #2, MI의 증감(상대적), Drift의 고정 - z0\n",
        "    cor[4] = cor[4] - cor_const / x4.shape[0]\n",
        "    e = np.random.normal(0.0, 2.0)\n",
        "    # Case #3 MI의 증감(상대적), Drift의 증가 - x3\n",
        "    e1 = np.random.normal(0.0, 3*cor_const2 * ii)\n",
        "    x4[ii,3] = x4[ii,3] + e1\n",
        "    y4_array.append(np.sum(cor * x4[ii])+e)\n",
        "\n",
        "y4 = [1 if y_ > 5 else 0 for y_ in y4_array]\n",
        "\n",
        "for i in range(len(y4)):\n",
        "    #Case #1 MI의 감소, Drift의 증가 - x2\n",
        "    x4[i,2] = y4[i] + np.random.normal(1,0.5+(i/data_size))\n",
        "    #Case #4 MI의 고정, Drift의 증가 - x1\n",
        "    x4[i,1] = y4[i] + np.random.normal(0.0 + 4*(i/data_size),cor[1])\n",
        "\n",
        "\n",
        "columns=['x0','x1','x2','x3','z0']\n",
        "X4 = pd.DataFrame(x4,columns=columns)\n",
        "mi_scores = make_mi_scores(X4, y4, discrete_features=\"auto\")\n",
        "print(mi_scores)"
      ],
      "metadata": {
        "id": "xNgNhiIl0Da0",
        "outputId": "e1b71648-624b-4dfb-df3f-faf67253bd0b",
        "colab": {
          "base_uri": "https://localhost:8080/"
        }
      },
      "execution_count": 36,
      "outputs": [
        {
          "output_type": "stream",
          "name": "stdout",
          "text": [
            "x3    0.145527\n",
            "x2    0.113997\n",
            "z0    0.092832\n",
            "x0    0.043090\n",
            "x1    0.024980\n",
            "Name: MI Scores, dtype: float64\n"
          ]
        }
      ]
    },
    {
      "cell_type": "code",
      "source": [
        "X = X4\n",
        "y = np.asarray(y4)"
      ],
      "metadata": {
        "id": "2mD3k5PB0IiJ"
      },
      "execution_count": 37,
      "outputs": []
    },
    {
      "cell_type": "code",
      "source": [
        "train_size = 1800\n",
        "test_size = 200\n",
        "live_size = 400\n",
        "\n",
        "experiment(X,y,train_size,test_size,live_size)"
      ],
      "metadata": {
        "id": "RbPMUC9e91Uf",
        "outputId": "664d7d7f-3be3-4668-e4ac-6b4dfc80f8ae",
        "colab": {
          "base_uri": "https://localhost:8080/",
          "height": 452
        }
      },
      "execution_count": 38,
      "outputs": [
        {
          "output_type": "stream",
          "name": "stdout",
          "text": [
            "(1800, 5) (200, 5) (38000, 5)\n"
          ]
        },
        {
          "output_type": "display_data",
          "data": {
            "text/plain": [
              "<Figure size 640x480 with 1 Axes>"
            ],
            "image/png": "[encoded data removed]"
          },
          "metadata": {}
        }
      ]
    },
    {
      "cell_type": "markdown",
      "source": [
        "### Case #5 결론\n",
        "+ 90%를 threshod 라고 가정하면, exp의 경우 d-value 는 약 0.12\n",
        "+ real의 경우, 0.05 정도로 추정\n",
        "+ 오차 상당함....\n",
        "+ 흠...."
      ],
      "metadata": {
        "id": "zscxQDYz0U9I"
      }
    },
    {
      "cell_type": "markdown",
      "source": [
        "## Real-world data(Loan data)의 실험"
      ],
      "metadata": {
        "id": "MG9Umv2l0dA6"
      }
    },
    {
      "cell_type": "code",
      "source": [
        "df_accepted = pd.read_csv(\"/content/drive/MyDrive/Drift/accepted_2007_to_2018Q4.csv\")\n",
        "\n",
        "print(df_accepted.shape)"
      ],
      "metadata": {
        "id": "O8-HpFcK0hTQ",
        "outputId": "be31200a-18be-4df9-c747-9a102efe4cfe",
        "colab": {
          "base_uri": "https://localhost:8080/"
        }
      },
      "execution_count": 39,
      "outputs": [
        {
          "output_type": "stream",
          "name": "stdout",
          "text": [
            "(2260701, 151)\n"
          ]
        }
      ]
    },
    {
      "cell_type": "code",
      "source": [
        "# for the sake of simplicity, let's consider only Fully Paid and Charged Off values:\n",
        "df_accepted = df_accepted[df_accepted.loan_status.isin(['Fully Paid', 'Charged Off'])]\n",
        "print(df_accepted.shape)\n",
        "\n",
        "cols_to_drop = df_accepted.isnull().sum().sort_values(ascending=False).head(50).index\n",
        "df_accepted = df_accepted.drop(columns=cols_to_drop)\n",
        "print(df_accepted.shape)\n",
        "\n",
        "# maybe we can go further, and eliminate columns up to title:\n",
        "cols_to_drop = df_accepted.isnull().sum().sort_values(ascending=False).head(45).index\n",
        "df_accepted = df_accepted.drop(columns=cols_to_drop)\n",
        "print(df_accepted.shape)\n",
        "\n",
        "# Remaining columns have missing data points, but they account for less than 0.2% of the total data. Let's remove the rows that are missing those values in those columns with dropna():\n",
        "df_accepted = df_accepted.dropna()\n",
        "print(df_accepted.shape)\n",
        "\n",
        "# These are constant columns. We can drop it either.\n",
        "cols_to_drop = ['out_prncp', 'out_prncp_inv', 'policy_code']\n",
        "df_accepted = df_accepted.drop(columns=cols_to_drop)\n",
        "print(df_accepted.shape)\n",
        "\n",
        "# It seems we have many \"duplicated\" information. Let's drop some columns, based on visual inspection at corr_pairs dataframe:\n",
        "cols_to_drop = ['fico_range_low', 'funded_amnt_inv', 'funded_amnt', 'total_pymnt_inv', 'total_pymnt', 'installment', 'collection_recovery_fee', 'total_rec_prncp', 'last_fico_range_low']\n",
        "df_accepted = df_accepted.drop(columns=cols_to_drop)\n",
        "print(df_accepted.shape)\n",
        "\n",
        "values = df_accepted.loan_status.unique()\n",
        "encode = [1,0]\n",
        "d = dict(zip(values, encode))\n",
        "df_accepted['loan_paid'] = df_accepted['loan_status'].map(d)\n",
        "df_accepted = df_accepted.drop(columns=['loan_status'])\n",
        "\n",
        "df_accepted\n"
      ],
      "metadata": {
        "id": "pJJjzCBy0jf8",
        "outputId": "1504e6b9-0cf5-443c-9f40-9c0ef6170557",
        "colab": {
          "base_uri": "https://localhost:8080/",
          "height": 769
        }
      },
      "execution_count": 40,
      "outputs": [
        {
          "output_type": "stream",
          "name": "stdout",
          "text": [
            "(1345310, 151)\n",
            "(1345310, 101)\n",
            "(1345310, 56)\n",
            "(1341026, 56)\n",
            "(1341026, 53)\n",
            "(1341026, 44)\n"
          ]
        },
        {
          "output_type": "execute_result",
          "data": {
            "text/plain": [
              "               id  loan_amnt        term  int_rate grade sub_grade  \\\n",
              "0        68407277     3600.0   36 months     13.99     C        C4   \n",
              "1        68355089    24700.0   36 months     11.99     C        C1   \n",
              "2        68341763    20000.0   60 months     10.78     B        B4   \n",
              "4        68476807    10400.0   60 months     22.45     F        F1   \n",
              "5        68426831    11950.0   36 months     13.44     C        C3   \n",
              "...           ...        ...         ...       ...   ...       ...   \n",
              "2260688  89905081    18000.0   60 months      9.49     B        B2   \n",
              "2260690  88948836    29400.0   60 months     13.99     C        C3   \n",
              "2260691  89996426    32000.0   60 months     14.49     C        C4   \n",
              "2260692  90006534    16000.0   60 months     12.79     C        C1   \n",
              "2260697  88224441    24000.0   60 months     14.49     C        C4   \n",
              "\n",
              "        home_ownership  annual_inc verification_status   issue_d  ...  \\\n",
              "0             MORTGAGE     55000.0        Not Verified  Dec-2015  ...   \n",
              "1             MORTGAGE     65000.0        Not Verified  Dec-2015  ...   \n",
              "2             MORTGAGE     63000.0        Not Verified  Dec-2015  ...   \n",
              "4             MORTGAGE    104433.0     Source Verified  Dec-2015  ...   \n",
              "5                 RENT     34000.0     Source Verified  Dec-2015  ...   \n",
              "...                ...         ...                 ...       ...  ...   \n",
              "2260688            OWN    130000.0        Not Verified  Oct-2016  ...   \n",
              "2260690       MORTGAGE    180792.0        Not Verified  Oct-2016  ...   \n",
              "2260691       MORTGAGE    157000.0     Source Verified  Oct-2016  ...   \n",
              "2260692           RENT    150000.0        Not Verified  Oct-2016  ...   \n",
              "2260697           RENT    110000.0        Not Verified  Oct-2016  ...   \n",
              "\n",
              "        application_type acc_now_delinq chargeoff_within_12_mths delinq_amnt  \\\n",
              "0             Individual            0.0                      0.0         0.0   \n",
              "1             Individual            0.0                      0.0         0.0   \n",
              "2              Joint App            0.0                      0.0         0.0   \n",
              "4             Individual            0.0                      0.0         0.0   \n",
              "5             Individual            0.0                      0.0         0.0   \n",
              "...                  ...            ...                      ...         ...   \n",
              "2260688       Individual            0.0                      0.0         0.0   \n",
              "2260690       Individual            0.0                      0.0         0.0   \n",
              "2260691       Individual            0.0                      0.0         0.0   \n",
              "2260692       Individual            0.0                      0.0         0.0   \n",
              "2260697       Individual            0.0                      0.0         0.0   \n",
              "\n",
              "        pub_rec_bankruptcies  tax_liens  hardship_flag disbursement_method  \\\n",
              "0                        0.0        0.0              N                Cash   \n",
              "1                        0.0        0.0              N                Cash   \n",
              "2                        0.0        0.0              N                Cash   \n",
              "4                        0.0        0.0              N                Cash   \n",
              "5                        0.0        0.0              N                Cash   \n",
              "...                      ...        ...            ...                 ...   \n",
              "2260688                  0.0        0.0              N                Cash   \n",
              "2260690                  0.0        0.0              N                Cash   \n",
              "2260691                  0.0        0.0              N                Cash   \n",
              "2260692                  3.0        0.0              N                Cash   \n",
              "2260697                  1.0        0.0              N                Cash   \n",
              "\n",
              "         debt_settlement_flag  loan_paid  \n",
              "0                           N          1  \n",
              "1                           N          1  \n",
              "2                           N          1  \n",
              "4                           N          1  \n",
              "5                           N          1  \n",
              "...                       ...        ...  \n",
              "2260688                     N          1  \n",
              "2260690                     N          1  \n",
              "2260691                     N          0  \n",
              "2260692                     N          1  \n",
              "2260697                     Y          0  \n",
              "\n",
              "[1341026 rows x 44 columns]"
            ],
            "text/html": [
              "\n",
              "  <div id=\"df-b5c44c71-d01a-4759-ae50-236c803a8712\">\n",
              "    <div class=\"colab-df-container\">\n",
              "      <div>\n",
              "<style scoped>\n",
              "    .dataframe tbody tr th:only-of-type {\n",
              "        vertical-align: middle;\n",
              "    }\n",
              "\n",
              "    .dataframe tbody tr th {\n",
              "        vertical-align: top;\n",
              "    }\n",
              "\n",
              "    .dataframe thead th {\n",
              "        text-align: right;\n",
              "    }\n",
              "</style>\n",
              "<table border=\"1\" class=\"dataframe\">\n",
              "  <thead>\n",
              "    <tr style=\"text-align: right;\">\n",
              "      <th></th>\n",
              "      <th>id</th>\n",
              "      <th>loan_amnt</th>\n",
              "      <th>term</th>\n",
              "      <th>int_rate</th>\n",
              "      <th>grade</th>\n",
              "      <th>sub_grade</th>\n",
              "      <th>home_ownership</th>\n",
              "      <th>annual_inc</th>\n",
              "      <th>verification_status</th>\n",
              "      <th>issue_d</th>\n",
              "      <th>...</th>\n",
              "      <th>application_type</th>\n",
              "      <th>acc_now_delinq</th>\n",
              "      <th>chargeoff_within_12_mths</th>\n",
              "      <th>delinq_amnt</th>\n",
              "      <th>pub_rec_bankruptcies</th>\n",
              "      <th>tax_liens</th>\n",
              "      <th>hardship_flag</th>\n",
              "      <th>disbursement_method</th>\n",
              "      <th>debt_settlement_flag</th>\n",
              "      <th>loan_paid</th>\n",
              "    </tr>\n",
              "  </thead>\n",
              "  <tbody>\n",
              "    <tr>\n",
              "      <th>0</th>\n",
              "      <td>68407277</td>\n",
              "      <td>3600.0</td>\n",
              "      <td>36 months</td>\n",
              "      <td>13.99</td>\n",
              "      <td>C</td>\n",
              "      <td>C4</td>\n",
              "      <td>MORTGAGE</td>\n",
              "      <td>55000.0</td>\n",
              "      <td>Not Verified</td>\n",
              "      <td>Dec-2015</td>\n",
              "      <td>...</td>\n",
              "      <td>Individual</td>\n",
              "      <td>0.0</td>\n",
              "      <td>0.0</td>\n",
              "      <td>0.0</td>\n",
              "      <td>0.0</td>\n",
              "      <td>0.0</td>\n",
              "      <td>N</td>\n",
              "      <td>Cash</td>\n",
              "      <td>N</td>\n",
              "      <td>1</td>\n",
              "    </tr>\n",
              "    <tr>\n",
              "      <th>1</th>\n",
              "      <td>68355089</td>\n",
              "      <td>24700.0</td>\n",
              "      <td>36 months</td>\n",
              "      <td>11.99</td>\n",
              "      <td>C</td>\n",
              "      <td>C1</td>\n",
              "      <td>MORTGAGE</td>\n",
              "      <td>65000.0</td>\n",
              "      <td>Not Verified</td>\n",
              "      <td>Dec-2015</td>\n",
              "      <td>...</td>\n",
              "      <td>Individual</td>\n",
              "      <td>0.0</td>\n",
              "      <td>0.0</td>\n",
              "      <td>0.0</td>\n",
              "      <td>0.0</td>\n",
              "      <td>0.0</td>\n",
              "      <td>N</td>\n",
              "      <td>Cash</td>\n",
              "      <td>N</td>\n",
              "      <td>1</td>\n",
              "    </tr>\n",
              "    <tr>\n",
              "      <th>2</th>\n",
              "      <td>68341763</td>\n",
              "      <td>20000.0</td>\n",
              "      <td>60 months</td>\n",
              "      <td>10.78</td>\n",
              "      <td>B</td>\n",
              "      <td>B4</td>\n",
              "      <td>MORTGAGE</td>\n",
              "      <td>63000.0</td>\n",
              "      <td>Not Verified</td>\n",
              "      <td>Dec-2015</td>\n",
              "      <td>...</td>\n",
              "      <td>Joint App</td>\n",
              "      <td>0.0</td>\n",
              "      <td>0.0</td>\n",
              "      <td>0.0</td>\n",
              "      <td>0.0</td>\n",
              "      <td>0.0</td>\n",
              "      <td>N</td>\n",
              "      <td>Cash</td>\n",
              "      <td>N</td>\n",
              "      <td>1</td>\n",
              "    </tr>\n",
              "    <tr>\n",
              "      <th>4</th>\n",
              "      <td>68476807</td>\n",
              "      <td>10400.0</td>\n",
              "      <td>60 months</td>\n",
              "      <td>22.45</td>\n",
              "      <td>F</td>\n",
              "      <td>F1</td>\n",
              "      <td>MORTGAGE</td>\n",
              "      <td>104433.0</td>\n",
              "      <td>Source Verified</td>\n",
              "      <td>Dec-2015</td>\n",
              "      <td>...</td>\n",
              "      <td>Individual</td>\n",
              "      <td>0.0</td>\n",
              "      <td>0.0</td>\n",
              "      <td>0.0</td>\n",
              "      <td>0.0</td>\n",
              "      <td>0.0</td>\n",
              "      <td>N</td>\n",
              "      <td>Cash</td>\n",
              "      <td>N</td>\n",
              "      <td>1</td>\n",
              "    </tr>\n",
              "    <tr>\n",
              "      <th>5</th>\n",
              "      <td>68426831</td>\n",
              "      <td>11950.0</td>\n",
              "      <td>36 months</td>\n",
              "      <td>13.44</td>\n",
              "      <td>C</td>\n",
              "      <td>C3</td>\n",
              "      <td>RENT</td>\n",
              "      <td>34000.0</td>\n",
              "      <td>Source Verified</td>\n",
              "      <td>Dec-2015</td>\n",
              "      <td>...</td>\n",
              "      <td>Individual</td>\n",
              "      <td>0.0</td>\n",
              "      <td>0.0</td>\n",
              "      <td>0.0</td>\n",
              "      <td>0.0</td>\n",
              "      <td>0.0</td>\n",
              "      <td>N</td>\n",
              "      <td>Cash</td>\n",
              "      <td>N</td>\n",
              "      <td>1</td>\n",
              "    </tr>\n",
              "    <tr>\n",
              "      <th>...</th>\n",
              "      <td>...</td>\n",
              "      <td>...</td>\n",
              "      <td>...</td>\n",
              "      <td>...</td>\n",
              "      <td>...</td>\n",
              "      <td>...</td>\n",
              "      <td>...</td>\n",
              "      <td>...</td>\n",
              "      <td>...</td>\n",
              "      <td>...</td>\n",
              "      <td>...</td>\n",
              "      <td>...</td>\n",
              "      <td>...</td>\n",
              "      <td>...</td>\n",
              "      <td>...</td>\n",
              "      <td>...</td>\n",
              "      <td>...</td>\n",
              "      <td>...</td>\n",
              "      <td>...</td>\n",
              "      <td>...</td>\n",
              "      <td>...</td>\n",
              "    </tr>\n",
              "    <tr>\n",
              "      <th>2260688</th>\n",
              "      <td>89905081</td>\n",
              "      <td>18000.0</td>\n",
              "      <td>60 months</td>\n",
              "      <td>9.49</td>\n",
              "      <td>B</td>\n",
              "      <td>B2</td>\n",
              "      <td>OWN</td>\n",
              "      <td>130000.0</td>\n",
              "      <td>Not Verified</td>\n",
              "      <td>Oct-2016</td>\n",
              "      <td>...</td>\n",
              "      <td>Individual</td>\n",
              "      <td>0.0</td>\n",
              "      <td>0.0</td>\n",
              "      <td>0.0</td>\n",
              "      <td>0.0</td>\n",
              "      <td>0.0</td>\n",
              "      <td>N</td>\n",
              "      <td>Cash</td>\n",
              "      <td>N</td>\n",
              "      <td>1</td>\n",
              "    </tr>\n",
              "    <tr>\n",
              "      <th>2260690</th>\n",
              "      <td>88948836</td>\n",
              "      <td>29400.0</td>\n",
              "      <td>60 months</td>\n",
              "      <td>13.99</td>\n",
              "      <td>C</td>\n",
              "      <td>C3</td>\n",
              "      <td>MORTGAGE</td>\n",
              "      <td>180792.0</td>\n",
              "      <td>Not Verified</td>\n",
              "      <td>Oct-2016</td>\n",
              "      <td>...</td>\n",
              "      <td>Individual</td>\n",
              "      <td>0.0</td>\n",
              "      <td>0.0</td>\n",
              "      <td>0.0</td>\n",
              "      <td>0.0</td>\n",
              "      <td>0.0</td>\n",
              "      <td>N</td>\n",
              "      <td>Cash</td>\n",
              "      <td>N</td>\n",
              "      <td>1</td>\n",
              "    </tr>\n",
              "    <tr>\n",
              "      <th>2260691</th>\n",
              "      <td>89996426</td>\n",
              "      <td>32000.0</td>\n",
              "      <td>60 months</td>\n",
              "      <td>14.49</td>\n",
              "      <td>C</td>\n",
              "      <td>C4</td>\n",
              "      <td>MORTGAGE</td>\n",
              "      <td>157000.0</td>\n",
              "      <td>Source Verified</td>\n",
              "      <td>Oct-2016</td>\n",
              "      <td>...</td>\n",
              "      <td>Individual</td>\n",
              "      <td>0.0</td>\n",
              "      <td>0.0</td>\n",
              "      <td>0.0</td>\n",
              "      <td>0.0</td>\n",
              "      <td>0.0</td>\n",
              "      <td>N</td>\n",
              "      <td>Cash</td>\n",
              "      <td>N</td>\n",
              "      <td>0</td>\n",
              "    </tr>\n",
              "    <tr>\n",
              "      <th>2260692</th>\n",
              "      <td>90006534</td>\n",
              "      <td>16000.0</td>\n",
              "      <td>60 months</td>\n",
              "      <td>12.79</td>\n",
              "      <td>C</td>\n",
              "      <td>C1</td>\n",
              "      <td>RENT</td>\n",
              "      <td>150000.0</td>\n",
              "      <td>Not Verified</td>\n",
              "      <td>Oct-2016</td>\n",
              "      <td>...</td>\n",
              "      <td>Individual</td>\n",
              "      <td>0.0</td>\n",
              "      <td>0.0</td>\n",
              "      <td>0.0</td>\n",
              "      <td>3.0</td>\n",
              "      <td>0.0</td>\n",
              "      <td>N</td>\n",
              "      <td>Cash</td>\n",
              "      <td>N</td>\n",
              "      <td>1</td>\n",
              "    </tr>\n",
              "    <tr>\n",
              "      <th>2260697</th>\n",
              "      <td>88224441</td>\n",
              "      <td>24000.0</td>\n",
              "      <td>60 months</td>\n",
              "      <td>14.49</td>\n",
              "      <td>C</td>\n",
              "      <td>C4</td>\n",
              "      <td>RENT</td>\n",
              "      <td>110000.0</td>\n",
              "      <td>Not Verified</td>\n",
              "      <td>Oct-2016</td>\n",
              "      <td>...</td>\n",
              "      <td>Individual</td>\n",
              "      <td>0.0</td>\n",
              "      <td>0.0</td>\n",
              "      <td>0.0</td>\n",
              "      <td>1.0</td>\n",
              "      <td>0.0</td>\n",
              "      <td>N</td>\n",
              "      <td>Cash</td>\n",
              "      <td>Y</td>\n",
              "      <td>0</td>\n",
              "    </tr>\n",
              "  </tbody>\n",
              "</table>\n",
              "<p>1341026 rows × 44 columns</p>\n",
              "</div>\n",
              "      <button class=\"colab-df-convert\" onclick=\"convertToInteractive('df-b5c44c71-d01a-4759-ae50-236c803a8712')\"\n",
              "              title=\"Convert this dataframe to an interactive table.\"\n",
              "              style=\"display:none;\">\n",
              "        \n",
              "  <svg xmlns=\"http://www.w3.org/2000/svg\" height=\"24px\"viewBox=\"0 0 24 24\"\n",
              "       width=\"24px\">\n",
              "    <path d=\"M0 0h24v24H0V0z\" fill=\"none\"/>\n",
              "    <path d=\"M18.56 5.44l.94 2.06.94-2.06 2.06-.94-2.06-.94-.94-2.06-.94 2.06-2.06.94zm-11 1L8.5 8.5l.94-2.06 2.06-.94-2.06-.94L8.5 2.5l-.94 2.06-2.06.94zm10 10l.94 2.06.94-2.06 2.06-.94-2.06-.94-.94-2.06-.94 2.06-2.06.94z\"/><path d=\"M17.41 7.96l-1.37-1.37c-.4-.4-.92-.59-1.43-.59-.52 0-1.04.2-1.43.59L10.3 9.45l-7.72 7.72c-.78.78-.78 2.05 0 2.83L4 21.41c.39.39.9.59 1.41.59.51 0 1.02-.2 1.41-.59l7.78-7.78 2.81-2.81c.8-.78.8-2.07 0-2.86zM5.41 20L4 18.59l7.72-7.72 1.47 1.35L5.41 20z\"/>\n",
              "  </svg>\n",
              "      </button>\n",
              "      \n",
              "  <style>\n",
              "    .colab-df-container {\n",
              "      display:flex;\n",
              "      flex-wrap:wrap;\n",
              "      gap: 12px;\n",
              "    }\n",
              "\n",
              "    .colab-df-convert {\n",
              "      background-color: #E8F0FE;\n",
              "      border: none;\n",
              "      border-radius: 50%;\n",
              "      cursor: pointer;\n",
              "      display: none;\n",
              "      fill: #1967D2;\n",
              "      height: 32px;\n",
              "      padding: 0 0 0 0;\n",
              "      width: 32px;\n",
              "    }\n",
              "\n",
              "    .colab-df-convert:hover {\n",
              "      background-color: #E2EBFA;\n",
              "      box-shadow: 0px 1px 2px rgba(60, 64, 67, 0.3), 0px 1px 3px 1px rgba(60, 64, 67, 0.15);\n",
              "      fill: #174EA6;\n",
              "    }\n",
              "\n",
              "    [theme=dark] .colab-df-convert {\n",
              "      background-color: #3B4455;\n",
              "      fill: #D2E3FC;\n",
              "    }\n",
              "\n",
              "    [theme=dark] .colab-df-convert:hover {\n",
              "      background-color: #434B5C;\n",
              "      box-shadow: 0px 1px 3px 1px rgba(0, 0, 0, 0.15);\n",
              "      filter: drop-shadow(0px 1px 2px rgba(0, 0, 0, 0.3));\n",
              "      fill: #FFFFFF;\n",
              "    }\n",
              "  </style>\n",
              "\n",
              "      <script>\n",
              "        const buttonEl =\n",
              "          document.querySelector('#df-b5c44c71-d01a-4759-ae50-236c803a8712 button.colab-df-convert');\n",
              "        buttonEl.style.display =\n",
              "          google.colab.kernel.accessAllowed ? 'block' : 'none';\n",
              "\n",
              "        async function convertToInteractive(key) {\n",
              "          const element = document.querySelector('#df-b5c44c71-d01a-4759-ae50-236c803a8712');\n",
              "          const dataTable =\n",
              "            await google.colab.kernel.invokeFunction('convertToInteractive',\n",
              "                                                     [key], {});\n",
              "          if (!dataTable) return;\n",
              "\n",
              "          const docLinkHtml = 'Like what you see? Visit the ' +\n",
              "            '<a target=\"_blank\" href=https://colab.research.google.com/notebooks/data_table.ipynb>data table notebook</a>'\n",
              "            + ' to learn more about interactive tables.';\n",
              "          element.innerHTML = '';\n",
              "          dataTable['output_type'] = 'display_data';\n",
              "          await google.colab.output.renderOutput(dataTable, element);\n",
              "          const docLink = document.createElement('div');\n",
              "          docLink.innerHTML = docLinkHtml;\n",
              "          element.appendChild(docLink);\n",
              "        }\n",
              "      </script>\n",
              "    </div>\n",
              "  </div>\n",
              "  "
            ]
          },
          "metadata": {},
          "execution_count": 40
        }
      ]
    },
    {
      "cell_type": "code",
      "source": [
        "# droping constant columns\n",
        "print(df_accepted.pymnt_plan.value_counts())\n",
        "print(df_accepted.hardship_flag.value_counts())\n",
        "cols_to_drop = ['id', 'pymnt_plan', 'hardship_flag']\n",
        "df_accepted = df_accepted.drop(columns=cols_to_drop)\n",
        "print(df_accepted.shape)\n",
        "cat_cols = df_accepted.select_dtypes(include=['object']).columns\n",
        "print(cat_cols)\n",
        "\n",
        "print(df_accepted.term.value_counts())\n",
        "\n",
        "# convert term into either a 36 or 60 integer numeric data type\n",
        "\n",
        "l1 = df_accepted.term.unique()\n",
        "l2 = [36, 60]\n",
        "d = dict(zip(l1, l2))\n",
        "\n",
        "df_accepted['term'] = df_accepted['term'].map(d)\n",
        "\n",
        "# as grade is part of sub_grade, so let's just drop the grade feature.\n",
        "\n",
        "df_accepted = df_accepted.drop(columns='grade')\n",
        "\n",
        "df_accepted = pd.get_dummies(df_accepted, columns = ['sub_grade'], prefix='', prefix_sep='', drop_first=True)\n",
        "\n",
        "cat_cols = df_accepted.select_dtypes(include=['object']).columns\n",
        "print(cat_cols)\n",
        "\n",
        "# for these columns, let's just create dummy variables, concatenate them with the original dataframe and drop original columns.\n",
        "\n",
        "df_accepted = pd.get_dummies(df_accepted, columns = ['verification_status'], prefix='', prefix_sep='', drop_first=True)\n",
        "df_accepted = pd.get_dummies(df_accepted, columns = ['application_type'], prefix='', prefix_sep='', drop_first=True)\n",
        "df_accepted = pd.get_dummies(df_accepted, columns = ['initial_list_status'], prefix='', prefix_sep='', drop_first=True)\n",
        "df_accepted = pd.get_dummies(df_accepted, columns = ['purpose'], prefix='', prefix_sep='', drop_first=True)\n",
        "print(df_accepted.shape)\n",
        "\n",
        "df_accepted['home_ownership'] = df_accepted.home_ownership.replace('NONE', 'ANY')\n",
        "df_accepted = pd.get_dummies(df_accepted, columns = ['home_ownership'], prefix='', prefix_sep='', drop_first=True)\n",
        "df_accepted = df_accepted.drop(columns=[ 'url', 'last_pymnt_d', 'last_credit_pull_d'])\n",
        "df_accepted = df_accepted.drop(columns=['zip_code', 'addr_state'])\n",
        "df_accepted = pd.get_dummies(df_accepted, columns = ['disbursement_method'], prefix='', prefix_sep='', drop_first=True)\n",
        "df_accepted = pd.get_dummies(df_accepted, columns = ['debt_settlement_flag'], prefix='', prefix_sep='', drop_first=True)\n",
        "df_accepted = df_accepted.drop(columns=['earliest_cr_line'])\n",
        "print(df_accepted.shape)\n",
        "\n",
        "\n",
        "df_accepted['issue_d'] = df_accepted['issue_d'].str.replace('Jan','01')\n",
        "df_accepted['issue_d'] = df_accepted['issue_d'].str.replace('Feb','02')\n",
        "df_accepted['issue_d'] = df_accepted['issue_d'].str.replace('Mar','03')\n",
        "df_accepted['issue_d'] = df_accepted['issue_d'].str.replace('Apr','04')\n",
        "df_accepted['issue_d'] = df_accepted['issue_d'].str.replace('May','05')\n",
        "df_accepted['issue_d'] = df_accepted['issue_d'].str.replace('Jun','06')\n",
        "df_accepted['issue_d'] = df_accepted['issue_d'].str.replace('Jul','07')\n",
        "df_accepted['issue_d'] = df_accepted['issue_d'].str.replace('Aug','08')\n",
        "df_accepted['issue_d'] = df_accepted['issue_d'].str.replace('Sep','09')\n",
        "df_accepted['issue_d'] = df_accepted['issue_d'].str.replace('Oct','10')\n",
        "df_accepted['issue_d'] = df_accepted['issue_d'].str.replace('Dec','11')\n",
        "df_accepted['issue_d'] = df_accepted['issue_d'].str.replace('Nov','12')\n",
        "\n",
        "def reorder_issue_d(dt):\n",
        "    a = dt.split('-')\n",
        "    return a[1]+a[0]\n",
        "\n",
        "reorder_issue_d('01-2009')\n",
        "\n",
        "df_accepted['issue_d'] = df_accepted['issue_d'].apply(reorder_issue_d)\n",
        "df_accepted = df_accepted.sort_values(by='issue_d')\n",
        "df_accepted.reset_index(drop=True, inplace=True)\n",
        "\n",
        "df_accepted.info()"
      ],
      "metadata": {
        "id": "kaX9H8un0uu-",
        "outputId": "78725175-b384-423f-c447-bb9866ca87a1",
        "colab": {
          "base_uri": "https://localhost:8080/"
        }
      },
      "execution_count": 41,
      "outputs": [
        {
          "output_type": "stream",
          "name": "stdout",
          "text": [
            "n    1341026\n",
            "Name: pymnt_plan, dtype: int64\n",
            "N    1341026\n",
            "Name: hardship_flag, dtype: int64\n",
            "(1341026, 41)\n",
            "Index(['term', 'grade', 'sub_grade', 'home_ownership', 'verification_status',\n",
            "       'issue_d', 'url', 'purpose', 'zip_code', 'addr_state',\n",
            "       'earliest_cr_line', 'initial_list_status', 'last_pymnt_d',\n",
            "       'last_credit_pull_d', 'application_type', 'disbursement_method',\n",
            "       'debt_settlement_flag'],\n",
            "      dtype='object')\n",
            " 36 months    1017398\n",
            " 60 months     323628\n",
            "Name: term, dtype: int64\n",
            "Index(['home_ownership', 'verification_status', 'issue_d', 'url', 'purpose',\n",
            "       'zip_code', 'addr_state', 'earliest_cr_line', 'initial_list_status',\n",
            "       'last_pymnt_d', 'last_credit_pull_d', 'application_type',\n",
            "       'disbursement_method', 'debt_settlement_flag'],\n",
            "      dtype='object')\n",
            "(1341026, 86)\n",
            "(1341026, 83)\n",
            "<class 'pandas.core.frame.DataFrame'>\n",
            "RangeIndex: 1341026 entries, 0 to 1341025\n",
            "Data columns (total 83 columns):\n",
            " #   Column                      Non-Null Count    Dtype  \n",
            "---  ------                      --------------    -----  \n",
            " 0   loan_amnt                   1341026 non-null  float64\n",
            " 1   term                        1341026 non-null  int64  \n",
            " 2   int_rate                    1341026 non-null  float64\n",
            " 3   annual_inc                  1341026 non-null  float64\n",
            " 4   issue_d                     1341026 non-null  object \n",
            " 5   dti                         1341026 non-null  float64\n",
            " 6   delinq_2yrs                 1341026 non-null  float64\n",
            " 7   fico_range_high             1341026 non-null  float64\n",
            " 8   inq_last_6mths              1341026 non-null  float64\n",
            " 9   open_acc                    1341026 non-null  float64\n",
            " 10  pub_rec                     1341026 non-null  float64\n",
            " 11  revol_bal                   1341026 non-null  float64\n",
            " 12  revol_util                  1341026 non-null  float64\n",
            " 13  total_acc                   1341026 non-null  float64\n",
            " 14  total_rec_int               1341026 non-null  float64\n",
            " 15  total_rec_late_fee          1341026 non-null  float64\n",
            " 16  recoveries                  1341026 non-null  float64\n",
            " 17  last_pymnt_amnt             1341026 non-null  float64\n",
            " 18  last_fico_range_high        1341026 non-null  float64\n",
            " 19  collections_12_mths_ex_med  1341026 non-null  float64\n",
            " 20  acc_now_delinq              1341026 non-null  float64\n",
            " 21  chargeoff_within_12_mths    1341026 non-null  float64\n",
            " 22  delinq_amnt                 1341026 non-null  float64\n",
            " 23  pub_rec_bankruptcies        1341026 non-null  float64\n",
            " 24  tax_liens                   1341026 non-null  float64\n",
            " 25  loan_paid                   1341026 non-null  int64  \n",
            " 26  A2                          1341026 non-null  uint8  \n",
            " 27  A3                          1341026 non-null  uint8  \n",
            " 28  A4                          1341026 non-null  uint8  \n",
            " 29  A5                          1341026 non-null  uint8  \n",
            " 30  B1                          1341026 non-null  uint8  \n",
            " 31  B2                          1341026 non-null  uint8  \n",
            " 32  B3                          1341026 non-null  uint8  \n",
            " 33  B4                          1341026 non-null  uint8  \n",
            " 34  B5                          1341026 non-null  uint8  \n",
            " 35  C1                          1341026 non-null  uint8  \n",
            " 36  C2                          1341026 non-null  uint8  \n",
            " 37  C3                          1341026 non-null  uint8  \n",
            " 38  C4                          1341026 non-null  uint8  \n",
            " 39  C5                          1341026 non-null  uint8  \n",
            " 40  D1                          1341026 non-null  uint8  \n",
            " 41  D2                          1341026 non-null  uint8  \n",
            " 42  D3                          1341026 non-null  uint8  \n",
            " 43  D4                          1341026 non-null  uint8  \n",
            " 44  D5                          1341026 non-null  uint8  \n",
            " 45  E1                          1341026 non-null  uint8  \n",
            " 46  E2                          1341026 non-null  uint8  \n",
            " 47  E3                          1341026 non-null  uint8  \n",
            " 48  E4                          1341026 non-null  uint8  \n",
            " 49  E5                          1341026 non-null  uint8  \n",
            " 50  F1                          1341026 non-null  uint8  \n",
            " 51  F2                          1341026 non-null  uint8  \n",
            " 52  F3                          1341026 non-null  uint8  \n",
            " 53  F4                          1341026 non-null  uint8  \n",
            " 54  F5                          1341026 non-null  uint8  \n",
            " 55  G1                          1341026 non-null  uint8  \n",
            " 56  G2                          1341026 non-null  uint8  \n",
            " 57  G3                          1341026 non-null  uint8  \n",
            " 58  G4                          1341026 non-null  uint8  \n",
            " 59  G5                          1341026 non-null  uint8  \n",
            " 60  Source Verified             1341026 non-null  uint8  \n",
            " 61  Verified                    1341026 non-null  uint8  \n",
            " 62  Joint App                   1341026 non-null  uint8  \n",
            " 63  w                           1341026 non-null  uint8  \n",
            " 64  credit_card                 1341026 non-null  uint8  \n",
            " 65  debt_consolidation          1341026 non-null  uint8  \n",
            " 66  educational                 1341026 non-null  uint8  \n",
            " 67  home_improvement            1341026 non-null  uint8  \n",
            " 68  house                       1341026 non-null  uint8  \n",
            " 69  major_purchase              1341026 non-null  uint8  \n",
            " 70  medical                     1341026 non-null  uint8  \n",
            " 71  moving                      1341026 non-null  uint8  \n",
            " 72  other                       1341026 non-null  uint8  \n",
            " 73  renewable_energy            1341026 non-null  uint8  \n",
            " 74  small_business              1341026 non-null  uint8  \n",
            " 75  vacation                    1341026 non-null  uint8  \n",
            " 76  wedding                     1341026 non-null  uint8  \n",
            " 77  MORTGAGE                    1341026 non-null  uint8  \n",
            " 78  OTHER                       1341026 non-null  uint8  \n",
            " 79  OWN                         1341026 non-null  uint8  \n",
            " 80  RENT                        1341026 non-null  uint8  \n",
            " 81  DirectPay                   1341026 non-null  uint8  \n",
            " 82  Y                           1341026 non-null  uint8  \n",
            "dtypes: float64(23), int64(2), object(1), uint8(57)\n",
            "memory usage: 338.9+ MB\n"
          ]
        }
      ]
    },
    {
      "cell_type": "code",
      "source": [
        "\n",
        "X = {}\n",
        "Y = {}\n",
        "\n",
        "df = df_accepted[df_accepted['issue_d'].str.startswith('2007') + df_accepted['issue_d'].str.startswith('2008') + df_accepted['issue_d'].str.startswith('2009')].copy()\n",
        "df = df.drop(columns=['issue_d'])\n",
        "\n",
        "\n",
        "X[2009] = df.loc[:, df.columns != 'loan_paid'].values\n",
        "Y[2009] = df.loan_paid.values\n",
        "\n",
        "\n",
        "for year in range(2010,2019):\n",
        "    print(year)\n",
        "    df = df_accepted[df_accepted['issue_d'].str.startswith(str(year))].copy()\n",
        "    df = df.drop(columns=['issue_d'])\n",
        "    X[year] = df.loc[:, df.columns != 'loan_paid'].values\n",
        "    Y[year] = df.loan_paid.values"
      ],
      "metadata": {
        "id": "UJAcPd4c06hx",
        "outputId": "7d12410b-192c-4f06-b5ed-6175e2552e04",
        "colab": {
          "base_uri": "https://localhost:8080/"
        }
      },
      "execution_count": 42,
      "outputs": [
        {
          "output_type": "stream",
          "name": "stdout",
          "text": [
            "2010\n",
            "2011\n",
            "2012\n",
            "2013\n",
            "2014\n",
            "2015\n",
            "2016\n",
            "2017\n",
            "2018\n"
          ]
        }
      ]
    },
    {
      "cell_type": "code",
      "source": [
        "\n",
        "COLUMNS = df.loc[:, df.columns != 'loan_paid'].columns\n",
        "COLUMNS"
      ],
      "metadata": {
        "id": "uVzLcU1O0-nF",
        "outputId": "a8cc906b-e2d0-4fc8-fce5-b1d16c379e81",
        "colab": {
          "base_uri": "https://localhost:8080/"
        }
      },
      "execution_count": 43,
      "outputs": [
        {
          "output_type": "execute_result",
          "data": {
            "text/plain": [
              "Index(['loan_amnt', 'term', 'int_rate', 'annual_inc', 'dti', 'delinq_2yrs',\n",
              "       'fico_range_high', 'inq_last_6mths', 'open_acc', 'pub_rec', 'revol_bal',\n",
              "       'revol_util', 'total_acc', 'total_rec_int', 'total_rec_late_fee',\n",
              "       'recoveries', 'last_pymnt_amnt', 'last_fico_range_high',\n",
              "       'collections_12_mths_ex_med', 'acc_now_delinq',\n",
              "       'chargeoff_within_12_mths', 'delinq_amnt', 'pub_rec_bankruptcies',\n",
              "       'tax_liens', 'A2', 'A3', 'A4', 'A5', 'B1', 'B2', 'B3', 'B4', 'B5', 'C1',\n",
              "       'C2', 'C3', 'C4', 'C5', 'D1', 'D2', 'D3', 'D4', 'D5', 'E1', 'E2', 'E3',\n",
              "       'E4', 'E5', 'F1', 'F2', 'F3', 'F4', 'F5', 'G1', 'G2', 'G3', 'G4', 'G5',\n",
              "       'Source Verified', 'Verified', 'Joint App', 'w', 'credit_card',\n",
              "       'debt_consolidation', 'educational', 'home_improvement', 'house',\n",
              "       'major_purchase', 'medical', 'moving', 'other', 'renewable_energy',\n",
              "       'small_business', 'vacation', 'wedding', 'MORTGAGE', 'OTHER', 'OWN',\n",
              "       'RENT', 'DirectPay', 'Y'],\n",
              "      dtype='object')"
            ]
          },
          "metadata": {},
          "execution_count": 43
        }
      ]
    },
    {
      "cell_type": "code",
      "source": [
        "X_df = pd.DataFrame(X[2010],columns=COLUMNS)\n",
        "mi_scores = make_mi_scores(X_df, Y[2010], discrete_features=\"auto\")\n",
        "print(mi_scores)"
      ],
      "metadata": {
        "id": "nUHoRiLE1Aqz",
        "outputId": "b5e4b788-d81b-46a1-eac3-b4080fd6d7d0",
        "colab": {
          "base_uri": "https://localhost:8080/"
        }
      },
      "execution_count": 44,
      "outputs": [
        {
          "output_type": "stream",
          "name": "stdout",
          "text": [
            "recoveries                  0.375380\n",
            "last_fico_range_high        0.093368\n",
            "last_pymnt_amnt             0.086047\n",
            "total_rec_late_fee          0.034615\n",
            "int_rate                    0.018962\n",
            "                              ...   \n",
            "F1                          0.000000\n",
            "chargeoff_within_12_mths    0.000000\n",
            "F4                          0.000000\n",
            "G1                          0.000000\n",
            "loan_amnt                   0.000000\n",
            "Name: MI Scores, Length: 81, dtype: float64\n"
          ]
        }
      ]
    },
    {
      "cell_type": "code",
      "source": [
        "\n",
        "# MI Top 5, columns\n",
        "top_columns = list(mi_scores[0:5].index)\n",
        "top_columns"
      ],
      "metadata": {
        "id": "wtR0bZVZ1DsU",
        "outputId": "3b9fa5b7-7314-4fa4-f2d8-4d1dca5d95a4",
        "colab": {
          "base_uri": "https://localhost:8080/"
        }
      },
      "execution_count": 45,
      "outputs": [
        {
          "output_type": "execute_result",
          "data": {
            "text/plain": [
              "['recoveries',\n",
              " 'last_fico_range_high',\n",
              " 'last_pymnt_amnt',\n",
              " 'total_rec_late_fee',\n",
              " 'int_rate']"
            ]
          },
          "metadata": {},
          "execution_count": 45
        }
      ]
    },
    {
      "cell_type": "code",
      "source": [
        "top_columns = list(mi_scores[1:6].index)\n",
        "top_columns"
      ],
      "metadata": {
        "id": "L6QZBWuv1GDV",
        "outputId": "b9e8b62a-0512-45c7-c343-252e278cfc5e",
        "colab": {
          "base_uri": "https://localhost:8080/"
        }
      },
      "execution_count": 46,
      "outputs": [
        {
          "output_type": "execute_result",
          "data": {
            "text/plain": [
              "['last_fico_range_high',\n",
              " 'last_pymnt_amnt',\n",
              " 'total_rec_late_fee',\n",
              " 'int_rate',\n",
              " 'term']"
            ]
          },
          "metadata": {},
          "execution_count": 46
        }
      ]
    },
    {
      "cell_type": "code",
      "source": [
        "top_columns_index = [list(COLUMNS).index(tc) for tc in top_columns]\n",
        "top_columns_index"
      ],
      "metadata": {
        "id": "E5qh_URQ1Ixn",
        "outputId": "14ec425f-8efa-4b8b-9fa7-407fe5298506",
        "colab": {
          "base_uri": "https://localhost:8080/"
        }
      },
      "execution_count": 47,
      "outputs": [
        {
          "output_type": "execute_result",
          "data": {
            "text/plain": [
              "[17, 16, 14, 2, 1]"
            ]
          },
          "metadata": {},
          "execution_count": 47
        }
      ]
    },
    {
      "cell_type": "code",
      "source": [
        "\n",
        "# 사용할 5개의 feature만 추림... ['last_fico_range_high', 'last_pymnt_amnt', 'total_rec_late_fee', 'int_rate', 'term']\n",
        "X2 = np.concatenate((X[2010],X[2011],X[2012],X[2013],X[2014],X[2015],X[2016],X[2017]))\n",
        "Y2 = np.concatenate((Y[2010],Y[2011],Y[2012],Y[2013],Y[2014],Y[2015],Y[2016],Y[2017]))\n",
        "X2 = pd.DataFrame(X2,columns = COLUMNS)\n",
        "X2 = X2[top_columns]"
      ],
      "metadata": {
        "id": "_XVnByEm1aK0"
      },
      "execution_count": 48,
      "outputs": []
    },
    {
      "cell_type": "code",
      "source": [
        "X = X2\n",
        "y = np.asarray(Y2)"
      ],
      "metadata": {
        "id": "95zRsXNW3svU"
      },
      "execution_count": 49,
      "outputs": []
    },
    {
      "cell_type": "code",
      "source": [
        "train_size = 10000\n",
        "test_size = 1147\n",
        "live_size = 5000\n",
        "\n",
        "experiment(X,y,train_size,test_size,live_size)"
      ],
      "metadata": {
        "id": "1XqOh7QI-Wyt",
        "outputId": "4a73bbff-157d-454c-b67f-1965ab3f2e82",
        "colab": {
          "base_uri": "https://localhost:8080/",
          "height": 453
        }
      },
      "execution_count": 50,
      "outputs": [
        {
          "output_type": "stream",
          "name": "stdout",
          "text": [
            "(10000, 5) (1147, 5) (1268533, 5)\n"
          ]
        },
        {
          "output_type": "display_data",
          "data": {
            "text/plain": [
              "<Figure size 640x480 with 1 Axes>"
            ],
            "image/png": "[encoded data removed]"
          },
          "metadata": {}
        }
      ]
    },
    {
      "cell_type": "markdown",
      "source": [
        "### Case Loan data 결론\n",
        "+ 90%를 threshod 라고 가정하면, exp의 경우 d-value 는 약 0.05\n",
        "+ real의 경우, 0.08 정도로 추정\n",
        "+ 오차가 오히려 적음\n",
        "+ 흠....뭐지?"
      ],
      "metadata": {
        "id": "n2DpSirE4IV_"
      }
    }
  ]
}