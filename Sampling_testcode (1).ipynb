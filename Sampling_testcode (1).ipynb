{
  "cells": [
    {
      "cell_type": "markdown",
      "metadata": {
        "id": "view-in-github",
        "colab_type": "text"
      },
      "source": [
        "<a href=\"https://colab.research.google.com/github/dolmani38/concept_drift/blob/main/Sampling_testcode%20(1).ipynb\" target=\"_parent\"><img src=\"https://colab.research.google.com/assets/colab-badge.svg\" alt=\"Open In Colab\"/></a>"
      ]
    },
    {
      "cell_type": "markdown",
      "metadata": {
        "id": "Df-F_hufmCMx"
      },
      "source": [
        "### library"
      ]
    },
    {
      "cell_type": "code",
      "execution_count": 1,
      "metadata": {
        "id": "0lkySBaMirlQ"
      },
      "outputs": [],
      "source": [
        "import numpy as np\n",
        "from scipy.interpolate import interp1d\n",
        "from scipy.optimize import curve_fit\n",
        "import pandas as pd\n",
        "import numpy as np\n",
        "import json"
      ]
    },
    {
      "cell_type": "markdown",
      "metadata": {
        "id": "Q16HTZcFmFQw"
      },
      "source": [
        "### G Drive mount"
      ]
    },
    {
      "cell_type": "code",
      "execution_count": 2,
      "metadata": {
        "id": "TUsMqdcbmBjW",
        "colab": {
          "base_uri": "https://localhost:8080/"
        },
        "outputId": "88814fd8-8916-47c7-c973-535d6e47ad2d"
      },
      "outputs": [
        {
          "output_type": "stream",
          "name": "stdout",
          "text": [
            "Mounted at /content/drive\n",
            "/content/drive/My Drive\n"
          ]
        }
      ],
      "source": [
        "from google.colab import files\n",
        "from google.colab import drive\n",
        "drive.mount('/content/drive')\n",
        "%cd /content/drive/My\\ Drive"
      ]
    },
    {
      "cell_type": "markdown",
      "metadata": {
        "id": "vGrXKyBBmJZy"
      },
      "source": [
        "### Initial Checker"
      ]
    },
    {
      "cell_type": "code",
      "execution_count": 3,
      "metadata": {
        "id": "B2OvEI2Pi7cv"
      },
      "outputs": [],
      "source": [
        "class InitialChecker():\n",
        "    def __init__(self, model, train, live, drop_cols, y):\n",
        "        self.model = model\n",
        "        self._Xtrain = train.drop(columns=drop_cols).values\n",
        "        self._ytrain = train[y].values\n",
        "        self.live = live\n",
        "        self.drop_cols = drop_cols\n",
        "        self.y = y\n",
        "\n",
        "\n",
        "    def check_drift(self, drift_checkers):\n",
        "        Xlive = self.live.drop(columns=self.drop_cols).values\n",
        "        drift_value = np.array([dc(Xlive, self._Xtrain, self.model) for dc in drift_checkers])\n",
        "        df_drift = {}\n",
        "        for i, dc in enumerate(drift_checkers):\n",
        "            df_drift[\"%s\"%dc.__name__] = drift_value[i]\n",
        "        return df_drift"
      ]
    },
    {
      "cell_type": "markdown",
      "metadata": {
        "id": "g6YbMrdRmPZD"
      },
      "source": [
        "### Multi-Variate Sampler"
      ]
    },
    {
      "cell_type": "code",
      "execution_count": 4,
      "metadata": {
        "id": "tMs1XlS9jDDB"
      },
      "outputs": [],
      "source": [
        "class MVSampler():\n",
        "    def __init__(self, reference, inference, target_cols):\n",
        "        \"\"\"\n",
        "        reference : pd.DataFrame. 모집단으로 사용될 set.(test를 넣으면 됨)\n",
        "        inference : pd.DataFrame. 배경집단으로 사용된 inference set\n",
        "        target_cols : array-like. 해당 column들에 대해서만 확률 계산\n",
        "        \"\"\"\n",
        "        self._pdf = {}\n",
        "        self._cnt = np.zeros(reference.shape[0])\n",
        "        self.reference = reference.copy()\n",
        "        del reference\n",
        "        self.inference = inference.copy()\n",
        "        del inference\n",
        "        self.target_cols = target_cols\n",
        "\n",
        "        bins = int(1+3.322*np.log10(self.inference.shape[0]))\n",
        "        for col in self.target_cols:\n",
        "            p, bin_edge = np.histogram(self.inference[col].values,\n",
        "                                       bins=np.min([bins, len(self.inference[col].unique())]),\n",
        "                                       density=True)\n",
        "            self._pdf[col] = (p, bin_edge)\n",
        "\n",
        "        for col in self.target_cols:\n",
        "            bin_edge = self._pdf[col][1]\n",
        "            b = (bin_edge[1:] + bin_edge[:-1])/2\n",
        "            lcond = self.reference[col].values>=b.min()\n",
        "            rcond = self.reference[col].values<=b.max()\n",
        "            self._cnt += (lcond*rcond*1)\n",
        "\n",
        "    def build(self, row_min = -1, outlier = 0):\n",
        "        \"\"\"\n",
        "        row_min : int. sampling에 사용될 reference의 최소 row 갯수\n",
        "        outlier : int. ref/inf 의 target_col 분포를 비교할 때, 고려하지 않을 column의 갯수\n",
        "        모든 target_col이 ref/inf 분포가 겹치지 않을 수 있기 때문에 일정 row 갯수가 확보될 때 까지 증가\n",
        "        \"\"\"\n",
        "        if row_min  < 0:\n",
        "            row_min = int(self.inference.shape[0] * 0.1)\n",
        "\n",
        "        nsize = len(np.where(self._cnt>=len(self.target_cols)-outlier)[0])\n",
        "        while (nsize <= row_min) and (outlier <= len(self.target_cols)):\n",
        "            outlier += 1\n",
        "            nsize = len(np.where(self._cnt>=len(self.target_cols)-outlier)[0])\n",
        "        self._outlier = outlier\n",
        "\n",
        "        self.likelihood = np.zeros(self.reference.shape[0])\n",
        "        for i in range(self.reference.shape[0]):\n",
        "            row_vector = self.reference.iloc[i, :]\n",
        "            if self._cnt[i]>=len(self.target_cols)-outlier:\n",
        "                p = np.array([self.interp_pdf(self._pdf[col], row_vector[col]) for col in self.target_cols])\n",
        "                self.likelihood[i] = np.power(10, np.sum(np.log10(p[np.where(p!=0)[0]])))\n",
        "\n",
        "    @staticmethod\n",
        "    def interp_pdf(pdf, x):\n",
        "        p, bin_edge = pdf\n",
        "        b = (bin_edge[1:] + bin_edge[:-1])/2\n",
        "        if x<=b.min() or x>=b.max():\n",
        "            return 0\n",
        "        f = interp1d(b, p, kind=\"linear\")\n",
        "        y = f(x)\n",
        "        return y\n",
        "\n",
        "    def sample(self, n=-1, seed=None, return_index=False):\n",
        "        \"\"\"\n",
        "        n : int. sample의 크기\n",
        "        return_index : bool. True일 경우 sample의 index를 array로 return, False일 경우 sample을 pd.DataFrame으로 return. 기본은 False\n",
        "        return : pd.DataFrame / array-like\n",
        "        \"\"\"\n",
        "        n = n if n>0 else self.inference.shape[0]//10\n",
        "        prob = self.likelihood #np.power(10, self.log_likelihood)\n",
        "        prob /= np.sum(prob)\n",
        "        rng = np.random.default_rng(seed)\n",
        "        idx = rng.choice(np.arange(0, self.reference.shape[0]), replace=True, p=prob, size=n)\n",
        "        if return_index:\n",
        "            return idx\n",
        "        return self.reference.iloc[idx, :]"
      ]
    },
    {
      "cell_type": "markdown",
      "metadata": {
        "id": "MM6spFmtmdA2"
      },
      "source": [
        "### Sample Analyzer"
      ]
    },
    {
      "cell_type": "code",
      "execution_count": 5,
      "metadata": {
        "id": "mvqM7NwxjEAI"
      },
      "outputs": [],
      "source": [
        "class SampleAnalyzer():\n",
        "    def __init__(self, model, train, sample,drop_cols, y):\n",
        "        \"\"\"\n",
        "        train : pd.DataFrame.\n",
        "        drift_detectors : array-like. drift value계산을 위한 function point. ex)ks_drift_checker(ref, live, model)\n",
        "        target_cols : array-like. 해당 column들에 대해서만 확률 계산\n",
        "        drop_cols : array-like. X domain에서 제외해야할 column. ex) loan_data : [loan_paid, time]\n",
        "        \"\"\"\n",
        "        self.model = model\n",
        "        self._Xtrain = train.drop(columns = drop_cols).values\n",
        "        self.sample = sample\n",
        "        self.drop_cols = drop_cols\n",
        "        self.y = y\n",
        "\n",
        "    def check_drift(self, drift_checkers):\n",
        "        drift_value = []\n",
        "        for sample in self.sample:\n",
        "            Xsmp = sample.drop(columns=self.drop_cols).values\n",
        "            dvs = np.array([dc(Xsmp, self._Xtrain, self.model) for dc in drift_checkers])\n",
        "            drift_value.append(dvs)\n",
        "        drift_value= np.array(drift_value)\n",
        "\n",
        "        df_drift = {}\n",
        "        for i, dc in enumerate(drift_checkers):\n",
        "            df_drift[\"%s\"%dc.__name__] = drift_value[:, i]\n",
        "        return df_drift\n",
        "\n",
        "    def check_metric(self, metrics):\n",
        "        df_metric = {}\n",
        "        samples = [(sample.drop(columns=self.drop_cols).values, sample[self.y].values) for sample in self.sample]\n",
        "\n",
        "        for metric in metrics:\n",
        "            metric_name = metric.__name__\n",
        "            df_metric[metric_name] = np.zeros(len(samples))\n",
        "            for i, (Xsmp, ysmp) in enumerate(samples):\n",
        "                df_metric[metric_name][i] = metric(self.model, Xsmp, ysmp)\n",
        "        return df_metric"
      ]
    },
    {
      "cell_type": "markdown",
      "metadata": {
        "id": "aVhqPqpqmkw6"
      },
      "source": [
        "### Performance Estimator"
      ]
    },
    {
      "cell_type": "code",
      "execution_count": 6,
      "metadata": {
        "id": "4TW22_utkBeC"
      },
      "outputs": [],
      "source": [
        "def dist(slope, intercept, x, y):\n",
        "    return abs(slope*x-y+intercept)/np.sqrt(slope**2+1)\n",
        "def linear(x, a, b):\n",
        "    return a*x+b\n",
        "def chi2(slope, intercept, x, y):\n",
        "    dobs = dist(slope, intercept, x, y)**2\n",
        "    return np.sum(dobs)/ 2 / (len(x)-2)\n",
        "\n",
        "\n",
        "class PerformanceEstimator():\n",
        "    def __init__(self, drift, drift_smp, metric_smp):\n",
        "        self.drift = drift\n",
        "        self.drift_smp = drift_smp\n",
        "        self.metric_smp = metric_smp\n",
        "\n",
        "    def estimate(self, n = 5):\n",
        "        drift_list = self.drift_smp.keys()\n",
        "        metric_list = self.metric_smp.keys()\n",
        "        if len(self.drift[list(self.drift.keys())[0]])<n:\n",
        "            return self.metric_smp\n",
        "\n",
        "        metric_est = {}\n",
        "        for key, m in self.metric_smp.items():\n",
        "            metric_est[key] = self.correction(metric= m, drift =self.drift, drift_smp = self.drift_smp)\n",
        "        return metric_est\n",
        "\n",
        "    @staticmethod\n",
        "    def nlinearfit(x, y, th = 2):\n",
        "        x = np.array(x) if isinstance(x, list) else x\n",
        "        y = np.array(y) if isinstance(y, list) else y\n",
        "        m = (y.max() - y.min()) / (x.min() - x.max())\n",
        "        i = y.mean() - m * x.mean()\n",
        "        d, c2 = dist(m, i, x, y), chi2(m, i, x, y)\n",
        "        cnt = 0\n",
        "\n",
        "        while c2>th and m>0 and cnt<len(x)-4:\n",
        "            xn, yn = x[np.argsort(d)[:len(x)-cnt]], y[np.argsort(d)[:len(x)-cnt]]\n",
        "            popt, _ = curve_fit(linear, xn, yn)\n",
        "            m, i = popt[0], popt[1]\n",
        "            c2 = chi2(m, i, xn, yn)\n",
        "            cnt += 1\n",
        "        c2 = chi2(m, i, x, y)\n",
        "        return m, i, c2\n",
        "\n",
        "    @staticmethod\n",
        "    def correction(metric, drift, drift_smp):\n",
        "        metric_cor = 0\n",
        "        denominator = 0\n",
        "\n",
        "        for k in drift_smp.keys():\n",
        "            d, d_smp =  drift[k], drift_smp[k]\n",
        "            dbar = d[-1] - np.min(d)\n",
        "            dbar_smp = d_smp - np.min(d_smp)\n",
        "            r1, beta, chi2 = PerformanceEstimator.nlinearfit(dbar_smp, metric, 1.6)\n",
        "            metric_cor += (r1 * dbar + beta) / chi2\n",
        "            denominator +=  (1/chi2)\n",
        "\n",
        "        return metric_cor/denominator"
      ]
    },
    {
      "cell_type": "markdown",
      "metadata": {
        "id": "kZF27ihbnfgr"
      },
      "source": [
        "### Metric & drift checker (Temporal)"
      ]
    },
    {
      "cell_type": "code",
      "execution_count": 7,
      "metadata": {
        "id": "PWFRuoTxkMKq"
      },
      "outputs": [],
      "source": [
        "from sklearn.metrics import accuracy_score\n",
        "from sklearn.metrics import f1_score\n",
        "def accuracy(model, X, y):\n",
        "    return accuracy_score(model.predict(X), y)*100\n",
        "\n",
        "def f1(model, X, y):\n",
        "    return f1_score(model.predict(X), y) *100\n",
        "\n",
        "import numpy as np\n",
        "from sklearn.linear_model import LogisticRegression\n",
        "from sklearn.metrics import roc_auc_score\n",
        "\n",
        "def D3(reference, inference, model):\n",
        "    y1 = np.zeros(reference.shape[0]).reshape(-1, 1)\n",
        "    y2 = np.ones(inference.shape[0]).reshape(-1, 1)\n",
        "    X = np.vstack((reference, inference))\n",
        "    y = np.vstack((y1, y2))\n",
        "    lr = LogisticRegression(solver=\"lbfgs\", random_state=0, max_iter=5000).fit(X, y.ravel())\n",
        "    return roc_auc_score(y, lr.predict_proba(X)[:, 1])\n",
        "\n",
        "from scipy.stats import ks_2samp, entropy\n",
        "def uncertainty(reference, inference, model):\n",
        "    entropy_ref = entropy(model.predict_proba(reference), axis = -1)\n",
        "    entropy_inf = entropy(model.predict_proba(inference), axis = -1)\n",
        "    d, p = ks_2samp(entropy_ref, entropy_inf)\n",
        "    return d\n",
        "\n",
        "from scipy.linalg import sqrtm\n",
        "def FID(reference, inference, model):\n",
        "    act_ref, act_inf = [], []\n",
        "\n",
        "    for i in range(reference.shape[0]):\n",
        "        refr, infr = reference[i, :], inference[i, :]\n",
        "        vmin, vmax = min(refr.min(), infr.min()), max(refr.max(), infr.max())\n",
        "        bins = int(1+3.322*np.log10(max(len(refr), len(infr))))\n",
        "        refh, _ = np.histogram(refr, range=(vmin, vmax), bins=bins)\n",
        "        infh, _ = np.histogram(infr, range=(vmin, vmax), bins=bins)\n",
        "        act_ref.append(refh)\n",
        "        act_inf.append(infh)\n",
        "\n",
        "    act_ref = np.array(act_ref)\n",
        "    act_inf = np.array(act_inf)\n",
        "    mu1, sigma1 = np.mean(act_ref, axis=0), np.cov(act_ref, rowvar=False)\n",
        "    mu2, sigma2 = np.mean(act_inf, axis=0), np.cov(act_inf, rowvar=False)\n",
        "    ssdiff = np.sum((mu1 - mu2)**2.0)\n",
        "    mat_dot = sigma1.dot(sigma2)\n",
        "    covmean = sqrtm(mat_dot)\n",
        "    if np.iscomplexobj(covmean):\n",
        "        covmean = covmean.real\n",
        "    fid = ssdiff + np.trace(sigma1 + sigma2 - 2.0 * covmean)\n",
        "    return fid\n"
      ]
    },
    {
      "cell_type": "markdown",
      "metadata": {
        "id": "8yBfLARznyiT"
      },
      "source": [
        "### Preparation"
      ]
    },
    {
      "cell_type": "code",
      "execution_count": 9,
      "metadata": {
        "id": "gUuv8Tfunxx4"
      },
      "outputs": [],
      "source": [
        "### READ FILES ###\n",
        "#rdir =  \"./dataset/generated/classification/02\"\n",
        "#df = pd.read_csv(rdir+\".csv\", index_col = 0)\n",
        "#infos = json.load(open(rdir+\".json\"))\n",
        "\n",
        "import zipfile\n",
        "\n",
        "# open zipped dataset\n",
        "with zipfile.ZipFile(\"/content/drive/MyDrive/Drift/drive-download-20230619T004100Z-001.zip\") as z:\n",
        "   # open the csv file in the dataset\n",
        "   with z.open(\"02.csv\") as f:\n",
        "\n",
        "      # read the dataset\n",
        "      df = pd.read_csv(f)\n",
        "\n",
        "   with z.open(\"02.json\") as f:\n",
        "\n",
        "      # read the json\n",
        "      infos = json.load(f)\n",
        "\n",
        "\n",
        "### Reference =split into=> train/test ###\n",
        "tcut = (3*infos[\"time_range\"][0]+infos[\"drift_time\"][0])/4\n",
        "reference = df[df.time < tcut]\n",
        "df_train = reference[reference.time < reference.time.mean()]\n",
        "df_test = reference[reference.time >= reference.time.mean()]\n",
        "\n",
        "### Inference =split into=> indiv live set ###\n",
        "inference = df[df.time >= tcut]\n",
        "dt = 30\n",
        "tmin, tmax = inference.time.min(), inference.time.max()\n",
        "# live_set : inference를 쪼개서 list로 구성(for 문 돌리는데 사용할 예정)\n",
        "live_set = [inference[(inference.time>tmin+dt*i)&(inference.time<=tmin+dt*(i+1))] for i in range(int((tmax-tmin)//dt))]\n",
        "\n",
        "### Target/Drop/Y columns ###\n",
        "# target_cols : sampling 할 때 고려할 column list. feature importance 등을 사용하여 설정\n",
        "# drop_cols : X domain에서 제외할 column명\n",
        "# ylabel : y domain column명\n",
        "target_cols = [\"C%02d\"%c if c<infos[\"n_cont\"] else \"D%02d\"%(c-infos[\"n_cont\"]) for c in infos[\"att_cols\"]]\n",
        "drop_cols = [\"time\", \"drift\", \"y\"]\n",
        "ylabel = \"y\"\n",
        "\n",
        "\n",
        "drift_checkers = [D3, uncertainty, FID]\n",
        "metrics = [accuracy, f1]\n",
        "\n",
        "### fit model ###\n",
        "X_train = df_train.drop(columns=drop_cols).values\n",
        "y_train = df_train[ylabel].values\n",
        "from sklearn.ensemble import RandomForestClassifier\n",
        "model = RandomForestClassifier(max_depth=6).fit(X_train, y_train)\n",
        "\n",
        "### Define DB\n",
        "DB = {}\n",
        "for metric in metrics:\n",
        "    DB[metric.__name__] = []\n",
        "    DB[metric.__name__+\"_smp\"] = []\n",
        "    DB[metric.__name__+\"_est\"] = []\n",
        "for dc in drift_checkers:\n",
        "    DB[dc.__name__] = []\n",
        "    DB[dc.__name__+\"_smp\"] = []\n",
        "DB[\"time\"] = []\n"
      ]
    },
    {
      "cell_type": "markdown",
      "metadata": {
        "id": "kinNTTS0L0XM"
      },
      "source": [
        "### TEST"
      ]
    },
    {
      "cell_type": "code",
      "execution_count": 12,
      "metadata": {
        "colab": {
          "base_uri": "https://localhost:8080/"
        },
        "id": "bzkFtxUvkLJw",
        "outputId": "018327f0-c6f1-4537-e635-977a23307f07"
      },
      "outputs": [
        {
          "output_type": "stream",
          "name": "stderr",
          "text": [
            " 20%|██        | 1/5 [03:26<13:45, 206.49s/it]"
          ]
        },
        {
          "output_type": "stream",
          "name": "stdout",
          "text": [
            "15336  :  206 [sec]\n"
          ]
        },
        {
          "output_type": "stream",
          "name": "stderr",
          "text": [
            "\r 40%|████      | 2/5 [06:39<09:55, 198.34s/it]"
          ]
        },
        {
          "output_type": "stream",
          "name": "stdout",
          "text": [
            "19655  :  192 [sec]\n"
          ]
        },
        {
          "output_type": "stream",
          "name": "stderr",
          "text": [
            "\r 60%|██████    | 3/5 [09:58<06:37, 198.67s/it]"
          ]
        },
        {
          "output_type": "stream",
          "name": "stdout",
          "text": [
            "23975  :  199 [sec]\n"
          ]
        },
        {
          "output_type": "stream",
          "name": "stderr",
          "text": [
            "\r 80%|████████  | 4/5 [13:18<03:19, 199.47s/it]"
          ]
        },
        {
          "output_type": "stream",
          "name": "stdout",
          "text": [
            "28295  :  200 [sec]\n"
          ]
        },
        {
          "output_type": "stream",
          "name": "stderr",
          "text": [
            "<ipython-input-6-306e1bf5f80e>:31: RuntimeWarning: divide by zero encountered in double_scalars\n",
            "  m = (y.max() - y.min()) / (x.min() - x.max())\n",
            "<ipython-input-6-306e1bf5f80e>:32: RuntimeWarning: invalid value encountered in double_scalars\n",
            "  i = y.mean() - m * x.mean()\n",
            "<ipython-input-6-306e1bf5f80e>:2: RuntimeWarning: invalid value encountered in multiply\n",
            "  return abs(slope*x-y+intercept)/np.sqrt(slope**2+1)\n",
            "<ipython-input-6-306e1bf5f80e>:55: RuntimeWarning: invalid value encountered in double_scalars\n",
            "  metric_cor += (r1 * dbar + beta) / chi2\n",
            "100%|██████████| 5/5 [16:41<00:00, 200.33s/it]"
          ]
        },
        {
          "output_type": "stream",
          "name": "stdout",
          "text": [
            "32615  :  202 [sec]\n",
            "Total dT : 16 : 41\n"
          ]
        },
        {
          "output_type": "stream",
          "name": "stderr",
          "text": [
            "\n"
          ]
        }
      ],
      "source": [
        "from tqdm import tqdm\n",
        "\n",
        "from time import time\n",
        "t0 = time()\n",
        "\n",
        "for live in tqdm(live_set[0:5]):\n",
        "    tl = time()\n",
        "\n",
        "    ### 1) Agent : live의 drift value 측정\n",
        "    ic = InitialChecker(\n",
        "        model = model,\n",
        "        train = df_train,\n",
        "        live = live,\n",
        "        drop_cols= drop_cols,\n",
        "        y = ylabel\n",
        "        )\n",
        "    drift0 = ic.check_drift(drift_checkers=drift_checkers)\n",
        "\n",
        "    ### DB에 저장\n",
        "    DB[\"time\"].append(np.mean(live.index.values))\n",
        "    for k, v in drift0.items():\n",
        "        DB[k].append(v)\n",
        "\n",
        "\n",
        "    ### 1-1)send <live> to Engine\n",
        "\n",
        "    ### 2) Engine\n",
        "    mvs = MVSampler(df_test, live, target_cols)\n",
        "    mvs.build()\n",
        "    sample = [mvs.sample(return_index=False) for _ in range(100)]\n",
        "\n",
        "    ### 2-1) send <sample> to Agent\n",
        "\n",
        "    ### 3) Agent ###\n",
        "    sa = SampleAnalyzer(\n",
        "        model = model,\n",
        "        train = df_train,\n",
        "        sample = sample,\n",
        "        drop_cols = drop_cols,\n",
        "        y = ylabel\n",
        "        )\n",
        "\n",
        "    drift = sa.check_drift(drift_checkers = drift_checkers)\n",
        "    metric = sa.check_metric(metrics = metrics)\n",
        "    ### DB에 저장\n",
        "    for k, v in drift.items():\n",
        "        DB[k+\"_smp\"].append(np.mean(v))\n",
        "    for k, v in metric.items():\n",
        "        DB[k+\"_smp\"].append(np.mean(v))\n",
        "\n",
        "    ### DB에서 load\n",
        "    DB_drift = {k:DB[k] for k in drift.keys()}\n",
        "    DB_drift_smp = {k:DB[k+\"_smp\"] for k in drift.keys()}\n",
        "    DB_metric_smp = {k:DB[k+\"_smp\"] for k in metric.keys()}\n",
        "\n",
        "    pe = PerformanceEstimator(\n",
        "        drift = DB_drift,\n",
        "        drift_smp = DB_drift_smp,\n",
        "        metric_smp = DB_metric_smp)\n",
        "\n",
        "    metric_est = pe.estimate(n = 5)\n",
        "    for k, v in metric_est.items():\n",
        "        if isinstance(v, list):\n",
        "            DB[k+\"_est\"].append(v[-1])\n",
        "        else:\n",
        "            DB[k+\"_est\"].append(v)\n",
        "\n",
        "    for m in metrics:\n",
        "        DB[m.__name__].append(m(model, live.drop(columns=drop_cols).values, live[ylabel].values))\n",
        "    print(\"%d\"%np.mean(live.index.values), \" : \" ,\"%d [sec]\"%(time()-tl))\n",
        "print(\"Total dT : %d : %d\"%(divmod(time()-t0, 60)))"
      ]
    },
    {
      "cell_type": "markdown",
      "metadata": {
        "id": "hRMXFixfonrO"
      },
      "source": [
        "### Plot"
      ]
    },
    {
      "cell_type": "code",
      "execution_count": 13,
      "metadata": {
        "id": "ITF22GLdQMl_"
      },
      "outputs": [],
      "source": [
        "import matplotlib.pyplot as plt\n",
        "from matplotlib.gridspec import GridSpec\n",
        "import matplotlib.cm as cm\n",
        "from matplotlib.colors import Normalize"
      ]
    },
    {
      "cell_type": "code",
      "execution_count": 14,
      "metadata": {
        "colab": {
          "base_uri": "https://localhost:8080/",
          "height": 368
        },
        "id": "ewb02vtvommX",
        "outputId": "8da2eff5-89f1-4fed-9bb7-f73c449cf5d2"
      },
      "outputs": [
        {
          "output_type": "display_data",
          "data": {
            "text/plain": [
              "<Figure size 600x400 with 1 Axes>"
            ],
            "image/png": "[encoded data removed]"
          },
          "metadata": {}
        }
      ],
      "source": [
        "plt.figure(figsize=(6, 4))\n",
        "color = [\"b\", \"r\" ,\"k\"]\n",
        "for (c, m) in zip(color, metrics):\n",
        "    name = m.__name__\n",
        "    plt.plot(DB[\"time\"], DB[name], label=name+'_ori', color=c)\n",
        "    plt.plot(DB[\"time\"], DB[name+\"_smp\"], label=name+\"_smp\", color=c, linestyle=\":\")\n",
        "    plt.plot(DB[\"time\"], DB[name+\"_est\"], label=name+\"_est\", color=c, linestyle=\"--\")\n",
        "plt.xlim(min(DB[\"time\"]), max(DB[\"time\"]))\n",
        "plt.grid()\n",
        "plt.legend(loc='best')\n",
        "plt.show()"
      ]
    },
    {
      "cell_type": "code",
      "source": [
        "DB[name+\"_est\"]"
      ],
      "metadata": {
        "id": "hcKP4b1k5W5Y",
        "outputId": "a49b26f9-ec9a-4ff3-cf77-dedde238ce21",
        "colab": {
          "base_uri": "https://localhost:8080/"
        }
      },
      "execution_count": 16,
      "outputs": [
        {
          "output_type": "execute_result",
          "data": {
            "text/plain": [
              "[94.62820579532374,\n",
              " 94.65423259114232,\n",
              " 95.32447913358023,\n",
              " 95.98174611886333,\n",
              " nan]"
            ]
          },
          "metadata": {},
          "execution_count": 16
        }
      ]
    }
  ],
  "metadata": {
    "colab": {
      "provenance": [],
      "include_colab_link": true
    },
    "kernelspec": {
      "display_name": "Python 3",
      "name": "python3"
    },
    "language_info": {
      "name": "python"
    }
  },
  "nbformat": 4,
  "nbformat_minor": 0
}